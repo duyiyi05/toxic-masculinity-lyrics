{
 "cells": [
  {
   "cell_type": "markdown",
   "id": "cec401fa",
   "metadata": {
    "_cell_guid": "00cfe5fd-9e01-4aa4-ad44-bb0ef58bf75c",
    "_uuid": "bd76d82c-69b3-45ae-a08a-be7fc347abd6",
    "papermill": {
     "duration": 0.018775,
     "end_time": "2022-06-10T19:28:17.049547",
     "exception": false,
     "start_time": "2022-06-10T19:28:17.030772",
     "status": "completed"
    },
    "tags": []
   },
   "source": [
    "<img src ='https://www.zero3games.com.br/blog/wp-content/uploads/2019/03/Spotify-Banner-1024x319.png' align = \"center\"><br>\n",
    "# Spotify Top Hits  (2000-2019) | Exploratory Data Analysis"
   ]
  },
  {
   "cell_type": "markdown",
   "id": "8f899b4a",
   "metadata": {
    "_cell_guid": "41b6b0cc-95db-4882-9239-b88659ed7a1a",
    "_uuid": "4dbf063f-5b07-41e3-9fcc-097eeb02dbc3",
    "papermill": {
     "duration": 0.016702,
     "end_time": "2022-06-10T19:28:17.083632",
     "exception": false,
     "start_time": "2022-06-10T19:28:17.066930",
     "status": "completed"
    },
    "tags": []
   },
   "source": [
    "# Introduction<br>\n",
    "This notebook presents an **Exploratory Data Analysis** of the dataset <a href= \"https://www.kaggle.com/datasets/paradisejoy/top-hits-spotify-from-20002019\"> Top Hits Spotify from 2000-2019</a> posted on Kaggle by user Mark Koverha."
   ]
  },
  {
   "cell_type": "markdown",
   "id": "2c624f66",
   "metadata": {
    "_cell_guid": "235beb18-634b-4f76-b0a8-705523c4a2bd",
    "_uuid": "a574e7ba-ce90-4215-8975-5ff97eeee589",
    "papermill": {
     "duration": 0.016999,
     "end_time": "2022-06-10T19:28:17.117789",
     "exception": false,
     "start_time": "2022-06-10T19:28:17.100790",
     "status": "completed"
    },
    "tags": []
   },
   "source": [
    "# Importing packages"
   ]
  },
  {
   "cell_type": "code",
   "execution_count": 1,
   "id": "3d15908f",
   "metadata": {
    "_cell_guid": "a5203c10-defb-4ee4-b6a5-efb96190e4b2",
    "_uuid": "92796ec6-de98-43f1-a77c-0bd560b09f94",
    "collapsed": false,
    "execution": {
     "iopub.execute_input": "2022-06-10T19:28:17.154123Z",
     "iopub.status.busy": "2022-06-10T19:28:17.153669Z",
     "iopub.status.idle": "2022-06-10T19:28:19.293996Z",
     "shell.execute_reply": "2022-06-10T19:28:19.293012Z"
    },
    "jupyter": {
     "outputs_hidden": false
    },
    "papermill": {
     "duration": 2.161599,
     "end_time": "2022-06-10T19:28:19.296673",
     "exception": false,
     "start_time": "2022-06-10T19:28:17.135074",
     "status": "completed"
    },
    "tags": []
   },
   "outputs": [],
   "source": [
    "import pandas as pd, numpy as np, plotly.express as px, seaborn as sns, matplotlib.pyplot as plt\n",
    "from plotly.subplots import make_subplots\n",
    "sns.set_palette(\"deep\")\n",
    "sns.set_style(\"darkgrid\")"
   ]
  },
  {
   "cell_type": "markdown",
   "id": "6cb1935a",
   "metadata": {
    "_cell_guid": "69140f07-b7c9-43f7-afd5-7fe8b9bbb453",
    "_uuid": "46313d9a-91cf-4091-8fe0-3271e8b91baf",
    "papermill": {
     "duration": 0.016892,
     "end_time": "2022-06-10T19:28:19.331122",
     "exception": false,
     "start_time": "2022-06-10T19:28:19.314230",
     "status": "completed"
    },
    "tags": []
   },
   "source": [
    "# Importing data"
   ]
  },
  {
   "cell_type": "code",
   "execution_count": 2,
   "id": "f1c6df91",
   "metadata": {
    "_cell_guid": "2f8e62a6-38ce-4866-8743-3433cb325a54",
    "_uuid": "9982c6a9-6828-471d-aefd-c1a89ed950b9",
    "collapsed": false,
    "execution": {
     "iopub.execute_input": "2022-06-10T19:28:19.367630Z",
     "iopub.status.busy": "2022-06-10T19:28:19.367245Z",
     "iopub.status.idle": "2022-06-10T19:28:19.435451Z",
     "shell.execute_reply": "2022-06-10T19:28:19.434764Z"
    },
    "jupyter": {
     "outputs_hidden": false
    },
    "papermill": {
     "duration": 0.090052,
     "end_time": "2022-06-10T19:28:19.438362",
     "exception": false,
     "start_time": "2022-06-10T19:28:19.348310",
     "status": "completed"
    },
    "tags": []
   },
   "outputs": [
    {
     "data": {
      "text/html": [
       "<div>\n",
       "<style scoped>\n",
       "    .dataframe tbody tr th:only-of-type {\n",
       "        vertical-align: middle;\n",
       "    }\n",
       "\n",
       "    .dataframe tbody tr th {\n",
       "        vertical-align: top;\n",
       "    }\n",
       "\n",
       "    .dataframe thead th {\n",
       "        text-align: right;\n",
       "    }\n",
       "</style>\n",
       "<table border=\"1\" class=\"dataframe\">\n",
       "  <thead>\n",
       "    <tr style=\"text-align: right;\">\n",
       "      <th></th>\n",
       "      <th>artist</th>\n",
       "      <th>song</th>\n",
       "      <th>duration_ms</th>\n",
       "      <th>explicit</th>\n",
       "      <th>year</th>\n",
       "      <th>popularity</th>\n",
       "      <th>danceability</th>\n",
       "      <th>energy</th>\n",
       "      <th>key</th>\n",
       "      <th>loudness</th>\n",
       "      <th>mode</th>\n",
       "      <th>speechiness</th>\n",
       "      <th>acousticness</th>\n",
       "      <th>instrumentalness</th>\n",
       "      <th>liveness</th>\n",
       "      <th>valence</th>\n",
       "      <th>tempo</th>\n",
       "      <th>genre</th>\n",
       "    </tr>\n",
       "  </thead>\n",
       "  <tbody>\n",
       "    <tr>\n",
       "      <th>0</th>\n",
       "      <td>Britney Spears</td>\n",
       "      <td>Oops!...I Did It Again</td>\n",
       "      <td>211160</td>\n",
       "      <td>False</td>\n",
       "      <td>2000</td>\n",
       "      <td>77</td>\n",
       "      <td>0.751</td>\n",
       "      <td>0.834</td>\n",
       "      <td>1</td>\n",
       "      <td>-5.444</td>\n",
       "      <td>0</td>\n",
       "      <td>0.0437</td>\n",
       "      <td>0.3000</td>\n",
       "      <td>0.000018</td>\n",
       "      <td>0.3550</td>\n",
       "      <td>0.894</td>\n",
       "      <td>95.053</td>\n",
       "      <td>pop</td>\n",
       "    </tr>\n",
       "    <tr>\n",
       "      <th>1</th>\n",
       "      <td>blink-182</td>\n",
       "      <td>All The Small Things</td>\n",
       "      <td>167066</td>\n",
       "      <td>False</td>\n",
       "      <td>1999</td>\n",
       "      <td>79</td>\n",
       "      <td>0.434</td>\n",
       "      <td>0.897</td>\n",
       "      <td>0</td>\n",
       "      <td>-4.918</td>\n",
       "      <td>1</td>\n",
       "      <td>0.0488</td>\n",
       "      <td>0.0103</td>\n",
       "      <td>0.000000</td>\n",
       "      <td>0.6120</td>\n",
       "      <td>0.684</td>\n",
       "      <td>148.726</td>\n",
       "      <td>rock, pop</td>\n",
       "    </tr>\n",
       "    <tr>\n",
       "      <th>2</th>\n",
       "      <td>Faith Hill</td>\n",
       "      <td>Breathe</td>\n",
       "      <td>250546</td>\n",
       "      <td>False</td>\n",
       "      <td>1999</td>\n",
       "      <td>66</td>\n",
       "      <td>0.529</td>\n",
       "      <td>0.496</td>\n",
       "      <td>7</td>\n",
       "      <td>-9.007</td>\n",
       "      <td>1</td>\n",
       "      <td>0.0290</td>\n",
       "      <td>0.1730</td>\n",
       "      <td>0.000000</td>\n",
       "      <td>0.2510</td>\n",
       "      <td>0.278</td>\n",
       "      <td>136.859</td>\n",
       "      <td>pop, country</td>\n",
       "    </tr>\n",
       "    <tr>\n",
       "      <th>3</th>\n",
       "      <td>Bon Jovi</td>\n",
       "      <td>It's My Life</td>\n",
       "      <td>224493</td>\n",
       "      <td>False</td>\n",
       "      <td>2000</td>\n",
       "      <td>78</td>\n",
       "      <td>0.551</td>\n",
       "      <td>0.913</td>\n",
       "      <td>0</td>\n",
       "      <td>-4.063</td>\n",
       "      <td>0</td>\n",
       "      <td>0.0466</td>\n",
       "      <td>0.0263</td>\n",
       "      <td>0.000013</td>\n",
       "      <td>0.3470</td>\n",
       "      <td>0.544</td>\n",
       "      <td>119.992</td>\n",
       "      <td>rock, metal</td>\n",
       "    </tr>\n",
       "    <tr>\n",
       "      <th>4</th>\n",
       "      <td>*NSYNC</td>\n",
       "      <td>Bye Bye Bye</td>\n",
       "      <td>200560</td>\n",
       "      <td>False</td>\n",
       "      <td>2000</td>\n",
       "      <td>65</td>\n",
       "      <td>0.614</td>\n",
       "      <td>0.928</td>\n",
       "      <td>8</td>\n",
       "      <td>-4.806</td>\n",
       "      <td>0</td>\n",
       "      <td>0.0516</td>\n",
       "      <td>0.0408</td>\n",
       "      <td>0.001040</td>\n",
       "      <td>0.0845</td>\n",
       "      <td>0.879</td>\n",
       "      <td>172.656</td>\n",
       "      <td>pop</td>\n",
       "    </tr>\n",
       "    <tr>\n",
       "      <th>...</th>\n",
       "      <td>...</td>\n",
       "      <td>...</td>\n",
       "      <td>...</td>\n",
       "      <td>...</td>\n",
       "      <td>...</td>\n",
       "      <td>...</td>\n",
       "      <td>...</td>\n",
       "      <td>...</td>\n",
       "      <td>...</td>\n",
       "      <td>...</td>\n",
       "      <td>...</td>\n",
       "      <td>...</td>\n",
       "      <td>...</td>\n",
       "      <td>...</td>\n",
       "      <td>...</td>\n",
       "      <td>...</td>\n",
       "      <td>...</td>\n",
       "      <td>...</td>\n",
       "    </tr>\n",
       "    <tr>\n",
       "      <th>1995</th>\n",
       "      <td>Jonas Brothers</td>\n",
       "      <td>Sucker</td>\n",
       "      <td>181026</td>\n",
       "      <td>False</td>\n",
       "      <td>2019</td>\n",
       "      <td>79</td>\n",
       "      <td>0.842</td>\n",
       "      <td>0.734</td>\n",
       "      <td>1</td>\n",
       "      <td>-5.065</td>\n",
       "      <td>0</td>\n",
       "      <td>0.0588</td>\n",
       "      <td>0.0427</td>\n",
       "      <td>0.000000</td>\n",
       "      <td>0.1060</td>\n",
       "      <td>0.952</td>\n",
       "      <td>137.958</td>\n",
       "      <td>pop</td>\n",
       "    </tr>\n",
       "    <tr>\n",
       "      <th>1996</th>\n",
       "      <td>Taylor Swift</td>\n",
       "      <td>Cruel Summer</td>\n",
       "      <td>178426</td>\n",
       "      <td>False</td>\n",
       "      <td>2019</td>\n",
       "      <td>78</td>\n",
       "      <td>0.552</td>\n",
       "      <td>0.702</td>\n",
       "      <td>9</td>\n",
       "      <td>-5.707</td>\n",
       "      <td>1</td>\n",
       "      <td>0.1570</td>\n",
       "      <td>0.1170</td>\n",
       "      <td>0.000021</td>\n",
       "      <td>0.1050</td>\n",
       "      <td>0.564</td>\n",
       "      <td>169.994</td>\n",
       "      <td>pop</td>\n",
       "    </tr>\n",
       "    <tr>\n",
       "      <th>1997</th>\n",
       "      <td>Blanco Brown</td>\n",
       "      <td>The Git Up</td>\n",
       "      <td>200593</td>\n",
       "      <td>False</td>\n",
       "      <td>2019</td>\n",
       "      <td>69</td>\n",
       "      <td>0.847</td>\n",
       "      <td>0.678</td>\n",
       "      <td>9</td>\n",
       "      <td>-8.635</td>\n",
       "      <td>1</td>\n",
       "      <td>0.1090</td>\n",
       "      <td>0.0669</td>\n",
       "      <td>0.000000</td>\n",
       "      <td>0.2740</td>\n",
       "      <td>0.811</td>\n",
       "      <td>97.984</td>\n",
       "      <td>hip hop, country</td>\n",
       "    </tr>\n",
       "    <tr>\n",
       "      <th>1998</th>\n",
       "      <td>Sam Smith</td>\n",
       "      <td>Dancing With A Stranger (with Normani)</td>\n",
       "      <td>171029</td>\n",
       "      <td>False</td>\n",
       "      <td>2019</td>\n",
       "      <td>75</td>\n",
       "      <td>0.741</td>\n",
       "      <td>0.520</td>\n",
       "      <td>8</td>\n",
       "      <td>-7.513</td>\n",
       "      <td>1</td>\n",
       "      <td>0.0656</td>\n",
       "      <td>0.4500</td>\n",
       "      <td>0.000002</td>\n",
       "      <td>0.2220</td>\n",
       "      <td>0.347</td>\n",
       "      <td>102.998</td>\n",
       "      <td>pop</td>\n",
       "    </tr>\n",
       "    <tr>\n",
       "      <th>1999</th>\n",
       "      <td>Post Malone</td>\n",
       "      <td>Circles</td>\n",
       "      <td>215280</td>\n",
       "      <td>False</td>\n",
       "      <td>2019</td>\n",
       "      <td>85</td>\n",
       "      <td>0.695</td>\n",
       "      <td>0.762</td>\n",
       "      <td>0</td>\n",
       "      <td>-3.497</td>\n",
       "      <td>1</td>\n",
       "      <td>0.0395</td>\n",
       "      <td>0.1920</td>\n",
       "      <td>0.002440</td>\n",
       "      <td>0.0863</td>\n",
       "      <td>0.553</td>\n",
       "      <td>120.042</td>\n",
       "      <td>hip hop</td>\n",
       "    </tr>\n",
       "  </tbody>\n",
       "</table>\n",
       "<p>2000 rows × 18 columns</p>\n",
       "</div>"
      ],
      "text/plain": [
       "              artist                                    song  duration_ms  \\\n",
       "0     Britney Spears                  Oops!...I Did It Again       211160   \n",
       "1          blink-182                    All The Small Things       167066   \n",
       "2         Faith Hill                                 Breathe       250546   \n",
       "3           Bon Jovi                            It's My Life       224493   \n",
       "4             *NSYNC                             Bye Bye Bye       200560   \n",
       "...              ...                                     ...          ...   \n",
       "1995  Jonas Brothers                                  Sucker       181026   \n",
       "1996    Taylor Swift                            Cruel Summer       178426   \n",
       "1997    Blanco Brown                              The Git Up       200593   \n",
       "1998       Sam Smith  Dancing With A Stranger (with Normani)       171029   \n",
       "1999     Post Malone                                 Circles       215280   \n",
       "\n",
       "      explicit  year  popularity  danceability  energy  key  loudness  mode  \\\n",
       "0        False  2000          77         0.751   0.834    1    -5.444     0   \n",
       "1        False  1999          79         0.434   0.897    0    -4.918     1   \n",
       "2        False  1999          66         0.529   0.496    7    -9.007     1   \n",
       "3        False  2000          78         0.551   0.913    0    -4.063     0   \n",
       "4        False  2000          65         0.614   0.928    8    -4.806     0   \n",
       "...        ...   ...         ...           ...     ...  ...       ...   ...   \n",
       "1995     False  2019          79         0.842   0.734    1    -5.065     0   \n",
       "1996     False  2019          78         0.552   0.702    9    -5.707     1   \n",
       "1997     False  2019          69         0.847   0.678    9    -8.635     1   \n",
       "1998     False  2019          75         0.741   0.520    8    -7.513     1   \n",
       "1999     False  2019          85         0.695   0.762    0    -3.497     1   \n",
       "\n",
       "      speechiness  acousticness  instrumentalness  liveness  valence    tempo  \\\n",
       "0          0.0437        0.3000          0.000018    0.3550    0.894   95.053   \n",
       "1          0.0488        0.0103          0.000000    0.6120    0.684  148.726   \n",
       "2          0.0290        0.1730          0.000000    0.2510    0.278  136.859   \n",
       "3          0.0466        0.0263          0.000013    0.3470    0.544  119.992   \n",
       "4          0.0516        0.0408          0.001040    0.0845    0.879  172.656   \n",
       "...           ...           ...               ...       ...      ...      ...   \n",
       "1995       0.0588        0.0427          0.000000    0.1060    0.952  137.958   \n",
       "1996       0.1570        0.1170          0.000021    0.1050    0.564  169.994   \n",
       "1997       0.1090        0.0669          0.000000    0.2740    0.811   97.984   \n",
       "1998       0.0656        0.4500          0.000002    0.2220    0.347  102.998   \n",
       "1999       0.0395        0.1920          0.002440    0.0863    0.553  120.042   \n",
       "\n",
       "                 genre  \n",
       "0                  pop  \n",
       "1            rock, pop  \n",
       "2         pop, country  \n",
       "3          rock, metal  \n",
       "4                  pop  \n",
       "...                ...  \n",
       "1995               pop  \n",
       "1996               pop  \n",
       "1997  hip hop, country  \n",
       "1998               pop  \n",
       "1999           hip hop  \n",
       "\n",
       "[2000 rows x 18 columns]"
      ]
     },
     "execution_count": 2,
     "metadata": {},
     "output_type": "execute_result"
    }
   ],
   "source": [
    "df = pd.read_csv('../input/top-hits-spotify-from-20002019/songs_normalize.csv')\n",
    "df"
   ]
  },
  {
   "cell_type": "markdown",
   "id": "b2eb2223",
   "metadata": {
    "_cell_guid": "a96c1900-29a2-47f8-b239-6ca156272d56",
    "_uuid": "7c36b517-bd0e-4690-be2c-ddba0c074d42",
    "papermill": {
     "duration": 0.017375,
     "end_time": "2022-06-10T19:28:19.473837",
     "exception": false,
     "start_time": "2022-06-10T19:28:19.456462",
     "status": "completed"
    },
    "tags": []
   },
   "source": [
    "# Understanding the dataset<br>\n",
    "The dataset is composed of 2000 rows and 18 columns. So, *a priori* we can say that this dataset contains the **Top 2000** songs from the period analyzed. <br>\n",
    "In order to increase the depth of understanding of the data that we have, we must understand the content of each column present in the dataset. The description of the columns are as follows :<br>\n",
    "- **artist:** Name of the artist.<br><br>\n",
    "- **song:** Name of the track.<br><br>\n",
    "- **duration_ms:** Duration of the track in milliseconds.<br><br>\n",
    "- **explicit:** Whether or not the content of a song is offensive or inappropriate for children.<br><br>\n",
    "- **year:** Year of release of the track.<br><br>\n",
    "- **popularity:** The higher the value the more popular the song is.<br><br>\n",
    "- **danceability:** Describes how suitable the track is for dancing based on tempo, rythm stability, beat strength, and others, where a value closer to 0.0 indicates lower danceability and a value closer to 1.0 indicates higher danceability.<br><br>\n",
    "- **energy:** It represents the perceptual measure of intensity and activity going from 0.0 to 1.0<br><br>\n",
    "- **key:** What key the track is in. Uses integer to represent keys where 0 = C, 1 = C♯/D♭, 2 = D, and so on. In case there's no key detected, the value is -1.<br><br>\n",
    "- **loudness:** Represents the overall loudness of a track in decibels (dB) and it's the quality of a sound that is the primary psychological correlate of physical strength (amplitude). Loudness values are averaged across the entire track, with values typically between the range of -60 and 0 dB.<br><br>\n",
    "- **mode:** Indicates if the track is in a major or in a minor scale, where major = 1 and minor = 0.<br><br>\n",
    "- **speechiness:** It detects the presence of spoken words in a track. The more exclusively speech-like the recording, for instance a talk show or an audiobook, the closer to 1.0 will be the attributed value. Values above 0.66 describe tracks that are mostly made entirely of spoken words, while values between 0.33 and 0.66 describe tracks that may contain both music and speech. Values below 0.33 most likely represent music and other non-speech tracks. <br><br>\n",
    "- **acousticness:** A confidence measure from 0.0 to 1.0 that indicates whether a track is acoustic or not, where 1.0 represents high confidence the track **is** acoustic.<br><br>\n",
    "- **instumentalness:** Predicts if the track contains vocals or not. The closer its value is to 1.0, the greater likelihood the track contains no vocals. Any value above 0.5 is intended to represent instrumental tracks, but confidence is higher as the value approaches 1.0. \"Ohh\"s and \"aah\"s are treated as instrumental in this context.<br><br>\n",
    "- **liveness:** Detects the presence of an audience in the recording. A value above 0.8 indicates higher probability that the track was performed live.<br><br>\n",
    "- **valence:** A measure from 0.0 to 1.0 that describes the positiveness conveyed by the track. Tracks with higher valence may trigger positive emotions, such as happiness, cheerfulness and euphoria, while tracks with lower valence may trigger negative emotions, such as sadness, depression and anger.<br><br>\n",
    "- **tempo:** Tempo in beats per minute (BPM). In musical terminology, tempo is the speed or pace of a given piece and derives directly from the average beat duration.<br><br>\n",
    "- **genre:** Genre of the track."
   ]
  },
  {
   "cell_type": "markdown",
   "id": "378e4104",
   "metadata": {
    "_cell_guid": "845e2271-b093-48be-a6e3-9135b64b918c",
    "_uuid": "dd69ad86-2dfa-4288-ac00-121fe7d62f16",
    "papermill": {
     "duration": 0.017129,
     "end_time": "2022-06-10T19:28:19.508198",
     "exception": false,
     "start_time": "2022-06-10T19:28:19.491069",
     "status": "completed"
    },
    "tags": []
   },
   "source": [
    "## Checking if there is any null value in the dataset"
   ]
  },
  {
   "cell_type": "code",
   "execution_count": 3,
   "id": "85982aac",
   "metadata": {
    "_cell_guid": "f6dfe253-4624-4aa7-ab77-5161f4996fba",
    "_uuid": "aac1bb1c-e9b9-4b7a-b54e-da63626661c4",
    "collapsed": false,
    "execution": {
     "iopub.execute_input": "2022-06-10T19:28:19.544726Z",
     "iopub.status.busy": "2022-06-10T19:28:19.544142Z",
     "iopub.status.idle": "2022-06-10T19:28:19.552891Z",
     "shell.execute_reply": "2022-06-10T19:28:19.552007Z"
    },
    "jupyter": {
     "outputs_hidden": false
    },
    "papermill": {
     "duration": 0.029144,
     "end_time": "2022-06-10T19:28:19.554713",
     "exception": false,
     "start_time": "2022-06-10T19:28:19.525569",
     "status": "completed"
    },
    "tags": []
   },
   "outputs": [
    {
     "data": {
      "text/plain": [
       "artist              0\n",
       "song                0\n",
       "duration_ms         0\n",
       "explicit            0\n",
       "year                0\n",
       "popularity          0\n",
       "danceability        0\n",
       "energy              0\n",
       "key                 0\n",
       "loudness            0\n",
       "mode                0\n",
       "speechiness         0\n",
       "acousticness        0\n",
       "instrumentalness    0\n",
       "liveness            0\n",
       "valence             0\n",
       "tempo               0\n",
       "genre               0\n",
       "dtype: int64"
      ]
     },
     "execution_count": 3,
     "metadata": {},
     "output_type": "execute_result"
    }
   ],
   "source": [
    "df.isnull().sum()"
   ]
  },
  {
   "cell_type": "markdown",
   "id": "b728afc8",
   "metadata": {
    "_cell_guid": "3053a808-5eff-4c45-9414-fa9e8c6144ed",
    "_uuid": "f46c5905-f311-48d8-94a4-35e739af1e0c",
    "papermill": {
     "duration": 0.017308,
     "end_time": "2022-06-10T19:28:19.589802",
     "exception": false,
     "start_time": "2022-06-10T19:28:19.572494",
     "status": "completed"
    },
    "tags": []
   },
   "source": [
    "**Great!** Apparently there is no missing data in the dataset that we will have to deal with!"
   ]
  },
  {
   "cell_type": "markdown",
   "id": "41d512b8",
   "metadata": {
    "_cell_guid": "cc62b321-97ac-4944-afe1-0e9fef8a3d86",
    "_uuid": "48461cf6-9ab4-49d8-b814-76951b9e4cc6",
    "papermill": {
     "duration": 0.017633,
     "end_time": "2022-06-10T19:28:19.625125",
     "exception": false,
     "start_time": "2022-06-10T19:28:19.607492",
     "status": "completed"
    },
    "tags": []
   },
   "source": [
    "# Checking years of release present in the dataset"
   ]
  },
  {
   "cell_type": "code",
   "execution_count": 4,
   "id": "428bc2c4",
   "metadata": {
    "_cell_guid": "6c64076c-bb74-4507-87f1-19a5011fddea",
    "_uuid": "b9c22e82-1cf6-4a7e-b96f-7feba97dc512",
    "collapsed": false,
    "execution": {
     "iopub.execute_input": "2022-06-10T19:28:19.661907Z",
     "iopub.status.busy": "2022-06-10T19:28:19.661368Z",
     "iopub.status.idle": "2022-06-10T19:28:19.672162Z",
     "shell.execute_reply": "2022-06-10T19:28:19.671336Z"
    },
    "jupyter": {
     "outputs_hidden": false
    },
    "papermill": {
     "duration": 0.031373,
     "end_time": "2022-06-10T19:28:19.674029",
     "exception": false,
     "start_time": "2022-06-10T19:28:19.642656",
     "status": "completed"
    },
    "tags": []
   },
   "outputs": [
    {
     "data": {
      "text/plain": [
       "array([2000, 1999, 2001, 2011, 2002, 2016, 1998, 2018, 2004, 2010, 2015,\n",
       "       2006, 2008, 2019, 2003, 2013, 2005, 2012, 2020, 2007, 2009, 2017,\n",
       "       2014])"
      ]
     },
     "execution_count": 4,
     "metadata": {},
     "output_type": "execute_result"
    }
   ],
   "source": [
    "df.year.unique()"
   ]
  },
  {
   "cell_type": "markdown",
   "id": "ff6aebdd",
   "metadata": {
    "_cell_guid": "69045c68-77f7-4cb9-b09a-78e780924728",
    "_uuid": "3c9bf45f-6ed9-4b79-ab0d-db64d577cb32",
    "papermill": {
     "duration": 0.017522,
     "end_time": "2022-06-10T19:28:19.709311",
     "exception": false,
     "start_time": "2022-06-10T19:28:19.691789",
     "status": "completed"
    },
    "tags": []
   },
   "source": [
    "Even though the dataset's title says that it contains hits from 2000 to 2019, we can see that some tracks have it's year of release dated from 1998, 1999 and 2020. Let's see how many tracks were released in those three years and what tracks they are."
   ]
  },
  {
   "cell_type": "code",
   "execution_count": 5,
   "id": "c4412b0b",
   "metadata": {
    "_cell_guid": "4650d3ff-fe5f-46ee-b759-568bd1dabf24",
    "_uuid": "ec02f2c7-8cc6-4726-8dcc-850fe513a0cf",
    "collapsed": false,
    "execution": {
     "iopub.execute_input": "2022-06-10T19:28:19.747182Z",
     "iopub.status.busy": "2022-06-10T19:28:19.746543Z",
     "iopub.status.idle": "2022-06-10T19:28:19.766225Z",
     "shell.execute_reply": "2022-06-10T19:28:19.765270Z"
    },
    "jupyter": {
     "outputs_hidden": false
    },
    "papermill": {
     "duration": 0.041365,
     "end_time": "2022-06-10T19:28:19.768499",
     "exception": false,
     "start_time": "2022-06-10T19:28:19.727134",
     "status": "completed"
    },
    "tags": []
   },
   "outputs": [
    {
     "name": "stdout",
     "output_type": "stream",
     "text": [
      "1\n",
      "38\n",
      "3\n"
     ]
    }
   ],
   "source": [
    "# Printing how many songs released in 1998, 1999 and 2020 are in the dataset\n",
    "print(len(df.query(\"year == 1998\")))\n",
    "print(len(df.query(\"year == 1999\")))\n",
    "print(len(df.query(\"year == 2020\")))"
   ]
  },
  {
   "cell_type": "markdown",
   "id": "d79e3d07",
   "metadata": {
    "_cell_guid": "2e534121-9fcb-4a78-a19c-096aca34b6b1",
    "_uuid": "624ccd42-5de9-42ab-91d3-27fbc7bc8d65",
    "papermill": {
     "duration": 0.017479,
     "end_time": "2022-06-10T19:28:19.804243",
     "exception": false,
     "start_time": "2022-06-10T19:28:19.786764",
     "status": "completed"
    },
    "tags": []
   },
   "source": [
    "We have 1 song from 1998, 38 songs from 1999 and 3 songs from 2020.<br>\n",
    "Considering that the goal of this study is to analyze the top songs from the year 2000 up until the year 2019, we will drop from the dataframe all data from songs released in any year that is outside the period intended to be analyzed."
   ]
  },
  {
   "cell_type": "code",
   "execution_count": 6,
   "id": "8b2df3f9",
   "metadata": {
    "_cell_guid": "c8ed08f3-cf41-47f5-b892-d87fcd665f35",
    "_uuid": "f38b72ca-0806-4607-8ba3-69b6c56bc3c3",
    "collapsed": false,
    "execution": {
     "iopub.execute_input": "2022-06-10T19:28:19.842265Z",
     "iopub.status.busy": "2022-06-10T19:28:19.841467Z",
     "iopub.status.idle": "2022-06-10T19:28:19.850840Z",
     "shell.execute_reply": "2022-06-10T19:28:19.850171Z"
    },
    "jupyter": {
     "outputs_hidden": false
    },
    "papermill": {
     "duration": 0.03051,
     "end_time": "2022-06-10T19:28:19.852581",
     "exception": false,
     "start_time": "2022-06-10T19:28:19.822071",
     "status": "completed"
    },
    "tags": []
   },
   "outputs": [
    {
     "data": {
      "text/plain": [
       "array([2000, 2001, 2011, 2002, 2016, 2018, 2004, 2010, 2015, 2006, 2008,\n",
       "       2019, 2003, 2013, 2005, 2012, 2007, 2009, 2017, 2014])"
      ]
     },
     "execution_count": 6,
     "metadata": {},
     "output_type": "execute_result"
    }
   ],
   "source": [
    "# Storing all songs released before the year 2000 and after the year 2019 into a new dataframe\n",
    "df_years_drop = df[(df['year'] <2000) | (df['year'] > 2019)].index\n",
    "# Removing songs from 1998, 1999 and 2020 from the original dataframe\n",
    "df = df.drop(df_years_drop)\n",
    "# Checking once again the values of the years now in the dataframe\n",
    "df.year.unique()"
   ]
  },
  {
   "cell_type": "code",
   "execution_count": 7,
   "id": "e5d5542d",
   "metadata": {
    "_cell_guid": "9533e08f-ab97-457e-a750-fa9180ade355",
    "_uuid": "ef5208ab-50f9-4f7e-8f68-ffa39b0f2594",
    "collapsed": false,
    "execution": {
     "iopub.execute_input": "2022-06-10T19:28:19.890778Z",
     "iopub.status.busy": "2022-06-10T19:28:19.890139Z",
     "iopub.status.idle": "2022-06-10T19:28:19.918416Z",
     "shell.execute_reply": "2022-06-10T19:28:19.917734Z"
    },
    "jupyter": {
     "outputs_hidden": false
    },
    "papermill": {
     "duration": 0.049286,
     "end_time": "2022-06-10T19:28:19.920302",
     "exception": false,
     "start_time": "2022-06-10T19:28:19.871016",
     "status": "completed"
    },
    "tags": []
   },
   "outputs": [
    {
     "data": {
      "text/html": [
       "<div>\n",
       "<style scoped>\n",
       "    .dataframe tbody tr th:only-of-type {\n",
       "        vertical-align: middle;\n",
       "    }\n",
       "\n",
       "    .dataframe tbody tr th {\n",
       "        vertical-align: top;\n",
       "    }\n",
       "\n",
       "    .dataframe thead th {\n",
       "        text-align: right;\n",
       "    }\n",
       "</style>\n",
       "<table border=\"1\" class=\"dataframe\">\n",
       "  <thead>\n",
       "    <tr style=\"text-align: right;\">\n",
       "      <th></th>\n",
       "      <th>artist</th>\n",
       "      <th>song</th>\n",
       "      <th>duration_ms</th>\n",
       "      <th>explicit</th>\n",
       "      <th>year</th>\n",
       "      <th>popularity</th>\n",
       "      <th>danceability</th>\n",
       "      <th>energy</th>\n",
       "      <th>key</th>\n",
       "      <th>loudness</th>\n",
       "      <th>mode</th>\n",
       "      <th>speechiness</th>\n",
       "      <th>acousticness</th>\n",
       "      <th>instrumentalness</th>\n",
       "      <th>liveness</th>\n",
       "      <th>valence</th>\n",
       "      <th>tempo</th>\n",
       "      <th>genre</th>\n",
       "    </tr>\n",
       "  </thead>\n",
       "  <tbody>\n",
       "    <tr>\n",
       "      <th>0</th>\n",
       "      <td>Britney Spears</td>\n",
       "      <td>Oops!...I Did It Again</td>\n",
       "      <td>211160</td>\n",
       "      <td>False</td>\n",
       "      <td>2000</td>\n",
       "      <td>77</td>\n",
       "      <td>0.751</td>\n",
       "      <td>0.834</td>\n",
       "      <td>1</td>\n",
       "      <td>-5.444</td>\n",
       "      <td>0</td>\n",
       "      <td>0.0437</td>\n",
       "      <td>0.3000</td>\n",
       "      <td>0.000018</td>\n",
       "      <td>0.3550</td>\n",
       "      <td>0.894</td>\n",
       "      <td>95.053</td>\n",
       "      <td>pop</td>\n",
       "    </tr>\n",
       "    <tr>\n",
       "      <th>3</th>\n",
       "      <td>Bon Jovi</td>\n",
       "      <td>It's My Life</td>\n",
       "      <td>224493</td>\n",
       "      <td>False</td>\n",
       "      <td>2000</td>\n",
       "      <td>78</td>\n",
       "      <td>0.551</td>\n",
       "      <td>0.913</td>\n",
       "      <td>0</td>\n",
       "      <td>-4.063</td>\n",
       "      <td>0</td>\n",
       "      <td>0.0466</td>\n",
       "      <td>0.0263</td>\n",
       "      <td>0.000013</td>\n",
       "      <td>0.3470</td>\n",
       "      <td>0.544</td>\n",
       "      <td>119.992</td>\n",
       "      <td>rock, metal</td>\n",
       "    </tr>\n",
       "    <tr>\n",
       "      <th>4</th>\n",
       "      <td>*NSYNC</td>\n",
       "      <td>Bye Bye Bye</td>\n",
       "      <td>200560</td>\n",
       "      <td>False</td>\n",
       "      <td>2000</td>\n",
       "      <td>65</td>\n",
       "      <td>0.614</td>\n",
       "      <td>0.928</td>\n",
       "      <td>8</td>\n",
       "      <td>-4.806</td>\n",
       "      <td>0</td>\n",
       "      <td>0.0516</td>\n",
       "      <td>0.0408</td>\n",
       "      <td>0.001040</td>\n",
       "      <td>0.0845</td>\n",
       "      <td>0.879</td>\n",
       "      <td>172.656</td>\n",
       "      <td>pop</td>\n",
       "    </tr>\n",
       "    <tr>\n",
       "      <th>6</th>\n",
       "      <td>Eminem</td>\n",
       "      <td>The Real Slim Shady</td>\n",
       "      <td>284200</td>\n",
       "      <td>True</td>\n",
       "      <td>2000</td>\n",
       "      <td>86</td>\n",
       "      <td>0.949</td>\n",
       "      <td>0.661</td>\n",
       "      <td>5</td>\n",
       "      <td>-4.244</td>\n",
       "      <td>0</td>\n",
       "      <td>0.0572</td>\n",
       "      <td>0.0302</td>\n",
       "      <td>0.000000</td>\n",
       "      <td>0.0454</td>\n",
       "      <td>0.760</td>\n",
       "      <td>104.504</td>\n",
       "      <td>hip hop</td>\n",
       "    </tr>\n",
       "    <tr>\n",
       "      <th>7</th>\n",
       "      <td>Robbie Williams</td>\n",
       "      <td>Rock DJ</td>\n",
       "      <td>258560</td>\n",
       "      <td>False</td>\n",
       "      <td>2000</td>\n",
       "      <td>68</td>\n",
       "      <td>0.708</td>\n",
       "      <td>0.772</td>\n",
       "      <td>7</td>\n",
       "      <td>-4.264</td>\n",
       "      <td>1</td>\n",
       "      <td>0.0322</td>\n",
       "      <td>0.0267</td>\n",
       "      <td>0.000000</td>\n",
       "      <td>0.4670</td>\n",
       "      <td>0.861</td>\n",
       "      <td>103.035</td>\n",
       "      <td>pop, rock</td>\n",
       "    </tr>\n",
       "    <tr>\n",
       "      <th>...</th>\n",
       "      <td>...</td>\n",
       "      <td>...</td>\n",
       "      <td>...</td>\n",
       "      <td>...</td>\n",
       "      <td>...</td>\n",
       "      <td>...</td>\n",
       "      <td>...</td>\n",
       "      <td>...</td>\n",
       "      <td>...</td>\n",
       "      <td>...</td>\n",
       "      <td>...</td>\n",
       "      <td>...</td>\n",
       "      <td>...</td>\n",
       "      <td>...</td>\n",
       "      <td>...</td>\n",
       "      <td>...</td>\n",
       "      <td>...</td>\n",
       "      <td>...</td>\n",
       "    </tr>\n",
       "    <tr>\n",
       "      <th>1995</th>\n",
       "      <td>Jonas Brothers</td>\n",
       "      <td>Sucker</td>\n",
       "      <td>181026</td>\n",
       "      <td>False</td>\n",
       "      <td>2019</td>\n",
       "      <td>79</td>\n",
       "      <td>0.842</td>\n",
       "      <td>0.734</td>\n",
       "      <td>1</td>\n",
       "      <td>-5.065</td>\n",
       "      <td>0</td>\n",
       "      <td>0.0588</td>\n",
       "      <td>0.0427</td>\n",
       "      <td>0.000000</td>\n",
       "      <td>0.1060</td>\n",
       "      <td>0.952</td>\n",
       "      <td>137.958</td>\n",
       "      <td>pop</td>\n",
       "    </tr>\n",
       "    <tr>\n",
       "      <th>1996</th>\n",
       "      <td>Taylor Swift</td>\n",
       "      <td>Cruel Summer</td>\n",
       "      <td>178426</td>\n",
       "      <td>False</td>\n",
       "      <td>2019</td>\n",
       "      <td>78</td>\n",
       "      <td>0.552</td>\n",
       "      <td>0.702</td>\n",
       "      <td>9</td>\n",
       "      <td>-5.707</td>\n",
       "      <td>1</td>\n",
       "      <td>0.1570</td>\n",
       "      <td>0.1170</td>\n",
       "      <td>0.000021</td>\n",
       "      <td>0.1050</td>\n",
       "      <td>0.564</td>\n",
       "      <td>169.994</td>\n",
       "      <td>pop</td>\n",
       "    </tr>\n",
       "    <tr>\n",
       "      <th>1997</th>\n",
       "      <td>Blanco Brown</td>\n",
       "      <td>The Git Up</td>\n",
       "      <td>200593</td>\n",
       "      <td>False</td>\n",
       "      <td>2019</td>\n",
       "      <td>69</td>\n",
       "      <td>0.847</td>\n",
       "      <td>0.678</td>\n",
       "      <td>9</td>\n",
       "      <td>-8.635</td>\n",
       "      <td>1</td>\n",
       "      <td>0.1090</td>\n",
       "      <td>0.0669</td>\n",
       "      <td>0.000000</td>\n",
       "      <td>0.2740</td>\n",
       "      <td>0.811</td>\n",
       "      <td>97.984</td>\n",
       "      <td>hip hop, country</td>\n",
       "    </tr>\n",
       "    <tr>\n",
       "      <th>1998</th>\n",
       "      <td>Sam Smith</td>\n",
       "      <td>Dancing With A Stranger (with Normani)</td>\n",
       "      <td>171029</td>\n",
       "      <td>False</td>\n",
       "      <td>2019</td>\n",
       "      <td>75</td>\n",
       "      <td>0.741</td>\n",
       "      <td>0.520</td>\n",
       "      <td>8</td>\n",
       "      <td>-7.513</td>\n",
       "      <td>1</td>\n",
       "      <td>0.0656</td>\n",
       "      <td>0.4500</td>\n",
       "      <td>0.000002</td>\n",
       "      <td>0.2220</td>\n",
       "      <td>0.347</td>\n",
       "      <td>102.998</td>\n",
       "      <td>pop</td>\n",
       "    </tr>\n",
       "    <tr>\n",
       "      <th>1999</th>\n",
       "      <td>Post Malone</td>\n",
       "      <td>Circles</td>\n",
       "      <td>215280</td>\n",
       "      <td>False</td>\n",
       "      <td>2019</td>\n",
       "      <td>85</td>\n",
       "      <td>0.695</td>\n",
       "      <td>0.762</td>\n",
       "      <td>0</td>\n",
       "      <td>-3.497</td>\n",
       "      <td>1</td>\n",
       "      <td>0.0395</td>\n",
       "      <td>0.1920</td>\n",
       "      <td>0.002440</td>\n",
       "      <td>0.0863</td>\n",
       "      <td>0.553</td>\n",
       "      <td>120.042</td>\n",
       "      <td>hip hop</td>\n",
       "    </tr>\n",
       "  </tbody>\n",
       "</table>\n",
       "<p>1958 rows × 18 columns</p>\n",
       "</div>"
      ],
      "text/plain": [
       "               artist                                    song  duration_ms  \\\n",
       "0      Britney Spears                  Oops!...I Did It Again       211160   \n",
       "3            Bon Jovi                            It's My Life       224493   \n",
       "4              *NSYNC                             Bye Bye Bye       200560   \n",
       "6              Eminem                     The Real Slim Shady       284200   \n",
       "7     Robbie Williams                                 Rock DJ       258560   \n",
       "...               ...                                     ...          ...   \n",
       "1995   Jonas Brothers                                  Sucker       181026   \n",
       "1996     Taylor Swift                            Cruel Summer       178426   \n",
       "1997     Blanco Brown                              The Git Up       200593   \n",
       "1998        Sam Smith  Dancing With A Stranger (with Normani)       171029   \n",
       "1999      Post Malone                                 Circles       215280   \n",
       "\n",
       "      explicit  year  popularity  danceability  energy  key  loudness  mode  \\\n",
       "0        False  2000          77         0.751   0.834    1    -5.444     0   \n",
       "3        False  2000          78         0.551   0.913    0    -4.063     0   \n",
       "4        False  2000          65         0.614   0.928    8    -4.806     0   \n",
       "6         True  2000          86         0.949   0.661    5    -4.244     0   \n",
       "7        False  2000          68         0.708   0.772    7    -4.264     1   \n",
       "...        ...   ...         ...           ...     ...  ...       ...   ...   \n",
       "1995     False  2019          79         0.842   0.734    1    -5.065     0   \n",
       "1996     False  2019          78         0.552   0.702    9    -5.707     1   \n",
       "1997     False  2019          69         0.847   0.678    9    -8.635     1   \n",
       "1998     False  2019          75         0.741   0.520    8    -7.513     1   \n",
       "1999     False  2019          85         0.695   0.762    0    -3.497     1   \n",
       "\n",
       "      speechiness  acousticness  instrumentalness  liveness  valence    tempo  \\\n",
       "0          0.0437        0.3000          0.000018    0.3550    0.894   95.053   \n",
       "3          0.0466        0.0263          0.000013    0.3470    0.544  119.992   \n",
       "4          0.0516        0.0408          0.001040    0.0845    0.879  172.656   \n",
       "6          0.0572        0.0302          0.000000    0.0454    0.760  104.504   \n",
       "7          0.0322        0.0267          0.000000    0.4670    0.861  103.035   \n",
       "...           ...           ...               ...       ...      ...      ...   \n",
       "1995       0.0588        0.0427          0.000000    0.1060    0.952  137.958   \n",
       "1996       0.1570        0.1170          0.000021    0.1050    0.564  169.994   \n",
       "1997       0.1090        0.0669          0.000000    0.2740    0.811   97.984   \n",
       "1998       0.0656        0.4500          0.000002    0.2220    0.347  102.998   \n",
       "1999       0.0395        0.1920          0.002440    0.0863    0.553  120.042   \n",
       "\n",
       "                 genre  \n",
       "0                  pop  \n",
       "3          rock, metal  \n",
       "4                  pop  \n",
       "6              hip hop  \n",
       "7            pop, rock  \n",
       "...                ...  \n",
       "1995               pop  \n",
       "1996               pop  \n",
       "1997  hip hop, country  \n",
       "1998               pop  \n",
       "1999           hip hop  \n",
       "\n",
       "[1958 rows x 18 columns]"
      ]
     },
     "execution_count": 7,
     "metadata": {},
     "output_type": "execute_result"
    }
   ],
   "source": [
    "df"
   ]
  },
  {
   "cell_type": "markdown",
   "id": "adbdf167",
   "metadata": {
    "_cell_guid": "684b8d84-3fbf-477b-8790-ec56e21a5ae6",
    "_uuid": "5955f41f-4612-435a-923a-f94adb53f6f8",
    "papermill": {
     "duration": 0.01889,
     "end_time": "2022-06-10T19:28:19.957657",
     "exception": false,
     "start_time": "2022-06-10T19:28:19.938767",
     "status": "completed"
    },
    "tags": []
   },
   "source": [
    "Now we can know for sure that we're going to analyze Spotify's Top 1958 songs from the year 2000-2019."
   ]
  },
  {
   "cell_type": "markdown",
   "id": "a4535a09",
   "metadata": {
    "_cell_guid": "71b0f91e-4f8d-4278-824d-0d1301a29b3e",
    "_uuid": "01b6b260-7742-4d13-9af6-00cc38083769",
    "papermill": {
     "duration": 0.018372,
     "end_time": "2022-06-10T19:28:19.994414",
     "exception": false,
     "start_time": "2022-06-10T19:28:19.976042",
     "status": "completed"
    },
    "tags": []
   },
   "source": [
    "# Converting milliseconds to seconds and minutes:seconds"
   ]
  },
  {
   "cell_type": "code",
   "execution_count": 8,
   "id": "4384c2e5",
   "metadata": {
    "_cell_guid": "92e69827-c6a8-407b-bed1-057ce49cbc24",
    "_uuid": "53a89f20-60d0-49ab-b77f-e05a2da94c7c",
    "collapsed": false,
    "execution": {
     "iopub.execute_input": "2022-06-10T19:28:20.033774Z",
     "iopub.status.busy": "2022-06-10T19:28:20.033096Z",
     "iopub.status.idle": "2022-06-10T19:28:20.041390Z",
     "shell.execute_reply": "2022-06-10T19:28:20.040605Z"
    },
    "jupyter": {
     "outputs_hidden": false
    },
    "papermill": {
     "duration": 0.030568,
     "end_time": "2022-06-10T19:28:20.043492",
     "exception": false,
     "start_time": "2022-06-10T19:28:20.012924",
     "status": "completed"
    },
    "tags": []
   },
   "outputs": [],
   "source": [
    "# Creating a function that converts milliseconds to minutes and seconds\n",
    "def ms_to_min_sec(ms):\n",
    "    sec = ms/1000\n",
    "    return f\"{int(sec//60)}:{int(sec%60)}\"\n",
    "\n",
    "df['min:sec'] = df['duration_ms'].apply(ms_to_min_sec)"
   ]
  },
  {
   "cell_type": "code",
   "execution_count": 9,
   "id": "2f4b8dc9",
   "metadata": {
    "_cell_guid": "a37ad588-cef0-43ac-bf91-97385f023644",
    "_uuid": "47b0dd8e-47e8-4433-8775-8731fe915b29",
    "collapsed": false,
    "execution": {
     "iopub.execute_input": "2022-06-10T19:28:20.083803Z",
     "iopub.status.busy": "2022-06-10T19:28:20.083165Z",
     "iopub.status.idle": "2022-06-10T19:28:20.112939Z",
     "shell.execute_reply": "2022-06-10T19:28:20.112319Z"
    },
    "jupyter": {
     "outputs_hidden": false
    },
    "papermill": {
     "duration": 0.051956,
     "end_time": "2022-06-10T19:28:20.114659",
     "exception": false,
     "start_time": "2022-06-10T19:28:20.062703",
     "status": "completed"
    },
    "tags": []
   },
   "outputs": [
    {
     "data": {
      "text/html": [
       "<div>\n",
       "<style scoped>\n",
       "    .dataframe tbody tr th:only-of-type {\n",
       "        vertical-align: middle;\n",
       "    }\n",
       "\n",
       "    .dataframe tbody tr th {\n",
       "        vertical-align: top;\n",
       "    }\n",
       "\n",
       "    .dataframe thead th {\n",
       "        text-align: right;\n",
       "    }\n",
       "</style>\n",
       "<table border=\"1\" class=\"dataframe\">\n",
       "  <thead>\n",
       "    <tr style=\"text-align: right;\">\n",
       "      <th></th>\n",
       "      <th>artist</th>\n",
       "      <th>song</th>\n",
       "      <th>duration_ms</th>\n",
       "      <th>explicit</th>\n",
       "      <th>year</th>\n",
       "      <th>popularity</th>\n",
       "      <th>danceability</th>\n",
       "      <th>energy</th>\n",
       "      <th>key</th>\n",
       "      <th>loudness</th>\n",
       "      <th>mode</th>\n",
       "      <th>speechiness</th>\n",
       "      <th>acousticness</th>\n",
       "      <th>instrumentalness</th>\n",
       "      <th>liveness</th>\n",
       "      <th>valence</th>\n",
       "      <th>tempo</th>\n",
       "      <th>genre</th>\n",
       "      <th>min:sec</th>\n",
       "    </tr>\n",
       "  </thead>\n",
       "  <tbody>\n",
       "    <tr>\n",
       "      <th>0</th>\n",
       "      <td>Britney Spears</td>\n",
       "      <td>Oops!...I Did It Again</td>\n",
       "      <td>211160</td>\n",
       "      <td>False</td>\n",
       "      <td>2000</td>\n",
       "      <td>77</td>\n",
       "      <td>0.751</td>\n",
       "      <td>0.834</td>\n",
       "      <td>1</td>\n",
       "      <td>-5.444</td>\n",
       "      <td>0</td>\n",
       "      <td>0.0437</td>\n",
       "      <td>0.3000</td>\n",
       "      <td>0.000018</td>\n",
       "      <td>0.3550</td>\n",
       "      <td>0.894</td>\n",
       "      <td>95.053</td>\n",
       "      <td>pop</td>\n",
       "      <td>3:31</td>\n",
       "    </tr>\n",
       "    <tr>\n",
       "      <th>3</th>\n",
       "      <td>Bon Jovi</td>\n",
       "      <td>It's My Life</td>\n",
       "      <td>224493</td>\n",
       "      <td>False</td>\n",
       "      <td>2000</td>\n",
       "      <td>78</td>\n",
       "      <td>0.551</td>\n",
       "      <td>0.913</td>\n",
       "      <td>0</td>\n",
       "      <td>-4.063</td>\n",
       "      <td>0</td>\n",
       "      <td>0.0466</td>\n",
       "      <td>0.0263</td>\n",
       "      <td>0.000013</td>\n",
       "      <td>0.3470</td>\n",
       "      <td>0.544</td>\n",
       "      <td>119.992</td>\n",
       "      <td>rock, metal</td>\n",
       "      <td>3:44</td>\n",
       "    </tr>\n",
       "    <tr>\n",
       "      <th>4</th>\n",
       "      <td>*NSYNC</td>\n",
       "      <td>Bye Bye Bye</td>\n",
       "      <td>200560</td>\n",
       "      <td>False</td>\n",
       "      <td>2000</td>\n",
       "      <td>65</td>\n",
       "      <td>0.614</td>\n",
       "      <td>0.928</td>\n",
       "      <td>8</td>\n",
       "      <td>-4.806</td>\n",
       "      <td>0</td>\n",
       "      <td>0.0516</td>\n",
       "      <td>0.0408</td>\n",
       "      <td>0.001040</td>\n",
       "      <td>0.0845</td>\n",
       "      <td>0.879</td>\n",
       "      <td>172.656</td>\n",
       "      <td>pop</td>\n",
       "      <td>3:20</td>\n",
       "    </tr>\n",
       "    <tr>\n",
       "      <th>6</th>\n",
       "      <td>Eminem</td>\n",
       "      <td>The Real Slim Shady</td>\n",
       "      <td>284200</td>\n",
       "      <td>True</td>\n",
       "      <td>2000</td>\n",
       "      <td>86</td>\n",
       "      <td>0.949</td>\n",
       "      <td>0.661</td>\n",
       "      <td>5</td>\n",
       "      <td>-4.244</td>\n",
       "      <td>0</td>\n",
       "      <td>0.0572</td>\n",
       "      <td>0.0302</td>\n",
       "      <td>0.000000</td>\n",
       "      <td>0.0454</td>\n",
       "      <td>0.760</td>\n",
       "      <td>104.504</td>\n",
       "      <td>hip hop</td>\n",
       "      <td>4:44</td>\n",
       "    </tr>\n",
       "    <tr>\n",
       "      <th>7</th>\n",
       "      <td>Robbie Williams</td>\n",
       "      <td>Rock DJ</td>\n",
       "      <td>258560</td>\n",
       "      <td>False</td>\n",
       "      <td>2000</td>\n",
       "      <td>68</td>\n",
       "      <td>0.708</td>\n",
       "      <td>0.772</td>\n",
       "      <td>7</td>\n",
       "      <td>-4.264</td>\n",
       "      <td>1</td>\n",
       "      <td>0.0322</td>\n",
       "      <td>0.0267</td>\n",
       "      <td>0.000000</td>\n",
       "      <td>0.4670</td>\n",
       "      <td>0.861</td>\n",
       "      <td>103.035</td>\n",
       "      <td>pop, rock</td>\n",
       "      <td>4:18</td>\n",
       "    </tr>\n",
       "    <tr>\n",
       "      <th>...</th>\n",
       "      <td>...</td>\n",
       "      <td>...</td>\n",
       "      <td>...</td>\n",
       "      <td>...</td>\n",
       "      <td>...</td>\n",
       "      <td>...</td>\n",
       "      <td>...</td>\n",
       "      <td>...</td>\n",
       "      <td>...</td>\n",
       "      <td>...</td>\n",
       "      <td>...</td>\n",
       "      <td>...</td>\n",
       "      <td>...</td>\n",
       "      <td>...</td>\n",
       "      <td>...</td>\n",
       "      <td>...</td>\n",
       "      <td>...</td>\n",
       "      <td>...</td>\n",
       "      <td>...</td>\n",
       "    </tr>\n",
       "    <tr>\n",
       "      <th>1995</th>\n",
       "      <td>Jonas Brothers</td>\n",
       "      <td>Sucker</td>\n",
       "      <td>181026</td>\n",
       "      <td>False</td>\n",
       "      <td>2019</td>\n",
       "      <td>79</td>\n",
       "      <td>0.842</td>\n",
       "      <td>0.734</td>\n",
       "      <td>1</td>\n",
       "      <td>-5.065</td>\n",
       "      <td>0</td>\n",
       "      <td>0.0588</td>\n",
       "      <td>0.0427</td>\n",
       "      <td>0.000000</td>\n",
       "      <td>0.1060</td>\n",
       "      <td>0.952</td>\n",
       "      <td>137.958</td>\n",
       "      <td>pop</td>\n",
       "      <td>3:1</td>\n",
       "    </tr>\n",
       "    <tr>\n",
       "      <th>1996</th>\n",
       "      <td>Taylor Swift</td>\n",
       "      <td>Cruel Summer</td>\n",
       "      <td>178426</td>\n",
       "      <td>False</td>\n",
       "      <td>2019</td>\n",
       "      <td>78</td>\n",
       "      <td>0.552</td>\n",
       "      <td>0.702</td>\n",
       "      <td>9</td>\n",
       "      <td>-5.707</td>\n",
       "      <td>1</td>\n",
       "      <td>0.1570</td>\n",
       "      <td>0.1170</td>\n",
       "      <td>0.000021</td>\n",
       "      <td>0.1050</td>\n",
       "      <td>0.564</td>\n",
       "      <td>169.994</td>\n",
       "      <td>pop</td>\n",
       "      <td>2:58</td>\n",
       "    </tr>\n",
       "    <tr>\n",
       "      <th>1997</th>\n",
       "      <td>Blanco Brown</td>\n",
       "      <td>The Git Up</td>\n",
       "      <td>200593</td>\n",
       "      <td>False</td>\n",
       "      <td>2019</td>\n",
       "      <td>69</td>\n",
       "      <td>0.847</td>\n",
       "      <td>0.678</td>\n",
       "      <td>9</td>\n",
       "      <td>-8.635</td>\n",
       "      <td>1</td>\n",
       "      <td>0.1090</td>\n",
       "      <td>0.0669</td>\n",
       "      <td>0.000000</td>\n",
       "      <td>0.2740</td>\n",
       "      <td>0.811</td>\n",
       "      <td>97.984</td>\n",
       "      <td>hip hop, country</td>\n",
       "      <td>3:20</td>\n",
       "    </tr>\n",
       "    <tr>\n",
       "      <th>1998</th>\n",
       "      <td>Sam Smith</td>\n",
       "      <td>Dancing With A Stranger (with Normani)</td>\n",
       "      <td>171029</td>\n",
       "      <td>False</td>\n",
       "      <td>2019</td>\n",
       "      <td>75</td>\n",
       "      <td>0.741</td>\n",
       "      <td>0.520</td>\n",
       "      <td>8</td>\n",
       "      <td>-7.513</td>\n",
       "      <td>1</td>\n",
       "      <td>0.0656</td>\n",
       "      <td>0.4500</td>\n",
       "      <td>0.000002</td>\n",
       "      <td>0.2220</td>\n",
       "      <td>0.347</td>\n",
       "      <td>102.998</td>\n",
       "      <td>pop</td>\n",
       "      <td>2:51</td>\n",
       "    </tr>\n",
       "    <tr>\n",
       "      <th>1999</th>\n",
       "      <td>Post Malone</td>\n",
       "      <td>Circles</td>\n",
       "      <td>215280</td>\n",
       "      <td>False</td>\n",
       "      <td>2019</td>\n",
       "      <td>85</td>\n",
       "      <td>0.695</td>\n",
       "      <td>0.762</td>\n",
       "      <td>0</td>\n",
       "      <td>-3.497</td>\n",
       "      <td>1</td>\n",
       "      <td>0.0395</td>\n",
       "      <td>0.1920</td>\n",
       "      <td>0.002440</td>\n",
       "      <td>0.0863</td>\n",
       "      <td>0.553</td>\n",
       "      <td>120.042</td>\n",
       "      <td>hip hop</td>\n",
       "      <td>3:35</td>\n",
       "    </tr>\n",
       "  </tbody>\n",
       "</table>\n",
       "<p>1958 rows × 19 columns</p>\n",
       "</div>"
      ],
      "text/plain": [
       "               artist                                    song  duration_ms  \\\n",
       "0      Britney Spears                  Oops!...I Did It Again       211160   \n",
       "3            Bon Jovi                            It's My Life       224493   \n",
       "4              *NSYNC                             Bye Bye Bye       200560   \n",
       "6              Eminem                     The Real Slim Shady       284200   \n",
       "7     Robbie Williams                                 Rock DJ       258560   \n",
       "...               ...                                     ...          ...   \n",
       "1995   Jonas Brothers                                  Sucker       181026   \n",
       "1996     Taylor Swift                            Cruel Summer       178426   \n",
       "1997     Blanco Brown                              The Git Up       200593   \n",
       "1998        Sam Smith  Dancing With A Stranger (with Normani)       171029   \n",
       "1999      Post Malone                                 Circles       215280   \n",
       "\n",
       "      explicit  year  popularity  danceability  energy  key  loudness  mode  \\\n",
       "0        False  2000          77         0.751   0.834    1    -5.444     0   \n",
       "3        False  2000          78         0.551   0.913    0    -4.063     0   \n",
       "4        False  2000          65         0.614   0.928    8    -4.806     0   \n",
       "6         True  2000          86         0.949   0.661    5    -4.244     0   \n",
       "7        False  2000          68         0.708   0.772    7    -4.264     1   \n",
       "...        ...   ...         ...           ...     ...  ...       ...   ...   \n",
       "1995     False  2019          79         0.842   0.734    1    -5.065     0   \n",
       "1996     False  2019          78         0.552   0.702    9    -5.707     1   \n",
       "1997     False  2019          69         0.847   0.678    9    -8.635     1   \n",
       "1998     False  2019          75         0.741   0.520    8    -7.513     1   \n",
       "1999     False  2019          85         0.695   0.762    0    -3.497     1   \n",
       "\n",
       "      speechiness  acousticness  instrumentalness  liveness  valence    tempo  \\\n",
       "0          0.0437        0.3000          0.000018    0.3550    0.894   95.053   \n",
       "3          0.0466        0.0263          0.000013    0.3470    0.544  119.992   \n",
       "4          0.0516        0.0408          0.001040    0.0845    0.879  172.656   \n",
       "6          0.0572        0.0302          0.000000    0.0454    0.760  104.504   \n",
       "7          0.0322        0.0267          0.000000    0.4670    0.861  103.035   \n",
       "...           ...           ...               ...       ...      ...      ...   \n",
       "1995       0.0588        0.0427          0.000000    0.1060    0.952  137.958   \n",
       "1996       0.1570        0.1170          0.000021    0.1050    0.564  169.994   \n",
       "1997       0.1090        0.0669          0.000000    0.2740    0.811   97.984   \n",
       "1998       0.0656        0.4500          0.000002    0.2220    0.347  102.998   \n",
       "1999       0.0395        0.1920          0.002440    0.0863    0.553  120.042   \n",
       "\n",
       "                 genre min:sec  \n",
       "0                  pop    3:31  \n",
       "3          rock, metal    3:44  \n",
       "4                  pop    3:20  \n",
       "6              hip hop    4:44  \n",
       "7            pop, rock    4:18  \n",
       "...                ...     ...  \n",
       "1995               pop     3:1  \n",
       "1996               pop    2:58  \n",
       "1997  hip hop, country    3:20  \n",
       "1998               pop    2:51  \n",
       "1999           hip hop    3:35  \n",
       "\n",
       "[1958 rows x 19 columns]"
      ]
     },
     "execution_count": 9,
     "metadata": {},
     "output_type": "execute_result"
    }
   ],
   "source": [
    "df"
   ]
  },
  {
   "cell_type": "markdown",
   "id": "470e73e3",
   "metadata": {
    "_cell_guid": "2c05fe6f-1a72-4681-a254-085069c57273",
    "_uuid": "4f78dedb-2a24-4a83-aa8b-70e4a9786725",
    "papermill": {
     "duration": 0.019456,
     "end_time": "2022-06-10T19:28:20.153491",
     "exception": false,
     "start_time": "2022-06-10T19:28:20.134035",
     "status": "completed"
    },
    "tags": []
   },
   "source": [
    "# Number of songs per year"
   ]
  },
  {
   "cell_type": "code",
   "execution_count": 10,
   "id": "c866f817",
   "metadata": {
    "_cell_guid": "1e3337e9-a96f-4f47-a7b6-5a6ed053d650",
    "_uuid": "1e4bd5f6-e118-4c16-9f49-aaf69f6a06fd",
    "collapsed": false,
    "execution": {
     "iopub.execute_input": "2022-06-10T19:28:20.194234Z",
     "iopub.status.busy": "2022-06-10T19:28:20.193440Z",
     "iopub.status.idle": "2022-06-10T19:28:20.206839Z",
     "shell.execute_reply": "2022-06-10T19:28:20.205930Z"
    },
    "jupyter": {
     "outputs_hidden": false
    },
    "papermill": {
     "duration": 0.035977,
     "end_time": "2022-06-10T19:28:20.208807",
     "exception": false,
     "start_time": "2022-06-10T19:28:20.172830",
     "status": "completed"
    },
    "tags": []
   },
   "outputs": [
    {
     "data": {
      "text/html": [
       "<div>\n",
       "<style scoped>\n",
       "    .dataframe tbody tr th:only-of-type {\n",
       "        vertical-align: middle;\n",
       "    }\n",
       "\n",
       "    .dataframe tbody tr th {\n",
       "        vertical-align: top;\n",
       "    }\n",
       "\n",
       "    .dataframe thead th {\n",
       "        text-align: right;\n",
       "    }\n",
       "</style>\n",
       "<table border=\"1\" class=\"dataframe\">\n",
       "  <thead>\n",
       "    <tr style=\"text-align: right;\">\n",
       "      <th></th>\n",
       "      <th>year</th>\n",
       "      <th>songs</th>\n",
       "    </tr>\n",
       "  </thead>\n",
       "  <tbody>\n",
       "    <tr>\n",
       "      <th>0</th>\n",
       "      <td>2012</td>\n",
       "      <td>115</td>\n",
       "    </tr>\n",
       "    <tr>\n",
       "      <th>1</th>\n",
       "      <td>2017</td>\n",
       "      <td>111</td>\n",
       "    </tr>\n",
       "    <tr>\n",
       "      <th>2</th>\n",
       "      <td>2001</td>\n",
       "      <td>108</td>\n",
       "    </tr>\n",
       "    <tr>\n",
       "      <th>3</th>\n",
       "      <td>2018</td>\n",
       "      <td>107</td>\n",
       "    </tr>\n",
       "    <tr>\n",
       "      <th>4</th>\n",
       "      <td>2010</td>\n",
       "      <td>107</td>\n",
       "    </tr>\n",
       "    <tr>\n",
       "      <th>5</th>\n",
       "      <td>2014</td>\n",
       "      <td>104</td>\n",
       "    </tr>\n",
       "    <tr>\n",
       "      <th>6</th>\n",
       "      <td>2005</td>\n",
       "      <td>104</td>\n",
       "    </tr>\n",
       "    <tr>\n",
       "      <th>7</th>\n",
       "      <td>2011</td>\n",
       "      <td>99</td>\n",
       "    </tr>\n",
       "    <tr>\n",
       "      <th>8</th>\n",
       "      <td>2016</td>\n",
       "      <td>99</td>\n",
       "    </tr>\n",
       "    <tr>\n",
       "      <th>9</th>\n",
       "      <td>2015</td>\n",
       "      <td>99</td>\n",
       "    </tr>\n",
       "    <tr>\n",
       "      <th>10</th>\n",
       "      <td>2003</td>\n",
       "      <td>97</td>\n",
       "    </tr>\n",
       "    <tr>\n",
       "      <th>11</th>\n",
       "      <td>2008</td>\n",
       "      <td>97</td>\n",
       "    </tr>\n",
       "    <tr>\n",
       "      <th>12</th>\n",
       "      <td>2004</td>\n",
       "      <td>96</td>\n",
       "    </tr>\n",
       "    <tr>\n",
       "      <th>13</th>\n",
       "      <td>2006</td>\n",
       "      <td>95</td>\n",
       "    </tr>\n",
       "    <tr>\n",
       "      <th>14</th>\n",
       "      <td>2007</td>\n",
       "      <td>94</td>\n",
       "    </tr>\n",
       "    <tr>\n",
       "      <th>15</th>\n",
       "      <td>2002</td>\n",
       "      <td>90</td>\n",
       "    </tr>\n",
       "    <tr>\n",
       "      <th>16</th>\n",
       "      <td>2019</td>\n",
       "      <td>89</td>\n",
       "    </tr>\n",
       "    <tr>\n",
       "      <th>17</th>\n",
       "      <td>2013</td>\n",
       "      <td>89</td>\n",
       "    </tr>\n",
       "    <tr>\n",
       "      <th>18</th>\n",
       "      <td>2009</td>\n",
       "      <td>84</td>\n",
       "    </tr>\n",
       "    <tr>\n",
       "      <th>19</th>\n",
       "      <td>2000</td>\n",
       "      <td>74</td>\n",
       "    </tr>\n",
       "  </tbody>\n",
       "</table>\n",
       "</div>"
      ],
      "text/plain": [
       "    year  songs\n",
       "0   2012    115\n",
       "1   2017    111\n",
       "2   2001    108\n",
       "3   2018    107\n",
       "4   2010    107\n",
       "5   2014    104\n",
       "6   2005    104\n",
       "7   2011     99\n",
       "8   2016     99\n",
       "9   2015     99\n",
       "10  2003     97\n",
       "11  2008     97\n",
       "12  2004     96\n",
       "13  2006     95\n",
       "14  2007     94\n",
       "15  2002     90\n",
       "16  2019     89\n",
       "17  2013     89\n",
       "18  2009     84\n",
       "19  2000     74"
      ]
     },
     "execution_count": 10,
     "metadata": {},
     "output_type": "execute_result"
    }
   ],
   "source": [
    "# Organizing the number of songs released per year\n",
    "songs_per_year = (df.year.value_counts().rename_axis('year').reset_index(name = 'songs'))\n",
    "songs_per_year"
   ]
  },
  {
   "cell_type": "code",
   "execution_count": 11,
   "id": "6491806e",
   "metadata": {
    "_cell_guid": "871e14b8-1577-4437-b717-ff007707163f",
    "_uuid": "880c98f4-b09b-4d67-bcae-311336575e64",
    "collapsed": false,
    "execution": {
     "iopub.execute_input": "2022-06-10T19:28:20.250611Z",
     "iopub.status.busy": "2022-06-10T19:28:20.250194Z",
     "iopub.status.idle": "2022-06-10T19:28:20.706808Z",
     "shell.execute_reply": "2022-06-10T19:28:20.705561Z"
    },
    "jupyter": {
     "outputs_hidden": false
    },
    "papermill": {
     "duration": 0.480903,
     "end_time": "2022-06-10T19:28:20.709750",
     "exception": false,
     "start_time": "2022-06-10T19:28:20.228847",
     "status": "completed"
    },
    "tags": []
   },
   "outputs": [
    {
     "data": {
      "image/png": "[encoded data removed]",
      "text/plain": [
       "<Figure size 1008x576 with 1 Axes>"
      ]
     },
     "metadata": {},
     "output_type": "display_data"
    }
   ],
   "source": [
    "# Plotting songs_per_year in a bar chart\n",
    "plt.figure(figsize=(14,8))\n",
    "ax = sns.barplot(x = 'year', y = 'songs', data = songs_per_year,palette='deep')\n",
    "plt.ylabel('Number of songs', size = 15)\n",
    "plt.xlabel('Year', size = 15)\n",
    "plt.title('Number of songs released per year', size = 20)\n",
    "plt.yticks(fontsize=15)\n",
    "plt.xticks(fontsize=15, rotation = 50)\n",
    "ax.bar_label(ax.containers[0],size = 15)\n",
    "plt.show()"
   ]
  },
  {
   "cell_type": "markdown",
   "id": "bc171ea3",
   "metadata": {
    "_cell_guid": "faf4e2e5-b15d-43a8-a328-7eced325a431",
    "_uuid": "dcce9966-1f13-4e6a-b788-a8a1030a5fe7",
    "papermill": {
     "duration": 0.020246,
     "end_time": "2022-06-10T19:28:20.750484",
     "exception": false,
     "start_time": "2022-06-10T19:28:20.730238",
     "status": "completed"
    },
    "tags": []
   },
   "source": [
    "Analyzing the top hits from 2000 to 2019, it's possible to see that 2012 had the highest releases to make it to the top hits, 115 songs, while 2000 was the year with the lowest number of releases to make it to the top hits, being only 74 songs."
   ]
  },
  {
   "cell_type": "markdown",
   "id": "7cf73337",
   "metadata": {
    "_cell_guid": "07ccaacb-2dc9-433f-8896-e07b2a124d0d",
    "_uuid": "b4547f26-b988-4c5a-b063-8817e571a863",
    "papermill": {
     "duration": 0.020162,
     "end_time": "2022-06-10T19:28:20.791027",
     "exception": false,
     "start_time": "2022-06-10T19:28:20.770865",
     "status": "completed"
    },
    "tags": []
   },
   "source": [
    "# Explicit content"
   ]
  },
  {
   "cell_type": "code",
   "execution_count": 12,
   "id": "d50c5b3e",
   "metadata": {
    "_cell_guid": "38686c59-229a-45c6-93ca-a555f177a5d4",
    "_uuid": "67c5adb6-d3a0-434d-b3b8-8e062eb35385",
    "collapsed": false,
    "execution": {
     "iopub.execute_input": "2022-06-10T19:28:20.834255Z",
     "iopub.status.busy": "2022-06-10T19:28:20.833675Z",
     "iopub.status.idle": "2022-06-10T19:28:20.843996Z",
     "shell.execute_reply": "2022-06-10T19:28:20.843382Z"
    },
    "jupyter": {
     "outputs_hidden": false
    },
    "papermill": {
     "duration": 0.033806,
     "end_time": "2022-06-10T19:28:20.845756",
     "exception": false,
     "start_time": "2022-06-10T19:28:20.811950",
     "status": "completed"
    },
    "tags": []
   },
   "outputs": [
    {
     "data": {
      "text/html": [
       "<div>\n",
       "<style scoped>\n",
       "    .dataframe tbody tr th:only-of-type {\n",
       "        vertical-align: middle;\n",
       "    }\n",
       "\n",
       "    .dataframe tbody tr th {\n",
       "        vertical-align: top;\n",
       "    }\n",
       "\n",
       "    .dataframe thead th {\n",
       "        text-align: right;\n",
       "    }\n",
       "</style>\n",
       "<table border=\"1\" class=\"dataframe\">\n",
       "  <thead>\n",
       "    <tr style=\"text-align: right;\">\n",
       "      <th></th>\n",
       "      <th>explicit</th>\n",
       "      <th>songs</th>\n",
       "    </tr>\n",
       "  </thead>\n",
       "  <tbody>\n",
       "    <tr>\n",
       "      <th>0</th>\n",
       "      <td>False</td>\n",
       "      <td>1418</td>\n",
       "    </tr>\n",
       "    <tr>\n",
       "      <th>1</th>\n",
       "      <td>True</td>\n",
       "      <td>540</td>\n",
       "    </tr>\n",
       "  </tbody>\n",
       "</table>\n",
       "</div>"
      ],
      "text/plain": [
       "   explicit  songs\n",
       "0     False   1418\n",
       "1      True    540"
      ]
     },
     "execution_count": 12,
     "metadata": {},
     "output_type": "execute_result"
    }
   ],
   "source": [
    "# Creating a dataframe to order songs by explicit and not explicit\n",
    "explicit_or_not_explicit = pd.DataFrame(df.explicit.value_counts().rename_axis(\n",
    "    'explicit').reset_index(name='songs'))\n",
    "explicit_or_not_explicit"
   ]
  },
  {
   "cell_type": "code",
   "execution_count": 13,
   "id": "14698095",
   "metadata": {
    "_cell_guid": "e80b01ef-d3a8-4eed-83b1-8104ca471d28",
    "_uuid": "09275657-a8ba-4483-b00f-3d82db4ca57f",
    "collapsed": false,
    "execution": {
     "iopub.execute_input": "2022-06-10T19:28:20.888816Z",
     "iopub.status.busy": "2022-06-10T19:28:20.888456Z",
     "iopub.status.idle": "2022-06-10T19:28:22.007524Z",
     "shell.execute_reply": "2022-06-10T19:28:22.006817Z"
    },
    "jupyter": {
     "outputs_hidden": false
    },
    "papermill": {
     "duration": 1.143164,
     "end_time": "2022-06-10T19:28:22.009306",
     "exception": false,
     "start_time": "2022-06-10T19:28:20.866142",
     "status": "completed"
    },
    "tags": []
   },
   "outputs": [
    {
     "data": {
      "text/html": [
       "        <script type=\"text/javascript\">\n",
       "        window.PlotlyConfig = {MathJaxConfig: 'local'};\n",
       "        if (window.MathJax && window.MathJax.Hub && window.MathJax.Hub.Config) {window.MathJax.Hub.Config({SVG: {font: \"STIX-Web\"}});}\n",
       "        if (typeof require !== 'undefined') {\n",
       "        require.undef(\"plotly\");\n",
       "        requirejs.config({\n",
       "            paths: {\n",
       "                'plotly': ['https://cdn.plot.ly/plotly-2.12.1.min']\n",
       "            }\n",
       "        });\n",
       "        require(['plotly'], function(Plotly) {\n",
       "            window._Plotly = Plotly;\n",
       "        });\n",
       "        }\n",
       "        </script>\n",
       "        "
      ]
     },
     "metadata": {},
     "output_type": "display_data"
    },
    {
     "data": {
      "text/html": [
       "<div>                            <div id=\"24df60dc-d28f-4ed6-ae2e-df3e205ee40e\" class=\"plotly-graph-div\" style=\"height:525px; width:100%;\"></div>            <script type=\"text/javascript\">                require([\"plotly\"], function(Plotly) {                    window.PLOTLYENV=window.PLOTLYENV || {};                                    if (document.getElementById(\"24df60dc-d28f-4ed6-ae2e-df3e205ee40e\")) {                    Plotly.newPlot(                        \"24df60dc-d28f-4ed6-ae2e-df3e205ee40e\",                        [{\"domain\":{\"x\":[0.0,1.0],\"y\":[0.0,1.0]},\"hovertemplate\":\"label=%{label}<br>songs=%{value}<extra></extra>\",\"labels\":[\"Not explicit\",\"Explicit\"],\"legendgroup\":\"\",\"name\":\"\",\"showlegend\":true,\"values\":[1418,540],\"type\":\"pie\"}],                        {\"template\":{\"data\":{\"barpolar\":[{\"marker\":{\"line\":{\"color\":\"rgb(234,234,242)\",\"width\":0.5},\"pattern\":{\"fillmode\":\"overlay\",\"size\":10,\"solidity\":0.2}},\"type\":\"barpolar\"}],\"bar\":[{\"error_x\":{\"color\":\"rgb(36,36,36)\"},\"error_y\":{\"color\":\"rgb(36,36,36)\"},\"marker\":{\"line\":{\"color\":\"rgb(234,234,242)\",\"width\":0.5},\"pattern\":{\"fillmode\":\"overlay\",\"size\":10,\"solidity\":0.2}},\"type\":\"bar\"}],\"carpet\":[{\"aaxis\":{\"endlinecolor\":\"rgb(36,36,36)\",\"gridcolor\":\"white\",\"linecolor\":\"white\",\"minorgridcolor\":\"white\",\"startlinecolor\":\"rgb(36,36,36)\"},\"baxis\":{\"endlinecolor\":\"rgb(36,36,36)\",\"gridcolor\":\"white\",\"linecolor\":\"white\",\"minorgridcolor\":\"white\",\"startlinecolor\":\"rgb(36,36,36)\"},\"type\":\"carpet\"}],\"choropleth\":[{\"colorbar\":{\"outlinewidth\":0,\"tickcolor\":\"rgb(36,36,36)\",\"ticklen\":8,\"ticks\":\"outside\",\"tickwidth\":2},\"type\":\"choropleth\"}],\"contourcarpet\":[{\"colorbar\":{\"outlinewidth\":0,\"tickcolor\":\"rgb(36,36,36)\",\"ticklen\":8,\"ticks\":\"outside\",\"tickwidth\":2},\"type\":\"contourcarpet\"}],\"contour\":[{\"colorbar\":{\"outlinewidth\":0,\"tickcolor\":\"rgb(36,36,36)\",\"ticklen\":8,\"ticks\":\"outside\",\"tickwidth\":2},\"colorscale\":[[0.0,\"rgb(2,4,25)\"],[0.06274509803921569,\"rgb(24,15,41)\"],[0.12549019607843137,\"rgb(47,23,57)\"],[0.18823529411764706,\"rgb(71,28,72)\"],[0.25098039215686274,\"rgb(97,30,82)\"],[0.3137254901960784,\"rgb(123,30,89)\"],[0.3764705882352941,\"rgb(150,27,91)\"],[0.4392156862745098,\"rgb(177,22,88)\"],[0.5019607843137255,\"rgb(203,26,79)\"],[0.5647058823529412,\"rgb(223,47,67)\"],[0.6274509803921569,\"rgb(236,76,61)\"],[0.6901960784313725,\"rgb(242,107,73)\"],[0.7529411764705882,\"rgb(244,135,95)\"],[0.8156862745098039,\"rgb(245,162,122)\"],[0.8784313725490196,\"rgb(246,188,153)\"],[0.9411764705882353,\"rgb(247,212,187)\"],[1.0,\"rgb(250,234,220)\"]],\"type\":\"contour\"}],\"heatmapgl\":[{\"colorbar\":{\"outlinewidth\":0,\"tickcolor\":\"rgb(36,36,36)\",\"ticklen\":8,\"ticks\":\"outside\",\"tickwidth\":2},\"colorscale\":[[0.0,\"rgb(2,4,25)\"],[0.06274509803921569,\"rgb(24,15,41)\"],[0.12549019607843137,\"rgb(47,23,57)\"],[0.18823529411764706,\"rgb(71,28,72)\"],[0.25098039215686274,\"rgb(97,30,82)\"],[0.3137254901960784,\"rgb(123,30,89)\"],[0.3764705882352941,\"rgb(150,27,91)\"],[0.4392156862745098,\"rgb(177,22,88)\"],[0.5019607843137255,\"rgb(203,26,79)\"],[0.5647058823529412,\"rgb(223,47,67)\"],[0.6274509803921569,\"rgb(236,76,61)\"],[0.6901960784313725,\"rgb(242,107,73)\"],[0.7529411764705882,\"rgb(244,135,95)\"],[0.8156862745098039,\"rgb(245,162,122)\"],[0.8784313725490196,\"rgb(246,188,153)\"],[0.9411764705882353,\"rgb(247,212,187)\"],[1.0,\"rgb(250,234,220)\"]],\"type\":\"heatmapgl\"}],\"heatmap\":[{\"colorbar\":{\"outlinewidth\":0,\"tickcolor\":\"rgb(36,36,36)\",\"ticklen\":8,\"ticks\":\"outside\",\"tickwidth\":2},\"colorscale\":[[0.0,\"rgb(2,4,25)\"],[0.06274509803921569,\"rgb(24,15,41)\"],[0.12549019607843137,\"rgb(47,23,57)\"],[0.18823529411764706,\"rgb(71,28,72)\"],[0.25098039215686274,\"rgb(97,30,82)\"],[0.3137254901960784,\"rgb(123,30,89)\"],[0.3764705882352941,\"rgb(150,27,91)\"],[0.4392156862745098,\"rgb(177,22,88)\"],[0.5019607843137255,\"rgb(203,26,79)\"],[0.5647058823529412,\"rgb(223,47,67)\"],[0.6274509803921569,\"rgb(236,76,61)\"],[0.6901960784313725,\"rgb(242,107,73)\"],[0.7529411764705882,\"rgb(244,135,95)\"],[0.8156862745098039,\"rgb(245,162,122)\"],[0.8784313725490196,\"rgb(246,188,153)\"],[0.9411764705882353,\"rgb(247,212,187)\"],[1.0,\"rgb(250,234,220)\"]],\"type\":\"heatmap\"}],\"histogram2dcontour\":[{\"colorbar\":{\"outlinewidth\":0,\"tickcolor\":\"rgb(36,36,36)\",\"ticklen\":8,\"ticks\":\"outside\",\"tickwidth\":2},\"colorscale\":[[0.0,\"rgb(2,4,25)\"],[0.06274509803921569,\"rgb(24,15,41)\"],[0.12549019607843137,\"rgb(47,23,57)\"],[0.18823529411764706,\"rgb(71,28,72)\"],[0.25098039215686274,\"rgb(97,30,82)\"],[0.3137254901960784,\"rgb(123,30,89)\"],[0.3764705882352941,\"rgb(150,27,91)\"],[0.4392156862745098,\"rgb(177,22,88)\"],[0.5019607843137255,\"rgb(203,26,79)\"],[0.5647058823529412,\"rgb(223,47,67)\"],[0.6274509803921569,\"rgb(236,76,61)\"],[0.6901960784313725,\"rgb(242,107,73)\"],[0.7529411764705882,\"rgb(244,135,95)\"],[0.8156862745098039,\"rgb(245,162,122)\"],[0.8784313725490196,\"rgb(246,188,153)\"],[0.9411764705882353,\"rgb(247,212,187)\"],[1.0,\"rgb(250,234,220)\"]],\"type\":\"histogram2dcontour\"}],\"histogram2d\":[{\"colorbar\":{\"outlinewidth\":0,\"tickcolor\":\"rgb(36,36,36)\",\"ticklen\":8,\"ticks\":\"outside\",\"tickwidth\":2},\"colorscale\":[[0.0,\"rgb(2,4,25)\"],[0.06274509803921569,\"rgb(24,15,41)\"],[0.12549019607843137,\"rgb(47,23,57)\"],[0.18823529411764706,\"rgb(71,28,72)\"],[0.25098039215686274,\"rgb(97,30,82)\"],[0.3137254901960784,\"rgb(123,30,89)\"],[0.3764705882352941,\"rgb(150,27,91)\"],[0.4392156862745098,\"rgb(177,22,88)\"],[0.5019607843137255,\"rgb(203,26,79)\"],[0.5647058823529412,\"rgb(223,47,67)\"],[0.6274509803921569,\"rgb(236,76,61)\"],[0.6901960784313725,\"rgb(242,107,73)\"],[0.7529411764705882,\"rgb(244,135,95)\"],[0.8156862745098039,\"rgb(245,162,122)\"],[0.8784313725490196,\"rgb(246,188,153)\"],[0.9411764705882353,\"rgb(247,212,187)\"],[1.0,\"rgb(250,234,220)\"]],\"type\":\"histogram2d\"}],\"histogram\":[{\"marker\":{\"pattern\":{\"fillmode\":\"overlay\",\"size\":10,\"solidity\":0.2}},\"type\":\"histogram\"}],\"mesh3d\":[{\"colorbar\":{\"outlinewidth\":0,\"tickcolor\":\"rgb(36,36,36)\",\"ticklen\":8,\"ticks\":\"outside\",\"tickwidth\":2},\"type\":\"mesh3d\"}],\"parcoords\":[{\"line\":{\"colorbar\":{\"outlinewidth\":0,\"tickcolor\":\"rgb(36,36,36)\",\"ticklen\":8,\"ticks\":\"outside\",\"tickwidth\":2}},\"type\":\"parcoords\"}],\"pie\":[{\"automargin\":true,\"type\":\"pie\"}],\"scatter3d\":[{\"line\":{\"colorbar\":{\"outlinewidth\":0,\"tickcolor\":\"rgb(36,36,36)\",\"ticklen\":8,\"ticks\":\"outside\",\"tickwidth\":2}},\"marker\":{\"colorbar\":{\"outlinewidth\":0,\"tickcolor\":\"rgb(36,36,36)\",\"ticklen\":8,\"ticks\":\"outside\",\"tickwidth\":2}},\"type\":\"scatter3d\"}],\"scattercarpet\":[{\"marker\":{\"colorbar\":{\"outlinewidth\":0,\"tickcolor\":\"rgb(36,36,36)\",\"ticklen\":8,\"ticks\":\"outside\",\"tickwidth\":2}},\"type\":\"scattercarpet\"}],\"scattergeo\":[{\"marker\":{\"colorbar\":{\"outlinewidth\":0,\"tickcolor\":\"rgb(36,36,36)\",\"ticklen\":8,\"ticks\":\"outside\",\"tickwidth\":2}},\"type\":\"scattergeo\"}],\"scattergl\":[{\"marker\":{\"colorbar\":{\"outlinewidth\":0,\"tickcolor\":\"rgb(36,36,36)\",\"ticklen\":8,\"ticks\":\"outside\",\"tickwidth\":2}},\"type\":\"scattergl\"}],\"scattermapbox\":[{\"marker\":{\"colorbar\":{\"outlinewidth\":0,\"tickcolor\":\"rgb(36,36,36)\",\"ticklen\":8,\"ticks\":\"outside\",\"tickwidth\":2}},\"type\":\"scattermapbox\"}],\"scatterpolargl\":[{\"marker\":{\"colorbar\":{\"outlinewidth\":0,\"tickcolor\":\"rgb(36,36,36)\",\"ticklen\":8,\"ticks\":\"outside\",\"tickwidth\":2}},\"type\":\"scatterpolargl\"}],\"scatterpolar\":[{\"marker\":{\"colorbar\":{\"outlinewidth\":0,\"tickcolor\":\"rgb(36,36,36)\",\"ticklen\":8,\"ticks\":\"outside\",\"tickwidth\":2}},\"type\":\"scatterpolar\"}],\"scatter\":[{\"fillpattern\":{\"fillmode\":\"overlay\",\"size\":10,\"solidity\":0.2},\"type\":\"scatter\"}],\"scatterternary\":[{\"marker\":{\"colorbar\":{\"outlinewidth\":0,\"tickcolor\":\"rgb(36,36,36)\",\"ticklen\":8,\"ticks\":\"outside\",\"tickwidth\":2}},\"type\":\"scatterternary\"}],\"surface\":[{\"colorbar\":{\"outlinewidth\":0,\"tickcolor\":\"rgb(36,36,36)\",\"ticklen\":8,\"ticks\":\"outside\",\"tickwidth\":2},\"colorscale\":[[0.0,\"rgb(2,4,25)\"],[0.06274509803921569,\"rgb(24,15,41)\"],[0.12549019607843137,\"rgb(47,23,57)\"],[0.18823529411764706,\"rgb(71,28,72)\"],[0.25098039215686274,\"rgb(97,30,82)\"],[0.3137254901960784,\"rgb(123,30,89)\"],[0.3764705882352941,\"rgb(150,27,91)\"],[0.4392156862745098,\"rgb(177,22,88)\"],[0.5019607843137255,\"rgb(203,26,79)\"],[0.5647058823529412,\"rgb(223,47,67)\"],[0.6274509803921569,\"rgb(236,76,61)\"],[0.6901960784313725,\"rgb(242,107,73)\"],[0.7529411764705882,\"rgb(244,135,95)\"],[0.8156862745098039,\"rgb(245,162,122)\"],[0.8784313725490196,\"rgb(246,188,153)\"],[0.9411764705882353,\"rgb(247,212,187)\"],[1.0,\"rgb(250,234,220)\"]],\"type\":\"surface\"}],\"table\":[{\"cells\":{\"fill\":{\"color\":\"rgb(231,231,240)\"},\"line\":{\"color\":\"white\"}},\"header\":{\"fill\":{\"color\":\"rgb(183,183,191)\"},\"line\":{\"color\":\"white\"}},\"type\":\"table\"}]},\"layout\":{\"annotationdefaults\":{\"arrowcolor\":\"rgb(67,103,167)\"},\"autotypenumbers\":\"strict\",\"coloraxis\":{\"colorbar\":{\"outlinewidth\":0,\"tickcolor\":\"rgb(36,36,36)\",\"ticklen\":8,\"ticks\":\"outside\",\"tickwidth\":2}},\"colorscale\":{\"sequential\":[[0.0,\"rgb(2,4,25)\"],[0.06274509803921569,\"rgb(24,15,41)\"],[0.12549019607843137,\"rgb(47,23,57)\"],[0.18823529411764706,\"rgb(71,28,72)\"],[0.25098039215686274,\"rgb(97,30,82)\"],[0.3137254901960784,\"rgb(123,30,89)\"],[0.3764705882352941,\"rgb(150,27,91)\"],[0.4392156862745098,\"rgb(177,22,88)\"],[0.5019607843137255,\"rgb(203,26,79)\"],[0.5647058823529412,\"rgb(223,47,67)\"],[0.6274509803921569,\"rgb(236,76,61)\"],[0.6901960784313725,\"rgb(242,107,73)\"],[0.7529411764705882,\"rgb(244,135,95)\"],[0.8156862745098039,\"rgb(245,162,122)\"],[0.8784313725490196,\"rgb(246,188,153)\"],[0.9411764705882353,\"rgb(247,212,187)\"],[1.0,\"rgb(250,234,220)\"]],\"sequentialminus\":[[0.0,\"rgb(2,4,25)\"],[0.06274509803921569,\"rgb(24,15,41)\"],[0.12549019607843137,\"rgb(47,23,57)\"],[0.18823529411764706,\"rgb(71,28,72)\"],[0.25098039215686274,\"rgb(97,30,82)\"],[0.3137254901960784,\"rgb(123,30,89)\"],[0.3764705882352941,\"rgb(150,27,91)\"],[0.4392156862745098,\"rgb(177,22,88)\"],[0.5019607843137255,\"rgb(203,26,79)\"],[0.5647058823529412,\"rgb(223,47,67)\"],[0.6274509803921569,\"rgb(236,76,61)\"],[0.6901960784313725,\"rgb(242,107,73)\"],[0.7529411764705882,\"rgb(244,135,95)\"],[0.8156862745098039,\"rgb(245,162,122)\"],[0.8784313725490196,\"rgb(246,188,153)\"],[0.9411764705882353,\"rgb(247,212,187)\"],[1.0,\"rgb(250,234,220)\"]]},\"colorway\":[\"rgb(76,114,176)\",\"rgb(221,132,82)\",\"rgb(85,168,104)\",\"rgb(196,78,82)\",\"rgb(129,114,179)\",\"rgb(147,120,96)\",\"rgb(218,139,195)\",\"rgb(140,140,140)\",\"rgb(204,185,116)\",\"rgb(100,181,205)\"],\"font\":{\"color\":\"rgb(36,36,36)\"},\"geo\":{\"bgcolor\":\"white\",\"lakecolor\":\"white\",\"landcolor\":\"rgb(234,234,242)\",\"showlakes\":true,\"showland\":true,\"subunitcolor\":\"white\"},\"hoverlabel\":{\"align\":\"left\"},\"hovermode\":\"closest\",\"paper_bgcolor\":\"white\",\"plot_bgcolor\":\"rgb(234,234,242)\",\"polar\":{\"angularaxis\":{\"gridcolor\":\"white\",\"linecolor\":\"white\",\"showgrid\":true,\"ticks\":\"\"},\"bgcolor\":\"rgb(234,234,242)\",\"radialaxis\":{\"gridcolor\":\"white\",\"linecolor\":\"white\",\"showgrid\":true,\"ticks\":\"\"}},\"scene\":{\"xaxis\":{\"backgroundcolor\":\"rgb(234,234,242)\",\"gridcolor\":\"white\",\"gridwidth\":2,\"linecolor\":\"white\",\"showbackground\":true,\"showgrid\":true,\"ticks\":\"\",\"zerolinecolor\":\"white\"},\"yaxis\":{\"backgroundcolor\":\"rgb(234,234,242)\",\"gridcolor\":\"white\",\"gridwidth\":2,\"linecolor\":\"white\",\"showbackground\":true,\"showgrid\":true,\"ticks\":\"\",\"zerolinecolor\":\"white\"},\"zaxis\":{\"backgroundcolor\":\"rgb(234,234,242)\",\"gridcolor\":\"white\",\"gridwidth\":2,\"linecolor\":\"white\",\"showbackground\":true,\"showgrid\":true,\"ticks\":\"\",\"zerolinecolor\":\"white\"}},\"shapedefaults\":{\"fillcolor\":\"rgb(67,103,167)\",\"line\":{\"width\":0},\"opacity\":0.5},\"ternary\":{\"aaxis\":{\"gridcolor\":\"white\",\"linecolor\":\"white\",\"showgrid\":true,\"ticks\":\"\"},\"baxis\":{\"gridcolor\":\"white\",\"linecolor\":\"white\",\"showgrid\":true,\"ticks\":\"\"},\"bgcolor\":\"rgb(234,234,242)\",\"caxis\":{\"gridcolor\":\"white\",\"linecolor\":\"white\",\"showgrid\":true,\"ticks\":\"\"}},\"xaxis\":{\"automargin\":true,\"gridcolor\":\"white\",\"linecolor\":\"white\",\"showgrid\":true,\"ticks\":\"\",\"title\":{\"standoff\":15},\"zerolinecolor\":\"white\"},\"yaxis\":{\"automargin\":true,\"gridcolor\":\"white\",\"linecolor\":\"white\",\"showgrid\":true,\"ticks\":\"\",\"title\":{\"standoff\":15},\"zerolinecolor\":\"white\"}}},\"legend\":{\"tracegroupgap\":0},\"title\":{\"text\":\"Percentage of explicit content in the top hits from 2000 to 2019\"}},                        {\"responsive\": true}                    ).then(function(){\n",
       "                            \n",
       "var gd = document.getElementById('24df60dc-d28f-4ed6-ae2e-df3e205ee40e');\n",
       "var x = new MutationObserver(function (mutations, observer) {{\n",
       "        var display = window.getComputedStyle(gd).display;\n",
       "        if (!display || display === 'none') {{\n",
       "            console.log([gd, 'removed!']);\n",
       "            Plotly.purge(gd);\n",
       "            observer.disconnect();\n",
       "        }}\n",
       "}});\n",
       "\n",
       "// Listen for the removal of the full notebook cells\n",
       "var notebookContainer = gd.closest('#notebook-container');\n",
       "if (notebookContainer) {{\n",
       "    x.observe(notebookContainer, {childList: true});\n",
       "}}\n",
       "\n",
       "// Listen for the clearing of the current output cell\n",
       "var outputEl = gd.closest('.output');\n",
       "if (outputEl) {{\n",
       "    x.observe(outputEl, {childList: true});\n",
       "}}\n",
       "\n",
       "                        })                };                });            </script>        </div>"
      ]
     },
     "metadata": {},
     "output_type": "display_data"
    }
   ],
   "source": [
    "fig = px.pie(explicit_or_not_explicit, names = ['Not explicit','Explicit'], \n",
    "             values = 'songs', template='seaborn',\n",
    "            title = 'Percentage of explicit content in the top hits from 2000 to 2019')\n",
    "fig.show()"
   ]
  },
  {
   "cell_type": "markdown",
   "id": "20d64b1c",
   "metadata": {
    "_cell_guid": "a7465849-b3bc-4897-a118-875e7c50f17b",
    "_uuid": "9064075d-390a-485f-8e46-2969e6c50d69",
    "papermill": {
     "duration": 0.02109,
     "end_time": "2022-06-10T19:28:22.051702",
     "exception": false,
     "start_time": "2022-06-10T19:28:22.030612",
     "status": "completed"
    },
    "tags": []
   },
   "source": [
    "It's possible to realize that 72.4% of the top hits from 2000 to 2019 is made up of songs that are classified as being **not explicit**, which means that they don't contain lyrics considered to be offensive or inappropriate for children."
   ]
  },
  {
   "cell_type": "markdown",
   "id": "14624902",
   "metadata": {
    "_cell_guid": "c83c1ea9-f752-481c-9056-8dc3937f8fa0",
    "_uuid": "97cb0aae-040b-4796-a149-dc8d0b6de50b",
    "papermill": {
     "duration": 0.020962,
     "end_time": "2022-06-10T19:28:22.093816",
     "exception": false,
     "start_time": "2022-06-10T19:28:22.072854",
     "status": "completed"
    },
    "tags": []
   },
   "source": [
    "# Key and mode"
   ]
  },
  {
   "cell_type": "code",
   "execution_count": 14,
   "id": "49b2777b",
   "metadata": {
    "_cell_guid": "abc982af-e856-42a4-975e-1ecea9f4211e",
    "_uuid": "860f51cc-8e82-4216-91b4-76ac90a92434",
    "collapsed": false,
    "execution": {
     "iopub.execute_input": "2022-06-10T19:28:22.138142Z",
     "iopub.status.busy": "2022-06-10T19:28:22.137381Z",
     "iopub.status.idle": "2022-06-10T19:28:22.160982Z",
     "shell.execute_reply": "2022-06-10T19:28:22.160065Z"
    },
    "jupyter": {
     "outputs_hidden": false
    },
    "papermill": {
     "duration": 0.048053,
     "end_time": "2022-06-10T19:28:22.162929",
     "exception": false,
     "start_time": "2022-06-10T19:28:22.114876",
     "status": "completed"
    },
    "tags": []
   },
   "outputs": [
    {
     "data": {
      "text/html": [
       "<div>\n",
       "<style scoped>\n",
       "    .dataframe tbody tr th:only-of-type {\n",
       "        vertical-align: middle;\n",
       "    }\n",
       "\n",
       "    .dataframe tbody tr th {\n",
       "        vertical-align: top;\n",
       "    }\n",
       "\n",
       "    .dataframe thead th {\n",
       "        text-align: right;\n",
       "    }\n",
       "</style>\n",
       "<table border=\"1\" class=\"dataframe\">\n",
       "  <thead>\n",
       "    <tr style=\"text-align: right;\">\n",
       "      <th>mode</th>\n",
       "      <th>key</th>\n",
       "      <th>minor</th>\n",
       "      <th>major</th>\n",
       "      <th>songs</th>\n",
       "    </tr>\n",
       "  </thead>\n",
       "  <tbody>\n",
       "    <tr>\n",
       "      <th>0</th>\n",
       "      <td>C</td>\n",
       "      <td>65</td>\n",
       "      <td>128</td>\n",
       "      <td>193</td>\n",
       "    </tr>\n",
       "    <tr>\n",
       "      <th>1</th>\n",
       "      <td>C♯/D♭</td>\n",
       "      <td>91</td>\n",
       "      <td>168</td>\n",
       "      <td>259</td>\n",
       "    </tr>\n",
       "    <tr>\n",
       "      <th>2</th>\n",
       "      <td>D</td>\n",
       "      <td>32</td>\n",
       "      <td>123</td>\n",
       "      <td>155</td>\n",
       "    </tr>\n",
       "    <tr>\n",
       "      <th>3</th>\n",
       "      <td>E♭/D♯</td>\n",
       "      <td>31</td>\n",
       "      <td>27</td>\n",
       "      <td>58</td>\n",
       "    </tr>\n",
       "    <tr>\n",
       "      <th>4</th>\n",
       "      <td>E</td>\n",
       "      <td>76</td>\n",
       "      <td>48</td>\n",
       "      <td>124</td>\n",
       "    </tr>\n",
       "    <tr>\n",
       "      <th>5</th>\n",
       "      <td>F</td>\n",
       "      <td>111</td>\n",
       "      <td>67</td>\n",
       "      <td>178</td>\n",
       "    </tr>\n",
       "    <tr>\n",
       "      <th>6</th>\n",
       "      <td>F♯/G♭</td>\n",
       "      <td>79</td>\n",
       "      <td>73</td>\n",
       "      <td>152</td>\n",
       "    </tr>\n",
       "    <tr>\n",
       "      <th>7</th>\n",
       "      <td>G</td>\n",
       "      <td>56</td>\n",
       "      <td>139</td>\n",
       "      <td>195</td>\n",
       "    </tr>\n",
       "    <tr>\n",
       "      <th>8</th>\n",
       "      <td>A♭/G♯</td>\n",
       "      <td>57</td>\n",
       "      <td>112</td>\n",
       "      <td>169</td>\n",
       "    </tr>\n",
       "    <tr>\n",
       "      <th>9</th>\n",
       "      <td>A</td>\n",
       "      <td>71</td>\n",
       "      <td>84</td>\n",
       "      <td>155</td>\n",
       "    </tr>\n",
       "    <tr>\n",
       "      <th>10</th>\n",
       "      <td>B♭/A♯</td>\n",
       "      <td>75</td>\n",
       "      <td>49</td>\n",
       "      <td>124</td>\n",
       "    </tr>\n",
       "    <tr>\n",
       "      <th>11</th>\n",
       "      <td>B</td>\n",
       "      <td>129</td>\n",
       "      <td>67</td>\n",
       "      <td>196</td>\n",
       "    </tr>\n",
       "  </tbody>\n",
       "</table>\n",
       "</div>"
      ],
      "text/plain": [
       "mode    key  minor  major  songs\n",
       "0         C     65    128    193\n",
       "1     C♯/D♭     91    168    259\n",
       "2         D     32    123    155\n",
       "3     E♭/D♯     31     27     58\n",
       "4         E     76     48    124\n",
       "5         F    111     67    178\n",
       "6     F♯/G♭     79     73    152\n",
       "7         G     56    139    195\n",
       "8     A♭/G♯     57    112    169\n",
       "9         A     71     84    155\n",
       "10    B♭/A♯     75     49    124\n",
       "11        B    129     67    196"
      ]
     },
     "execution_count": 14,
     "metadata": {},
     "output_type": "execute_result"
    }
   ],
   "source": [
    "# Creating a dataframe to organize songs per key and mode\n",
    "key_mode = df.groupby(['key','mode']).size().unstack(fill_value = 0).reset_index()\n",
    "# Renaming columns 0 to minor and 1 to major\n",
    "key_mode.rename(columns = {0: 'minor', 1: 'major'}, inplace = True)\n",
    "# Organizing key names\n",
    "key_mode.key.replace({0:'C',\n",
    "1:'C♯/D♭',\n",
    "2:'D',\n",
    "3:'E♭/D♯',\n",
    "4:'E',\n",
    "5:'F',\n",
    "6:'F♯/G♭',\n",
    "7:'G',\n",
    "8:'A♭/G♯',\n",
    "9:'A',\n",
    "10:'B♭/A♯',\n",
    "11:'B'}, inplace=True)\n",
    "# Creating a column containing the total number of songs\n",
    "key_mode['songs'] = key_mode['minor'] + key_mode['major']\n",
    "\n",
    "# See results\n",
    "key_mode"
   ]
  },
  {
   "cell_type": "code",
   "execution_count": 15,
   "id": "c8e70343",
   "metadata": {
    "_cell_guid": "d383929f-ea79-4598-9bc8-fca6973ef72f",
    "_uuid": "55742939-1e59-4483-b0b0-9df73e342b63",
    "collapsed": false,
    "execution": {
     "iopub.execute_input": "2022-06-10T19:28:22.207955Z",
     "iopub.status.busy": "2022-06-10T19:28:22.207229Z",
     "iopub.status.idle": "2022-06-10T19:28:22.319803Z",
     "shell.execute_reply": "2022-06-10T19:28:22.318924Z"
    },
    "jupyter": {
     "outputs_hidden": false
    },
    "papermill": {
     "duration": 0.137522,
     "end_time": "2022-06-10T19:28:22.321732",
     "exception": false,
     "start_time": "2022-06-10T19:28:22.184210",
     "status": "completed"
    },
    "tags": []
   },
   "outputs": [
    {
     "data": {
      "text/html": [
       "<div>                            <div id=\"494c8162-7ace-4fa3-8011-e25bb518d2c0\" class=\"plotly-graph-div\" style=\"height:525px; width:100%;\"></div>            <script type=\"text/javascript\">                require([\"plotly\"], function(Plotly) {                    window.PLOTLYENV=window.PLOTLYENV || {};                                    if (document.getElementById(\"494c8162-7ace-4fa3-8011-e25bb518d2c0\")) {                    Plotly.newPlot(                        \"494c8162-7ace-4fa3-8011-e25bb518d2c0\",                        [{\"alignmentgroup\":\"True\",\"hovertemplate\":\"variable=minor<br>key=%{x}<br>value=%{y}<extra></extra>\",\"legendgroup\":\"minor\",\"marker\":{\"color\":\"#636efa\",\"pattern\":{\"shape\":\"\"}},\"name\":\"minor\",\"offsetgroup\":\"minor\",\"orientation\":\"v\",\"showlegend\":true,\"textposition\":\"auto\",\"x\":[\"C♯/D♭\",\"B\",\"G\",\"C\",\"F\",\"A♭/G♯\",\"D\",\"A\",\"F♯/G♭\",\"E\",\"B♭/A♯\",\"E♭/D♯\"],\"xaxis\":\"x\",\"y\":[91,129,56,65,111,57,32,71,79,76,75,31],\"yaxis\":\"y\",\"type\":\"bar\"},{\"alignmentgroup\":\"True\",\"hovertemplate\":\"variable=major<br>key=%{x}<br>value=%{y}<extra></extra>\",\"legendgroup\":\"major\",\"marker\":{\"color\":\"#EF553B\",\"pattern\":{\"shape\":\"\"}},\"name\":\"major\",\"offsetgroup\":\"major\",\"orientation\":\"v\",\"showlegend\":true,\"textposition\":\"auto\",\"x\":[\"C♯/D♭\",\"B\",\"G\",\"C\",\"F\",\"A♭/G♯\",\"D\",\"A\",\"F♯/G♭\",\"E\",\"B♭/A♯\",\"E♭/D♯\"],\"xaxis\":\"x\",\"y\":[168,67,139,128,67,112,123,84,73,48,49,27],\"yaxis\":\"y\",\"type\":\"bar\"}],                        {\"template\":{\"data\":{\"histogram2dcontour\":[{\"type\":\"histogram2dcontour\",\"colorbar\":{\"outlinewidth\":0,\"ticks\":\"\"},\"colorscale\":[[0.0,\"#0d0887\"],[0.1111111111111111,\"#46039f\"],[0.2222222222222222,\"#7201a8\"],[0.3333333333333333,\"#9c179e\"],[0.4444444444444444,\"#bd3786\"],[0.5555555555555556,\"#d8576b\"],[0.6666666666666666,\"#ed7953\"],[0.7777777777777778,\"#fb9f3a\"],[0.8888888888888888,\"#fdca26\"],[1.0,\"#f0f921\"]]}],\"choropleth\":[{\"type\":\"choropleth\",\"colorbar\":{\"outlinewidth\":0,\"ticks\":\"\"}}],\"histogram2d\":[{\"type\":\"histogram2d\",\"colorbar\":{\"outlinewidth\":0,\"ticks\":\"\"},\"colorscale\":[[0.0,\"#0d0887\"],[0.1111111111111111,\"#46039f\"],[0.2222222222222222,\"#7201a8\"],[0.3333333333333333,\"#9c179e\"],[0.4444444444444444,\"#bd3786\"],[0.5555555555555556,\"#d8576b\"],[0.6666666666666666,\"#ed7953\"],[0.7777777777777778,\"#fb9f3a\"],[0.8888888888888888,\"#fdca26\"],[1.0,\"#f0f921\"]]}],\"heatmap\":[{\"type\":\"heatmap\",\"colorbar\":{\"outlinewidth\":0,\"ticks\":\"\"},\"colorscale\":[[0.0,\"#0d0887\"],[0.1111111111111111,\"#46039f\"],[0.2222222222222222,\"#7201a8\"],[0.3333333333333333,\"#9c179e\"],[0.4444444444444444,\"#bd3786\"],[0.5555555555555556,\"#d8576b\"],[0.6666666666666666,\"#ed7953\"],[0.7777777777777778,\"#fb9f3a\"],[0.8888888888888888,\"#fdca26\"],[1.0,\"#f0f921\"]]}],\"heatmapgl\":[{\"type\":\"heatmapgl\",\"colorbar\":{\"outlinewidth\":0,\"ticks\":\"\"},\"colorscale\":[[0.0,\"#0d0887\"],[0.1111111111111111,\"#46039f\"],[0.2222222222222222,\"#7201a8\"],[0.3333333333333333,\"#9c179e\"],[0.4444444444444444,\"#bd3786\"],[0.5555555555555556,\"#d8576b\"],[0.6666666666666666,\"#ed7953\"],[0.7777777777777778,\"#fb9f3a\"],[0.8888888888888888,\"#fdca26\"],[1.0,\"#f0f921\"]]}],\"contourcarpet\":[{\"type\":\"contourcarpet\",\"colorbar\":{\"outlinewidth\":0,\"ticks\":\"\"}}],\"contour\":[{\"type\":\"contour\",\"colorbar\":{\"outlinewidth\":0,\"ticks\":\"\"},\"colorscale\":[[0.0,\"#0d0887\"],[0.1111111111111111,\"#46039f\"],[0.2222222222222222,\"#7201a8\"],[0.3333333333333333,\"#9c179e\"],[0.4444444444444444,\"#bd3786\"],[0.5555555555555556,\"#d8576b\"],[0.6666666666666666,\"#ed7953\"],[0.7777777777777778,\"#fb9f3a\"],[0.8888888888888888,\"#fdca26\"],[1.0,\"#f0f921\"]]}],\"surface\":[{\"type\":\"surface\",\"colorbar\":{\"outlinewidth\":0,\"ticks\":\"\"},\"colorscale\":[[0.0,\"#0d0887\"],[0.1111111111111111,\"#46039f\"],[0.2222222222222222,\"#7201a8\"],[0.3333333333333333,\"#9c179e\"],[0.4444444444444444,\"#bd3786\"],[0.5555555555555556,\"#d8576b\"],[0.6666666666666666,\"#ed7953\"],[0.7777777777777778,\"#fb9f3a\"],[0.8888888888888888,\"#fdca26\"],[1.0,\"#f0f921\"]]}],\"mesh3d\":[{\"type\":\"mesh3d\",\"colorbar\":{\"outlinewidth\":0,\"ticks\":\"\"}}],\"scatter\":[{\"fillpattern\":{\"fillmode\":\"overlay\",\"size\":10,\"solidity\":0.2},\"type\":\"scatter\"}],\"parcoords\":[{\"type\":\"parcoords\",\"line\":{\"colorbar\":{\"outlinewidth\":0,\"ticks\":\"\"}}}],\"scatterpolargl\":[{\"type\":\"scatterpolargl\",\"marker\":{\"colorbar\":{\"outlinewidth\":0,\"ticks\":\"\"}}}],\"bar\":[{\"error_x\":{\"color\":\"#2a3f5f\"},\"error_y\":{\"color\":\"#2a3f5f\"},\"marker\":{\"line\":{\"color\":\"#E5ECF6\",\"width\":0.5},\"pattern\":{\"fillmode\":\"overlay\",\"size\":10,\"solidity\":0.2}},\"type\":\"bar\"}],\"scattergeo\":[{\"type\":\"scattergeo\",\"marker\":{\"colorbar\":{\"outlinewidth\":0,\"ticks\":\"\"}}}],\"scatterpolar\":[{\"type\":\"scatterpolar\",\"marker\":{\"colorbar\":{\"outlinewidth\":0,\"ticks\":\"\"}}}],\"histogram\":[{\"marker\":{\"pattern\":{\"fillmode\":\"overlay\",\"size\":10,\"solidity\":0.2}},\"type\":\"histogram\"}],\"scattergl\":[{\"type\":\"scattergl\",\"marker\":{\"colorbar\":{\"outlinewidth\":0,\"ticks\":\"\"}}}],\"scatter3d\":[{\"type\":\"scatter3d\",\"line\":{\"colorbar\":{\"outlinewidth\":0,\"ticks\":\"\"}},\"marker\":{\"colorbar\":{\"outlinewidth\":0,\"ticks\":\"\"}}}],\"scattermapbox\":[{\"type\":\"scattermapbox\",\"marker\":{\"colorbar\":{\"outlinewidth\":0,\"ticks\":\"\"}}}],\"scatterternary\":[{\"type\":\"scatterternary\",\"marker\":{\"colorbar\":{\"outlinewidth\":0,\"ticks\":\"\"}}}],\"scattercarpet\":[{\"type\":\"scattercarpet\",\"marker\":{\"colorbar\":{\"outlinewidth\":0,\"ticks\":\"\"}}}],\"carpet\":[{\"aaxis\":{\"endlinecolor\":\"#2a3f5f\",\"gridcolor\":\"white\",\"linecolor\":\"white\",\"minorgridcolor\":\"white\",\"startlinecolor\":\"#2a3f5f\"},\"baxis\":{\"endlinecolor\":\"#2a3f5f\",\"gridcolor\":\"white\",\"linecolor\":\"white\",\"minorgridcolor\":\"white\",\"startlinecolor\":\"#2a3f5f\"},\"type\":\"carpet\"}],\"table\":[{\"cells\":{\"fill\":{\"color\":\"#EBF0F8\"},\"line\":{\"color\":\"white\"}},\"header\":{\"fill\":{\"color\":\"#C8D4E3\"},\"line\":{\"color\":\"white\"}},\"type\":\"table\"}],\"barpolar\":[{\"marker\":{\"line\":{\"color\":\"#E5ECF6\",\"width\":0.5},\"pattern\":{\"fillmode\":\"overlay\",\"size\":10,\"solidity\":0.2}},\"type\":\"barpolar\"}],\"pie\":[{\"automargin\":true,\"type\":\"pie\"}]},\"layout\":{\"autotypenumbers\":\"strict\",\"colorway\":[\"#636efa\",\"#EF553B\",\"#00cc96\",\"#ab63fa\",\"#FFA15A\",\"#19d3f3\",\"#FF6692\",\"#B6E880\",\"#FF97FF\",\"#FECB52\"],\"font\":{\"color\":\"#2a3f5f\"},\"hovermode\":\"closest\",\"hoverlabel\":{\"align\":\"left\"},\"paper_bgcolor\":\"white\",\"plot_bgcolor\":\"#E5ECF6\",\"polar\":{\"bgcolor\":\"#E5ECF6\",\"angularaxis\":{\"gridcolor\":\"white\",\"linecolor\":\"white\",\"ticks\":\"\"},\"radialaxis\":{\"gridcolor\":\"white\",\"linecolor\":\"white\",\"ticks\":\"\"}},\"ternary\":{\"bgcolor\":\"#E5ECF6\",\"aaxis\":{\"gridcolor\":\"white\",\"linecolor\":\"white\",\"ticks\":\"\"},\"baxis\":{\"gridcolor\":\"white\",\"linecolor\":\"white\",\"ticks\":\"\"},\"caxis\":{\"gridcolor\":\"white\",\"linecolor\":\"white\",\"ticks\":\"\"}},\"coloraxis\":{\"colorbar\":{\"outlinewidth\":0,\"ticks\":\"\"}},\"colorscale\":{\"sequential\":[[0.0,\"#0d0887\"],[0.1111111111111111,\"#46039f\"],[0.2222222222222222,\"#7201a8\"],[0.3333333333333333,\"#9c179e\"],[0.4444444444444444,\"#bd3786\"],[0.5555555555555556,\"#d8576b\"],[0.6666666666666666,\"#ed7953\"],[0.7777777777777778,\"#fb9f3a\"],[0.8888888888888888,\"#fdca26\"],[1.0,\"#f0f921\"]],\"sequentialminus\":[[0.0,\"#0d0887\"],[0.1111111111111111,\"#46039f\"],[0.2222222222222222,\"#7201a8\"],[0.3333333333333333,\"#9c179e\"],[0.4444444444444444,\"#bd3786\"],[0.5555555555555556,\"#d8576b\"],[0.6666666666666666,\"#ed7953\"],[0.7777777777777778,\"#fb9f3a\"],[0.8888888888888888,\"#fdca26\"],[1.0,\"#f0f921\"]],\"diverging\":[[0,\"#8e0152\"],[0.1,\"#c51b7d\"],[0.2,\"#de77ae\"],[0.3,\"#f1b6da\"],[0.4,\"#fde0ef\"],[0.5,\"#f7f7f7\"],[0.6,\"#e6f5d0\"],[0.7,\"#b8e186\"],[0.8,\"#7fbc41\"],[0.9,\"#4d9221\"],[1,\"#276419\"]]},\"xaxis\":{\"gridcolor\":\"white\",\"linecolor\":\"white\",\"ticks\":\"\",\"title\":{\"standoff\":15},\"zerolinecolor\":\"white\",\"automargin\":true,\"zerolinewidth\":2},\"yaxis\":{\"gridcolor\":\"white\",\"linecolor\":\"white\",\"ticks\":\"\",\"title\":{\"standoff\":15},\"zerolinecolor\":\"white\",\"automargin\":true,\"zerolinewidth\":2},\"scene\":{\"xaxis\":{\"backgroundcolor\":\"#E5ECF6\",\"gridcolor\":\"white\",\"linecolor\":\"white\",\"showbackground\":true,\"ticks\":\"\",\"zerolinecolor\":\"white\",\"gridwidth\":2},\"yaxis\":{\"backgroundcolor\":\"#E5ECF6\",\"gridcolor\":\"white\",\"linecolor\":\"white\",\"showbackground\":true,\"ticks\":\"\",\"zerolinecolor\":\"white\",\"gridwidth\":2},\"zaxis\":{\"backgroundcolor\":\"#E5ECF6\",\"gridcolor\":\"white\",\"linecolor\":\"white\",\"showbackground\":true,\"ticks\":\"\",\"zerolinecolor\":\"white\",\"gridwidth\":2}},\"shapedefaults\":{\"line\":{\"color\":\"#2a3f5f\"}},\"annotationdefaults\":{\"arrowcolor\":\"#2a3f5f\",\"arrowhead\":0,\"arrowwidth\":1},\"geo\":{\"bgcolor\":\"white\",\"landcolor\":\"#E5ECF6\",\"subunitcolor\":\"white\",\"showland\":true,\"showlakes\":true,\"lakecolor\":\"white\"},\"title\":{\"x\":0.05},\"mapbox\":{\"style\":\"light\"}}},\"xaxis\":{\"anchor\":\"y\",\"domain\":[0.0,1.0],\"title\":{\"text\":\"key\"}},\"yaxis\":{\"anchor\":\"x\",\"domain\":[0.0,1.0],\"title\":{\"text\":\"value\"}},\"legend\":{\"title\":{\"text\":\"variable\"},\"tracegroupgap\":0},\"title\":{\"text\":\"Distribution of songs in the top hits from 2000-2019 according to major and minor keys\"},\"barmode\":\"relative\"},                        {\"responsive\": true}                    ).then(function(){\n",
       "                            \n",
       "var gd = document.getElementById('494c8162-7ace-4fa3-8011-e25bb518d2c0');\n",
       "var x = new MutationObserver(function (mutations, observer) {{\n",
       "        var display = window.getComputedStyle(gd).display;\n",
       "        if (!display || display === 'none') {{\n",
       "            console.log([gd, 'removed!']);\n",
       "            Plotly.purge(gd);\n",
       "            observer.disconnect();\n",
       "        }}\n",
       "}});\n",
       "\n",
       "// Listen for the removal of the full notebook cells\n",
       "var notebookContainer = gd.closest('#notebook-container');\n",
       "if (notebookContainer) {{\n",
       "    x.observe(notebookContainer, {childList: true});\n",
       "}}\n",
       "\n",
       "// Listen for the clearing of the current output cell\n",
       "var outputEl = gd.closest('.output');\n",
       "if (outputEl) {{\n",
       "    x.observe(outputEl, {childList: true});\n",
       "}}\n",
       "\n",
       "                        })                };                });            </script>        </div>"
      ]
     },
     "metadata": {},
     "output_type": "display_data"
    }
   ],
   "source": [
    "# Plotting bar chart showing the top hits distributed by key and mode\n",
    "fig = px.bar(key_mode.sort_values('songs', ascending = False),\n",
    "             x='key', y = ['minor','major'], \n",
    "             title = 'Distribution of songs in the top hits from 2000-2019 according to major and minor keys')\n",
    "fig.show()"
   ]
  },
  {
   "cell_type": "code",
   "execution_count": 16,
   "id": "d5e45d6f",
   "metadata": {
    "_cell_guid": "3418136f-8a0e-44d9-bda7-5c2a7c1fd002",
    "_uuid": "94e18b46-4d14-4900-95bc-3261310be23e",
    "collapsed": false,
    "execution": {
     "iopub.execute_input": "2022-06-10T19:28:22.366609Z",
     "iopub.status.busy": "2022-06-10T19:28:22.366208Z",
     "iopub.status.idle": "2022-06-10T19:28:22.422817Z",
     "shell.execute_reply": "2022-06-10T19:28:22.421917Z"
    },
    "jupyter": {
     "outputs_hidden": false
    },
    "papermill": {
     "duration": 0.081495,
     "end_time": "2022-06-10T19:28:22.424897",
     "exception": false,
     "start_time": "2022-06-10T19:28:22.343402",
     "status": "completed"
    },
    "tags": []
   },
   "outputs": [
    {
     "data": {
      "text/html": [
       "<div>                            <div id=\"076c8919-3ca9-4137-985e-ec60a0409b0d\" class=\"plotly-graph-div\" style=\"height:525px; width:100%;\"></div>            <script type=\"text/javascript\">                require([\"plotly\"], function(Plotly) {                    window.PLOTLYENV=window.PLOTLYENV || {};                                    if (document.getElementById(\"076c8919-3ca9-4137-985e-ec60a0409b0d\")) {                    Plotly.newPlot(                        \"076c8919-3ca9-4137-985e-ec60a0409b0d\",                        [{\"domain\":{\"x\":[0.0,1.0],\"y\":[0.0,1.0]},\"hovertemplate\":\"label=%{label}<br>mode=%{value}<extra></extra>\",\"labels\":[\"major\",\"minor\"],\"legendgroup\":\"\",\"name\":\"\",\"showlegend\":true,\"values\":[1085,873],\"type\":\"pie\"}],                        {\"template\":{\"data\":{\"barpolar\":[{\"marker\":{\"line\":{\"color\":\"rgb(234,234,242)\",\"width\":0.5},\"pattern\":{\"fillmode\":\"overlay\",\"size\":10,\"solidity\":0.2}},\"type\":\"barpolar\"}],\"bar\":[{\"error_x\":{\"color\":\"rgb(36,36,36)\"},\"error_y\":{\"color\":\"rgb(36,36,36)\"},\"marker\":{\"line\":{\"color\":\"rgb(234,234,242)\",\"width\":0.5},\"pattern\":{\"fillmode\":\"overlay\",\"size\":10,\"solidity\":0.2}},\"type\":\"bar\"}],\"carpet\":[{\"aaxis\":{\"endlinecolor\":\"rgb(36,36,36)\",\"gridcolor\":\"white\",\"linecolor\":\"white\",\"minorgridcolor\":\"white\",\"startlinecolor\":\"rgb(36,36,36)\"},\"baxis\":{\"endlinecolor\":\"rgb(36,36,36)\",\"gridcolor\":\"white\",\"linecolor\":\"white\",\"minorgridcolor\":\"white\",\"startlinecolor\":\"rgb(36,36,36)\"},\"type\":\"carpet\"}],\"choropleth\":[{\"colorbar\":{\"outlinewidth\":0,\"tickcolor\":\"rgb(36,36,36)\",\"ticklen\":8,\"ticks\":\"outside\",\"tickwidth\":2},\"type\":\"choropleth\"}],\"contourcarpet\":[{\"colorbar\":{\"outlinewidth\":0,\"tickcolor\":\"rgb(36,36,36)\",\"ticklen\":8,\"ticks\":\"outside\",\"tickwidth\":2},\"type\":\"contourcarpet\"}],\"contour\":[{\"colorbar\":{\"outlinewidth\":0,\"tickcolor\":\"rgb(36,36,36)\",\"ticklen\":8,\"ticks\":\"outside\",\"tickwidth\":2},\"colorscale\":[[0.0,\"rgb(2,4,25)\"],[0.06274509803921569,\"rgb(24,15,41)\"],[0.12549019607843137,\"rgb(47,23,57)\"],[0.18823529411764706,\"rgb(71,28,72)\"],[0.25098039215686274,\"rgb(97,30,82)\"],[0.3137254901960784,\"rgb(123,30,89)\"],[0.3764705882352941,\"rgb(150,27,91)\"],[0.4392156862745098,\"rgb(177,22,88)\"],[0.5019607843137255,\"rgb(203,26,79)\"],[0.5647058823529412,\"rgb(223,47,67)\"],[0.6274509803921569,\"rgb(236,76,61)\"],[0.6901960784313725,\"rgb(242,107,73)\"],[0.7529411764705882,\"rgb(244,135,95)\"],[0.8156862745098039,\"rgb(245,162,122)\"],[0.8784313725490196,\"rgb(246,188,153)\"],[0.9411764705882353,\"rgb(247,212,187)\"],[1.0,\"rgb(250,234,220)\"]],\"type\":\"contour\"}],\"heatmapgl\":[{\"colorbar\":{\"outlinewidth\":0,\"tickcolor\":\"rgb(36,36,36)\",\"ticklen\":8,\"ticks\":\"outside\",\"tickwidth\":2},\"colorscale\":[[0.0,\"rgb(2,4,25)\"],[0.06274509803921569,\"rgb(24,15,41)\"],[0.12549019607843137,\"rgb(47,23,57)\"],[0.18823529411764706,\"rgb(71,28,72)\"],[0.25098039215686274,\"rgb(97,30,82)\"],[0.3137254901960784,\"rgb(123,30,89)\"],[0.3764705882352941,\"rgb(150,27,91)\"],[0.4392156862745098,\"rgb(177,22,88)\"],[0.5019607843137255,\"rgb(203,26,79)\"],[0.5647058823529412,\"rgb(223,47,67)\"],[0.6274509803921569,\"rgb(236,76,61)\"],[0.6901960784313725,\"rgb(242,107,73)\"],[0.7529411764705882,\"rgb(244,135,95)\"],[0.8156862745098039,\"rgb(245,162,122)\"],[0.8784313725490196,\"rgb(246,188,153)\"],[0.9411764705882353,\"rgb(247,212,187)\"],[1.0,\"rgb(250,234,220)\"]],\"type\":\"heatmapgl\"}],\"heatmap\":[{\"colorbar\":{\"outlinewidth\":0,\"tickcolor\":\"rgb(36,36,36)\",\"ticklen\":8,\"ticks\":\"outside\",\"tickwidth\":2},\"colorscale\":[[0.0,\"rgb(2,4,25)\"],[0.06274509803921569,\"rgb(24,15,41)\"],[0.12549019607843137,\"rgb(47,23,57)\"],[0.18823529411764706,\"rgb(71,28,72)\"],[0.25098039215686274,\"rgb(97,30,82)\"],[0.3137254901960784,\"rgb(123,30,89)\"],[0.3764705882352941,\"rgb(150,27,91)\"],[0.4392156862745098,\"rgb(177,22,88)\"],[0.5019607843137255,\"rgb(203,26,79)\"],[0.5647058823529412,\"rgb(223,47,67)\"],[0.6274509803921569,\"rgb(236,76,61)\"],[0.6901960784313725,\"rgb(242,107,73)\"],[0.7529411764705882,\"rgb(244,135,95)\"],[0.8156862745098039,\"rgb(245,162,122)\"],[0.8784313725490196,\"rgb(246,188,153)\"],[0.9411764705882353,\"rgb(247,212,187)\"],[1.0,\"rgb(250,234,220)\"]],\"type\":\"heatmap\"}],\"histogram2dcontour\":[{\"colorbar\":{\"outlinewidth\":0,\"tickcolor\":\"rgb(36,36,36)\",\"ticklen\":8,\"ticks\":\"outside\",\"tickwidth\":2},\"colorscale\":[[0.0,\"rgb(2,4,25)\"],[0.06274509803921569,\"rgb(24,15,41)\"],[0.12549019607843137,\"rgb(47,23,57)\"],[0.18823529411764706,\"rgb(71,28,72)\"],[0.25098039215686274,\"rgb(97,30,82)\"],[0.3137254901960784,\"rgb(123,30,89)\"],[0.3764705882352941,\"rgb(150,27,91)\"],[0.4392156862745098,\"rgb(177,22,88)\"],[0.5019607843137255,\"rgb(203,26,79)\"],[0.5647058823529412,\"rgb(223,47,67)\"],[0.6274509803921569,\"rgb(236,76,61)\"],[0.6901960784313725,\"rgb(242,107,73)\"],[0.7529411764705882,\"rgb(244,135,95)\"],[0.8156862745098039,\"rgb(245,162,122)\"],[0.8784313725490196,\"rgb(246,188,153)\"],[0.9411764705882353,\"rgb(247,212,187)\"],[1.0,\"rgb(250,234,220)\"]],\"type\":\"histogram2dcontour\"}],\"histogram2d\":[{\"colorbar\":{\"outlinewidth\":0,\"tickcolor\":\"rgb(36,36,36)\",\"ticklen\":8,\"ticks\":\"outside\",\"tickwidth\":2},\"colorscale\":[[0.0,\"rgb(2,4,25)\"],[0.06274509803921569,\"rgb(24,15,41)\"],[0.12549019607843137,\"rgb(47,23,57)\"],[0.18823529411764706,\"rgb(71,28,72)\"],[0.25098039215686274,\"rgb(97,30,82)\"],[0.3137254901960784,\"rgb(123,30,89)\"],[0.3764705882352941,\"rgb(150,27,91)\"],[0.4392156862745098,\"rgb(177,22,88)\"],[0.5019607843137255,\"rgb(203,26,79)\"],[0.5647058823529412,\"rgb(223,47,67)\"],[0.6274509803921569,\"rgb(236,76,61)\"],[0.6901960784313725,\"rgb(242,107,73)\"],[0.7529411764705882,\"rgb(244,135,95)\"],[0.8156862745098039,\"rgb(245,162,122)\"],[0.8784313725490196,\"rgb(246,188,153)\"],[0.9411764705882353,\"rgb(247,212,187)\"],[1.0,\"rgb(250,234,220)\"]],\"type\":\"histogram2d\"}],\"histogram\":[{\"marker\":{\"pattern\":{\"fillmode\":\"overlay\",\"size\":10,\"solidity\":0.2}},\"type\":\"histogram\"}],\"mesh3d\":[{\"colorbar\":{\"outlinewidth\":0,\"tickcolor\":\"rgb(36,36,36)\",\"ticklen\":8,\"ticks\":\"outside\",\"tickwidth\":2},\"type\":\"mesh3d\"}],\"parcoords\":[{\"line\":{\"colorbar\":{\"outlinewidth\":0,\"tickcolor\":\"rgb(36,36,36)\",\"ticklen\":8,\"ticks\":\"outside\",\"tickwidth\":2}},\"type\":\"parcoords\"}],\"pie\":[{\"automargin\":true,\"type\":\"pie\"}],\"scatter3d\":[{\"line\":{\"colorbar\":{\"outlinewidth\":0,\"tickcolor\":\"rgb(36,36,36)\",\"ticklen\":8,\"ticks\":\"outside\",\"tickwidth\":2}},\"marker\":{\"colorbar\":{\"outlinewidth\":0,\"tickcolor\":\"rgb(36,36,36)\",\"ticklen\":8,\"ticks\":\"outside\",\"tickwidth\":2}},\"type\":\"scatter3d\"}],\"scattercarpet\":[{\"marker\":{\"colorbar\":{\"outlinewidth\":0,\"tickcolor\":\"rgb(36,36,36)\",\"ticklen\":8,\"ticks\":\"outside\",\"tickwidth\":2}},\"type\":\"scattercarpet\"}],\"scattergeo\":[{\"marker\":{\"colorbar\":{\"outlinewidth\":0,\"tickcolor\":\"rgb(36,36,36)\",\"ticklen\":8,\"ticks\":\"outside\",\"tickwidth\":2}},\"type\":\"scattergeo\"}],\"scattergl\":[{\"marker\":{\"colorbar\":{\"outlinewidth\":0,\"tickcolor\":\"rgb(36,36,36)\",\"ticklen\":8,\"ticks\":\"outside\",\"tickwidth\":2}},\"type\":\"scattergl\"}],\"scattermapbox\":[{\"marker\":{\"colorbar\":{\"outlinewidth\":0,\"tickcolor\":\"rgb(36,36,36)\",\"ticklen\":8,\"ticks\":\"outside\",\"tickwidth\":2}},\"type\":\"scattermapbox\"}],\"scatterpolargl\":[{\"marker\":{\"colorbar\":{\"outlinewidth\":0,\"tickcolor\":\"rgb(36,36,36)\",\"ticklen\":8,\"ticks\":\"outside\",\"tickwidth\":2}},\"type\":\"scatterpolargl\"}],\"scatterpolar\":[{\"marker\":{\"colorbar\":{\"outlinewidth\":0,\"tickcolor\":\"rgb(36,36,36)\",\"ticklen\":8,\"ticks\":\"outside\",\"tickwidth\":2}},\"type\":\"scatterpolar\"}],\"scatter\":[{\"fillpattern\":{\"fillmode\":\"overlay\",\"size\":10,\"solidity\":0.2},\"type\":\"scatter\"}],\"scatterternary\":[{\"marker\":{\"colorbar\":{\"outlinewidth\":0,\"tickcolor\":\"rgb(36,36,36)\",\"ticklen\":8,\"ticks\":\"outside\",\"tickwidth\":2}},\"type\":\"scatterternary\"}],\"surface\":[{\"colorbar\":{\"outlinewidth\":0,\"tickcolor\":\"rgb(36,36,36)\",\"ticklen\":8,\"ticks\":\"outside\",\"tickwidth\":2},\"colorscale\":[[0.0,\"rgb(2,4,25)\"],[0.06274509803921569,\"rgb(24,15,41)\"],[0.12549019607843137,\"rgb(47,23,57)\"],[0.18823529411764706,\"rgb(71,28,72)\"],[0.25098039215686274,\"rgb(97,30,82)\"],[0.3137254901960784,\"rgb(123,30,89)\"],[0.3764705882352941,\"rgb(150,27,91)\"],[0.4392156862745098,\"rgb(177,22,88)\"],[0.5019607843137255,\"rgb(203,26,79)\"],[0.5647058823529412,\"rgb(223,47,67)\"],[0.6274509803921569,\"rgb(236,76,61)\"],[0.6901960784313725,\"rgb(242,107,73)\"],[0.7529411764705882,\"rgb(244,135,95)\"],[0.8156862745098039,\"rgb(245,162,122)\"],[0.8784313725490196,\"rgb(246,188,153)\"],[0.9411764705882353,\"rgb(247,212,187)\"],[1.0,\"rgb(250,234,220)\"]],\"type\":\"surface\"}],\"table\":[{\"cells\":{\"fill\":{\"color\":\"rgb(231,231,240)\"},\"line\":{\"color\":\"white\"}},\"header\":{\"fill\":{\"color\":\"rgb(183,183,191)\"},\"line\":{\"color\":\"white\"}},\"type\":\"table\"}]},\"layout\":{\"annotationdefaults\":{\"arrowcolor\":\"rgb(67,103,167)\"},\"autotypenumbers\":\"strict\",\"coloraxis\":{\"colorbar\":{\"outlinewidth\":0,\"tickcolor\":\"rgb(36,36,36)\",\"ticklen\":8,\"ticks\":\"outside\",\"tickwidth\":2}},\"colorscale\":{\"sequential\":[[0.0,\"rgb(2,4,25)\"],[0.06274509803921569,\"rgb(24,15,41)\"],[0.12549019607843137,\"rgb(47,23,57)\"],[0.18823529411764706,\"rgb(71,28,72)\"],[0.25098039215686274,\"rgb(97,30,82)\"],[0.3137254901960784,\"rgb(123,30,89)\"],[0.3764705882352941,\"rgb(150,27,91)\"],[0.4392156862745098,\"rgb(177,22,88)\"],[0.5019607843137255,\"rgb(203,26,79)\"],[0.5647058823529412,\"rgb(223,47,67)\"],[0.6274509803921569,\"rgb(236,76,61)\"],[0.6901960784313725,\"rgb(242,107,73)\"],[0.7529411764705882,\"rgb(244,135,95)\"],[0.8156862745098039,\"rgb(245,162,122)\"],[0.8784313725490196,\"rgb(246,188,153)\"],[0.9411764705882353,\"rgb(247,212,187)\"],[1.0,\"rgb(250,234,220)\"]],\"sequentialminus\":[[0.0,\"rgb(2,4,25)\"],[0.06274509803921569,\"rgb(24,15,41)\"],[0.12549019607843137,\"rgb(47,23,57)\"],[0.18823529411764706,\"rgb(71,28,72)\"],[0.25098039215686274,\"rgb(97,30,82)\"],[0.3137254901960784,\"rgb(123,30,89)\"],[0.3764705882352941,\"rgb(150,27,91)\"],[0.4392156862745098,\"rgb(177,22,88)\"],[0.5019607843137255,\"rgb(203,26,79)\"],[0.5647058823529412,\"rgb(223,47,67)\"],[0.6274509803921569,\"rgb(236,76,61)\"],[0.6901960784313725,\"rgb(242,107,73)\"],[0.7529411764705882,\"rgb(244,135,95)\"],[0.8156862745098039,\"rgb(245,162,122)\"],[0.8784313725490196,\"rgb(246,188,153)\"],[0.9411764705882353,\"rgb(247,212,187)\"],[1.0,\"rgb(250,234,220)\"]]},\"colorway\":[\"rgb(76,114,176)\",\"rgb(221,132,82)\",\"rgb(85,168,104)\",\"rgb(196,78,82)\",\"rgb(129,114,179)\",\"rgb(147,120,96)\",\"rgb(218,139,195)\",\"rgb(140,140,140)\",\"rgb(204,185,116)\",\"rgb(100,181,205)\"],\"font\":{\"color\":\"rgb(36,36,36)\"},\"geo\":{\"bgcolor\":\"white\",\"lakecolor\":\"white\",\"landcolor\":\"rgb(234,234,242)\",\"showlakes\":true,\"showland\":true,\"subunitcolor\":\"white\"},\"hoverlabel\":{\"align\":\"left\"},\"hovermode\":\"closest\",\"paper_bgcolor\":\"white\",\"plot_bgcolor\":\"rgb(234,234,242)\",\"polar\":{\"angularaxis\":{\"gridcolor\":\"white\",\"linecolor\":\"white\",\"showgrid\":true,\"ticks\":\"\"},\"bgcolor\":\"rgb(234,234,242)\",\"radialaxis\":{\"gridcolor\":\"white\",\"linecolor\":\"white\",\"showgrid\":true,\"ticks\":\"\"}},\"scene\":{\"xaxis\":{\"backgroundcolor\":\"rgb(234,234,242)\",\"gridcolor\":\"white\",\"gridwidth\":2,\"linecolor\":\"white\",\"showbackground\":true,\"showgrid\":true,\"ticks\":\"\",\"zerolinecolor\":\"white\"},\"yaxis\":{\"backgroundcolor\":\"rgb(234,234,242)\",\"gridcolor\":\"white\",\"gridwidth\":2,\"linecolor\":\"white\",\"showbackground\":true,\"showgrid\":true,\"ticks\":\"\",\"zerolinecolor\":\"white\"},\"zaxis\":{\"backgroundcolor\":\"rgb(234,234,242)\",\"gridcolor\":\"white\",\"gridwidth\":2,\"linecolor\":\"white\",\"showbackground\":true,\"showgrid\":true,\"ticks\":\"\",\"zerolinecolor\":\"white\"}},\"shapedefaults\":{\"fillcolor\":\"rgb(67,103,167)\",\"line\":{\"width\":0},\"opacity\":0.5},\"ternary\":{\"aaxis\":{\"gridcolor\":\"white\",\"linecolor\":\"white\",\"showgrid\":true,\"ticks\":\"\"},\"baxis\":{\"gridcolor\":\"white\",\"linecolor\":\"white\",\"showgrid\":true,\"ticks\":\"\"},\"bgcolor\":\"rgb(234,234,242)\",\"caxis\":{\"gridcolor\":\"white\",\"linecolor\":\"white\",\"showgrid\":true,\"ticks\":\"\"}},\"xaxis\":{\"automargin\":true,\"gridcolor\":\"white\",\"linecolor\":\"white\",\"showgrid\":true,\"ticks\":\"\",\"title\":{\"standoff\":15},\"zerolinecolor\":\"white\"},\"yaxis\":{\"automargin\":true,\"gridcolor\":\"white\",\"linecolor\":\"white\",\"showgrid\":true,\"ticks\":\"\",\"title\":{\"standoff\":15},\"zerolinecolor\":\"white\"}}},\"legend\":{\"tracegroupgap\":0},\"title\":{\"text\":\"Percentage of top hits songs from 2000-2019 per mode\"}},                        {\"responsive\": true}                    ).then(function(){\n",
       "                            \n",
       "var gd = document.getElementById('076c8919-3ca9-4137-985e-ec60a0409b0d');\n",
       "var x = new MutationObserver(function (mutations, observer) {{\n",
       "        var display = window.getComputedStyle(gd).display;\n",
       "        if (!display || display === 'none') {{\n",
       "            console.log([gd, 'removed!']);\n",
       "            Plotly.purge(gd);\n",
       "            observer.disconnect();\n",
       "        }}\n",
       "}});\n",
       "\n",
       "// Listen for the removal of the full notebook cells\n",
       "var notebookContainer = gd.closest('#notebook-container');\n",
       "if (notebookContainer) {{\n",
       "    x.observe(notebookContainer, {childList: true});\n",
       "}}\n",
       "\n",
       "// Listen for the clearing of the current output cell\n",
       "var outputEl = gd.closest('.output');\n",
       "if (outputEl) {{\n",
       "    x.observe(outputEl, {childList: true});\n",
       "}}\n",
       "\n",
       "                        })                };                });            </script>        </div>"
      ]
     },
     "metadata": {},
     "output_type": "display_data"
    }
   ],
   "source": [
    "# Plotting pie chart containing mode distribution\n",
    "fig = px.pie(df['mode'].value_counts().reset_index(), names = ['major','minor'], \n",
    "             values = 'mode', template='seaborn',\n",
    "            title = 'Percentage of top hits songs from 2000-2019 per mode')\n",
    "fig.show()"
   ]
  },
  {
   "cell_type": "markdown",
   "id": "912c67b4",
   "metadata": {
    "_cell_guid": "f3649e66-82da-4882-81fa-3830b4cf9bb3",
    "_uuid": "f543f05e-a2dd-44b7-bbb5-366544acf047",
    "papermill": {
     "duration": 0.021621,
     "end_time": "2022-06-10T19:28:22.468868",
     "exception": false,
     "start_time": "2022-06-10T19:28:22.447247",
     "status": "completed"
    },
    "tags": []
   },
   "source": [
    "It's possible to realize that **C♯/D♭**\tis the most popular *key* between the top hits from the period and the majority of them are on the **major scale** (55.4%).<br>\n",
    "According to <a href = \"https://findyourmelody.com/major-vs-minor-scales-differences/\"> this article</a> you can typically tell if a piece primarily uses a major scale if it makes you feel happy while the oposite is true for the minor scale, although **not always** this kind of distinction will be true, since music may convey a range of emotions."
   ]
  },
  {
   "cell_type": "markdown",
   "id": "22e66a2c",
   "metadata": {
    "_cell_guid": "70324cc5-9010-4f41-9c28-b10c5e38aab1",
    "_uuid": "13ad7faa-968d-44bc-aed3-a75aa73f4131",
    "papermill": {
     "duration": 0.022796,
     "end_time": "2022-06-10T19:28:22.514402",
     "exception": false,
     "start_time": "2022-06-10T19:28:22.491606",
     "status": "completed"
    },
    "tags": []
   },
   "source": [
    "# Most popular artists"
   ]
  },
  {
   "cell_type": "code",
   "execution_count": 17,
   "id": "b3525104",
   "metadata": {
    "_cell_guid": "cbb58b01-5878-485e-a3c2-de8ce24cfccd",
    "_uuid": "007bfce3-1993-4808-8b0f-1f64a4963385",
    "collapsed": false,
    "execution": {
     "iopub.execute_input": "2022-06-10T19:28:22.560747Z",
     "iopub.status.busy": "2022-06-10T19:28:22.560325Z",
     "iopub.status.idle": "2022-06-10T19:28:22.578730Z",
     "shell.execute_reply": "2022-06-10T19:28:22.577823Z"
    },
    "jupyter": {
     "outputs_hidden": false
    },
    "papermill": {
     "duration": 0.043846,
     "end_time": "2022-06-10T19:28:22.580902",
     "exception": false,
     "start_time": "2022-06-10T19:28:22.537056",
     "status": "completed"
    },
    "tags": []
   },
   "outputs": [
    {
     "data": {
      "text/html": [
       "<div>\n",
       "<style scoped>\n",
       "    .dataframe tbody tr th:only-of-type {\n",
       "        vertical-align: middle;\n",
       "    }\n",
       "\n",
       "    .dataframe tbody tr th {\n",
       "        vertical-align: top;\n",
       "    }\n",
       "\n",
       "    .dataframe thead th {\n",
       "        text-align: right;\n",
       "    }\n",
       "</style>\n",
       "<table border=\"1\" class=\"dataframe\">\n",
       "  <thead>\n",
       "    <tr style=\"text-align: right;\">\n",
       "      <th></th>\n",
       "      <th>popularity</th>\n",
       "    </tr>\n",
       "    <tr>\n",
       "      <th>artist</th>\n",
       "      <th></th>\n",
       "    </tr>\n",
       "  </thead>\n",
       "  <tbody>\n",
       "    <tr>\n",
       "      <th>Rihanna</th>\n",
       "      <td>1803</td>\n",
       "    </tr>\n",
       "    <tr>\n",
       "      <th>Eminem</th>\n",
       "      <td>1519</td>\n",
       "    </tr>\n",
       "    <tr>\n",
       "      <th>Drake</th>\n",
       "      <td>1424</td>\n",
       "    </tr>\n",
       "    <tr>\n",
       "      <th>Calvin Harris</th>\n",
       "      <td>1356</td>\n",
       "    </tr>\n",
       "    <tr>\n",
       "      <th>David Guetta</th>\n",
       "      <td>1185</td>\n",
       "    </tr>\n",
       "    <tr>\n",
       "      <th>Britney Spears</th>\n",
       "      <td>1140</td>\n",
       "    </tr>\n",
       "    <tr>\n",
       "      <th>Taylor Swift</th>\n",
       "      <td>1125</td>\n",
       "    </tr>\n",
       "    <tr>\n",
       "      <th>Chris Brown</th>\n",
       "      <td>1080</td>\n",
       "    </tr>\n",
       "    <tr>\n",
       "      <th>Kanye West</th>\n",
       "      <td>1049</td>\n",
       "    </tr>\n",
       "    <tr>\n",
       "      <th>Katy Perry</th>\n",
       "      <td>1033</td>\n",
       "    </tr>\n",
       "  </tbody>\n",
       "</table>\n",
       "</div>"
      ],
      "text/plain": [
       "                popularity\n",
       "artist                    \n",
       "Rihanna               1803\n",
       "Eminem                1519\n",
       "Drake                 1424\n",
       "Calvin Harris         1356\n",
       "David Guetta          1185\n",
       "Britney Spears        1140\n",
       "Taylor Swift          1125\n",
       "Chris Brown           1080\n",
       "Kanye West            1049\n",
       "Katy Perry            1033"
      ]
     },
     "execution_count": 17,
     "metadata": {},
     "output_type": "execute_result"
    }
   ],
   "source": [
    "# Organizing the ten most popular artists according to popularity score\n",
    "top_10_artists = df.groupby('artist')[['artist','popularity']].sum().sort_values('popularity',\n",
    "                                                               ascending=False).head(10)\n",
    "top_10_artists"
   ]
  },
  {
   "cell_type": "code",
   "execution_count": 18,
   "id": "5f2252cb",
   "metadata": {
    "_cell_guid": "86949b70-6d5e-4eda-986e-3d92a9e16cf0",
    "_uuid": "1d05be8d-a598-42d0-95b9-2886b3a6e204",
    "collapsed": false,
    "execution": {
     "iopub.execute_input": "2022-06-10T19:28:22.627002Z",
     "iopub.status.busy": "2022-06-10T19:28:22.626597Z",
     "iopub.status.idle": "2022-06-10T19:28:22.985792Z",
     "shell.execute_reply": "2022-06-10T19:28:22.984774Z"
    },
    "jupyter": {
     "outputs_hidden": false
    },
    "papermill": {
     "duration": 0.385398,
     "end_time": "2022-06-10T19:28:22.988461",
     "exception": false,
     "start_time": "2022-06-10T19:28:22.603063",
     "status": "completed"
    },
    "tags": []
   },
   "outputs": [
    {
     "data": {
      "image/png": "[encoded data removed]",
      "text/plain": [
       "<Figure size 1008x576 with 1 Axes>"
      ]
     },
     "metadata": {},
     "output_type": "display_data"
    }
   ],
   "source": [
    "# Visualizing most popular artists\n",
    "plt.figure(figsize=(14,8))\n",
    "ax = sns.barplot(data = top_10_artists, x = 'popularity', y = top_10_artists.index ,palette='deep')\n",
    "plt.ylabel('Artist', size = 15)\n",
    "plt.xlabel('Tota popularity', size = 15)\n",
    "plt.title('Most popular artists from 2000-2019 per popularity score', size = 20)\n",
    "plt.yticks(fontsize=15)\n",
    "plt.xticks(fontsize=15, rotation = 50)\n",
    "ax.bar_label(ax.containers[0],size = 15)\n",
    "plt.show()"
   ]
  },
  {
   "cell_type": "markdown",
   "id": "405f38b3",
   "metadata": {
    "_cell_guid": "18280ef3-ee27-4944-9643-97e1fb2ed89f",
    "_uuid": "6c57b555-fe73-4356-8c25-5cbad815eae8",
    "papermill": {
     "duration": 0.022416,
     "end_time": "2022-06-10T19:28:23.034657",
     "exception": false,
     "start_time": "2022-06-10T19:28:23.012241",
     "status": "completed"
    },
    "tags": []
   },
   "source": [
    "# Average song duration over the year"
   ]
  },
  {
   "cell_type": "code",
   "execution_count": 19,
   "id": "10f32f62",
   "metadata": {
    "_cell_guid": "5323f0ce-77c2-4208-9a95-c8b4b5b07373",
    "_uuid": "e2f0c059-57b2-48f7-8a9e-c83bac45eb54",
    "collapsed": false,
    "execution": {
     "iopub.execute_input": "2022-06-10T19:28:23.082188Z",
     "iopub.status.busy": "2022-06-10T19:28:23.081261Z",
     "iopub.status.idle": "2022-06-10T19:28:23.098564Z",
     "shell.execute_reply": "2022-06-10T19:28:23.097661Z"
    },
    "jupyter": {
     "outputs_hidden": false
    },
    "papermill": {
     "duration": 0.043269,
     "end_time": "2022-06-10T19:28:23.100582",
     "exception": false,
     "start_time": "2022-06-10T19:28:23.057313",
     "status": "completed"
    },
    "tags": []
   },
   "outputs": [
    {
     "data": {
      "text/html": [
       "<div>\n",
       "<style scoped>\n",
       "    .dataframe tbody tr th:only-of-type {\n",
       "        vertical-align: middle;\n",
       "    }\n",
       "\n",
       "    .dataframe tbody tr th {\n",
       "        vertical-align: top;\n",
       "    }\n",
       "\n",
       "    .dataframe thead th {\n",
       "        text-align: right;\n",
       "    }\n",
       "</style>\n",
       "<table border=\"1\" class=\"dataframe\">\n",
       "  <thead>\n",
       "    <tr style=\"text-align: right;\">\n",
       "      <th></th>\n",
       "      <th>year</th>\n",
       "      <th>min:sec</th>\n",
       "    </tr>\n",
       "  </thead>\n",
       "  <tbody>\n",
       "    <tr>\n",
       "      <th>0</th>\n",
       "      <td>2000</td>\n",
       "      <td>4:9</td>\n",
       "    </tr>\n",
       "    <tr>\n",
       "      <th>1</th>\n",
       "      <td>2001</td>\n",
       "      <td>4:2</td>\n",
       "    </tr>\n",
       "    <tr>\n",
       "      <th>2</th>\n",
       "      <td>2002</td>\n",
       "      <td>4:13</td>\n",
       "    </tr>\n",
       "    <tr>\n",
       "      <th>3</th>\n",
       "      <td>2003</td>\n",
       "      <td>3:56</td>\n",
       "    </tr>\n",
       "    <tr>\n",
       "      <th>4</th>\n",
       "      <td>2004</td>\n",
       "      <td>3:54</td>\n",
       "    </tr>\n",
       "    <tr>\n",
       "      <th>5</th>\n",
       "      <td>2005</td>\n",
       "      <td>3:56</td>\n",
       "    </tr>\n",
       "    <tr>\n",
       "      <th>6</th>\n",
       "      <td>2006</td>\n",
       "      <td>3:58</td>\n",
       "    </tr>\n",
       "    <tr>\n",
       "      <th>7</th>\n",
       "      <td>2007</td>\n",
       "      <td>3:51</td>\n",
       "    </tr>\n",
       "    <tr>\n",
       "      <th>8</th>\n",
       "      <td>2008</td>\n",
       "      <td>3:55</td>\n",
       "    </tr>\n",
       "    <tr>\n",
       "      <th>9</th>\n",
       "      <td>2009</td>\n",
       "      <td>3:56</td>\n",
       "    </tr>\n",
       "    <tr>\n",
       "      <th>10</th>\n",
       "      <td>2010</td>\n",
       "      <td>3:40</td>\n",
       "    </tr>\n",
       "    <tr>\n",
       "      <th>11</th>\n",
       "      <td>2011</td>\n",
       "      <td>3:48</td>\n",
       "    </tr>\n",
       "    <tr>\n",
       "      <th>12</th>\n",
       "      <td>2012</td>\n",
       "      <td>3:44</td>\n",
       "    </tr>\n",
       "    <tr>\n",
       "      <th>13</th>\n",
       "      <td>2013</td>\n",
       "      <td>3:50</td>\n",
       "    </tr>\n",
       "    <tr>\n",
       "      <th>14</th>\n",
       "      <td>2014</td>\n",
       "      <td>3:40</td>\n",
       "    </tr>\n",
       "    <tr>\n",
       "      <th>15</th>\n",
       "      <td>2015</td>\n",
       "      <td>3:38</td>\n",
       "    </tr>\n",
       "    <tr>\n",
       "      <th>16</th>\n",
       "      <td>2016</td>\n",
       "      <td>3:40</td>\n",
       "    </tr>\n",
       "    <tr>\n",
       "      <th>17</th>\n",
       "      <td>2017</td>\n",
       "      <td>3:32</td>\n",
       "    </tr>\n",
       "    <tr>\n",
       "      <th>18</th>\n",
       "      <td>2018</td>\n",
       "      <td>3:29</td>\n",
       "    </tr>\n",
       "    <tr>\n",
       "      <th>19</th>\n",
       "      <td>2019</td>\n",
       "      <td>3:16</td>\n",
       "    </tr>\n",
       "  </tbody>\n",
       "</table>\n",
       "</div>"
      ],
      "text/plain": [
       "    year min:sec\n",
       "0   2000     4:9\n",
       "1   2001     4:2\n",
       "2   2002    4:13\n",
       "3   2003    3:56\n",
       "4   2004    3:54\n",
       "5   2005    3:56\n",
       "6   2006    3:58\n",
       "7   2007    3:51\n",
       "8   2008    3:55\n",
       "9   2009    3:56\n",
       "10  2010    3:40\n",
       "11  2011    3:48\n",
       "12  2012    3:44\n",
       "13  2013    3:50\n",
       "14  2014    3:40\n",
       "15  2015    3:38\n",
       "16  2016    3:40\n",
       "17  2017    3:32\n",
       "18  2018    3:29\n",
       "19  2019    3:16"
      ]
     },
     "execution_count": 19,
     "metadata": {},
     "output_type": "execute_result"
    }
   ],
   "source": [
    "# Organizing a dataframe with the average duration of the top hits from the analyzed period\n",
    "average_duration = df[['duration_ms','year']].groupby('year').mean().reset_index()\n",
    "average_duration['min:sec'] =average_duration['duration_ms'].apply(ms_to_min_sec)\n",
    "average_duration[['year','min:sec']]"
   ]
  },
  {
   "cell_type": "code",
   "execution_count": 20,
   "id": "577a4ff4",
   "metadata": {
    "_cell_guid": "03e8e556-396b-47a4-ab68-1fe343dab142",
    "_uuid": "2751f103-85ee-47c3-ab59-f48c9803ca95",
    "collapsed": false,
    "execution": {
     "iopub.execute_input": "2022-06-10T19:28:23.148566Z",
     "iopub.status.busy": "2022-06-10T19:28:23.147887Z",
     "iopub.status.idle": "2022-06-10T19:28:23.943263Z",
     "shell.execute_reply": "2022-06-10T19:28:23.942407Z"
    },
    "jupyter": {
     "outputs_hidden": false
    },
    "papermill": {
     "duration": 0.82251,
     "end_time": "2022-06-10T19:28:23.946059",
     "exception": false,
     "start_time": "2022-06-10T19:28:23.123549",
     "status": "completed"
    },
    "tags": []
   },
   "outputs": [
    {
     "data": {
      "text/html": [
       "<div>                            <div id=\"010bebf6-7664-4f70-a4f4-7b0f8429d656\" class=\"plotly-graph-div\" style=\"height:525px; width:100%;\"></div>            <script type=\"text/javascript\">                require([\"plotly\"], function(Plotly) {                    window.PLOTLYENV=window.PLOTLYENV || {};                                    if (document.getElementById(\"010bebf6-7664-4f70-a4f4-7b0f8429d656\")) {                    Plotly.newPlot(                        \"010bebf6-7664-4f70-a4f4-7b0f8429d656\",                        [{\"hovertemplate\":\"year=%{x}<br>Duration in milliseconds=%{y}<extra></extra>\",\"legendgroup\":\"\",\"marker\":{\"color\":\"#636efa\",\"symbol\":\"circle\"},\"mode\":\"markers\",\"name\":\"\",\"showlegend\":false,\"x\":[2000,2000,2000,2000,2000,2001,2011,2000,2002,2000,2000,2000,2000,2000,2001,2000,2000,2016,2000,2000,2000,2000,2001,2000,2000,2000,2018,2000,2000,2004,2001,2000,2000,2000,2000,2001,2000,2010,2000,2011,2000,2000,2000,2000,2000,2000,2000,2000,2000,2000,2000,2000,2000,2000,2001,2000,2000,2000,2001,2000,2000,2000,2000,2000,2000,2001,2000,2001,2001,2000,2001,2001,2001,2001,2001,2001,2001,2001,2001,2015,2000,2001,2006,2001,2001,2001,2001,2001,2001,2001,2002,2001,2001,2000,2001,2001,2000,2001,2001,2001,2008,2001,2000,2001,2001,2000,2001,2001,2001,2001,2001,2001,2001,2001,2001,2001,2016,2000,2001,2001,2001,2001,2001,2000,2000,2001,2004,2000,2001,2000,2001,2000,2001,2000,2001,2000,2002,2018,2001,2001,2001,2001,2001,2001,2000,2001,2001,2001,2000,2001,2000,2001,2001,2001,2001,2000,2019,2001,2000,2001,2001,2000,2002,2002,2002,2002,2001,2001,2001,2002,2002,2002,2004,2001,2003,2002,2019,2000,2002,2019,2002,2002,2003,2002,2003,2001,2013,2001,2002,2002,2002,2001,2001,2013,2002,2002,2015,2002,2000,2002,2003,2002,2002,2002,2002,2001,2019,2001,2002,2002,2002,2002,2001,2002,2001,2002,2003,2005,2001,2001,2002,2002,2002,2001,2001,2002,2002,2003,2001,2001,2002,2002,2002,2002,2002,2001,2001,2002,2002,2002,2001,2002,2002,2002,2002,2001,2001,2002,2001,2015,2002,2001,2001,2012,2001,2001,2002,2001,2001,2002,2001,2001,2003,2002,2004,2003,2003,2003,2002,2003,2003,2002,2003,2004,2002,2003,2003,2003,2007,2003,2003,2002,2003,2002,2003,2003,2002,2003,2004,2003,2002,2003,2003,2003,2019,2002,2003,2003,2003,2002,2008,2003,2003,2016,2003,2009,2003,2003,2003,2003,2003,2002,2003,2003,2003,2002,2002,2003,2003,2002,2003,2005,2002,2003,2003,2003,2003,2002,2002,2002,2002,2003,2003,2003,2002,2002,2002,2002,2003,2002,2002,2002,2002,2002,2003,2003,2002,2003,2003,2003,2002,2002,2003,2003,2003,2002,2002,2003,2003,2002,2003,2004,2002,2003,2003,2003,2004,2004,2004,2004,2004,2004,2004,2003,2004,2003,2003,2004,2004,2004,2004,2016,2004,2004,2004,2003,2004,2004,2004,2004,2004,2003,2003,2003,2004,2004,2004,2003,2003,2003,2003,2003,2005,2004,2003,2004,2003,2004,2002,2004,2004,2003,2004,2003,2004,2004,2004,2004,2004,2003,2004,2004,2001,2003,2004,2004,2003,2004,2004,2003,2004,2004,2004,2003,2004,2003,2004,2004,2003,2004,2003,2004,2003,2002,2004,2004,2003,2004,2004,2004,2004,2003,2003,2004,2003,2004,2001,2004,2003,2003,2005,2004,2005,2005,2005,2005,2004,2005,2005,2004,2005,2005,2005,2004,2005,2004,2005,2005,2005,2005,2005,2005,2005,2004,2005,2005,2005,2004,2005,2005,2005,2004,2005,2005,2005,2004,2005,2005,2004,2005,2005,2004,2005,2005,2005,2004,2005,2005,2005,2005,2004,2005,2004,2005,2008,2004,2005,2005,2004,2005,2005,2003,2004,2005,2005,2004,2005,2005,2005,2005,2004,2005,2005,2005,2004,2006,2006,2005,2005,2004,2004,2012,2005,2005,2004,2005,2004,2005,2004,2004,2005,2005,2004,2004,2004,2005,2005,2004,2005,2005,2005,2006,2007,2006,2006,2006,2006,2006,2006,2006,2005,2005,2005,2006,2015,2006,2005,2006,2005,2006,2006,2005,2004,2006,2006,2005,2006,2006,2005,2006,2006,2006,2005,2005,2006,2006,2011,2005,2006,2007,2006,2005,2006,2005,2005,2005,2012,2006,2005,2006,2006,2006,2005,2005,2007,2006,2006,2006,2006,2006,2006,2006,2005,2006,2006,2006,2005,2005,2006,2006,2006,2006,2006,2019,2006,2006,2005,2005,2005,2005,2006,2006,2006,2006,2005,2005,2004,2006,2006,2006,2005,2006,2006,2006,2005,2006,2005,2006,2006,2007,2008,2007,2006,2007,2005,2006,2006,2007,2006,2012,2007,2007,2006,2007,2007,2007,2015,2006,2007,2007,2007,2006,2007,2006,2006,2008,2007,2007,2006,2007,2007,2007,2007,2007,2006,2007,2007,2007,2006,2007,2006,2006,2007,2006,2007,2007,2007,2007,2016,2013,2007,2007,2007,2006,2006,2006,2007,2005,2007,2006,2007,2006,2007,2006,2007,2017,2005,2007,2007,2007,2019,2006,2007,2007,2007,2007,2006,2006,2006,2006,2006,2007,2006,2007,2005,2006,2007,2007,2007,2007,2006,2007,2007,2007,2007,2007,2007,2006,2006,2008,2008,2008,2007,2007,2008,2007,2008,2008,2007,2007,2008,2011,2007,2008,2008,2007,2009,2008,2008,2007,2008,2008,2008,2010,2008,2008,2008,2007,2007,2007,2008,2008,2008,2008,2007,2008,2007,2007,2008,2011,2008,2007,2007,2008,2008,2008,2008,2007,2008,2008,2008,2008,2008,2008,2008,2008,2007,2008,2007,2008,2007,2007,2008,2007,2007,2008,2008,2008,2008,2008,2008,2008,2007,2007,2008,2007,2007,2009,2007,2007,2008,2008,2007,2008,2008,2007,2008,2007,2008,2008,2008,2008,2008,2007,2008,2008,2007,2006,2008,2009,2008,2008,2010,2009,2008,2009,2008,2008,2009,2009,2009,2008,2009,2008,2008,2009,2009,2008,2009,2009,2009,2008,2009,2009,2009,2009,2009,2008,2009,2009,2008,2009,2011,2009,2009,2008,2009,2009,2008,2010,2009,2008,2009,2010,2009,2009,2009,2008,2009,2008,2008,2009,2009,2009,2009,2008,2005,2009,2010,2009,2008,2009,2008,2009,2008,2009,2009,2009,2009,2008,2009,2009,2008,2008,2008,2011,2008,2009,2009,2009,2013,2009,2009,2009,2008,2010,2009,2009,2009,2008,2009,2009,2008,2008,2009,2008,2009,2009,2009,2010,2010,2009,2010,2010,2010,2010,2010,2012,2010,2010,2010,2010,2010,2011,2009,2009,2010,2010,2010,2009,2009,2010,2009,2009,2010,2010,2010,2011,2010,2011,2010,2009,2010,2010,2010,2010,2010,2010,2010,2009,2010,2009,2010,2009,2010,2009,2010,2010,2010,2010,2009,2010,2010,2010,2011,2010,2009,2010,2010,2010,2010,2010,2010,2010,2010,2010,2010,2010,2009,2010,2010,2010,2010,2010,2009,2010,2010,2010,2010,2010,2010,2010,2010,2009,2009,2010,2010,2017,2010,2009,2009,2010,2010,2010,2009,2011,2010,2010,2010,2011,2010,2011,2010,2010,2011,2011,2010,2011,2010,2010,2011,2010,2010,2011,2010,2012,2011,2011,2011,2011,2012,2011,2011,2010,2010,2010,2011,2011,2011,2011,2011,2012,2010,2011,2011,2011,2012,2011,2011,2012,2011,2011,2011,2011,2011,2010,2011,2010,2011,2011,2011,2011,2011,2011,2010,2010,2010,2010,2019,2011,2011,2011,2011,2011,2011,2011,2010,2011,2012,2012,2011,2011,2011,2010,2011,2009,2011,2010,2011,2011,2011,2011,2011,2010,2010,2011,2011,2011,2011,2011,2011,2011,2010,2011,2010,2010,2011,2011,2011,2011,2012,2012,2012,2011,2012,2012,2012,2011,2011,2012,2011,2012,2012,2013,2012,2012,2012,2012,2012,2012,2011,2012,2012,2012,2012,2012,2012,2011,2012,2012,2012,2012,2012,2012,2012,2011,2014,2012,2013,2012,2012,2012,2012,2012,2012,2012,2011,2011,2012,2012,2012,2012,2012,2012,2012,2012,2011,2012,2012,2012,2012,2011,2012,2012,2011,2012,2012,2012,2012,2012,2011,2012,2012,2012,2012,2012,2012,2012,2010,2012,2013,2011,2012,2011,2012,2012,2012,2011,2011,2012,2012,2013,2012,2012,2011,2011,2012,2011,2011,2013,2013,2012,2013,2012,2012,2013,2013,2013,2013,2013,2013,2013,2012,2012,2013,2013,2012,2013,2013,2013,2013,2013,2013,2013,2013,2013,2012,2013,2012,2013,2012,2013,2012,2013,2013,2013,2013,2013,2013,2012,2012,2013,2012,2013,2013,2014,2012,2013,2012,2013,2014,2013,2012,2013,2011,2013,2013,2014,2012,2013,2013,2013,2013,2013,2013,2012,2013,2013,2012,2013,2012,2013,2013,2013,2013,2012,2013,2013,2013,2013,2013,2012,2012,2013,2013,2013,2013,2013,2013,2012,2013,2013,2012,2012,2013,2012,2013,2012,2012,2014,2013,2014,2014,2014,2014,2014,2014,2013,2014,2015,2014,2014,2014,2014,2014,2013,2014,2014,2014,2014,2014,2015,2014,2014,2013,2014,2015,2014,2014,2013,2012,2014,2014,2014,2014,2014,2014,2014,2014,2013,2014,2013,2014,2014,2014,2014,2014,2014,2014,2014,2014,2014,2014,2014,2014,2014,2014,2013,2014,2014,2014,2014,2012,2013,2014,2014,2014,2013,2014,2014,2014,2014,2014,2014,2014,2014,2014,2014,2014,2014,2014,2014,2013,2014,2014,2013,2014,2014,2014,2014,2014,2013,2014,2014,2014,2014,2013,2014,2014,2015,2014,2015,2015,2015,2014,2015,2014,2014,2015,2014,2015,2015,2015,2014,2014,2015,2015,2015,2015,2015,2015,2014,2015,2015,2016,2014,2015,2015,2015,2014,2015,2015,2015,2018,2014,2015,2014,2015,2015,2015,2015,2015,2015,2015,2017,2015,2015,2015,2015,2015,2016,2015,2014,2014,2015,2017,2015,2016,2015,2015,2015,2014,2015,2015,2015,2015,2016,2015,2015,2015,2014,2014,2015,2015,2015,2015,2015,2016,2015,2015,2015,2015,2014,2015,2015,2015,2015,2015,2015,2015,2015,2018,2015,2014,2015,2015,2015,2015,2017,2016,2016,2015,2016,2015,2016,2016,2016,2016,2016,2015,2015,2016,2015,2016,2015,2016,2016,2016,2016,2016,2016,2016,2016,2016,2016,2016,2017,2017,2016,2018,2016,2016,2016,2016,2016,2016,2016,2016,2015,2015,2016,2016,2015,2015,2016,2016,2016,2016,2016,2015,2016,2016,2016,2017,2016,2015,2016,2016,2015,2016,2016,2016,2015,2016,2016,2016,2016,2016,2016,2015,2015,2016,2016,2016,2016,2015,2016,2016,2015,2016,2016,2015,2016,2016,2016,2016,2016,2016,2016,2016,2016,2016,2015,2016,2016,2017,2016,2016,2016,2017,2018,2017,2017,2016,2017,2017,2018,2017,2017,2018,2016,2017,2017,2017,2017,2016,2017,2017,2017,2017,2017,2017,2017,2016,2016,2017,2017,2017,2017,2017,2016,2017,2017,2017,2017,2017,2017,2017,2017,2017,2017,2017,2017,2017,2017,2017,2017,2017,2017,2017,2017,2017,2017,2017,2017,2017,2016,2017,2017,2017,2017,2017,2017,2017,2017,2017,2017,2017,2016,2017,2017,2017,2016,2017,2017,2017,2017,2017,2019,2017,2017,2017,2016,2016,2017,2016,2017,2017,2017,2017,2016,2017,2017,2017,2017,2017,2016,2017,2017,2018,2018,2017,2017,2018,2018,2018,2018,2018,2018,2018,2018,2018,2018,2018,2018,2018,2018,2018,2018,2018,2018,2018,2018,2018,2018,2018,2019,2018,2018,2017,2018,2017,2018,2018,2018,2018,2018,2017,2018,2018,2018,2017,2018,2017,2018,2017,2018,2017,2018,2017,2018,2017,2018,2018,2018,2018,2018,2018,2018,2018,2018,2018,2017,2018,2018,2018,2018,2018,2018,2018,2018,2018,2018,2017,2017,2017,2018,2018,2018,2018,2018,2017,2018,2017,2017,2018,2018,2018,2017,2018,2018,2018,2018,2018,2018,2018,2018,2017,2018,2019,2019,2019,2019,2019,2019,2018,2019,2018,2018,2019,2019,2019,2019,2018,2019,2018,2019,2019,2019,2019,2018,2019,2019,2019,2018,2019,2019,2019,2018,2019,2019,2018,2019,2019,2018,2019,2019,2019,2019,2018,2019,2019,2018,2019,2019,2019,2019,2018,2019,2019,2018,2019,2019,2019,2019,2019,2019,2019,2019,2019,2019,2018,2019,2019,2018,2018,2019,2019,2019,2019,2019,2019,2019,2019,2019,2019,2018,2019,2019,2019,2019,2019,2019,2018,2019,2019,2019,2018,2019,2019,2019,2019,2019,2019,2019,2019,2019,2019],\"xaxis\":\"x\",\"y\":[211160,224493,200560,284200,258560,307153,238759,306333,284000,214883,216880,240866,244466,321040,225493,221160,318280,210786,220106,225973,242560,207866,229826,255600,261933,175893,201946,236906,198346,243666,265026,280626,244053,227866,198400,215506,278666,219240,298960,199480,257200,273533,251040,235133,243533,202800,214819,234826,233933,226760,256973,236866,231760,268746,221133,191040,348893,256133,219093,230093,207506,296693,206226,287000,227600,254026,404106,230640,264893,243160,196160,165853,259933,254640,250706,203600,197826,252986,265866,222435,213760,220973,253586,241000,264933,223546,194026,337733,230133,246160,271626,223840,320357,270506,213346,229173,213026,256240,211493,211120,252706,231213,452906,340920,266506,285386,326240,221226,295400,284666,193093,218626,213133,209266,223133,304506,210813,280973,207560,195506,232573,197760,233626,257200,276106,234400,207400,246720,201533,218546,222120,212973,207906,197360,295826,231666,162333,231166,329933,185013,257066,221133,217120,262133,304666,302826,302760,217493,300933,219093,291781,254400,228800,240626,196986,257426,262773,264706,263440,265533,292000,216360,289160,290320,244506,237493,208600,224066,302720,226440,324306,297786,285586,222546,276360,172240,244466,216880,213973,275026,204400,236426,200426,253200,200480,198600,234116,289373,230346,248933,207186,238600,259773,208449,239266,272293,222560,237800,207866,228240,227866,298853,223293,195866,432146,267093,237359,242586,287000,269000,254493,228000,267160,318213,238266,264653,233666,268800,201480,207040,265706,230013,283626,276373,206466,297840,262226,251280,192533,303333,161240,307879,263226,214306,335613,294600,245133,227386,204000,233600,231066,204706,216933,211506,206093,253600,170493,269400,269400,242000,238173,216760,296586,188693,268693,217680,257026,208626,303920,226680,295346,210693,193466,211666,322226,236133,225426,272533,187840,296186,285570,324306,244666,238840,205560,249480,215480,162600,217586,235893,218173,287226,231480,324600,282773,239026,245240,223773,210066,248546,267266,231920,298600,244826,359973,255266,207466,222400,297960,285569,199040,184906,221426,293666,212413,164506,269973,237693,219400,236506,250746,339546,234800,209533,224440,304000,234893,220360,201920,245960,245293,299146,268373,243306,214600,208386,213760,253720,260333,294693,288333,199320,226053,218760,281240,307879,249293,263226,209120,181826,293960,232506,245773,254466,242773,240040,267933,314400,223973,214773,278693,228706,234000,295773,201373,257026,190173,202013,219826,223066,214733,250373,206200,198800,235213,232800,257426,192600,217733,215431,247426,221226,186306,257920,236520,208600,185586,187280,235066,298773,190493,257333,242013,171360,223000,206106,267320,205973,265826,213893,232000,239026,235186,245173,216706,212413,233600,214893,252440,223133,182626,196906,242746,197186,263506,248680,237693,266066,273360,207066,249533,282306,192106,276800,216706,222146,200973,233360,213786,230306,193520,237026,247106,265026,225173,193733,262533,336506,229080,226053,202013,316053,176346,224933,266040,284160,221226,185133,290760,242413,240040,225106,301133,238733,223506,226013,252466,223440,277840,171546,254266,248200,234000,205360,191826,296880,189506,217440,214733,366733,201400,256733,207626,246960,209106,209493,261266,272080,233640,238493,337733,237706,168879,265480,213066,236213,393813,230493,214226,235533,229866,203360,326960,256346,247506,219920,225533,205733,206400,222640,239773,235800,200053,218093,280013,250760,212893,244999,236813,276603,230133,283454,224253,226863,226640,229826,258666,239586,237733,233400,266066,211320,325573,202213,238746,270746,215000,222653,199853,240040,231533,256000,238053,243986,197160,260600,233866,179160,205840,217706,198973,219000,241066,337640,208199,173680,219600,248493,233186,224640,219493,243053,258920,231040,245400,207506,204173,297426,296880,253933,287906,201706,224146,188960,305080,193653,227840,189333,255626,218093,218573,242733,227853,214946,238920,177466,214960,258893,245466,276786,281880,303053,213066,242293,150533,243880,225560,261880,274440,226293,212439,186826,209666,192213,202720,229360,274386,190000,286186,241840,223066,276160,219320,271160,202066,241306,199120,224253,233973,240280,197173,281320,273973,207613,189800,246333,201590,226973,236600,229813,214706,234133,238173,180266,257293,274333,230613,244613,207586,202133,276773,211186,255333,196893,220853,223680,260466,252653,256946,214106,282160,288360,207186,261053,215266,215306,231866,207506,185586,258653,228906,219106,186173,167493,265333,172373,259333,249760,213173,273333,262533,151640,311106,222453,193653,210066,229040,208493,203506,262466,275986,251240,268120,219413,232533,448573,246466,179120,223080,151973,223111,209800,212360,234026,247946,198567,150533,237053,311866,199853,237173,247066,221933,247413,214386,212280,209533,271600,152333,205613,255706,250666,253400,208106,252973,253706,253573,193893,202066,172866,276160,246600,166373,161920,333680,212400,216600,266840,215173,173040,273133,165120,238800,324906,292373,256426,242586,252040,203506,444333,182826,241293,238360,267413,219533,178613,254920,211080,212040,211520,223533,261026,269373,255413,204200,232946,238266,236080,192000,187733,194213,225373,293066,280026,199946,295933,227960,287480,240493,263920,235173,235693,261320,241133,206520,237760,275106,334666,280680,231400,179640,229413,253813,184400,232000,252120,249146,246053,216146,209800,238626,190013,196053,299333,148186,237506,189693,220226,267080,245520,240746,224400,157432,207920,321293,287906,245680,327880,221933,212106,338853,234360,221840,243013,190453,176453,250666,208106,210680,204093,202133,262240,188493,218400,236693,203440,177826,203493,284733,222826,313346,320893,244266,215160,270306,216317,205200,241960,190973,204733,302840,171226,244626,222440,267866,170480,259720,212360,207476,310573,240760,250453,314720,179946,249533,206413,223853,217826,242133,205160,242373,203346,207000,219920,213520,220053,206000,233466,222653,204040,250106,284186,175093,289000,278573,210506,234173,240426,273826,289133,237200,261640,195853,204640,236266,238506,192360,216333,178013,216026,284373,211000,221240,241933,216520,237120,242200,208066,256213,251440,188866,208306,276920,238000,226506,207200,268613,231173,267520,294573,338853,269613,177573,220426,227533,206333,127920,212106,248066,191000,223253,193386,297520,251440,212773,196520,196640,192573,222400,218400,312986,206480,249026,357706,202586,270306,255360,231573,221253,201213,299746,239986,198440,196413,249066,205733,252279,210973,215866,289746,248626,304840,252653,250453,249533,220626,193213,226706,221920,224693,195586,204200,256613,207120,203346,258760,281560,202066,241920,254533,321093,326186,231146,222066,241933,199186,211493,245173,241853,220734,263373,294573,206066,199693,210853,202613,235493,234653,215200,217036,216893,188000,196533,213986,208426,232466,192446,184573,201546,257560,320348,248133,274213,222920,251573,203093,307640,218106,163246,276560,220800,182306,234560,201946,263773,207653,217866,168213,213293,220640,157438,250600,268053,227320,242013,292706,231373,203960,269493,216200,212106,267000,192440,214240,237480,206460,220520,201586,172053,232506,199026,243053,180480,216933,237800,263173,226533,289359,207546,221253,233560,181826,208853,207613,210306,224093,271946,205200,187133,176613,208946,215746,189693,253906,288133,268320,227741,210680,211160,228346,216480,236440,293026,212306,212506,226000,288670,222773,196133,228093,201493,262146,227893,222091,234453,195105,201040,284866,243533,219973,195986,187626,219986,195466,219426,194840,281106,252306,188453,217666,229573,210266,210960,184573,232213,228453,215624,202266,199480,215693,195240,206776,263773,190786,243960,237946,274600,206080,278719,230746,242973,283733,248586,296146,222586,211253,197935,204760,230560,215226,197440,224333,241666,213337,299613,195373,238693,263173,225881,220706,235735,233666,237293,195613,186851,260253,200013,165908,222186,208133,239600,235986,223053,229413,227773,253306,303813,189109,239613,229303,192200,285240,282400,243920,213413,210720,320546,218840,200466,218013,240796,253746,202960,246587,230192,222773,240306,197577,285120,215226,193400,250626,227786,227280,226226,286480,199680,242680,219333,219546,215253,198800,224653,279026,222500,205640,313786,221075,329320,182333,199480,219493,211920,234693,185586,230253,233478,199906,248133,225146,219026,216160,210626,350120,212360,218190,204956,231173,209440,166866,192866,156773,203200,206413,237266,251266,223266,278719,227973,234093,232800,202533,212862,221493,171333,245040,231840,219720,197131,247906,201053,207333,229466,228026,256613,206666,195480,250080,227333,211880,244884,232946,199986,286253,214333,205933,234360,283706,210853,195973,255631,239215,200186,222213,240133,227080,222306,221946,181573,220946,247026,245186,289080,251626,205346,277386,219733,257720,214013,190185,263053,186813,247426,233478,235613,248413,283400,232146,166933,220779,244360,227906,201000,229506,279506,255053,258342,176117,177685,239894,247853,240400,221272,192693,210840,161123,227986,250188,206120,231986,230733,277687,223800,188013,214912,238746,157152,186826,193058,208316,177506,157293,219720,272394,292586,238120,240346,233786,247906,213708,231211,196664,234506,204285,259102,174853,226986,150400,212560,228878,238826,234040,174120,252106,214205,206373,223546,215720,247933,338413,200946,220682,214147,200106,209466,271426,221360,213666,353893,204360,484146,178560,266600,231240,241160,216013,250706,227880,238000,225066,235662,214080,232120,252866,227026,240706,326280,213826,208960,232720,215672,299960,199938,231013,172723,224840,216120,269560,223386,187920,203520,209423,209160,165440,247266,177685,189840,170625,227000,259934,211933,231906,184280,239573,193295,189399,266840,260240,212960,213733,204160,257386,194561,224506,216013,245866,206166,189720,183750,193058,193733,201626,208133,232893,251986,231211,214840,217800,238426,264946,224226,224293,228000,313684,219840,236133,243386,255093,199386,285596,198880,231000,175426,255631,193920,169866,228133,263890,227360,203466,202496,245466,219200,226600,235382,209866,188371,198306,267866,227833,217346,257200,245493,185200,226580,237626,189906,204280,323480,235493,213213,300840,244226,218227,185640,192670,217306,269946,222213,269666,281560,229525,205680,176561,252226,252534,227266,192560,214746,231826,242253,260173,211975,176658,247266,208330,200080,200106,190185,219043,212640,177560,231906,228360,177184,138842,202333,224573,219560,167065,166138,159693,230613,186146,220440,235653,229360,227073,219305,202213,192120,262693,215360,205745,270589,229080,207746,192190,185131,225226,203653,222093,238426,213506,257573,213427,238320,267066,217906,280757,196693,236133,213520,199314,195200,227480,223186,216320,221560,213053,241688,231000,199453,278987,193333,223973,284386,271640,205879,237792,206880,224258,227373,250285,213445,198293,176674,210580,238800,212424,218173,229813,200786,197266,211773,230333,255506,182666,206666,230453,173986,233720,244960,295502,246761,241874,224813,169773,219320,258266,200786,236001,196520,239853,251466,207272,208728,243490,195920,313546,189126,208373,196000,192846,217603,228361,213506,187957,195706,212106,197815,205946,222160,197933,240000,191600,226160,273802,223853,229080,219159,193253,214506,192190,235946,205593,217706,209425,199693,213427,183414,267066,244453,187973,237786,263786,195561,201493,195200,219146,216613,255889,225882,222813,214480,212946,203686,199453,220573,202149,205879,199133,234213,196613,185351,226738,228640,215413,198293,198774,225914,212424,233337,206493,210226,202661,251033,239280,210573,202221,198236,262521,194613,235826,232560,246240,160097,184516,263373,233712,221176,228200,201000,251088,216896,187146,214265,247160,263400,299960,243836,180933,204600,268866,234308,208120,231546,173600,233901,220306,203000,239000,189029,213946,291893,224030,190677,238586,182706,201240,177184,216408,245386,181812,198853,207629,204346,232549,177000,186112,211475,186026,200104,200186,212027,124055,211853,207680,268186,185946,209269,119133,343150,276333,220883,181614,174933,208186,194896,304041,199440,225520,197640,212000,223962,239626,226720,204173,220293,181672,214866,237733,144244,223413,242407,201256,193613,220454,217296,204502,298940,189466,245200,230226,210200,222040,201160,264011,188786,174600,269186,221506,222360,208733,181812,223503,225983,214254,220780,198973,218146,172800,268866,184560,239835,184732,202620,253390,135090,205920,183906,214846,232959,312820,189466,212500,177600,211440,200185,276147,222653,238614,179404,228373,417920,303076,172854,166605,188560,202804,157643,207629,193200,229670,175229,232186,204746,187521,197546,332300,170825,156600,184153,197993,215759,185863,201526,180822,203417,163216,245453,212120,121886,184720,223712,142273,194407,194680,176133,200853,231266,181263,221013,214289,196373,180493,190288,237240,217925,173153,186080,221653,173799,173720,196489,215064,190920,213993,200480,260000,186986,217288,190348,302146,181279,214466,226973,214253,217946,186231,131064,216631,197436,197946,235545,201707,210746,213400,221440,157066,194087,190799,178626,157560,202093,201660,157605,215733,217466,182160,169303,192470,176631,228759,193226,169353,189052,205803,152913,161746,312820,169813,202192,212500,179449,126446,131240,252906,200185,178480,113000,180522,149546,202333,189486,131213,256971,205426,114893,210367,166560,240050,288624,200106,301714,207038,195637,183527,190440,241293,187436,183290,214203,229184,189733,200889,196266,209438,186106,250533,183026,238200,213593,266086,229412,129264,163320,190537,193143,229773,177185,183000,157492,157202,190066,154447,177666,205653,199427,258800,174444,201787,225933,231266,206186,162582,136568,190946,181823,202204,193837,188640,174960,181026,178426,200593,171029,215280],\"yaxis\":\"y\",\"type\":\"scattergl\"},{\"hovertemplate\":\"<b>OLS trendline</b><br>duration_ms = -2110.57 * year + 4.46987e+06<br>R<sup>2</sup>=0.095628<br><br>year=%{x}<br>Duration in milliseconds=%{y} <b>(trend)</b><extra></extra>\",\"legendgroup\":\"\",\"marker\":{\"color\":\"#636efa\",\"symbol\":\"circle\"},\"mode\":\"lines\",\"name\":\"\",\"showlegend\":false,\"x\":[2000,2000,2000,2000,2000,2000,2000,2000,2000,2000,2000,2000,2000,2000,2000,2000,2000,2000,2000,2000,2000,2000,2000,2000,2000,2000,2000,2000,2000,2000,2000,2000,2000,2000,2000,2000,2000,2000,2000,2000,2000,2000,2000,2000,2000,2000,2000,2000,2000,2000,2000,2000,2000,2000,2000,2000,2000,2000,2000,2000,2000,2000,2000,2000,2000,2000,2000,2000,2000,2000,2000,2000,2000,2000,2001,2001,2001,2001,2001,2001,2001,2001,2001,2001,2001,2001,2001,2001,2001,2001,2001,2001,2001,2001,2001,2001,2001,2001,2001,2001,2001,2001,2001,2001,2001,2001,2001,2001,2001,2001,2001,2001,2001,2001,2001,2001,2001,2001,2001,2001,2001,2001,2001,2001,2001,2001,2001,2001,2001,2001,2001,2001,2001,2001,2001,2001,2001,2001,2001,2001,2001,2001,2001,2001,2001,2001,2001,2001,2001,2001,2001,2001,2001,2001,2001,2001,2001,2001,2001,2001,2001,2001,2001,2001,2001,2001,2001,2001,2001,2001,2001,2001,2001,2001,2001,2001,2001,2001,2001,2001,2001,2001,2002,2002,2002,2002,2002,2002,2002,2002,2002,2002,2002,2002,2002,2002,2002,2002,2002,2002,2002,2002,2002,2002,2002,2002,2002,2002,2002,2002,2002,2002,2002,2002,2002,2002,2002,2002,2002,2002,2002,2002,2002,2002,2002,2002,2002,2002,2002,2002,2002,2002,2002,2002,2002,2002,2002,2002,2002,2002,2002,2002,2002,2002,2002,2002,2002,2002,2002,2002,2002,2002,2002,2002,2002,2002,2002,2002,2002,2002,2002,2002,2002,2002,2002,2002,2002,2002,2002,2002,2002,2002,2003,2003,2003,2003,2003,2003,2003,2003,2003,2003,2003,2003,2003,2003,2003,2003,2003,2003,2003,2003,2003,2003,2003,2003,2003,2003,2003,2003,2003,2003,2003,2003,2003,2003,2003,2003,2003,2003,2003,2003,2003,2003,2003,2003,2003,2003,2003,2003,2003,2003,2003,2003,2003,2003,2003,2003,2003,2003,2003,2003,2003,2003,2003,2003,2003,2003,2003,2003,2003,2003,2003,2003,2003,2003,2003,2003,2003,2003,2003,2003,2003,2003,2003,2003,2003,2003,2003,2003,2003,2003,2003,2003,2003,2003,2003,2003,2003,2004,2004,2004,2004,2004,2004,2004,2004,2004,2004,2004,2004,2004,2004,2004,2004,2004,2004,2004,2004,2004,2004,2004,2004,2004,2004,2004,2004,2004,2004,2004,2004,2004,2004,2004,2004,2004,2004,2004,2004,2004,2004,2004,2004,2004,2004,2004,2004,2004,2004,2004,2004,2004,2004,2004,2004,2004,2004,2004,2004,2004,2004,2004,2004,2004,2004,2004,2004,2004,2004,2004,2004,2004,2004,2004,2004,2004,2004,2004,2004,2004,2004,2004,2004,2004,2004,2004,2004,2004,2004,2004,2004,2004,2004,2004,2004,2005,2005,2005,2005,2005,2005,2005,2005,2005,2005,2005,2005,2005,2005,2005,2005,2005,2005,2005,2005,2005,2005,2005,2005,2005,2005,2005,2005,2005,2005,2005,2005,2005,2005,2005,2005,2005,2005,2005,2005,2005,2005,2005,2005,2005,2005,2005,2005,2005,2005,2005,2005,2005,2005,2005,2005,2005,2005,2005,2005,2005,2005,2005,2005,2005,2005,2005,2005,2005,2005,2005,2005,2005,2005,2005,2005,2005,2005,2005,2005,2005,2005,2005,2005,2005,2005,2005,2005,2005,2005,2005,2005,2005,2005,2005,2005,2005,2005,2005,2005,2005,2005,2005,2005,2006,2006,2006,2006,2006,2006,2006,2006,2006,2006,2006,2006,2006,2006,2006,2006,2006,2006,2006,2006,2006,2006,2006,2006,2006,2006,2006,2006,2006,2006,2006,2006,2006,2006,2006,2006,2006,2006,2006,2006,2006,2006,2006,2006,2006,2006,2006,2006,2006,2006,2006,2006,2006,2006,2006,2006,2006,2006,2006,2006,2006,2006,2006,2006,2006,2006,2006,2006,2006,2006,2006,2006,2006,2006,2006,2006,2006,2006,2006,2006,2006,2006,2006,2006,2006,2006,2006,2006,2006,2006,2006,2006,2006,2006,2006,2007,2007,2007,2007,2007,2007,2007,2007,2007,2007,2007,2007,2007,2007,2007,2007,2007,2007,2007,2007,2007,2007,2007,2007,2007,2007,2007,2007,2007,2007,2007,2007,2007,2007,2007,2007,2007,2007,2007,2007,2007,2007,2007,2007,2007,2007,2007,2007,2007,2007,2007,2007,2007,2007,2007,2007,2007,2007,2007,2007,2007,2007,2007,2007,2007,2007,2007,2007,2007,2007,2007,2007,2007,2007,2007,2007,2007,2007,2007,2007,2007,2007,2007,2007,2007,2007,2007,2007,2007,2007,2007,2007,2007,2007,2008,2008,2008,2008,2008,2008,2008,2008,2008,2008,2008,2008,2008,2008,2008,2008,2008,2008,2008,2008,2008,2008,2008,2008,2008,2008,2008,2008,2008,2008,2008,2008,2008,2008,2008,2008,2008,2008,2008,2008,2008,2008,2008,2008,2008,2008,2008,2008,2008,2008,2008,2008,2008,2008,2008,2008,2008,2008,2008,2008,2008,2008,2008,2008,2008,2008,2008,2008,2008,2008,2008,2008,2008,2008,2008,2008,2008,2008,2008,2008,2008,2008,2008,2008,2008,2008,2008,2008,2008,2008,2008,2008,2008,2008,2008,2008,2008,2009,2009,2009,2009,2009,2009,2009,2009,2009,2009,2009,2009,2009,2009,2009,2009,2009,2009,2009,2009,2009,2009,2009,2009,2009,2009,2009,2009,2009,2009,2009,2009,2009,2009,2009,2009,2009,2009,2009,2009,2009,2009,2009,2009,2009,2009,2009,2009,2009,2009,2009,2009,2009,2009,2009,2009,2009,2009,2009,2009,2009,2009,2009,2009,2009,2009,2009,2009,2009,2009,2009,2009,2009,2009,2009,2009,2009,2009,2009,2009,2009,2009,2009,2009,2010,2010,2010,2010,2010,2010,2010,2010,2010,2010,2010,2010,2010,2010,2010,2010,2010,2010,2010,2010,2010,2010,2010,2010,2010,2010,2010,2010,2010,2010,2010,2010,2010,2010,2010,2010,2010,2010,2010,2010,2010,2010,2010,2010,2010,2010,2010,2010,2010,2010,2010,2010,2010,2010,2010,2010,2010,2010,2010,2010,2010,2010,2010,2010,2010,2010,2010,2010,2010,2010,2010,2010,2010,2010,2010,2010,2010,2010,2010,2010,2010,2010,2010,2010,2010,2010,2010,2010,2010,2010,2010,2010,2010,2010,2010,2010,2010,2010,2010,2010,2010,2010,2010,2010,2010,2010,2010,2011,2011,2011,2011,2011,2011,2011,2011,2011,2011,2011,2011,2011,2011,2011,2011,2011,2011,2011,2011,2011,2011,2011,2011,2011,2011,2011,2011,2011,2011,2011,2011,2011,2011,2011,2011,2011,2011,2011,2011,2011,2011,2011,2011,2011,2011,2011,2011,2011,2011,2011,2011,2011,2011,2011,2011,2011,2011,2011,2011,2011,2011,2011,2011,2011,2011,2011,2011,2011,2011,2011,2011,2011,2011,2011,2011,2011,2011,2011,2011,2011,2011,2011,2011,2011,2011,2011,2011,2011,2011,2011,2011,2011,2011,2011,2011,2011,2011,2011,2012,2012,2012,2012,2012,2012,2012,2012,2012,2012,2012,2012,2012,2012,2012,2012,2012,2012,2012,2012,2012,2012,2012,2012,2012,2012,2012,2012,2012,2012,2012,2012,2012,2012,2012,2012,2012,2012,2012,2012,2012,2012,2012,2012,2012,2012,2012,2012,2012,2012,2012,2012,2012,2012,2012,2012,2012,2012,2012,2012,2012,2012,2012,2012,2012,2012,2012,2012,2012,2012,2012,2012,2012,2012,2012,2012,2012,2012,2012,2012,2012,2012,2012,2012,2012,2012,2012,2012,2012,2012,2012,2012,2012,2012,2012,2012,2012,2012,2012,2012,2012,2012,2012,2012,2012,2012,2012,2012,2012,2012,2012,2012,2012,2012,2012,2013,2013,2013,2013,2013,2013,2013,2013,2013,2013,2013,2013,2013,2013,2013,2013,2013,2013,2013,2013,2013,2013,2013,2013,2013,2013,2013,2013,2013,2013,2013,2013,2013,2013,2013,2013,2013,2013,2013,2013,2013,2013,2013,2013,2013,2013,2013,2013,2013,2013,2013,2013,2013,2013,2013,2013,2013,2013,2013,2013,2013,2013,2013,2013,2013,2013,2013,2013,2013,2013,2013,2013,2013,2013,2013,2013,2013,2013,2013,2013,2013,2013,2013,2013,2013,2013,2013,2013,2013,2014,2014,2014,2014,2014,2014,2014,2014,2014,2014,2014,2014,2014,2014,2014,2014,2014,2014,2014,2014,2014,2014,2014,2014,2014,2014,2014,2014,2014,2014,2014,2014,2014,2014,2014,2014,2014,2014,2014,2014,2014,2014,2014,2014,2014,2014,2014,2014,2014,2014,2014,2014,2014,2014,2014,2014,2014,2014,2014,2014,2014,2014,2014,2014,2014,2014,2014,2014,2014,2014,2014,2014,2014,2014,2014,2014,2014,2014,2014,2014,2014,2014,2014,2014,2014,2014,2014,2014,2014,2014,2014,2014,2014,2014,2014,2014,2014,2014,2014,2014,2014,2014,2014,2014,2015,2015,2015,2015,2015,2015,2015,2015,2015,2015,2015,2015,2015,2015,2015,2015,2015,2015,2015,2015,2015,2015,2015,2015,2015,2015,2015,2015,2015,2015,2015,2015,2015,2015,2015,2015,2015,2015,2015,2015,2015,2015,2015,2015,2015,2015,2015,2015,2015,2015,2015,2015,2015,2015,2015,2015,2015,2015,2015,2015,2015,2015,2015,2015,2015,2015,2015,2015,2015,2015,2015,2015,2015,2015,2015,2015,2015,2015,2015,2015,2015,2015,2015,2015,2015,2015,2015,2015,2015,2015,2015,2015,2015,2015,2015,2015,2015,2015,2015,2016,2016,2016,2016,2016,2016,2016,2016,2016,2016,2016,2016,2016,2016,2016,2016,2016,2016,2016,2016,2016,2016,2016,2016,2016,2016,2016,2016,2016,2016,2016,2016,2016,2016,2016,2016,2016,2016,2016,2016,2016,2016,2016,2016,2016,2016,2016,2016,2016,2016,2016,2016,2016,2016,2016,2016,2016,2016,2016,2016,2016,2016,2016,2016,2016,2016,2016,2016,2016,2016,2016,2016,2016,2016,2016,2016,2016,2016,2016,2016,2016,2016,2016,2016,2016,2016,2016,2016,2016,2016,2016,2016,2016,2016,2016,2016,2016,2016,2016,2017,2017,2017,2017,2017,2017,2017,2017,2017,2017,2017,2017,2017,2017,2017,2017,2017,2017,2017,2017,2017,2017,2017,2017,2017,2017,2017,2017,2017,2017,2017,2017,2017,2017,2017,2017,2017,2017,2017,2017,2017,2017,2017,2017,2017,2017,2017,2017,2017,2017,2017,2017,2017,2017,2017,2017,2017,2017,2017,2017,2017,2017,2017,2017,2017,2017,2017,2017,2017,2017,2017,2017,2017,2017,2017,2017,2017,2017,2017,2017,2017,2017,2017,2017,2017,2017,2017,2017,2017,2017,2017,2017,2017,2017,2017,2017,2017,2017,2017,2017,2017,2017,2017,2017,2017,2017,2017,2017,2017,2017,2017,2018,2018,2018,2018,2018,2018,2018,2018,2018,2018,2018,2018,2018,2018,2018,2018,2018,2018,2018,2018,2018,2018,2018,2018,2018,2018,2018,2018,2018,2018,2018,2018,2018,2018,2018,2018,2018,2018,2018,2018,2018,2018,2018,2018,2018,2018,2018,2018,2018,2018,2018,2018,2018,2018,2018,2018,2018,2018,2018,2018,2018,2018,2018,2018,2018,2018,2018,2018,2018,2018,2018,2018,2018,2018,2018,2018,2018,2018,2018,2018,2018,2018,2018,2018,2018,2018,2018,2018,2018,2018,2018,2018,2018,2018,2018,2018,2018,2018,2018,2018,2018,2018,2018,2018,2018,2018,2018,2019,2019,2019,2019,2019,2019,2019,2019,2019,2019,2019,2019,2019,2019,2019,2019,2019,2019,2019,2019,2019,2019,2019,2019,2019,2019,2019,2019,2019,2019,2019,2019,2019,2019,2019,2019,2019,2019,2019,2019,2019,2019,2019,2019,2019,2019,2019,2019,2019,2019,2019,2019,2019,2019,2019,2019,2019,2019,2019,2019,2019,2019,2019,2019,2019,2019,2019,2019,2019,2019,2019,2019,2019,2019,2019,2019,2019,2019,2019,2019,2019,2019,2019,2019,2019,2019,2019,2019,2019],\"xaxis\":\"x\",\"y\":[248740.13244087156,248740.13244087156,248740.13244087156,248740.13244087156,248740.13244087156,248740.13244087156,248740.13244087156,248740.13244087156,248740.13244087156,248740.13244087156,248740.13244087156,248740.13244087156,248740.13244087156,248740.13244087156,248740.13244087156,248740.13244087156,248740.13244087156,248740.13244087156,248740.13244087156,248740.13244087156,248740.13244087156,248740.13244087156,248740.13244087156,248740.13244087156,248740.13244087156,248740.13244087156,248740.13244087156,248740.13244087156,248740.13244087156,248740.13244087156,248740.13244087156,248740.13244087156,248740.13244087156,248740.13244087156,248740.13244087156,248740.13244087156,248740.13244087156,248740.13244087156,248740.13244087156,248740.13244087156,248740.13244087156,248740.13244087156,248740.13244087156,248740.13244087156,248740.13244087156,248740.13244087156,248740.13244087156,248740.13244087156,248740.13244087156,248740.13244087156,248740.13244087156,248740.13244087156,248740.13244087156,248740.13244087156,248740.13244087156,248740.13244087156,248740.13244087156,248740.13244087156,248740.13244087156,248740.13244087156,248740.13244087156,248740.13244087156,248740.13244087156,248740.13244087156,248740.13244087156,248740.13244087156,248740.13244087156,248740.13244087156,248740.13244087156,248740.13244087156,248740.13244087156,248740.13244087156,248740.13244087156,248740.13244087156,246629.56731437333,246629.56731437333,246629.56731437333,246629.56731437333,246629.56731437333,246629.56731437333,246629.56731437333,246629.56731437333,246629.56731437333,246629.56731437333,246629.56731437333,246629.56731437333,246629.56731437333,246629.56731437333,246629.56731437333,246629.56731437333,246629.56731437333,246629.56731437333,246629.56731437333,246629.56731437333,246629.56731437333,246629.56731437333,246629.56731437333,246629.56731437333,246629.56731437333,246629.56731437333,246629.56731437333,246629.56731437333,246629.56731437333,246629.56731437333,246629.56731437333,246629.56731437333,246629.56731437333,246629.56731437333,246629.56731437333,246629.56731437333,246629.56731437333,246629.56731437333,246629.56731437333,246629.56731437333,246629.56731437333,246629.56731437333,246629.56731437333,246629.56731437333,246629.56731437333,246629.56731437333,246629.56731437333,246629.56731437333,246629.56731437333,246629.56731437333,246629.56731437333,246629.56731437333,246629.56731437333,246629.56731437333,246629.56731437333,246629.56731437333,246629.56731437333,246629.56731437333,246629.56731437333,246629.56731437333,246629.56731437333,246629.56731437333,246629.56731437333,246629.56731437333,246629.56731437333,246629.56731437333,246629.56731437333,246629.56731437333,246629.56731437333,246629.56731437333,246629.56731437333,246629.56731437333,246629.56731437333,246629.56731437333,246629.56731437333,246629.56731437333,246629.56731437333,246629.56731437333,246629.56731437333,246629.56731437333,246629.56731437333,246629.56731437333,246629.56731437333,246629.56731437333,246629.56731437333,246629.56731437333,246629.56731437333,246629.56731437333,246629.56731437333,246629.56731437333,246629.56731437333,246629.56731437333,246629.56731437333,246629.56731437333,246629.56731437333,246629.56731437333,246629.56731437333,246629.56731437333,246629.56731437333,246629.56731437333,246629.56731437333,246629.56731437333,246629.56731437333,246629.56731437333,246629.56731437333,246629.56731437333,246629.56731437333,246629.56731437333,244519.00218787603,244519.00218787603,244519.00218787603,244519.00218787603,244519.00218787603,244519.00218787603,244519.00218787603,244519.00218787603,244519.00218787603,244519.00218787603,244519.00218787603,244519.00218787603,244519.00218787603,244519.00218787603,244519.00218787603,244519.00218787603,244519.00218787603,244519.00218787603,244519.00218787603,244519.00218787603,244519.00218787603,244519.00218787603,244519.00218787603,244519.00218787603,244519.00218787603,244519.00218787603,244519.00218787603,244519.00218787603,244519.00218787603,244519.00218787603,244519.00218787603,244519.00218787603,244519.00218787603,244519.00218787603,244519.00218787603,244519.00218787603,244519.00218787603,244519.00218787603,244519.00218787603,244519.00218787603,244519.00218787603,244519.00218787603,244519.00218787603,244519.00218787603,244519.00218787603,244519.00218787603,244519.00218787603,244519.00218787603,244519.00218787603,244519.00218787603,244519.00218787603,244519.00218787603,244519.00218787603,244519.00218787603,244519.00218787603,244519.00218787603,244519.00218787603,244519.00218787603,244519.00218787603,244519.00218787603,244519.00218787603,244519.00218787603,244519.00218787603,244519.00218787603,244519.00218787603,244519.00218787603,244519.00218787603,244519.00218787603,244519.00218787603,244519.00218787603,244519.00218787603,244519.00218787603,244519.00218787603,244519.00218787603,244519.00218787603,244519.00218787603,244519.00218787603,244519.00218787603,244519.00218787603,244519.00218787603,244519.00218787603,244519.00218787603,244519.00218787603,244519.00218787603,244519.00218787603,244519.00218787603,244519.00218787603,244519.00218787603,244519.00218787603,244519.00218787603,242408.4370613778,242408.4370613778,242408.4370613778,242408.4370613778,242408.4370613778,242408.4370613778,242408.4370613778,242408.4370613778,242408.4370613778,242408.4370613778,242408.4370613778,242408.4370613778,242408.4370613778,242408.4370613778,242408.4370613778,242408.4370613778,242408.4370613778,242408.4370613778,242408.4370613778,242408.4370613778,242408.4370613778,242408.4370613778,242408.4370613778,242408.4370613778,242408.4370613778,242408.4370613778,242408.4370613778,242408.4370613778,242408.4370613778,242408.4370613778,242408.4370613778,242408.4370613778,242408.4370613778,242408.4370613778,242408.4370613778,242408.4370613778,242408.4370613778,242408.4370613778,242408.4370613778,242408.4370613778,242408.4370613778,242408.4370613778,242408.4370613778,242408.4370613778,242408.4370613778,242408.4370613778,242408.4370613778,242408.4370613778,242408.4370613778,242408.4370613778,242408.4370613778,242408.4370613778,242408.4370613778,242408.4370613778,242408.4370613778,242408.4370613778,242408.4370613778,242408.4370613778,242408.4370613778,242408.4370613778,242408.4370613778,242408.4370613778,242408.4370613778,242408.4370613778,242408.4370613778,242408.4370613778,242408.4370613778,242408.4370613778,242408.4370613778,242408.4370613778,242408.4370613778,242408.4370613778,242408.4370613778,242408.4370613778,242408.4370613778,242408.4370613778,242408.4370613778,242408.4370613778,242408.4370613778,242408.4370613778,242408.4370613778,242408.4370613778,242408.4370613778,242408.4370613778,242408.4370613778,242408.4370613778,242408.4370613778,242408.4370613778,242408.4370613778,242408.4370613778,242408.4370613778,242408.4370613778,242408.4370613778,242408.4370613778,242408.4370613778,242408.4370613778,242408.4370613778,240297.87193487957,240297.87193487957,240297.87193487957,240297.87193487957,240297.87193487957,240297.87193487957,240297.87193487957,240297.87193487957,240297.87193487957,240297.87193487957,240297.87193487957,240297.87193487957,240297.87193487957,240297.87193487957,240297.87193487957,240297.87193487957,240297.87193487957,240297.87193487957,240297.87193487957,240297.87193487957,240297.87193487957,240297.87193487957,240297.87193487957,240297.87193487957,240297.87193487957,240297.87193487957,240297.87193487957,240297.87193487957,240297.87193487957,240297.87193487957,240297.87193487957,240297.87193487957,240297.87193487957,240297.87193487957,240297.87193487957,240297.87193487957,240297.87193487957,240297.87193487957,240297.87193487957,240297.87193487957,240297.87193487957,240297.87193487957,240297.87193487957,240297.87193487957,240297.87193487957,240297.87193487957,240297.87193487957,240297.87193487957,240297.87193487957,240297.87193487957,240297.87193487957,240297.87193487957,240297.87193487957,240297.87193487957,240297.87193487957,240297.87193487957,240297.87193487957,240297.87193487957,240297.87193487957,240297.87193487957,240297.87193487957,240297.87193487957,240297.87193487957,240297.87193487957,240297.87193487957,240297.87193487957,240297.87193487957,240297.87193487957,240297.87193487957,240297.87193487957,240297.87193487957,240297.87193487957,240297.87193487957,240297.87193487957,240297.87193487957,240297.87193487957,240297.87193487957,240297.87193487957,240297.87193487957,240297.87193487957,240297.87193487957,240297.87193487957,240297.87193487957,240297.87193487957,240297.87193487957,240297.87193487957,240297.87193487957,240297.87193487957,240297.87193487957,240297.87193487957,240297.87193487957,240297.87193487957,240297.87193487957,240297.87193487957,240297.87193487957,240297.87193487957,238187.30680838227,238187.30680838227,238187.30680838227,238187.30680838227,238187.30680838227,238187.30680838227,238187.30680838227,238187.30680838227,238187.30680838227,238187.30680838227,238187.30680838227,238187.30680838227,238187.30680838227,238187.30680838227,238187.30680838227,238187.30680838227,238187.30680838227,238187.30680838227,238187.30680838227,238187.30680838227,238187.30680838227,238187.30680838227,238187.30680838227,238187.30680838227,238187.30680838227,238187.30680838227,238187.30680838227,238187.30680838227,238187.30680838227,238187.30680838227,238187.30680838227,238187.30680838227,238187.30680838227,238187.30680838227,238187.30680838227,238187.30680838227,238187.30680838227,238187.30680838227,238187.30680838227,238187.30680838227,238187.30680838227,238187.30680838227,238187.30680838227,238187.30680838227,238187.30680838227,238187.30680838227,238187.30680838227,238187.30680838227,238187.30680838227,238187.30680838227,238187.30680838227,238187.30680838227,238187.30680838227,238187.30680838227,238187.30680838227,238187.30680838227,238187.30680838227,238187.30680838227,238187.30680838227,238187.30680838227,238187.30680838227,238187.30680838227,238187.30680838227,238187.30680838227,238187.30680838227,238187.30680838227,238187.30680838227,238187.30680838227,238187.30680838227,238187.30680838227,238187.30680838227,238187.30680838227,238187.30680838227,238187.30680838227,238187.30680838227,238187.30680838227,238187.30680838227,238187.30680838227,238187.30680838227,238187.30680838227,238187.30680838227,238187.30680838227,238187.30680838227,238187.30680838227,238187.30680838227,238187.30680838227,238187.30680838227,238187.30680838227,238187.30680838227,238187.30680838227,238187.30680838227,238187.30680838227,238187.30680838227,238187.30680838227,238187.30680838227,238187.30680838227,238187.30680838227,238187.30680838227,238187.30680838227,238187.30680838227,238187.30680838227,238187.30680838227,238187.30680838227,238187.30680838227,236076.74168188404,236076.74168188404,236076.74168188404,236076.74168188404,236076.74168188404,236076.74168188404,236076.74168188404,236076.74168188404,236076.74168188404,236076.74168188404,236076.74168188404,236076.74168188404,236076.74168188404,236076.74168188404,236076.74168188404,236076.74168188404,236076.74168188404,236076.74168188404,236076.74168188404,236076.74168188404,236076.74168188404,236076.74168188404,236076.74168188404,236076.74168188404,236076.74168188404,236076.74168188404,236076.74168188404,236076.74168188404,236076.74168188404,236076.74168188404,236076.74168188404,236076.74168188404,236076.74168188404,236076.74168188404,236076.74168188404,236076.74168188404,236076.74168188404,236076.74168188404,236076.74168188404,236076.74168188404,236076.74168188404,236076.74168188404,236076.74168188404,236076.74168188404,236076.74168188404,236076.74168188404,236076.74168188404,236076.74168188404,236076.74168188404,236076.74168188404,236076.74168188404,236076.74168188404,236076.74168188404,236076.74168188404,236076.74168188404,236076.74168188404,236076.74168188404,236076.74168188404,236076.74168188404,236076.74168188404,236076.74168188404,236076.74168188404,236076.74168188404,236076.74168188404,236076.74168188404,236076.74168188404,236076.74168188404,236076.74168188404,236076.74168188404,236076.74168188404,236076.74168188404,236076.74168188404,236076.74168188404,236076.74168188404,236076.74168188404,236076.74168188404,236076.74168188404,236076.74168188404,236076.74168188404,236076.74168188404,236076.74168188404,236076.74168188404,236076.74168188404,236076.74168188404,236076.74168188404,236076.74168188404,236076.74168188404,236076.74168188404,236076.74168188404,236076.74168188404,236076.74168188404,236076.74168188404,236076.74168188404,236076.74168188404,236076.74168188404,233966.1765553858,233966.1765553858,233966.1765553858,233966.1765553858,233966.1765553858,233966.1765553858,233966.1765553858,233966.1765553858,233966.1765553858,233966.1765553858,233966.1765553858,233966.1765553858,233966.1765553858,233966.1765553858,233966.1765553858,233966.1765553858,233966.1765553858,233966.1765553858,233966.1765553858,233966.1765553858,233966.1765553858,233966.1765553858,233966.1765553858,233966.1765553858,233966.1765553858,233966.1765553858,233966.1765553858,233966.1765553858,233966.1765553858,233966.1765553858,233966.1765553858,233966.1765553858,233966.1765553858,233966.1765553858,233966.1765553858,233966.1765553858,233966.1765553858,233966.1765553858,233966.1765553858,233966.1765553858,233966.1765553858,233966.1765553858,233966.1765553858,233966.1765553858,233966.1765553858,233966.1765553858,233966.1765553858,233966.1765553858,233966.1765553858,233966.1765553858,233966.1765553858,233966.1765553858,233966.1765553858,233966.1765553858,233966.1765553858,233966.1765553858,233966.1765553858,233966.1765553858,233966.1765553858,233966.1765553858,233966.1765553858,233966.1765553858,233966.1765553858,233966.1765553858,233966.1765553858,233966.1765553858,233966.1765553858,233966.1765553858,233966.1765553858,233966.1765553858,233966.1765553858,233966.1765553858,233966.1765553858,233966.1765553858,233966.1765553858,233966.1765553858,233966.1765553858,233966.1765553858,233966.1765553858,233966.1765553858,233966.1765553858,233966.1765553858,233966.1765553858,233966.1765553858,233966.1765553858,233966.1765553858,233966.1765553858,233966.1765553858,233966.1765553858,233966.1765553858,233966.1765553858,233966.1765553858,233966.1765553858,233966.1765553858,231855.61142888851,231855.61142888851,231855.61142888851,231855.61142888851,231855.61142888851,231855.61142888851,231855.61142888851,231855.61142888851,231855.61142888851,231855.61142888851,231855.61142888851,231855.61142888851,231855.61142888851,231855.61142888851,231855.61142888851,231855.61142888851,231855.61142888851,231855.61142888851,231855.61142888851,231855.61142888851,231855.61142888851,231855.61142888851,231855.61142888851,231855.61142888851,231855.61142888851,231855.61142888851,231855.61142888851,231855.61142888851,231855.61142888851,231855.61142888851,231855.61142888851,231855.61142888851,231855.61142888851,231855.61142888851,231855.61142888851,231855.61142888851,231855.61142888851,231855.61142888851,231855.61142888851,231855.61142888851,231855.61142888851,231855.61142888851,231855.61142888851,231855.61142888851,231855.61142888851,231855.61142888851,231855.61142888851,231855.61142888851,231855.61142888851,231855.61142888851,231855.61142888851,231855.61142888851,231855.61142888851,231855.61142888851,231855.61142888851,231855.61142888851,231855.61142888851,231855.61142888851,231855.61142888851,231855.61142888851,231855.61142888851,231855.61142888851,231855.61142888851,231855.61142888851,231855.61142888851,231855.61142888851,231855.61142888851,231855.61142888851,231855.61142888851,231855.61142888851,231855.61142888851,231855.61142888851,231855.61142888851,231855.61142888851,231855.61142888851,231855.61142888851,231855.61142888851,231855.61142888851,231855.61142888851,231855.61142888851,231855.61142888851,231855.61142888851,231855.61142888851,231855.61142888851,231855.61142888851,231855.61142888851,231855.61142888851,231855.61142888851,231855.61142888851,231855.61142888851,231855.61142888851,231855.61142888851,231855.61142888851,231855.61142888851,231855.61142888851,231855.61142888851,231855.61142888851,229745.04630239028,229745.04630239028,229745.04630239028,229745.04630239028,229745.04630239028,229745.04630239028,229745.04630239028,229745.04630239028,229745.04630239028,229745.04630239028,229745.04630239028,229745.04630239028,229745.04630239028,229745.04630239028,229745.04630239028,229745.04630239028,229745.04630239028,229745.04630239028,229745.04630239028,229745.04630239028,229745.04630239028,229745.04630239028,229745.04630239028,229745.04630239028,229745.04630239028,229745.04630239028,229745.04630239028,229745.04630239028,229745.04630239028,229745.04630239028,229745.04630239028,229745.04630239028,229745.04630239028,229745.04630239028,229745.04630239028,229745.04630239028,229745.04630239028,229745.04630239028,229745.04630239028,229745.04630239028,229745.04630239028,229745.04630239028,229745.04630239028,229745.04630239028,229745.04630239028,229745.04630239028,229745.04630239028,229745.04630239028,229745.04630239028,229745.04630239028,229745.04630239028,229745.04630239028,229745.04630239028,229745.04630239028,229745.04630239028,229745.04630239028,229745.04630239028,229745.04630239028,229745.04630239028,229745.04630239028,229745.04630239028,229745.04630239028,229745.04630239028,229745.04630239028,229745.04630239028,229745.04630239028,229745.04630239028,229745.04630239028,229745.04630239028,229745.04630239028,229745.04630239028,229745.04630239028,229745.04630239028,229745.04630239028,229745.04630239028,229745.04630239028,229745.04630239028,229745.04630239028,229745.04630239028,229745.04630239028,229745.04630239028,229745.04630239028,229745.04630239028,229745.04630239028,227634.48117589206,227634.48117589206,227634.48117589206,227634.48117589206,227634.48117589206,227634.48117589206,227634.48117589206,227634.48117589206,227634.48117589206,227634.48117589206,227634.48117589206,227634.48117589206,227634.48117589206,227634.48117589206,227634.48117589206,227634.48117589206,227634.48117589206,227634.48117589206,227634.48117589206,227634.48117589206,227634.48117589206,227634.48117589206,227634.48117589206,227634.48117589206,227634.48117589206,227634.48117589206,227634.48117589206,227634.48117589206,227634.48117589206,227634.48117589206,227634.48117589206,227634.48117589206,227634.48117589206,227634.48117589206,227634.48117589206,227634.48117589206,227634.48117589206,227634.48117589206,227634.48117589206,227634.48117589206,227634.48117589206,227634.48117589206,227634.48117589206,227634.48117589206,227634.48117589206,227634.48117589206,227634.48117589206,227634.48117589206,227634.48117589206,227634.48117589206,227634.48117589206,227634.48117589206,227634.48117589206,227634.48117589206,227634.48117589206,227634.48117589206,227634.48117589206,227634.48117589206,227634.48117589206,227634.48117589206,227634.48117589206,227634.48117589206,227634.48117589206,227634.48117589206,227634.48117589206,227634.48117589206,227634.48117589206,227634.48117589206,227634.48117589206,227634.48117589206,227634.48117589206,227634.48117589206,227634.48117589206,227634.48117589206,227634.48117589206,227634.48117589206,227634.48117589206,227634.48117589206,227634.48117589206,227634.48117589206,227634.48117589206,227634.48117589206,227634.48117589206,227634.48117589206,227634.48117589206,227634.48117589206,227634.48117589206,227634.48117589206,227634.48117589206,227634.48117589206,227634.48117589206,227634.48117589206,227634.48117589206,227634.48117589206,227634.48117589206,227634.48117589206,227634.48117589206,227634.48117589206,227634.48117589206,227634.48117589206,227634.48117589206,227634.48117589206,227634.48117589206,227634.48117589206,227634.48117589206,227634.48117589206,227634.48117589206,225523.91604939476,225523.91604939476,225523.91604939476,225523.91604939476,225523.91604939476,225523.91604939476,225523.91604939476,225523.91604939476,225523.91604939476,225523.91604939476,225523.91604939476,225523.91604939476,225523.91604939476,225523.91604939476,225523.91604939476,225523.91604939476,225523.91604939476,225523.91604939476,225523.91604939476,225523.91604939476,225523.91604939476,225523.91604939476,225523.91604939476,225523.91604939476,225523.91604939476,225523.91604939476,225523.91604939476,225523.91604939476,225523.91604939476,225523.91604939476,225523.91604939476,225523.91604939476,225523.91604939476,225523.91604939476,225523.91604939476,225523.91604939476,225523.91604939476,225523.91604939476,225523.91604939476,225523.91604939476,225523.91604939476,225523.91604939476,225523.91604939476,225523.91604939476,225523.91604939476,225523.91604939476,225523.91604939476,225523.91604939476,225523.91604939476,225523.91604939476,225523.91604939476,225523.91604939476,225523.91604939476,225523.91604939476,225523.91604939476,225523.91604939476,225523.91604939476,225523.91604939476,225523.91604939476,225523.91604939476,225523.91604939476,225523.91604939476,225523.91604939476,225523.91604939476,225523.91604939476,225523.91604939476,225523.91604939476,225523.91604939476,225523.91604939476,225523.91604939476,225523.91604939476,225523.91604939476,225523.91604939476,225523.91604939476,225523.91604939476,225523.91604939476,225523.91604939476,225523.91604939476,225523.91604939476,225523.91604939476,225523.91604939476,225523.91604939476,225523.91604939476,225523.91604939476,225523.91604939476,225523.91604939476,225523.91604939476,225523.91604939476,225523.91604939476,225523.91604939476,225523.91604939476,225523.91604939476,225523.91604939476,225523.91604939476,225523.91604939476,225523.91604939476,225523.91604939476,225523.91604939476,225523.91604939476,223413.35092289653,223413.35092289653,223413.35092289653,223413.35092289653,223413.35092289653,223413.35092289653,223413.35092289653,223413.35092289653,223413.35092289653,223413.35092289653,223413.35092289653,223413.35092289653,223413.35092289653,223413.35092289653,223413.35092289653,223413.35092289653,223413.35092289653,223413.35092289653,223413.35092289653,223413.35092289653,223413.35092289653,223413.35092289653,223413.35092289653,223413.35092289653,223413.35092289653,223413.35092289653,223413.35092289653,223413.35092289653,223413.35092289653,223413.35092289653,223413.35092289653,223413.35092289653,223413.35092289653,223413.35092289653,223413.35092289653,223413.35092289653,223413.35092289653,223413.35092289653,223413.35092289653,223413.35092289653,223413.35092289653,223413.35092289653,223413.35092289653,223413.35092289653,223413.35092289653,223413.35092289653,223413.35092289653,223413.35092289653,223413.35092289653,223413.35092289653,223413.35092289653,223413.35092289653,223413.35092289653,223413.35092289653,223413.35092289653,223413.35092289653,223413.35092289653,223413.35092289653,223413.35092289653,223413.35092289653,223413.35092289653,223413.35092289653,223413.35092289653,223413.35092289653,223413.35092289653,223413.35092289653,223413.35092289653,223413.35092289653,223413.35092289653,223413.35092289653,223413.35092289653,223413.35092289653,223413.35092289653,223413.35092289653,223413.35092289653,223413.35092289653,223413.35092289653,223413.35092289653,223413.35092289653,223413.35092289653,223413.35092289653,223413.35092289653,223413.35092289653,223413.35092289653,223413.35092289653,223413.35092289653,223413.35092289653,223413.35092289653,223413.35092289653,223413.35092289653,223413.35092289653,223413.35092289653,223413.35092289653,223413.35092289653,223413.35092289653,223413.35092289653,223413.35092289653,223413.35092289653,223413.35092289653,223413.35092289653,223413.35092289653,223413.35092289653,223413.35092289653,223413.35092289653,223413.35092289653,223413.35092289653,223413.35092289653,223413.35092289653,223413.35092289653,223413.35092289653,223413.35092289653,223413.35092289653,223413.35092289653,223413.35092289653,223413.35092289653,221302.7857963983,221302.7857963983,221302.7857963983,221302.7857963983,221302.7857963983,221302.7857963983,221302.7857963983,221302.7857963983,221302.7857963983,221302.7857963983,221302.7857963983,221302.7857963983,221302.7857963983,221302.7857963983,221302.7857963983,221302.7857963983,221302.7857963983,221302.7857963983,221302.7857963983,221302.7857963983,221302.7857963983,221302.7857963983,221302.7857963983,221302.7857963983,221302.7857963983,221302.7857963983,221302.7857963983,221302.7857963983,221302.7857963983,221302.7857963983,221302.7857963983,221302.7857963983,221302.7857963983,221302.7857963983,221302.7857963983,221302.7857963983,221302.7857963983,221302.7857963983,221302.7857963983,221302.7857963983,221302.7857963983,221302.7857963983,221302.7857963983,221302.7857963983,221302.7857963983,221302.7857963983,221302.7857963983,221302.7857963983,221302.7857963983,221302.7857963983,221302.7857963983,221302.7857963983,221302.7857963983,221302.7857963983,221302.7857963983,221302.7857963983,221302.7857963983,221302.7857963983,221302.7857963983,221302.7857963983,221302.7857963983,221302.7857963983,221302.7857963983,221302.7857963983,221302.7857963983,221302.7857963983,221302.7857963983,221302.7857963983,221302.7857963983,221302.7857963983,221302.7857963983,221302.7857963983,221302.7857963983,221302.7857963983,221302.7857963983,221302.7857963983,221302.7857963983,221302.7857963983,221302.7857963983,221302.7857963983,221302.7857963983,221302.7857963983,221302.7857963983,221302.7857963983,221302.7857963983,221302.7857963983,221302.7857963983,221302.7857963983,221302.7857963983,219192.220669901,219192.220669901,219192.220669901,219192.220669901,219192.220669901,219192.220669901,219192.220669901,219192.220669901,219192.220669901,219192.220669901,219192.220669901,219192.220669901,219192.220669901,219192.220669901,219192.220669901,219192.220669901,219192.220669901,219192.220669901,219192.220669901,219192.220669901,219192.220669901,219192.220669901,219192.220669901,219192.220669901,219192.220669901,219192.220669901,219192.220669901,219192.220669901,219192.220669901,219192.220669901,219192.220669901,219192.220669901,219192.220669901,219192.220669901,219192.220669901,219192.220669901,219192.220669901,219192.220669901,219192.220669901,219192.220669901,219192.220669901,219192.220669901,219192.220669901,219192.220669901,219192.220669901,219192.220669901,219192.220669901,219192.220669901,219192.220669901,219192.220669901,219192.220669901,219192.220669901,219192.220669901,219192.220669901,219192.220669901,219192.220669901,219192.220669901,219192.220669901,219192.220669901,219192.220669901,219192.220669901,219192.220669901,219192.220669901,219192.220669901,219192.220669901,219192.220669901,219192.220669901,219192.220669901,219192.220669901,219192.220669901,219192.220669901,219192.220669901,219192.220669901,219192.220669901,219192.220669901,219192.220669901,219192.220669901,219192.220669901,219192.220669901,219192.220669901,219192.220669901,219192.220669901,219192.220669901,219192.220669901,219192.220669901,219192.220669901,219192.220669901,219192.220669901,219192.220669901,219192.220669901,219192.220669901,219192.220669901,219192.220669901,219192.220669901,219192.220669901,219192.220669901,219192.220669901,219192.220669901,219192.220669901,219192.220669901,219192.220669901,219192.220669901,219192.220669901,219192.220669901,217081.65554340277,217081.65554340277,217081.65554340277,217081.65554340277,217081.65554340277,217081.65554340277,217081.65554340277,217081.65554340277,217081.65554340277,217081.65554340277,217081.65554340277,217081.65554340277,217081.65554340277,217081.65554340277,217081.65554340277,217081.65554340277,217081.65554340277,217081.65554340277,217081.65554340277,217081.65554340277,217081.65554340277,217081.65554340277,217081.65554340277,217081.65554340277,217081.65554340277,217081.65554340277,217081.65554340277,217081.65554340277,217081.65554340277,217081.65554340277,217081.65554340277,217081.65554340277,217081.65554340277,217081.65554340277,217081.65554340277,217081.65554340277,217081.65554340277,217081.65554340277,217081.65554340277,217081.65554340277,217081.65554340277,217081.65554340277,217081.65554340277,217081.65554340277,217081.65554340277,217081.65554340277,217081.65554340277,217081.65554340277,217081.65554340277,217081.65554340277,217081.65554340277,217081.65554340277,217081.65554340277,217081.65554340277,217081.65554340277,217081.65554340277,217081.65554340277,217081.65554340277,217081.65554340277,217081.65554340277,217081.65554340277,217081.65554340277,217081.65554340277,217081.65554340277,217081.65554340277,217081.65554340277,217081.65554340277,217081.65554340277,217081.65554340277,217081.65554340277,217081.65554340277,217081.65554340277,217081.65554340277,217081.65554340277,217081.65554340277,217081.65554340277,217081.65554340277,217081.65554340277,217081.65554340277,217081.65554340277,217081.65554340277,217081.65554340277,217081.65554340277,217081.65554340277,217081.65554340277,217081.65554340277,217081.65554340277,217081.65554340277,217081.65554340277,217081.65554340277,217081.65554340277,217081.65554340277,217081.65554340277,217081.65554340277,217081.65554340277,217081.65554340277,217081.65554340277,217081.65554340277,217081.65554340277,214971.09041690454,214971.09041690454,214971.09041690454,214971.09041690454,214971.09041690454,214971.09041690454,214971.09041690454,214971.09041690454,214971.09041690454,214971.09041690454,214971.09041690454,214971.09041690454,214971.09041690454,214971.09041690454,214971.09041690454,214971.09041690454,214971.09041690454,214971.09041690454,214971.09041690454,214971.09041690454,214971.09041690454,214971.09041690454,214971.09041690454,214971.09041690454,214971.09041690454,214971.09041690454,214971.09041690454,214971.09041690454,214971.09041690454,214971.09041690454,214971.09041690454,214971.09041690454,214971.09041690454,214971.09041690454,214971.09041690454,214971.09041690454,214971.09041690454,214971.09041690454,214971.09041690454,214971.09041690454,214971.09041690454,214971.09041690454,214971.09041690454,214971.09041690454,214971.09041690454,214971.09041690454,214971.09041690454,214971.09041690454,214971.09041690454,214971.09041690454,214971.09041690454,214971.09041690454,214971.09041690454,214971.09041690454,214971.09041690454,214971.09041690454,214971.09041690454,214971.09041690454,214971.09041690454,214971.09041690454,214971.09041690454,214971.09041690454,214971.09041690454,214971.09041690454,214971.09041690454,214971.09041690454,214971.09041690454,214971.09041690454,214971.09041690454,214971.09041690454,214971.09041690454,214971.09041690454,214971.09041690454,214971.09041690454,214971.09041690454,214971.09041690454,214971.09041690454,214971.09041690454,214971.09041690454,214971.09041690454,214971.09041690454,214971.09041690454,214971.09041690454,214971.09041690454,214971.09041690454,214971.09041690454,214971.09041690454,214971.09041690454,214971.09041690454,214971.09041690454,214971.09041690454,214971.09041690454,214971.09041690454,214971.09041690454,214971.09041690454,214971.09041690454,214971.09041690454,214971.09041690454,214971.09041690454,212860.52529040724,212860.52529040724,212860.52529040724,212860.52529040724,212860.52529040724,212860.52529040724,212860.52529040724,212860.52529040724,212860.52529040724,212860.52529040724,212860.52529040724,212860.52529040724,212860.52529040724,212860.52529040724,212860.52529040724,212860.52529040724,212860.52529040724,212860.52529040724,212860.52529040724,212860.52529040724,212860.52529040724,212860.52529040724,212860.52529040724,212860.52529040724,212860.52529040724,212860.52529040724,212860.52529040724,212860.52529040724,212860.52529040724,212860.52529040724,212860.52529040724,212860.52529040724,212860.52529040724,212860.52529040724,212860.52529040724,212860.52529040724,212860.52529040724,212860.52529040724,212860.52529040724,212860.52529040724,212860.52529040724,212860.52529040724,212860.52529040724,212860.52529040724,212860.52529040724,212860.52529040724,212860.52529040724,212860.52529040724,212860.52529040724,212860.52529040724,212860.52529040724,212860.52529040724,212860.52529040724,212860.52529040724,212860.52529040724,212860.52529040724,212860.52529040724,212860.52529040724,212860.52529040724,212860.52529040724,212860.52529040724,212860.52529040724,212860.52529040724,212860.52529040724,212860.52529040724,212860.52529040724,212860.52529040724,212860.52529040724,212860.52529040724,212860.52529040724,212860.52529040724,212860.52529040724,212860.52529040724,212860.52529040724,212860.52529040724,212860.52529040724,212860.52529040724,212860.52529040724,212860.52529040724,212860.52529040724,212860.52529040724,212860.52529040724,212860.52529040724,212860.52529040724,212860.52529040724,212860.52529040724,212860.52529040724,212860.52529040724,212860.52529040724,212860.52529040724,212860.52529040724,212860.52529040724,212860.52529040724,212860.52529040724,212860.52529040724,212860.52529040724,212860.52529040724,212860.52529040724,212860.52529040724,212860.52529040724,212860.52529040724,212860.52529040724,212860.52529040724,212860.52529040724,212860.52529040724,212860.52529040724,212860.52529040724,212860.52529040724,212860.52529040724,212860.52529040724,212860.52529040724,210749.960163909,210749.960163909,210749.960163909,210749.960163909,210749.960163909,210749.960163909,210749.960163909,210749.960163909,210749.960163909,210749.960163909,210749.960163909,210749.960163909,210749.960163909,210749.960163909,210749.960163909,210749.960163909,210749.960163909,210749.960163909,210749.960163909,210749.960163909,210749.960163909,210749.960163909,210749.960163909,210749.960163909,210749.960163909,210749.960163909,210749.960163909,210749.960163909,210749.960163909,210749.960163909,210749.960163909,210749.960163909,210749.960163909,210749.960163909,210749.960163909,210749.960163909,210749.960163909,210749.960163909,210749.960163909,210749.960163909,210749.960163909,210749.960163909,210749.960163909,210749.960163909,210749.960163909,210749.960163909,210749.960163909,210749.960163909,210749.960163909,210749.960163909,210749.960163909,210749.960163909,210749.960163909,210749.960163909,210749.960163909,210749.960163909,210749.960163909,210749.960163909,210749.960163909,210749.960163909,210749.960163909,210749.960163909,210749.960163909,210749.960163909,210749.960163909,210749.960163909,210749.960163909,210749.960163909,210749.960163909,210749.960163909,210749.960163909,210749.960163909,210749.960163909,210749.960163909,210749.960163909,210749.960163909,210749.960163909,210749.960163909,210749.960163909,210749.960163909,210749.960163909,210749.960163909,210749.960163909,210749.960163909,210749.960163909,210749.960163909,210749.960163909,210749.960163909,210749.960163909,210749.960163909,210749.960163909,210749.960163909,210749.960163909,210749.960163909,210749.960163909,210749.960163909,210749.960163909,210749.960163909,210749.960163909,210749.960163909,210749.960163909,210749.960163909,210749.960163909,210749.960163909,210749.960163909,210749.960163909,210749.960163909,208639.39503741078,208639.39503741078,208639.39503741078,208639.39503741078,208639.39503741078,208639.39503741078,208639.39503741078,208639.39503741078,208639.39503741078,208639.39503741078,208639.39503741078,208639.39503741078,208639.39503741078,208639.39503741078,208639.39503741078,208639.39503741078,208639.39503741078,208639.39503741078,208639.39503741078,208639.39503741078,208639.39503741078,208639.39503741078,208639.39503741078,208639.39503741078,208639.39503741078,208639.39503741078,208639.39503741078,208639.39503741078,208639.39503741078,208639.39503741078,208639.39503741078,208639.39503741078,208639.39503741078,208639.39503741078,208639.39503741078,208639.39503741078,208639.39503741078,208639.39503741078,208639.39503741078,208639.39503741078,208639.39503741078,208639.39503741078,208639.39503741078,208639.39503741078,208639.39503741078,208639.39503741078,208639.39503741078,208639.39503741078,208639.39503741078,208639.39503741078,208639.39503741078,208639.39503741078,208639.39503741078,208639.39503741078,208639.39503741078,208639.39503741078,208639.39503741078,208639.39503741078,208639.39503741078,208639.39503741078,208639.39503741078,208639.39503741078,208639.39503741078,208639.39503741078,208639.39503741078,208639.39503741078,208639.39503741078,208639.39503741078,208639.39503741078,208639.39503741078,208639.39503741078,208639.39503741078,208639.39503741078,208639.39503741078,208639.39503741078,208639.39503741078,208639.39503741078,208639.39503741078,208639.39503741078,208639.39503741078,208639.39503741078,208639.39503741078,208639.39503741078,208639.39503741078,208639.39503741078,208639.39503741078,208639.39503741078,208639.39503741078,208639.39503741078],\"yaxis\":\"y\",\"type\":\"scattergl\"}],                        {\"template\":{\"data\":{\"histogram2dcontour\":[{\"type\":\"histogram2dcontour\",\"colorbar\":{\"outlinewidth\":0,\"ticks\":\"\"},\"colorscale\":[[0.0,\"#0d0887\"],[0.1111111111111111,\"#46039f\"],[0.2222222222222222,\"#7201a8\"],[0.3333333333333333,\"#9c179e\"],[0.4444444444444444,\"#bd3786\"],[0.5555555555555556,\"#d8576b\"],[0.6666666666666666,\"#ed7953\"],[0.7777777777777778,\"#fb9f3a\"],[0.8888888888888888,\"#fdca26\"],[1.0,\"#f0f921\"]]}],\"choropleth\":[{\"type\":\"choropleth\",\"colorbar\":{\"outlinewidth\":0,\"ticks\":\"\"}}],\"histogram2d\":[{\"type\":\"histogram2d\",\"colorbar\":{\"outlinewidth\":0,\"ticks\":\"\"},\"colorscale\":[[0.0,\"#0d0887\"],[0.1111111111111111,\"#46039f\"],[0.2222222222222222,\"#7201a8\"],[0.3333333333333333,\"#9c179e\"],[0.4444444444444444,\"#bd3786\"],[0.5555555555555556,\"#d8576b\"],[0.6666666666666666,\"#ed7953\"],[0.7777777777777778,\"#fb9f3a\"],[0.8888888888888888,\"#fdca26\"],[1.0,\"#f0f921\"]]}],\"heatmap\":[{\"type\":\"heatmap\",\"colorbar\":{\"outlinewidth\":0,\"ticks\":\"\"},\"colorscale\":[[0.0,\"#0d0887\"],[0.1111111111111111,\"#46039f\"],[0.2222222222222222,\"#7201a8\"],[0.3333333333333333,\"#9c179e\"],[0.4444444444444444,\"#bd3786\"],[0.5555555555555556,\"#d8576b\"],[0.6666666666666666,\"#ed7953\"],[0.7777777777777778,\"#fb9f3a\"],[0.8888888888888888,\"#fdca26\"],[1.0,\"#f0f921\"]]}],\"heatmapgl\":[{\"type\":\"heatmapgl\",\"colorbar\":{\"outlinewidth\":0,\"ticks\":\"\"},\"colorscale\":[[0.0,\"#0d0887\"],[0.1111111111111111,\"#46039f\"],[0.2222222222222222,\"#7201a8\"],[0.3333333333333333,\"#9c179e\"],[0.4444444444444444,\"#bd3786\"],[0.5555555555555556,\"#d8576b\"],[0.6666666666666666,\"#ed7953\"],[0.7777777777777778,\"#fb9f3a\"],[0.8888888888888888,\"#fdca26\"],[1.0,\"#f0f921\"]]}],\"contourcarpet\":[{\"type\":\"contourcarpet\",\"colorbar\":{\"outlinewidth\":0,\"ticks\":\"\"}}],\"contour\":[{\"type\":\"contour\",\"colorbar\":{\"outlinewidth\":0,\"ticks\":\"\"},\"colorscale\":[[0.0,\"#0d0887\"],[0.1111111111111111,\"#46039f\"],[0.2222222222222222,\"#7201a8\"],[0.3333333333333333,\"#9c179e\"],[0.4444444444444444,\"#bd3786\"],[0.5555555555555556,\"#d8576b\"],[0.6666666666666666,\"#ed7953\"],[0.7777777777777778,\"#fb9f3a\"],[0.8888888888888888,\"#fdca26\"],[1.0,\"#f0f921\"]]}],\"surface\":[{\"type\":\"surface\",\"colorbar\":{\"outlinewidth\":0,\"ticks\":\"\"},\"colorscale\":[[0.0,\"#0d0887\"],[0.1111111111111111,\"#46039f\"],[0.2222222222222222,\"#7201a8\"],[0.3333333333333333,\"#9c179e\"],[0.4444444444444444,\"#bd3786\"],[0.5555555555555556,\"#d8576b\"],[0.6666666666666666,\"#ed7953\"],[0.7777777777777778,\"#fb9f3a\"],[0.8888888888888888,\"#fdca26\"],[1.0,\"#f0f921\"]]}],\"mesh3d\":[{\"type\":\"mesh3d\",\"colorbar\":{\"outlinewidth\":0,\"ticks\":\"\"}}],\"scatter\":[{\"fillpattern\":{\"fillmode\":\"overlay\",\"size\":10,\"solidity\":0.2},\"type\":\"scatter\"}],\"parcoords\":[{\"type\":\"parcoords\",\"line\":{\"colorbar\":{\"outlinewidth\":0,\"ticks\":\"\"}}}],\"scatterpolargl\":[{\"type\":\"scatterpolargl\",\"marker\":{\"colorbar\":{\"outlinewidth\":0,\"ticks\":\"\"}}}],\"bar\":[{\"error_x\":{\"color\":\"#2a3f5f\"},\"error_y\":{\"color\":\"#2a3f5f\"},\"marker\":{\"line\":{\"color\":\"#E5ECF6\",\"width\":0.5},\"pattern\":{\"fillmode\":\"overlay\",\"size\":10,\"solidity\":0.2}},\"type\":\"bar\"}],\"scattergeo\":[{\"type\":\"scattergeo\",\"marker\":{\"colorbar\":{\"outlinewidth\":0,\"ticks\":\"\"}}}],\"scatterpolar\":[{\"type\":\"scatterpolar\",\"marker\":{\"colorbar\":{\"outlinewidth\":0,\"ticks\":\"\"}}}],\"histogram\":[{\"marker\":{\"pattern\":{\"fillmode\":\"overlay\",\"size\":10,\"solidity\":0.2}},\"type\":\"histogram\"}],\"scattergl\":[{\"type\":\"scattergl\",\"marker\":{\"colorbar\":{\"outlinewidth\":0,\"ticks\":\"\"}}}],\"scatter3d\":[{\"type\":\"scatter3d\",\"line\":{\"colorbar\":{\"outlinewidth\":0,\"ticks\":\"\"}},\"marker\":{\"colorbar\":{\"outlinewidth\":0,\"ticks\":\"\"}}}],\"scattermapbox\":[{\"type\":\"scattermapbox\",\"marker\":{\"colorbar\":{\"outlinewidth\":0,\"ticks\":\"\"}}}],\"scatterternary\":[{\"type\":\"scatterternary\",\"marker\":{\"colorbar\":{\"outlinewidth\":0,\"ticks\":\"\"}}}],\"scattercarpet\":[{\"type\":\"scattercarpet\",\"marker\":{\"colorbar\":{\"outlinewidth\":0,\"ticks\":\"\"}}}],\"carpet\":[{\"aaxis\":{\"endlinecolor\":\"#2a3f5f\",\"gridcolor\":\"white\",\"linecolor\":\"white\",\"minorgridcolor\":\"white\",\"startlinecolor\":\"#2a3f5f\"},\"baxis\":{\"endlinecolor\":\"#2a3f5f\",\"gridcolor\":\"white\",\"linecolor\":\"white\",\"minorgridcolor\":\"white\",\"startlinecolor\":\"#2a3f5f\"},\"type\":\"carpet\"}],\"table\":[{\"cells\":{\"fill\":{\"color\":\"#EBF0F8\"},\"line\":{\"color\":\"white\"}},\"header\":{\"fill\":{\"color\":\"#C8D4E3\"},\"line\":{\"color\":\"white\"}},\"type\":\"table\"}],\"barpolar\":[{\"marker\":{\"line\":{\"color\":\"#E5ECF6\",\"width\":0.5},\"pattern\":{\"fillmode\":\"overlay\",\"size\":10,\"solidity\":0.2}},\"type\":\"barpolar\"}],\"pie\":[{\"automargin\":true,\"type\":\"pie\"}]},\"layout\":{\"autotypenumbers\":\"strict\",\"colorway\":[\"#636efa\",\"#EF553B\",\"#00cc96\",\"#ab63fa\",\"#FFA15A\",\"#19d3f3\",\"#FF6692\",\"#B6E880\",\"#FF97FF\",\"#FECB52\"],\"font\":{\"color\":\"#2a3f5f\"},\"hovermode\":\"closest\",\"hoverlabel\":{\"align\":\"left\"},\"paper_bgcolor\":\"white\",\"plot_bgcolor\":\"#E5ECF6\",\"polar\":{\"bgcolor\":\"#E5ECF6\",\"angularaxis\":{\"gridcolor\":\"white\",\"linecolor\":\"white\",\"ticks\":\"\"},\"radialaxis\":{\"gridcolor\":\"white\",\"linecolor\":\"white\",\"ticks\":\"\"}},\"ternary\":{\"bgcolor\":\"#E5ECF6\",\"aaxis\":{\"gridcolor\":\"white\",\"linecolor\":\"white\",\"ticks\":\"\"},\"baxis\":{\"gridcolor\":\"white\",\"linecolor\":\"white\",\"ticks\":\"\"},\"caxis\":{\"gridcolor\":\"white\",\"linecolor\":\"white\",\"ticks\":\"\"}},\"coloraxis\":{\"colorbar\":{\"outlinewidth\":0,\"ticks\":\"\"}},\"colorscale\":{\"sequential\":[[0.0,\"#0d0887\"],[0.1111111111111111,\"#46039f\"],[0.2222222222222222,\"#7201a8\"],[0.3333333333333333,\"#9c179e\"],[0.4444444444444444,\"#bd3786\"],[0.5555555555555556,\"#d8576b\"],[0.6666666666666666,\"#ed7953\"],[0.7777777777777778,\"#fb9f3a\"],[0.8888888888888888,\"#fdca26\"],[1.0,\"#f0f921\"]],\"sequentialminus\":[[0.0,\"#0d0887\"],[0.1111111111111111,\"#46039f\"],[0.2222222222222222,\"#7201a8\"],[0.3333333333333333,\"#9c179e\"],[0.4444444444444444,\"#bd3786\"],[0.5555555555555556,\"#d8576b\"],[0.6666666666666666,\"#ed7953\"],[0.7777777777777778,\"#fb9f3a\"],[0.8888888888888888,\"#fdca26\"],[1.0,\"#f0f921\"]],\"diverging\":[[0,\"#8e0152\"],[0.1,\"#c51b7d\"],[0.2,\"#de77ae\"],[0.3,\"#f1b6da\"],[0.4,\"#fde0ef\"],[0.5,\"#f7f7f7\"],[0.6,\"#e6f5d0\"],[0.7,\"#b8e186\"],[0.8,\"#7fbc41\"],[0.9,\"#4d9221\"],[1,\"#276419\"]]},\"xaxis\":{\"gridcolor\":\"white\",\"linecolor\":\"white\",\"ticks\":\"\",\"title\":{\"standoff\":15},\"zerolinecolor\":\"white\",\"automargin\":true,\"zerolinewidth\":2},\"yaxis\":{\"gridcolor\":\"white\",\"linecolor\":\"white\",\"ticks\":\"\",\"title\":{\"standoff\":15},\"zerolinecolor\":\"white\",\"automargin\":true,\"zerolinewidth\":2},\"scene\":{\"xaxis\":{\"backgroundcolor\":\"#E5ECF6\",\"gridcolor\":\"white\",\"linecolor\":\"white\",\"showbackground\":true,\"ticks\":\"\",\"zerolinecolor\":\"white\",\"gridwidth\":2},\"yaxis\":{\"backgroundcolor\":\"#E5ECF6\",\"gridcolor\":\"white\",\"linecolor\":\"white\",\"showbackground\":true,\"ticks\":\"\",\"zerolinecolor\":\"white\",\"gridwidth\":2},\"zaxis\":{\"backgroundcolor\":\"#E5ECF6\",\"gridcolor\":\"white\",\"linecolor\":\"white\",\"showbackground\":true,\"ticks\":\"\",\"zerolinecolor\":\"white\",\"gridwidth\":2}},\"shapedefaults\":{\"line\":{\"color\":\"#2a3f5f\"}},\"annotationdefaults\":{\"arrowcolor\":\"#2a3f5f\",\"arrowhead\":0,\"arrowwidth\":1},\"geo\":{\"bgcolor\":\"white\",\"landcolor\":\"#E5ECF6\",\"subunitcolor\":\"white\",\"showland\":true,\"showlakes\":true,\"lakecolor\":\"white\"},\"title\":{\"x\":0.05},\"mapbox\":{\"style\":\"light\"}}},\"xaxis\":{\"anchor\":\"y\",\"domain\":[0.0,1.0],\"title\":{\"text\":\"year\"}},\"yaxis\":{\"anchor\":\"x\",\"domain\":[0.0,1.0],\"title\":{\"text\":\"Duration in milliseconds\"}},\"legend\":{\"tracegroupgap\":0},\"title\":{\"text\":\"Top hits duration from 2000-2019\"}},                        {\"responsive\": true}                    ).then(function(){\n",
       "                            \n",
       "var gd = document.getElementById('010bebf6-7664-4f70-a4f4-7b0f8429d656');\n",
       "var x = new MutationObserver(function (mutations, observer) {{\n",
       "        var display = window.getComputedStyle(gd).display;\n",
       "        if (!display || display === 'none') {{\n",
       "            console.log([gd, 'removed!']);\n",
       "            Plotly.purge(gd);\n",
       "            observer.disconnect();\n",
       "        }}\n",
       "}});\n",
       "\n",
       "// Listen for the removal of the full notebook cells\n",
       "var notebookContainer = gd.closest('#notebook-container');\n",
       "if (notebookContainer) {{\n",
       "    x.observe(notebookContainer, {childList: true});\n",
       "}}\n",
       "\n",
       "// Listen for the clearing of the current output cell\n",
       "var outputEl = gd.closest('.output');\n",
       "if (outputEl) {{\n",
       "    x.observe(outputEl, {childList: true});\n",
       "}}\n",
       "\n",
       "                        })                };                });            </script>        </div>"
      ]
     },
     "metadata": {},
     "output_type": "display_data"
    }
   ],
   "source": [
    "# Visualizing top hits duration and a linear regression model\n",
    "fig = px.scatter(df, x='year', y='duration_ms', trendline='ols',\n",
    "                 labels = {'duration_ms' : 'Duration in milliseconds'},\n",
    "                title = 'Top hits duration from 2000-2019')\n",
    "fig.show()"
   ]
  },
  {
   "cell_type": "markdown",
   "id": "e74bd68f",
   "metadata": {
    "_cell_guid": "ea25ddda-5274-4012-915d-11881be025cc",
    "_uuid": "35796e97-681c-452b-a78a-f4f46bef6186",
    "papermill": {
     "duration": 0.024097,
     "end_time": "2022-06-10T19:28:23.994475",
     "exception": false,
     "start_time": "2022-06-10T19:28:23.970378",
     "status": "completed"
    },
    "tags": []
   },
   "source": [
    "According to the scatter graph above and its **trendline**, it is possible to notice that the average duration has been **decreasing** over time.<br>\n",
    "Back in 2003, the top hits had an average duration of 3:56m, while in 2019 the average was 3:16m, showing that hits are getting shorter since 2000."
   ]
  },
  {
   "cell_type": "markdown",
   "id": "0e6359ac",
   "metadata": {
    "_cell_guid": "e2d935ee-da9c-4999-8051-68efe67cbb11",
    "_uuid": "e113fc36-5b7c-4985-bd3f-67471c3c574e",
    "papermill": {
     "duration": 0.024459,
     "end_time": "2022-06-10T19:28:24.043001",
     "exception": false,
     "start_time": "2022-06-10T19:28:24.018542",
     "status": "completed"
    },
    "tags": []
   },
   "source": [
    "# Distributions across Top Hits from 2000-2019"
   ]
  },
  {
   "cell_type": "markdown",
   "id": "670f8b67",
   "metadata": {
    "_cell_guid": "87fb1e87-7bf1-4ccc-a430-6313bb180347",
    "_uuid": "42ffad32-d0d3-491c-a1d7-303d5d630e1f",
    "papermill": {
     "duration": 0.023929,
     "end_time": "2022-06-10T19:28:24.091041",
     "exception": false,
     "start_time": "2022-06-10T19:28:24.067112",
     "status": "completed"
    },
    "tags": []
   },
   "source": [
    "### Danceability distribution"
   ]
  },
  {
   "cell_type": "code",
   "execution_count": 21,
   "id": "792de196",
   "metadata": {
    "_cell_guid": "c0571fa2-638c-4268-89a7-a1799baf7c35",
    "_uuid": "ec4cf54f-a186-4b52-b5d2-28eff3373b94",
    "collapsed": false,
    "execution": {
     "iopub.execute_input": "2022-06-10T19:28:24.141760Z",
     "iopub.status.busy": "2022-06-10T19:28:24.141061Z",
     "iopub.status.idle": "2022-06-10T19:28:24.269103Z",
     "shell.execute_reply": "2022-06-10T19:28:24.268160Z"
    },
    "jupyter": {
     "outputs_hidden": false
    },
    "papermill": {
     "duration": 0.156036,
     "end_time": "2022-06-10T19:28:24.271472",
     "exception": false,
     "start_time": "2022-06-10T19:28:24.115436",
     "status": "completed"
    },
    "tags": []
   },
   "outputs": [
    {
     "data": {
      "text/html": [
       "<div>                            <div id=\"5e00e0fb-2698-46e9-a57b-6ee884c25109\" class=\"plotly-graph-div\" style=\"height:525px; width:100%;\"></div>            <script type=\"text/javascript\">                require([\"plotly\"], function(Plotly) {                    window.PLOTLYENV=window.PLOTLYENV || {};                                    if (document.getElementById(\"5e00e0fb-2698-46e9-a57b-6ee884c25109\")) {                    Plotly.newPlot(                        \"5e00e0fb-2698-46e9-a57b-6ee884c25109\",                        [{\"alignmentgroup\":\"True\",\"bingroup\":\"x\",\"hovertemplate\":\"danceability=%{x}<br>count=%{y}<extra></extra>\",\"legendgroup\":\"\",\"marker\":{\"color\":\"#636efa\",\"pattern\":{\"shape\":\"\"}},\"name\":\"\",\"offsetgroup\":\"\",\"orientation\":\"v\",\"showlegend\":false,\"x\":[0.751,0.551,0.614,0.949,0.708,0.72,0.617,0.822,0.797,0.671,0.556,0.634,0.656,0.425,0.528,0.879,0.682,0.644,0.85,0.736,0.839,0.761,0.478,0.798,0.739,0.852,0.729,0.772,0.779,0.829,0.771,0.63,0.721,0.8,0.869,0.628,0.408,0.666,0.742,0.471,0.682,0.631,0.826,0.659,0.859,0.822,0.751,0.655,0.545,0.736,0.914,0.313,0.491,0.631,0.73,0.644,0.724,0.518,0.558,0.575,0.607,0.725,0.765,0.865,0.853,0.514,0.78,0.766,0.76,0.622,0.794,0.643,0.481,0.637,0.667,0.847,0.689,0.622,0.911,0.645,0.603,0.643,0.661,0.668,0.66,0.721,0.657,0.854,0.908,0.707,0.7,0.446,0.613,0.843,0.682,0.721,0.767,0.563,0.775,0.797,0.635,0.872,0.61,0.663,0.757,0.676,0.653,0.786,0.878,0.612,0.677,0.631,0.464,0.653,0.897,0.78,0.888,0.699,0.582,0.578,0.596,0.802,0.822,0.682,0.587,0.739,0.795,0.751,0.585,0.418,0.321,0.541,0.84,0.573,0.697,0.55,0.836,0.676,0.753,0.747,0.874,0.73,0.847,0.708,0.569,0.607,0.469,0.713,0.623,0.558,0.85,0.933,0.33,0.618,0.51,0.743,0.68,0.509,0.721,0.562,0.699,0.537,0.727,0.908,0.585,0.56,0.558,0.616,0.729,0.701,0.648,0.548,0.713,0.955,0.792,0.718,0.583,0.556,0.607,0.641,0.705,0.74,0.622,0.686,0.427,0.682,0.527,0.969,0.646,0.611,0.683,0.697,0.574,0.486,0.723,0.777,0.859,0.66,0.761,0.956,0.7,0.64,0.855,0.517,0.786,0.835,0.786,0.771,0.668,0.618,0.412,0.778,0.489,0.64,0.603,0.791,0.368,0.66,0.783,0.705,0.567,0.734,0.853,0.412,0.519,0.908,0.727,0.542,0.802,0.652,0.838,0.577,0.884,0.555,0.675,0.32,0.839,0.665,0.487,0.571,0.534,0.754,0.451,0.597,0.783,0.745,0.654,0.513,0.793,0.38,0.338,0.58,0.921,0.661,0.443,0.499,0.688,0.776,0.432,0.424,0.814,0.624,0.899,0.735,0.686,0.646,0.669,0.835,0.845,0.81,0.793,0.648,0.778,0.734,0.759,0.712,0.801,0.554,0.761,0.331,0.785,0.405,0.498,0.78,0.835,0.662,0.602,0.804,0.564,0.581,0.892,0.741,0.772,0.655,0.849,0.859,0.455,0.6,0.606,0.492,0.791,0.811,0.568,0.527,0.883,0.649,0.595,0.586,0.802,0.894,0.866,0.668,0.853,0.831,0.646,0.784,0.707,0.658,0.553,0.435,0.655,0.893,0.747,0.691,0.66,0.85,0.751,0.837,0.53,0.733,0.624,0.447,0.612,0.638,0.714,0.577,0.649,0.884,0.71,0.747,0.614,0.757,0.649,0.701,0.618,0.512,0.758,0.81,0.646,0.656,0.769,0.256,0.871,0.546,0.397,0.688,0.62,0.496,0.489,0.457,0.641,0.894,0.712,0.774,0.727,0.472,0.663,0.857,0.785,0.809,0.783,0.676,0.601,0.6,0.797,0.735,0.496,0.759,0.818,0.851,0.802,0.833,0.814,0.597,0.826,0.97,0.718,0.562,0.805,0.749,0.87,0.662,0.737,0.779,0.751,0.348,0.607,0.86,0.884,0.762,0.881,0.579,0.656,0.752,0.755,0.94,0.586,0.892,0.765,0.748,0.745,0.571,0.677,0.765,0.759,0.853,0.548,0.828,0.766,0.398,0.416,0.277,0.925,0.513,0.814,0.637,0.19,0.6,0.706,0.612,0.523,0.559,0.38,0.68,0.803,0.663,0.571,0.739,0.734,0.414,0.512,0.828,0.75,0.557,0.657,0.926,0.562,0.662,0.688,0.668,0.68,0.713,0.871,0.663,0.553,0.52,0.345,0.505,0.641,0.264,0.84,0.656,0.629,0.779,0.614,0.675,0.49,0.875,0.599,0.878,0.649,0.489,0.86,0.646,0.95,0.856,0.745,0.688,0.925,0.862,0.846,0.8,0.802,0.8,0.772,0.899,0.741,0.687,0.802,0.818,0.69,0.629,0.642,0.962,0.684,0.637,0.74,0.76,0.94,0.666,0.837,0.9,0.891,0.904,0.551,0.561,0.568,0.437,0.7,0.672,0.892,0.905,0.878,0.939,0.636,0.555,0.412,0.489,0.926,0.838,0.179,0.727,0.794,0.636,0.534,0.675,0.7,0.933,0.714,0.49,0.548,0.662,0.129,0.525,0.455,0.535,0.286,0.815,0.395,0.817,0.587,0.478,0.515,0.722,0.605,0.548,0.598,0.506,0.52,0.644,0.514,0.587,0.567,0.662,0.53,0.469,0.68,0.709,0.366,0.778,0.951,0.967,0.447,0.407,0.677,0.855,0.658,0.796,0.893,0.819,0.589,0.787,0.648,0.808,0.814,0.711,0.565,0.964,0.963,0.826,0.668,0.678,0.741,0.803,0.858,0.938,0.835,0.678,0.833,0.888,0.5,0.771,0.441,0.867,0.309,0.769,0.64,0.891,0.825,0.644,0.683,0.618,0.906,0.715,0.679,0.726,0.681,0.588,0.552,0.886,0.45,0.786,0.518,0.622,0.261,0.551,0.551,0.42,0.792,0.348,0.561,0.7,0.688,0.632,0.693,0.535,0.344,0.64,0.705,0.537,0.556,0.707,0.452,0.474,0.525,0.511,0.684,0.548,0.566,0.432,0.862,0.272,0.489,0.656,0.731,0.748,0.706,0.447,0.559,0.467,0.64,0.7,0.217,0.616,0.469,0.474,0.536,0.688,0.391,0.638,0.583,0.788,0.708,0.698,0.656,0.687,0.756,0.731,0.872,0.762,0.627,0.767,0.94,0.975,0.63,0.537,0.827,0.701,0.617,0.764,0.584,0.865,0.736,0.744,0.709,0.735,0.822,0.596,0.847,0.623,0.918,0.729,0.619,0.644,0.606,0.621,0.607,0.611,0.309,0.42,0.771,0.811,0.529,0.463,0.787,0.584,0.56,0.81,0.45,0.794,0.412,0.463,0.675,0.88,0.906,0.775,0.704,0.616,0.459,0.859,0.459,0.403,0.808,0.697,0.753,0.716,0.477,0.803,0.435,0.517,0.451,0.723,0.433,0.444,0.451,0.626,0.772,0.685,0.545,0.675,0.686,0.762,0.801,0.72,0.519,0.67,0.451,0.727,0.457,0.697,0.673,0.344,0.764,0.733,0.423,0.357,0.684,0.427,0.405,0.918,0.699,0.697,0.644,0.653,0.668,0.662,0.632,0.949,0.715,0.767,0.707,0.493,0.712,0.829,0.639,0.639,0.753,0.706,0.835,0.756,0.83,0.724,0.605,0.888,0.654,0.837,0.671,0.788,0.736,0.769,0.375,0.709,0.674,0.775,0.692,0.645,0.729,0.644,0.632,0.878,0.671,0.486,0.84,0.756,0.752,0.726,0.55,0.667,0.727,0.512,0.356,0.673,0.774,0.534,0.76,0.687,0.447,0.529,0.654,0.715,0.451,0.852,0.694,0.595,0.723,0.876,0.573,0.383,0.733,0.755,0.648,0.57,0.285,0.618,0.68,0.699,0.492,0.177,0.923,0.766,0.486,0.542,0.439,0.793,0.57,0.458,0.438,0.566,0.33,0.575,0.707,0.622,0.667,0.572,0.672,0.614,0.584,0.731,0.648,0.743,0.851,0.508,0.813,0.72,0.617,0.849,0.791,0.894,0.64,0.545,0.798,0.79,0.88,0.822,0.717,0.825,0.742,0.694,0.621,0.867,0.865,0.762,0.491,0.529,0.677,0.762,0.493,0.607,0.632,0.696,0.375,0.924,0.624,0.893,0.48,0.546,0.617,0.657,0.661,0.675,0.739,0.758,0.516,0.614,0.581,0.451,0.894,0.791,0.657,0.756,0.74,0.67,0.44,0.457,0.605,0.76,0.557,0.789,0.615,0.719,0.713,0.839,0.871,0.594,0.485,0.674,0.525,0.597,0.691,0.673,0.629,0.602,0.536,0.57,0.68,0.545,0.426,0.44,0.672,0.516,0.705,0.616,0.23,0.661,0.542,0.431,0.209,0.652,0.613,0.731,0.268,0.588,0.687,0.46,0.713,0.524,0.526,0.517,0.338,0.635,0.749,0.696,0.791,0.755,0.546,0.751,0.789,0.791,0.729,0.817,0.435,0.615,0.769,0.622,0.567,0.531,0.451,0.799,0.607,0.597,0.804,0.855,0.623,0.563,0.708,0.605,0.816,0.395,0.733,0.692,0.663,0.706,0.616,0.72,0.76,0.656,0.498,0.63,0.768,0.824,0.901,0.31,0.693,0.438,0.845,0.652,0.648,0.515,0.781,0.703,0.657,0.47,0.682,0.728,0.846,0.736,0.625,0.785,0.752,0.544,0.762,0.84,0.66,0.624,0.531,0.692,0.599,0.514,0.724,0.615,0.325,0.61,0.72,0.639,0.855,0.59,0.376,0.689,0.826,0.504,0.625,0.442,0.55,0.637,0.733,0.688,0.719,0.458,0.633,0.512,0.484,0.581,0.529,0.482,0.589,0.443,0.687,0.606,0.549,0.73,0.722,0.751,0.638,0.704,0.595,0.726,0.675,0.73,0.767,0.753,0.813,0.672,0.551,0.578,0.659,0.666,0.786,0.671,0.858,0.684,0.62,0.696,0.646,0.799,0.648,0.7,0.926,0.843,0.707,0.668,0.663,0.31,0.76,0.446,0.507,0.693,0.54,0.671,0.449,0.649,0.603,0.594,0.364,0.413,0.767,0.664,0.722,0.736,0.744,0.735,0.66,0.687,0.705,0.507,0.531,0.684,0.392,0.692,0.415,0.578,0.656,0.45,0.415,0.682,0.753,0.587,0.72,0.636,0.779,0.608,0.733,0.636,0.636,0.678,0.523,0.634,0.676,0.794,0.591,0.537,0.668,0.554,0.683,0.666,0.563,0.481,0.583,0.593,0.686,0.56,0.425,0.545,0.7,0.349,0.621,0.606,0.644,0.597,0.421,0.735,0.783,0.378,0.718,0.67,0.736,0.346,0.704,0.719,0.789,0.716,0.716,0.637,0.747,0.535,0.492,0.728,0.716,0.66,0.563,0.524,0.707,0.727,0.711,0.616,0.762,0.585,0.726,0.584,0.706,0.564,0.787,0.678,0.747,0.487,0.821,0.578,0.847,0.743,0.376,0.676,0.582,0.71,0.929,0.707,0.797,0.697,0.612,0.449,0.594,0.913,0.71,0.421,0.612,0.69,0.717,0.604,0.758,0.622,0.646,0.674,0.715,0.715,0.571,0.603,0.588,0.831,0.37,0.61,0.687,0.605,0.863,0.608,0.726,0.18,0.558,0.56,0.596,0.63,0.682,0.765,0.503,0.42,0.658,0.716,0.531,0.616,0.602,0.562,0.766,0.514,0.738,0.389,0.373,0.658,0.651,0.629,0.738,0.576,0.696,0.674,0.861,0.448,0.532,0.726,0.781,0.794,0.772,0.733,0.801,0.754,0.445,0.563,0.691,0.673,0.797,0.669,0.641,0.593,0.76,0.495,0.63,0.612,0.485,0.652,0.504,0.691,0.602,0.781,0.722,0.546,0.457,0.665,0.693,0.578,0.572,0.739,0.711,0.558,0.691,0.509,0.505,0.489,0.622,0.548,0.544,0.579,0.665,0.853,0.674,0.703,0.559,0.452,0.695,0.69,0.825,0.681,0.561,0.832,0.573,0.555,0.807,0.577,0.794,0.474,0.67,0.512,0.554,0.576,0.725,0.676,0.715,0.704,0.679,0.652,0.726,0.523,0.53,0.659,0.832,0.551,0.574,0.874,0.457,0.613,0.667,0.602,0.439,0.773,0.575,0.656,0.681,0.483,0.661,0.509,0.645,0.621,0.795,0.612,0.457,0.647,0.647,0.826,0.912,0.279,0.418,0.773,0.399,0.422,0.861,0.807,0.645,0.743,0.733,0.609,0.407,0.76,0.737,0.614,0.742,0.814,0.646,0.67,0.544,0.886,0.697,0.76,0.856,0.964,0.414,0.818,0.581,0.663,0.794,0.603,0.743,0.729,0.699,0.441,0.789,0.69,0.545,0.686,0.829,0.566,0.838,0.559,0.687,0.711,0.736,0.841,0.719,0.69,0.525,0.885,0.806,0.472,0.718,0.545,0.706,0.636,0.677,0.588,0.72,0.503,0.66,0.659,0.536,0.653,0.616,0.753,0.494,0.49,0.647,0.672,0.818,0.521,0.645,0.65,0.545,0.799,0.596,0.421,0.6,0.5,0.733,0.719,0.83,0.484,0.589,0.744,0.68,0.581,0.702,0.707,0.787,0.688,0.627,0.716,0.685,0.856,0.781,0.689,0.845,0.723,0.659,0.262,0.646,0.596,0.586,0.76,0.585,0.588,0.699,0.527,0.407,0.703,0.891,0.654,0.657,0.636,0.738,0.654,0.67,0.393,0.886,0.776,0.734,0.884,0.59,0.656,0.746,0.8,0.579,0.778,0.553,0.48,0.721,0.506,0.781,0.658,0.73,0.713,0.559,0.594,0.583,0.672,0.712,0.688,0.819,0.823,0.556,0.746,0.736,0.747,0.536,0.583,0.418,0.891,0.757,0.383,0.618,0.472,0.705,0.336,0.526,0.509,0.64,0.64,0.6,0.748,0.566,0.588,0.379,0.261,0.599,0.589,0.824,0.704,0.853,0.783,0.746,0.854,0.616,0.432,0.699,0.765,0.676,0.513,0.561,0.644,0.373,0.68,0.654,0.628,0.777,0.647,0.667,0.775,0.736,0.681,0.792,0.609,0.748,0.471,0.576,0.841,0.592,0.552,0.725,0.491,0.654,0.666,0.764,0.603,0.756,0.367,0.672,0.502,0.732,0.722,0.671,0.532,0.916,0.788,0.617,0.51,0.557,0.532,0.501,0.468,0.674,0.649,0.631,0.664,0.895,0.671,0.648,0.631,0.687,0.672,0.818,0.636,0.645,0.688,0.677,0.756,0.728,0.734,0.716,0.583,0.632,0.903,0.623,0.444,0.546,0.638,0.79,0.332,0.526,0.774,0.683,0.369,0.6,0.678,0.803,0.713,0.588,0.376,0.611,0.683,0.852,0.696,0.654,0.742,0.608,0.713,0.688,0.632,0.765,0.647,0.605,0.459,0.443,0.73,0.668,0.598,0.492,0.766,0.689,0.657,0.464,0.581,0.525,0.695,0.775,0.773,0.664,0.544,0.794,0.825,0.742,0.66,0.681,0.72,0.768,0.6,0.783,0.617,0.599,0.705,0.841,0.614,0.833,0.589,0.697,0.681,0.534,0.797,0.726,0.884,0.645,0.259,0.548,0.876,0.794,0.576,0.763,0.804,0.732,0.672,0.886,0.696,0.838,0.791,0.618,0.722,0.779,0.814,0.906,0.708,0.774,0.905,0.698,0.602,0.745,0.936,0.766,0.688,0.497,0.636,0.839,0.872,0.926,0.91,0.584,0.739,0.744,0.613,0.548,0.92,0.857,0.572,0.538,0.763,0.929,0.564,0.486,0.671,0.63,0.662,0.718,0.562,0.807,0.893,0.865,0.401,0.703,0.731,0.617,0.869,0.809,0.744,0.735,0.319,0.822,0.67,0.673,0.499,0.623,0.588,0.773,0.653,0.78,0.561,0.655,0.741,0.818,0.781,0.64,0.754,0.585,0.88,0.589,0.694,0.511,0.753,0.626,0.816,0.921,0.699,0.729,0.791,0.884,0.834,0.704,0.842,0.546,0.735,0.351,0.907,0.737,0.912,0.931,0.461,0.903,0.904,0.594,0.74,0.791,0.653,0.66,0.722,0.663,0.645,0.876,0.698,0.667,0.845,0.602,0.713,0.862,0.6,0.566,0.724,0.747,0.586,0.792,0.52,0.596,0.752,0.541,0.662,0.669,0.722,0.926,0.963,0.687,0.631,0.754,0.845,0.68,0.922,0.748,0.687,0.553,0.856,0.817,0.745,0.835,0.791,0.755,0.777,0.56,0.733,0.703,0.628,0.671,0.477,0.783,0.552,0.697,0.704,0.737,0.417,0.675,0.899,0.637,0.813,0.836,0.747,0.71,0.755,0.752,0.575,0.851,0.708,0.585,0.8,0.75,0.878,0.701,0.759,0.778,0.755,0.658,0.752,0.88,0.572,0.601,0.501,0.585,0.682,0.894,0.861,0.737,0.652,0.738,0.919,0.677,0.716,0.834,0.631,0.641,0.842,0.791,0.899,0.745,0.863,0.351,0.674,0.907,0.889,0.829,0.786,0.581,0.63,0.767,0.831,0.703,0.817,0.772,0.685,0.837,0.796,0.786,0.74,0.792,0.95,0.726,0.812,0.719,0.794,0.531,0.807,0.885,0.747,0.682,0.824,0.4,0.61,0.682,0.826,0.837,0.795,0.442,0.906,0.876,0.903,0.905,0.645,0.887,0.795,0.505,0.802,0.554,0.736,0.815,0.669,0.872,0.807,0.59,0.61,0.746,0.68,0.746,0.599,0.677,0.579,0.659,0.477,0.599,0.744,0.58,0.842,0.552,0.847,0.741,0.695],\"xaxis\":\"x\",\"yaxis\":\"y\",\"type\":\"histogram\"}],                        {\"template\":{\"data\":{\"histogram2dcontour\":[{\"type\":\"histogram2dcontour\",\"colorbar\":{\"outlinewidth\":0,\"ticks\":\"\"},\"colorscale\":[[0.0,\"#0d0887\"],[0.1111111111111111,\"#46039f\"],[0.2222222222222222,\"#7201a8\"],[0.3333333333333333,\"#9c179e\"],[0.4444444444444444,\"#bd3786\"],[0.5555555555555556,\"#d8576b\"],[0.6666666666666666,\"#ed7953\"],[0.7777777777777778,\"#fb9f3a\"],[0.8888888888888888,\"#fdca26\"],[1.0,\"#f0f921\"]]}],\"choropleth\":[{\"type\":\"choropleth\",\"colorbar\":{\"outlinewidth\":0,\"ticks\":\"\"}}],\"histogram2d\":[{\"type\":\"histogram2d\",\"colorbar\":{\"outlinewidth\":0,\"ticks\":\"\"},\"colorscale\":[[0.0,\"#0d0887\"],[0.1111111111111111,\"#46039f\"],[0.2222222222222222,\"#7201a8\"],[0.3333333333333333,\"#9c179e\"],[0.4444444444444444,\"#bd3786\"],[0.5555555555555556,\"#d8576b\"],[0.6666666666666666,\"#ed7953\"],[0.7777777777777778,\"#fb9f3a\"],[0.8888888888888888,\"#fdca26\"],[1.0,\"#f0f921\"]]}],\"heatmap\":[{\"type\":\"heatmap\",\"colorbar\":{\"outlinewidth\":0,\"ticks\":\"\"},\"colorscale\":[[0.0,\"#0d0887\"],[0.1111111111111111,\"#46039f\"],[0.2222222222222222,\"#7201a8\"],[0.3333333333333333,\"#9c179e\"],[0.4444444444444444,\"#bd3786\"],[0.5555555555555556,\"#d8576b\"],[0.6666666666666666,\"#ed7953\"],[0.7777777777777778,\"#fb9f3a\"],[0.8888888888888888,\"#fdca26\"],[1.0,\"#f0f921\"]]}],\"heatmapgl\":[{\"type\":\"heatmapgl\",\"colorbar\":{\"outlinewidth\":0,\"ticks\":\"\"},\"colorscale\":[[0.0,\"#0d0887\"],[0.1111111111111111,\"#46039f\"],[0.2222222222222222,\"#7201a8\"],[0.3333333333333333,\"#9c179e\"],[0.4444444444444444,\"#bd3786\"],[0.5555555555555556,\"#d8576b\"],[0.6666666666666666,\"#ed7953\"],[0.7777777777777778,\"#fb9f3a\"],[0.8888888888888888,\"#fdca26\"],[1.0,\"#f0f921\"]]}],\"contourcarpet\":[{\"type\":\"contourcarpet\",\"colorbar\":{\"outlinewidth\":0,\"ticks\":\"\"}}],\"contour\":[{\"type\":\"contour\",\"colorbar\":{\"outlinewidth\":0,\"ticks\":\"\"},\"colorscale\":[[0.0,\"#0d0887\"],[0.1111111111111111,\"#46039f\"],[0.2222222222222222,\"#7201a8\"],[0.3333333333333333,\"#9c179e\"],[0.4444444444444444,\"#bd3786\"],[0.5555555555555556,\"#d8576b\"],[0.6666666666666666,\"#ed7953\"],[0.7777777777777778,\"#fb9f3a\"],[0.8888888888888888,\"#fdca26\"],[1.0,\"#f0f921\"]]}],\"surface\":[{\"type\":\"surface\",\"colorbar\":{\"outlinewidth\":0,\"ticks\":\"\"},\"colorscale\":[[0.0,\"#0d0887\"],[0.1111111111111111,\"#46039f\"],[0.2222222222222222,\"#7201a8\"],[0.3333333333333333,\"#9c179e\"],[0.4444444444444444,\"#bd3786\"],[0.5555555555555556,\"#d8576b\"],[0.6666666666666666,\"#ed7953\"],[0.7777777777777778,\"#fb9f3a\"],[0.8888888888888888,\"#fdca26\"],[1.0,\"#f0f921\"]]}],\"mesh3d\":[{\"type\":\"mesh3d\",\"colorbar\":{\"outlinewidth\":0,\"ticks\":\"\"}}],\"scatter\":[{\"fillpattern\":{\"fillmode\":\"overlay\",\"size\":10,\"solidity\":0.2},\"type\":\"scatter\"}],\"parcoords\":[{\"type\":\"parcoords\",\"line\":{\"colorbar\":{\"outlinewidth\":0,\"ticks\":\"\"}}}],\"scatterpolargl\":[{\"type\":\"scatterpolargl\",\"marker\":{\"colorbar\":{\"outlinewidth\":0,\"ticks\":\"\"}}}],\"bar\":[{\"error_x\":{\"color\":\"#2a3f5f\"},\"error_y\":{\"color\":\"#2a3f5f\"},\"marker\":{\"line\":{\"color\":\"#E5ECF6\",\"width\":0.5},\"pattern\":{\"fillmode\":\"overlay\",\"size\":10,\"solidity\":0.2}},\"type\":\"bar\"}],\"scattergeo\":[{\"type\":\"scattergeo\",\"marker\":{\"colorbar\":{\"outlinewidth\":0,\"ticks\":\"\"}}}],\"scatterpolar\":[{\"type\":\"scatterpolar\",\"marker\":{\"colorbar\":{\"outlinewidth\":0,\"ticks\":\"\"}}}],\"histogram\":[{\"marker\":{\"pattern\":{\"fillmode\":\"overlay\",\"size\":10,\"solidity\":0.2}},\"type\":\"histogram\"}],\"scattergl\":[{\"type\":\"scattergl\",\"marker\":{\"colorbar\":{\"outlinewidth\":0,\"ticks\":\"\"}}}],\"scatter3d\":[{\"type\":\"scatter3d\",\"line\":{\"colorbar\":{\"outlinewidth\":0,\"ticks\":\"\"}},\"marker\":{\"colorbar\":{\"outlinewidth\":0,\"ticks\":\"\"}}}],\"scattermapbox\":[{\"type\":\"scattermapbox\",\"marker\":{\"colorbar\":{\"outlinewidth\":0,\"ticks\":\"\"}}}],\"scatterternary\":[{\"type\":\"scatterternary\",\"marker\":{\"colorbar\":{\"outlinewidth\":0,\"ticks\":\"\"}}}],\"scattercarpet\":[{\"type\":\"scattercarpet\",\"marker\":{\"colorbar\":{\"outlinewidth\":0,\"ticks\":\"\"}}}],\"carpet\":[{\"aaxis\":{\"endlinecolor\":\"#2a3f5f\",\"gridcolor\":\"white\",\"linecolor\":\"white\",\"minorgridcolor\":\"white\",\"startlinecolor\":\"#2a3f5f\"},\"baxis\":{\"endlinecolor\":\"#2a3f5f\",\"gridcolor\":\"white\",\"linecolor\":\"white\",\"minorgridcolor\":\"white\",\"startlinecolor\":\"#2a3f5f\"},\"type\":\"carpet\"}],\"table\":[{\"cells\":{\"fill\":{\"color\":\"#EBF0F8\"},\"line\":{\"color\":\"white\"}},\"header\":{\"fill\":{\"color\":\"#C8D4E3\"},\"line\":{\"color\":\"white\"}},\"type\":\"table\"}],\"barpolar\":[{\"marker\":{\"line\":{\"color\":\"#E5ECF6\",\"width\":0.5},\"pattern\":{\"fillmode\":\"overlay\",\"size\":10,\"solidity\":0.2}},\"type\":\"barpolar\"}],\"pie\":[{\"automargin\":true,\"type\":\"pie\"}]},\"layout\":{\"autotypenumbers\":\"strict\",\"colorway\":[\"#636efa\",\"#EF553B\",\"#00cc96\",\"#ab63fa\",\"#FFA15A\",\"#19d3f3\",\"#FF6692\",\"#B6E880\",\"#FF97FF\",\"#FECB52\"],\"font\":{\"color\":\"#2a3f5f\"},\"hovermode\":\"closest\",\"hoverlabel\":{\"align\":\"left\"},\"paper_bgcolor\":\"white\",\"plot_bgcolor\":\"#E5ECF6\",\"polar\":{\"bgcolor\":\"#E5ECF6\",\"angularaxis\":{\"gridcolor\":\"white\",\"linecolor\":\"white\",\"ticks\":\"\"},\"radialaxis\":{\"gridcolor\":\"white\",\"linecolor\":\"white\",\"ticks\":\"\"}},\"ternary\":{\"bgcolor\":\"#E5ECF6\",\"aaxis\":{\"gridcolor\":\"white\",\"linecolor\":\"white\",\"ticks\":\"\"},\"baxis\":{\"gridcolor\":\"white\",\"linecolor\":\"white\",\"ticks\":\"\"},\"caxis\":{\"gridcolor\":\"white\",\"linecolor\":\"white\",\"ticks\":\"\"}},\"coloraxis\":{\"colorbar\":{\"outlinewidth\":0,\"ticks\":\"\"}},\"colorscale\":{\"sequential\":[[0.0,\"#0d0887\"],[0.1111111111111111,\"#46039f\"],[0.2222222222222222,\"#7201a8\"],[0.3333333333333333,\"#9c179e\"],[0.4444444444444444,\"#bd3786\"],[0.5555555555555556,\"#d8576b\"],[0.6666666666666666,\"#ed7953\"],[0.7777777777777778,\"#fb9f3a\"],[0.8888888888888888,\"#fdca26\"],[1.0,\"#f0f921\"]],\"sequentialminus\":[[0.0,\"#0d0887\"],[0.1111111111111111,\"#46039f\"],[0.2222222222222222,\"#7201a8\"],[0.3333333333333333,\"#9c179e\"],[0.4444444444444444,\"#bd3786\"],[0.5555555555555556,\"#d8576b\"],[0.6666666666666666,\"#ed7953\"],[0.7777777777777778,\"#fb9f3a\"],[0.8888888888888888,\"#fdca26\"],[1.0,\"#f0f921\"]],\"diverging\":[[0,\"#8e0152\"],[0.1,\"#c51b7d\"],[0.2,\"#de77ae\"],[0.3,\"#f1b6da\"],[0.4,\"#fde0ef\"],[0.5,\"#f7f7f7\"],[0.6,\"#e6f5d0\"],[0.7,\"#b8e186\"],[0.8,\"#7fbc41\"],[0.9,\"#4d9221\"],[1,\"#276419\"]]},\"xaxis\":{\"gridcolor\":\"white\",\"linecolor\":\"white\",\"ticks\":\"\",\"title\":{\"standoff\":15},\"zerolinecolor\":\"white\",\"automargin\":true,\"zerolinewidth\":2},\"yaxis\":{\"gridcolor\":\"white\",\"linecolor\":\"white\",\"ticks\":\"\",\"title\":{\"standoff\":15},\"zerolinecolor\":\"white\",\"automargin\":true,\"zerolinewidth\":2},\"scene\":{\"xaxis\":{\"backgroundcolor\":\"#E5ECF6\",\"gridcolor\":\"white\",\"linecolor\":\"white\",\"showbackground\":true,\"ticks\":\"\",\"zerolinecolor\":\"white\",\"gridwidth\":2},\"yaxis\":{\"backgroundcolor\":\"#E5ECF6\",\"gridcolor\":\"white\",\"linecolor\":\"white\",\"showbackground\":true,\"ticks\":\"\",\"zerolinecolor\":\"white\",\"gridwidth\":2},\"zaxis\":{\"backgroundcolor\":\"#E5ECF6\",\"gridcolor\":\"white\",\"linecolor\":\"white\",\"showbackground\":true,\"ticks\":\"\",\"zerolinecolor\":\"white\",\"gridwidth\":2}},\"shapedefaults\":{\"line\":{\"color\":\"#2a3f5f\"}},\"annotationdefaults\":{\"arrowcolor\":\"#2a3f5f\",\"arrowhead\":0,\"arrowwidth\":1},\"geo\":{\"bgcolor\":\"white\",\"landcolor\":\"#E5ECF6\",\"subunitcolor\":\"white\",\"showland\":true,\"showlakes\":true,\"lakecolor\":\"white\"},\"title\":{\"x\":0.05},\"mapbox\":{\"style\":\"light\"}}},\"xaxis\":{\"anchor\":\"y\",\"domain\":[0.0,1.0],\"title\":{\"text\":\"danceability\"}},\"yaxis\":{\"anchor\":\"x\",\"domain\":[0.0,1.0],\"title\":{\"text\":\"count\"}},\"legend\":{\"tracegroupgap\":0},\"title\":{\"text\":\"Danceability distribution across top hits from 2000-2019\"},\"barmode\":\"relative\",\"shapes\":[{\"line\":{\"color\":\"firebrick\",\"dash\":\"dash\",\"width\":2},\"type\":\"line\",\"x0\":0.6672579162410623,\"x1\":0.6672579162410623,\"xref\":\"x\",\"y0\":0,\"y1\":1,\"yref\":\"y domain\"}],\"margin\":{\"t\":150},\"annotations\":[{\"font\":{\"color\":\"firebrick\",\"size\":12},\"showarrow\":false,\"text\":\"<b>0.67 average</b>\",\"textangle\":0,\"x\":0.7,\"xref\":\"x\",\"y\":1.07,\"yref\":\"paper\"}]},                        {\"responsive\": true}                    ).then(function(){\n",
       "                            \n",
       "var gd = document.getElementById('5e00e0fb-2698-46e9-a57b-6ee884c25109');\n",
       "var x = new MutationObserver(function (mutations, observer) {{\n",
       "        var display = window.getComputedStyle(gd).display;\n",
       "        if (!display || display === 'none') {{\n",
       "            console.log([gd, 'removed!']);\n",
       "            Plotly.purge(gd);\n",
       "            observer.disconnect();\n",
       "        }}\n",
       "}});\n",
       "\n",
       "// Listen for the removal of the full notebook cells\n",
       "var notebookContainer = gd.closest('#notebook-container');\n",
       "if (notebookContainer) {{\n",
       "    x.observe(notebookContainer, {childList: true});\n",
       "}}\n",
       "\n",
       "// Listen for the clearing of the current output cell\n",
       "var outputEl = gd.closest('.output');\n",
       "if (outputEl) {{\n",
       "    x.observe(outputEl, {childList: true});\n",
       "}}\n",
       "\n",
       "                        })                };                });            </script>        </div>"
      ]
     },
     "metadata": {},
     "output_type": "display_data"
    }
   ],
   "source": [
    "fig = px.histogram(df,x = 'danceability',\n",
    "                   title = 'Danceability distribution across top hits from 2000-2019',)\n",
    "fig.add_vline(x=np.mean(df.danceability),line_width = 2, line_dash = 'dash', \n",
    "              line_color = 'firebrick')\n",
    "fig.update_layout(margin=dict(t=150))\n",
    "fig.add_annotation(dict(font=dict(color=\"firebrick\",size=12),\n",
    "                            x=0.70,\n",
    "                            y=1.07,\n",
    "                            showarrow=False,\n",
    "                            text='<b>0.67 average</b>',\n",
    "                            textangle=0,\n",
    "                            xref=\"x\",\n",
    "                            yref=\"paper\"\n",
    "                           ))\n",
    "fig.show()"
   ]
  },
  {
   "cell_type": "markdown",
   "id": "bd359c17",
   "metadata": {
    "_cell_guid": "c2a3c9ae-384b-4f0d-817d-050bda8b81d2",
    "_uuid": "b43fd1bf-8c7d-4dc9-9743-0f31e7eb93e1",
    "papermill": {
     "duration": 0.024145,
     "end_time": "2022-06-10T19:28:24.320292",
     "exception": false,
     "start_time": "2022-06-10T19:28:24.296147",
     "status": "completed"
    },
    "tags": []
   },
   "source": [
    "### Energy distribution"
   ]
  },
  {
   "cell_type": "code",
   "execution_count": 22,
   "id": "1875dce8",
   "metadata": {
    "_cell_guid": "86b2f937-72c1-47ba-b9c8-6dd754cedc40",
    "_uuid": "ca8264d9-4195-4c47-b45f-32be07b0bb76",
    "collapsed": false,
    "execution": {
     "iopub.execute_input": "2022-06-10T19:28:24.372506Z",
     "iopub.status.busy": "2022-06-10T19:28:24.371791Z",
     "iopub.status.idle": "2022-06-10T19:28:24.448228Z",
     "shell.execute_reply": "2022-06-10T19:28:24.447378Z"
    },
    "jupyter": {
     "outputs_hidden": false
    },
    "papermill": {
     "duration": 0.105117,
     "end_time": "2022-06-10T19:28:24.450465",
     "exception": false,
     "start_time": "2022-06-10T19:28:24.345348",
     "status": "completed"
    },
    "tags": []
   },
   "outputs": [
    {
     "data": {
      "text/html": [
       "<div>                            <div id=\"a306a0a0-611e-4850-8ea8-a7e1db378476\" class=\"plotly-graph-div\" style=\"height:525px; width:100%;\"></div>            <script type=\"text/javascript\">                require([\"plotly\"], function(Plotly) {                    window.PLOTLYENV=window.PLOTLYENV || {};                                    if (document.getElementById(\"a306a0a0-611e-4850-8ea8-a7e1db378476\")) {                    Plotly.newPlot(                        \"a306a0a0-611e-4850-8ea8-a7e1db378476\",                        [{\"alignmentgroup\":\"True\",\"bingroup\":\"x\",\"hovertemplate\":\"energy=%{x}<br>count=%{y}<extra></extra>\",\"legendgroup\":\"\",\"marker\":{\"color\":\"#636efa\",\"pattern\":{\"shape\":\"\"}},\"name\":\"\",\"offsetgroup\":\"\",\"orientation\":\"v\",\"showlegend\":false,\"x\":[0.834,0.913,0.928,0.661,0.772,0.808,0.728,0.922,0.622,0.88,0.864,0.677,0.88,0.852,0.965,0.681,0.743,0.72,0.674,0.802,0.641,0.662,0.736,0.48,0.947,0.75,0.632,0.688,0.834,0.652,0.796,0.95,0.836,0.922,0.887,0.834,0.849,0.968,0.732,0.514,0.744,0.734,0.656,0.812,0.622,0.847,0.901,0.791,0.865,0.666,0.607,0.831,0.593,0.664,0.602,0.874,0.416,0.83,0.481,0.786,0.82,0.487,0.791,0.664,0.606,0.911,0.768,0.563,0.801,0.608,0.832,0.849,0.638,0.929,0.773,0.843,0.894,0.669,0.551,0.903,0.933,0.981,0.855,0.772,0.71,0.737,0.965,0.673,0.557,0.869,0.787,0.764,0.697,0.806,0.917,0.79,0.759,0.86,0.729,0.75,0.854,0.868,0.82,0.694,0.706,0.601,0.837,0.842,0.724,0.579,0.52,0.821,0.922,0.964,0.466,0.634,0.8,0.618,0.707,0.581,0.661,0.341,0.672,0.744,0.679,0.679,0.919,0.568,0.702,0.249,0.511,0.899,0.835,0.665,0.925,0.804,0.762,0.715,0.934,0.706,0.768,0.602,0.877,0.587,0.385,0.637,0.316,0.829,0.896,0.481,0.7,0.561,0.905,0.844,0.48,0.894,0.644,0.774,0.723,0.594,0.403,0.858,0.552,0.669,0.776,0.825,0.719,0.597,0.731,0.677,0.759,0.847,0.471,0.839,0.797,0.69,0.643,0.864,0.923,0.72,0.717,0.845,0.876,0.698,0.843,0.894,0.933,0.701,0.638,0.654,0.722,0.793,0.691,0.904,0.84,0.751,0.625,0.536,0.662,0.745,0.72,0.889,0.681,0.919,0.853,0.707,0.614,0.665,0.806,0.938,0.77,0.761,0.757,0.59,0.774,0.863,0.426,0.707,0.726,0.872,0.58,0.848,0.811,0.667,0.874,0.758,0.515,0.589,0.903,0.41,0.764,0.749,0.677,0.496,0.607,0.88,0.706,0.695,0.9,0.953,0.543,0.767,0.97,0.97,0.649,0.807,0.515,0.82,0.568,0.725,0.685,0.748,0.668,0.746,0.769,0.72,0.538,0.844,0.936,0.588,0.852,0.85,0.713,0.824,0.735,0.77,0.873,0.687,0.768,0.714,0.698,0.759,0.879,0.668,0.678,0.772,0.645,0.978,0.899,0.943,0.933,0.589,0.83,0.604,0.68,0.748,0.34,0.836,0.6,0.747,0.714,0.469,0.724,0.488,0.498,0.658,0.858,0.736,0.699,0.896,0.733,0.657,0.867,0.808,0.887,0.713,0.489,0.705,0.863,0.404,0.749,0.824,0.752,0.695,0.813,0.459,0.538,0.826,0.775,0.92,0.433,0.74,0.398,0.541,0.698,0.862,0.84,0.885,0.768,0.521,0.654,0.636,0.735,0.54,0.862,0.749,0.718,0.677,0.797,0.904,0.568,0.78,0.536,0.669,0.552,0.525,0.957,0.791,0.6,0.615,0.646,0.788,0.597,0.538,0.903,0.538,0.93,0.819,0.649,0.406,0.445,0.791,0.862,0.838,0.974,0.671,0.746,0.801,0.799,0.965,0.916,0.948,0.621,0.796,0.502,0.466,0.863,0.825,0.579,0.849,0.672,0.515,0.899,0.837,0.647,0.72,0.786,0.865,0.754,0.938,0.712,0.748,0.697,0.655,0.731,0.907,0.874,0.866,0.697,0.885,0.774,0.849,0.513,0.722,0.381,0.633,0.705,0.628,0.666,0.845,0.858,0.968,0.682,0.821,0.891,0.911,0.785,0.792,0.851,0.284,0.819,0.663,0.741,0.826,0.387,0.834,0.265,0.641,0.665,0.735,0.795,0.733,0.988,0.847,0.924,0.465,0.739,0.999,0.846,0.936,0.525,0.653,0.458,0.533,0.734,0.888,0.219,0.507,0.404,0.905,0.844,0.734,0.597,0.95,0.756,0.768,0.0581,0.799,0.445,0.663,0.476,0.578,0.696,0.64,0.574,0.479,0.679,0.631,0.785,0.699,0.647,0.692,0.907,0.796,0.803,0.754,0.714,0.835,0.659,0.648,0.482,0.633,0.682,0.496,0.599,0.365,0.759,0.793,0.785,0.705,0.928,0.532,0.851,0.66,0.493,0.678,0.783,0.891,0.713,0.922,0.658,0.515,0.439,0.813,0.896,0.452,0.732,0.589,0.538,0.814,0.628,0.55,0.417,0.498,0.946,0.639,0.944,0.798,0.916,0.594,0.912,0.736,0.614,0.558,0.247,0.501,0.529,0.513,0.6,0.956,0.889,0.785,0.358,0.652,0.929,0.948,0.508,0.662,0.979,0.806,0.583,0.863,0.876,0.329,0.584,0.554,0.4,0.93,0.768,0.517,0.898,0.767,0.747,0.739,0.597,0.955,0.87,0.721,0.94,0.824,0.6,0.583,0.694,0.558,0.671,0.587,0.551,0.777,0.823,0.485,0.877,0.799,0.931,0.97,0.923,0.761,0.817,0.595,0.643,0.67,0.921,0.572,0.869,0.454,0.484,0.735,0.757,0.768,0.628,0.577,0.498,0.68,0.815,0.504,0.783,0.609,0.977,0.439,0.876,0.746,0.886,0.746,0.633,0.812,0.922,0.7,0.908,0.391,0.846,0.62,0.883,0.511,0.797,0.961,0.562,0.81,0.598,0.742,0.589,0.875,0.936,0.887,0.519,0.639,0.516,0.823,0.874,0.62,0.806,0.674,0.913,0.923,0.574,0.744,0.578,0.815,0.819,0.554,0.815,0.261,0.742,0.203,0.955,0.624,0.368,0.786,0.8,0.568,0.688,0.921,0.743,0.465,0.905,0.855,0.955,0.71,0.612,0.734,0.808,0.656,0.829,0.844,0.641,0.844,0.291,0.723,0.77,0.807,0.872,0.754,0.954,0.881,0.743,0.711,0.782,0.937,0.931,0.724,0.717,0.751,0.681,0.45,0.74,0.697,0.891,0.826,0.905,0.62,0.861,0.93,0.857,0.658,0.709,0.939,0.591,0.6,0.599,0.95,0.783,0.974,0.68,0.757,0.967,0.857,0.808,0.699,0.959,0.538,0.921,0.777,0.876,0.836,0.394,0.438,0.584,0.731,0.854,0.91,0.891,0.681,0.895,0.422,0.721,0.629,0.759,0.757,0.865,0.851,0.887,0.906,0.682,0.644,0.959,0.708,0.939,0.906,0.59,0.8,0.932,0.828,0.789,0.661,0.454,0.668,0.749,0.8,0.55,0.71,0.719,0.86,0.913,0.921,0.487,0.744,0.94,0.774,0.606,0.9,0.721,0.609,0.76,0.467,0.549,0.604,0.673,0.693,0.518,0.79,0.8,0.881,0.813,0.849,0.911,0.428,0.976,0.628,0.931,0.841,0.669,0.829,0.857,0.695,0.874,0.823,0.77,0.954,0.685,0.549,0.74,0.638,0.862,0.745,0.695,0.641,0.911,0.984,0.658,0.939,0.972,0.746,0.701,0.765,0.571,0.612,0.921,0.881,0.917,0.747,0.729,0.864,0.966,0.766,0.653,0.87,0.524,0.668,0.848,0.934,0.884,0.665,0.931,0.927,0.661,0.844,0.322,0.716,0.712,0.703,0.9,0.901,0.801,0.717,0.462,0.955,0.687,0.699,0.859,0.425,0.795,0.692,0.617,0.905,0.808,0.859,0.664,0.445,0.906,0.766,0.58,0.684,0.724,0.882,0.954,0.822,0.82,0.47,0.7,0.563,0.516,0.766,0.806,0.72,0.627,0.672,0.741,0.599,0.733,0.678,0.957,0.953,0.629,0.647,0.443,0.739,0.587,0.743,0.468,0.825,0.923,0.857,0.69,0.692,0.956,0.948,0.523,0.702,0.808,0.783,0.924,0.921,0.862,0.853,0.977,0.666,0.486,0.712,0.778,0.695,0.584,0.862,0.741,0.712,0.874,0.792,0.824,0.873,0.93,0.713,0.941,0.612,0.945,0.866,0.517,0.906,0.902,0.524,0.783,0.55,0.711,0.861,0.746,0.804,0.701,0.874,0.911,0.882,0.742,0.684,0.853,0.614,0.969,0.905,0.89,0.717,0.687,0.918,0.584,0.976,0.62,0.764,0.783,0.596,0.492,0.847,0.905,0.894,0.872,0.698,0.634,0.644,0.742,0.877,0.771,0.796,0.826,0.878,0.882,0.492,0.803,0.841,0.925,0.921,0.59,0.837,0.916,0.783,0.716,0.754,0.675,0.939,0.837,0.913,0.922,0.942,0.707,0.574,0.948,0.783,0.934,0.517,0.976,0.954,0.793,0.75,0.771,0.795,0.813,0.876,0.673,0.736,0.861,0.751,0.869,0.607,0.595,0.931,0.59,0.91,0.82,0.836,0.805,0.746,0.891,0.672,0.601,0.605,0.942,0.837,0.745,0.81,0.695,0.904,0.889,0.859,0.438,0.929,0.699,0.498,0.836,0.781,0.748,0.482,0.867,0.723,0.752,0.786,0.624,0.83,0.87,0.711,0.848,0.836,0.538,0.862,0.668,0.698,0.841,0.615,0.612,0.814,0.613,0.83,0.753,0.69,0.664,0.853,0.798,0.905,0.673,0.662,0.368,0.717,0.67,0.829,0.893,0.683,0.865,0.497,0.932,0.77,0.761,0.736,0.832,0.558,0.912,0.931,0.602,0.777,0.682,0.729,0.732,0.907,0.893,0.857,0.628,0.876,0.709,0.939,0.678,0.834,0.869,0.546,0.795,0.783,0.89,0.598,0.808,0.881,0.861,0.857,0.843,0.926,0.595,0.9,0.729,0.705,0.856,0.808,0.585,0.815,0.67,0.946,0.752,0.807,0.677,0.845,0.851,0.817,0.672,0.766,0.797,0.939,0.882,0.665,0.803,0.607,0.839,0.786,0.775,0.926,0.752,0.846,0.934,0.927,0.88,0.828,0.861,0.901,0.963,0.614,0.71,0.566,0.831,0.739,0.805,0.69,0.695,0.711,0.889,0.611,0.718,0.321,0.734,0.87,0.671,0.849,0.768,0.639,0.783,0.936,0.732,0.649,0.709,0.348,0.82,0.497,0.661,0.115,0.407,0.766,0.58,0.638,0.776,0.855,0.824,0.552,0.793,0.847,0.858,0.821,0.972,0.732,0.937,0.796,0.857,0.858,0.485,0.689,0.496,0.972,0.861,0.937,0.7,0.862,0.863,0.972,0.698,0.889,0.89,0.71,0.666,0.918,0.716,0.729,0.676,0.946,0.769,0.752,0.695,0.935,0.894,0.901,0.339,0.924,0.867,0.529,0.748,0.585,0.841,0.603,0.882,0.873,0.84,0.897,0.55,0.787,0.557,0.469,0.784,0.628,0.791,0.655,0.873,0.831,0.694,0.667,0.823,0.863,0.792,0.8,0.527,0.86,0.787,0.636,0.781,0.872,0.952,0.44,0.795,0.837,0.727,0.69,0.837,0.838,0.843,0.656,0.691,0.939,0.442,0.683,0.922,0.706,0.686,0.677,0.695,0.515,0.875,0.835,0.893,0.428,0.504,0.784,0.783,0.698,0.526,0.811,0.685,0.818,0.985,0.677,0.537,0.902,0.921,0.758,0.608,0.634,0.922,0.914,0.652,0.894,0.816,0.807,0.724,0.783,0.785,0.631,0.843,0.853,0.958,0.787,0.823,0.844,0.822,0.825,0.81,0.872,0.906,0.924,0.582,0.79,0.71,0.867,0.469,0.532,0.728,0.549,0.886,0.693,0.628,0.867,0.777,0.794,0.869,0.636,0.435,0.835,0.836,0.815,0.929,0.729,0.702,0.576,0.523,0.707,0.829,0.828,0.772,0.726,0.874,0.534,0.872,0.68,0.715,0.877,0.795,0.78,0.422,0.735,0.659,0.833,0.512,0.692,0.757,0.622,0.61,0.923,0.489,0.414,0.821,0.674,0.463,0.871,0.729,0.538,0.878,0.31,0.596,0.28,0.948,0.822,0.585,0.571,0.716,0.742,0.42,0.758,0.787,0.264,0.475,0.887,0.891,0.72,0.65,0.885,0.725,0.652,0.723,0.972,0.595,0.622,0.794,0.476,0.915,0.628,0.621,0.886,0.527,0.605,0.857,0.799,0.963,0.705,0.51,0.861,0.861,0.675,0.529,0.921,0.915,0.578,0.783,0.524,0.51,0.885,0.72,0.777,0.702,0.508,0.761,0.522,0.935,0.845,0.803,0.581,0.608,0.714,0.792,0.78,0.786,0.761,0.753,0.791,0.791,0.727,0.805,0.911,0.768,0.829,0.789,0.801,0.951,0.885,0.8,0.52,0.67,0.754,0.832,0.786,0.675,0.586,0.738,0.791,0.663,0.292,0.676,0.671,0.52,0.731,0.621,0.783,0.84,0.0549,0.629,0.771,0.848,0.841,0.703,0.67,0.709,0.609,0.445,0.481,0.567,0.809,0.381,0.606,0.823,0.73,0.613,0.703,0.564,0.521,0.883,0.835,0.725,0.736,0.486,0.655,0.827,0.815,0.868,0.832,0.476,0.858,0.427,0.574,0.637,0.765,0.578,0.627,0.877,0.677,0.736,0.566,0.664,0.682,0.802,0.805,0.728,0.741,0.703,0.526,0.848,0.749,0.785,0.593,0.564,0.702,0.768,0.563,0.658,0.873,0.761,0.705,0.486,0.732,0.724,0.628,0.884,0.43,0.717,0.714,0.769,0.664,0.862,0.671,0.635,0.74,0.676,0.741,0.664,0.791,0.799,0.302,0.869,0.658,0.733,0.634,0.558,0.467,0.754,0.766,0.789,0.781,0.688,0.356,0.615,0.768,0.877,0.57,0.858,0.942,0.76,0.593,0.896,0.823,0.716,0.825,0.719,0.594,0.625,0.378,0.524,0.431,0.766,0.639,0.8,0.689,0.534,0.693,0.76,0.83,0.705,0.725,0.674,0.915,0.589,0.786,0.396,0.331,0.916,0.869,0.804,0.43,0.567,0.692,0.803,0.868,0.519,0.627,0.71,0.716,0.927,0.714,0.681,0.314,0.738,0.953,0.761,0.593,0.913,0.836,0.713,0.702,0.604,0.589,0.563,0.847,0.908,0.732,0.575,0.62,0.734,0.819,0.529,0.924,0.705,0.635,0.862,0.753,0.943,0.618,0.412,0.633,0.585,0.462,0.702,0.822,0.7,0.91,0.553,0.517,0.623,0.819,0.798,0.802,0.541,0.702,0.356,0.932,0.77,0.587,0.558,0.758,0.725,0.496,0.275,0.5,0.791,0.739,0.771,0.531,0.433,0.672,0.598,0.747,0.576,0.552,0.653,0.652,0.882,0.786,0.372,0.763,0.517,0.81,0.61,0.635,0.448,0.712,0.728,0.318,0.434,0.731,0.716,0.314,0.583,0.844,0.769,0.347,0.741,0.437,0.701,0.669,0.632,0.782,0.598,0.886,0.75,0.655,0.427,0.817,0.771,0.582,0.443,0.744,0.787,0.813,0.625,0.618,0.626,0.884,0.882,0.707,0.593,0.523,0.709,0.822,0.489,0.517,0.81,0.391,0.666,0.444,0.54,0.792,0.836,0.764,0.65,0.675,0.8,0.778,0.804,0.72,0.723,0.745,0.713,0.672,0.804,0.858,0.609,0.8,0.887,0.745,0.687,0.872,0.868,0.794,0.558,0.485,0.463,0.739,0.451,0.739,0.502,0.838,0.637,0.676,0.909,0.749,0.819,0.658,0.575,0.674,0.666,0.667,0.803,0.548,0.533,0.449,0.52,0.428,0.731,0.77,0.566,0.657,0.88,0.726,0.537,0.713,0.625,0.862,0.559,0.73,0.611,0.801,0.822,0.677,0.296,0.633,0.636,0.412,0.387,0.593,0.675,0.518,0.749,0.613,0.745,0.718,0.775,0.744,0.577,0.705,0.519,0.633,0.741,0.709,0.658,0.831,0.583,0.688,0.366,0.804,0.834,0.624,0.895,0.761,0.854,0.764,0.787,0.714,0.308,0.738,0.703,0.346,0.785,0.649,0.805,0.561,0.578,0.581,0.749,0.792,0.586,0.632,0.816,0.346,0.626,0.473,0.769,0.779,0.68,0.892,0.832,0.797,0.834,0.61,0.84,0.76,0.683,0.859,0.408,0.824,0.751,0.586,0.713,0.701,0.544,0.641,0.789,0.599,0.505,0.571,0.541,0.648,0.909,0.585,0.56,0.619,0.425,0.548,0.317,0.522,0.671,0.488,0.751,0.385,0.794,0.405,0.782,0.559,0.511,0.603,0.86,0.557,0.861,0.622,0.744,0.823,0.73,0.803,0.559,0.801,0.587,0.811,0.642,0.471,0.296,0.881,0.53,0.496,0.539,0.658,0.662,0.63,0.709,0.502,0.594,0.539,0.639,0.692,0.636,0.586,0.808,0.498,0.743,0.59,0.554,0.496,0.704,0.793,0.581,0.887,0.762,0.57,0.653,0.588,0.795,0.624,0.656,0.773,0.364,0.783,0.585,0.382,0.662,0.839,0.389,0.862,0.765,0.496,0.428,0.645,0.498,0.81,0.518,0.895,0.814,0.803,0.642,0.725,0.7,0.578,0.787,0.733,0.714,0.904,0.625,0.682,0.887,0.79,0.653,0.734,0.702,0.678,0.52,0.762],\"xaxis\":\"x\",\"yaxis\":\"y\",\"type\":\"histogram\"}],                        {\"template\":{\"data\":{\"histogram2dcontour\":[{\"type\":\"histogram2dcontour\",\"colorbar\":{\"outlinewidth\":0,\"ticks\":\"\"},\"colorscale\":[[0.0,\"#0d0887\"],[0.1111111111111111,\"#46039f\"],[0.2222222222222222,\"#7201a8\"],[0.3333333333333333,\"#9c179e\"],[0.4444444444444444,\"#bd3786\"],[0.5555555555555556,\"#d8576b\"],[0.6666666666666666,\"#ed7953\"],[0.7777777777777778,\"#fb9f3a\"],[0.8888888888888888,\"#fdca26\"],[1.0,\"#f0f921\"]]}],\"choropleth\":[{\"type\":\"choropleth\",\"colorbar\":{\"outlinewidth\":0,\"ticks\":\"\"}}],\"histogram2d\":[{\"type\":\"histogram2d\",\"colorbar\":{\"outlinewidth\":0,\"ticks\":\"\"},\"colorscale\":[[0.0,\"#0d0887\"],[0.1111111111111111,\"#46039f\"],[0.2222222222222222,\"#7201a8\"],[0.3333333333333333,\"#9c179e\"],[0.4444444444444444,\"#bd3786\"],[0.5555555555555556,\"#d8576b\"],[0.6666666666666666,\"#ed7953\"],[0.7777777777777778,\"#fb9f3a\"],[0.8888888888888888,\"#fdca26\"],[1.0,\"#f0f921\"]]}],\"heatmap\":[{\"type\":\"heatmap\",\"colorbar\":{\"outlinewidth\":0,\"ticks\":\"\"},\"colorscale\":[[0.0,\"#0d0887\"],[0.1111111111111111,\"#46039f\"],[0.2222222222222222,\"#7201a8\"],[0.3333333333333333,\"#9c179e\"],[0.4444444444444444,\"#bd3786\"],[0.5555555555555556,\"#d8576b\"],[0.6666666666666666,\"#ed7953\"],[0.7777777777777778,\"#fb9f3a\"],[0.8888888888888888,\"#fdca26\"],[1.0,\"#f0f921\"]]}],\"heatmapgl\":[{\"type\":\"heatmapgl\",\"colorbar\":{\"outlinewidth\":0,\"ticks\":\"\"},\"colorscale\":[[0.0,\"#0d0887\"],[0.1111111111111111,\"#46039f\"],[0.2222222222222222,\"#7201a8\"],[0.3333333333333333,\"#9c179e\"],[0.4444444444444444,\"#bd3786\"],[0.5555555555555556,\"#d8576b\"],[0.6666666666666666,\"#ed7953\"],[0.7777777777777778,\"#fb9f3a\"],[0.8888888888888888,\"#fdca26\"],[1.0,\"#f0f921\"]]}],\"contourcarpet\":[{\"type\":\"contourcarpet\",\"colorbar\":{\"outlinewidth\":0,\"ticks\":\"\"}}],\"contour\":[{\"type\":\"contour\",\"colorbar\":{\"outlinewidth\":0,\"ticks\":\"\"},\"colorscale\":[[0.0,\"#0d0887\"],[0.1111111111111111,\"#46039f\"],[0.2222222222222222,\"#7201a8\"],[0.3333333333333333,\"#9c179e\"],[0.4444444444444444,\"#bd3786\"],[0.5555555555555556,\"#d8576b\"],[0.6666666666666666,\"#ed7953\"],[0.7777777777777778,\"#fb9f3a\"],[0.8888888888888888,\"#fdca26\"],[1.0,\"#f0f921\"]]}],\"surface\":[{\"type\":\"surface\",\"colorbar\":{\"outlinewidth\":0,\"ticks\":\"\"},\"colorscale\":[[0.0,\"#0d0887\"],[0.1111111111111111,\"#46039f\"],[0.2222222222222222,\"#7201a8\"],[0.3333333333333333,\"#9c179e\"],[0.4444444444444444,\"#bd3786\"],[0.5555555555555556,\"#d8576b\"],[0.6666666666666666,\"#ed7953\"],[0.7777777777777778,\"#fb9f3a\"],[0.8888888888888888,\"#fdca26\"],[1.0,\"#f0f921\"]]}],\"mesh3d\":[{\"type\":\"mesh3d\",\"colorbar\":{\"outlinewidth\":0,\"ticks\":\"\"}}],\"scatter\":[{\"fillpattern\":{\"fillmode\":\"overlay\",\"size\":10,\"solidity\":0.2},\"type\":\"scatter\"}],\"parcoords\":[{\"type\":\"parcoords\",\"line\":{\"colorbar\":{\"outlinewidth\":0,\"ticks\":\"\"}}}],\"scatterpolargl\":[{\"type\":\"scatterpolargl\",\"marker\":{\"colorbar\":{\"outlinewidth\":0,\"ticks\":\"\"}}}],\"bar\":[{\"error_x\":{\"color\":\"#2a3f5f\"},\"error_y\":{\"color\":\"#2a3f5f\"},\"marker\":{\"line\":{\"color\":\"#E5ECF6\",\"width\":0.5},\"pattern\":{\"fillmode\":\"overlay\",\"size\":10,\"solidity\":0.2}},\"type\":\"bar\"}],\"scattergeo\":[{\"type\":\"scattergeo\",\"marker\":{\"colorbar\":{\"outlinewidth\":0,\"ticks\":\"\"}}}],\"scatterpolar\":[{\"type\":\"scatterpolar\",\"marker\":{\"colorbar\":{\"outlinewidth\":0,\"ticks\":\"\"}}}],\"histogram\":[{\"marker\":{\"pattern\":{\"fillmode\":\"overlay\",\"size\":10,\"solidity\":0.2}},\"type\":\"histogram\"}],\"scattergl\":[{\"type\":\"scattergl\",\"marker\":{\"colorbar\":{\"outlinewidth\":0,\"ticks\":\"\"}}}],\"scatter3d\":[{\"type\":\"scatter3d\",\"line\":{\"colorbar\":{\"outlinewidth\":0,\"ticks\":\"\"}},\"marker\":{\"colorbar\":{\"outlinewidth\":0,\"ticks\":\"\"}}}],\"scattermapbox\":[{\"type\":\"scattermapbox\",\"marker\":{\"colorbar\":{\"outlinewidth\":0,\"ticks\":\"\"}}}],\"scatterternary\":[{\"type\":\"scatterternary\",\"marker\":{\"colorbar\":{\"outlinewidth\":0,\"ticks\":\"\"}}}],\"scattercarpet\":[{\"type\":\"scattercarpet\",\"marker\":{\"colorbar\":{\"outlinewidth\":0,\"ticks\":\"\"}}}],\"carpet\":[{\"aaxis\":{\"endlinecolor\":\"#2a3f5f\",\"gridcolor\":\"white\",\"linecolor\":\"white\",\"minorgridcolor\":\"white\",\"startlinecolor\":\"#2a3f5f\"},\"baxis\":{\"endlinecolor\":\"#2a3f5f\",\"gridcolor\":\"white\",\"linecolor\":\"white\",\"minorgridcolor\":\"white\",\"startlinecolor\":\"#2a3f5f\"},\"type\":\"carpet\"}],\"table\":[{\"cells\":{\"fill\":{\"color\":\"#EBF0F8\"},\"line\":{\"color\":\"white\"}},\"header\":{\"fill\":{\"color\":\"#C8D4E3\"},\"line\":{\"color\":\"white\"}},\"type\":\"table\"}],\"barpolar\":[{\"marker\":{\"line\":{\"color\":\"#E5ECF6\",\"width\":0.5},\"pattern\":{\"fillmode\":\"overlay\",\"size\":10,\"solidity\":0.2}},\"type\":\"barpolar\"}],\"pie\":[{\"automargin\":true,\"type\":\"pie\"}]},\"layout\":{\"autotypenumbers\":\"strict\",\"colorway\":[\"#636efa\",\"#EF553B\",\"#00cc96\",\"#ab63fa\",\"#FFA15A\",\"#19d3f3\",\"#FF6692\",\"#B6E880\",\"#FF97FF\",\"#FECB52\"],\"font\":{\"color\":\"#2a3f5f\"},\"hovermode\":\"closest\",\"hoverlabel\":{\"align\":\"left\"},\"paper_bgcolor\":\"white\",\"plot_bgcolor\":\"#E5ECF6\",\"polar\":{\"bgcolor\":\"#E5ECF6\",\"angularaxis\":{\"gridcolor\":\"white\",\"linecolor\":\"white\",\"ticks\":\"\"},\"radialaxis\":{\"gridcolor\":\"white\",\"linecolor\":\"white\",\"ticks\":\"\"}},\"ternary\":{\"bgcolor\":\"#E5ECF6\",\"aaxis\":{\"gridcolor\":\"white\",\"linecolor\":\"white\",\"ticks\":\"\"},\"baxis\":{\"gridcolor\":\"white\",\"linecolor\":\"white\",\"ticks\":\"\"},\"caxis\":{\"gridcolor\":\"white\",\"linecolor\":\"white\",\"ticks\":\"\"}},\"coloraxis\":{\"colorbar\":{\"outlinewidth\":0,\"ticks\":\"\"}},\"colorscale\":{\"sequential\":[[0.0,\"#0d0887\"],[0.1111111111111111,\"#46039f\"],[0.2222222222222222,\"#7201a8\"],[0.3333333333333333,\"#9c179e\"],[0.4444444444444444,\"#bd3786\"],[0.5555555555555556,\"#d8576b\"],[0.6666666666666666,\"#ed7953\"],[0.7777777777777778,\"#fb9f3a\"],[0.8888888888888888,\"#fdca26\"],[1.0,\"#f0f921\"]],\"sequentialminus\":[[0.0,\"#0d0887\"],[0.1111111111111111,\"#46039f\"],[0.2222222222222222,\"#7201a8\"],[0.3333333333333333,\"#9c179e\"],[0.4444444444444444,\"#bd3786\"],[0.5555555555555556,\"#d8576b\"],[0.6666666666666666,\"#ed7953\"],[0.7777777777777778,\"#fb9f3a\"],[0.8888888888888888,\"#fdca26\"],[1.0,\"#f0f921\"]],\"diverging\":[[0,\"#8e0152\"],[0.1,\"#c51b7d\"],[0.2,\"#de77ae\"],[0.3,\"#f1b6da\"],[0.4,\"#fde0ef\"],[0.5,\"#f7f7f7\"],[0.6,\"#e6f5d0\"],[0.7,\"#b8e186\"],[0.8,\"#7fbc41\"],[0.9,\"#4d9221\"],[1,\"#276419\"]]},\"xaxis\":{\"gridcolor\":\"white\",\"linecolor\":\"white\",\"ticks\":\"\",\"title\":{\"standoff\":15},\"zerolinecolor\":\"white\",\"automargin\":true,\"zerolinewidth\":2},\"yaxis\":{\"gridcolor\":\"white\",\"linecolor\":\"white\",\"ticks\":\"\",\"title\":{\"standoff\":15},\"zerolinecolor\":\"white\",\"automargin\":true,\"zerolinewidth\":2},\"scene\":{\"xaxis\":{\"backgroundcolor\":\"#E5ECF6\",\"gridcolor\":\"white\",\"linecolor\":\"white\",\"showbackground\":true,\"ticks\":\"\",\"zerolinecolor\":\"white\",\"gridwidth\":2},\"yaxis\":{\"backgroundcolor\":\"#E5ECF6\",\"gridcolor\":\"white\",\"linecolor\":\"white\",\"showbackground\":true,\"ticks\":\"\",\"zerolinecolor\":\"white\",\"gridwidth\":2},\"zaxis\":{\"backgroundcolor\":\"#E5ECF6\",\"gridcolor\":\"white\",\"linecolor\":\"white\",\"showbackground\":true,\"ticks\":\"\",\"zerolinecolor\":\"white\",\"gridwidth\":2}},\"shapedefaults\":{\"line\":{\"color\":\"#2a3f5f\"}},\"annotationdefaults\":{\"arrowcolor\":\"#2a3f5f\",\"arrowhead\":0,\"arrowwidth\":1},\"geo\":{\"bgcolor\":\"white\",\"landcolor\":\"#E5ECF6\",\"subunitcolor\":\"white\",\"showland\":true,\"showlakes\":true,\"lakecolor\":\"white\"},\"title\":{\"x\":0.05},\"mapbox\":{\"style\":\"light\"}}},\"xaxis\":{\"anchor\":\"y\",\"domain\":[0.0,1.0],\"title\":{\"text\":\"energy\"}},\"yaxis\":{\"anchor\":\"x\",\"domain\":[0.0,1.0],\"title\":{\"text\":\"count\"}},\"legend\":{\"tracegroupgap\":0},\"title\":{\"text\":\"Energy distribution across top hits from 2000-2019\"},\"barmode\":\"relative\",\"shapes\":[{\"line\":{\"color\":\"firebrick\",\"dash\":\"dash\",\"width\":2},\"type\":\"line\",\"x0\":0.7200572012257405,\"x1\":0.7200572012257405,\"xref\":\"x\",\"y0\":0,\"y1\":1,\"yref\":\"y domain\"}],\"margin\":{\"t\":150},\"annotations\":[{\"font\":{\"color\":\"firebrick\",\"size\":12},\"showarrow\":false,\"text\":\"<b>0.72 average</b>\",\"textangle\":0,\"x\":0.75,\"xref\":\"x\",\"y\":1.07,\"yref\":\"paper\"}]},                        {\"responsive\": true}                    ).then(function(){\n",
       "                            \n",
       "var gd = document.getElementById('a306a0a0-611e-4850-8ea8-a7e1db378476');\n",
       "var x = new MutationObserver(function (mutations, observer) {{\n",
       "        var display = window.getComputedStyle(gd).display;\n",
       "        if (!display || display === 'none') {{\n",
       "            console.log([gd, 'removed!']);\n",
       "            Plotly.purge(gd);\n",
       "            observer.disconnect();\n",
       "        }}\n",
       "}});\n",
       "\n",
       "// Listen for the removal of the full notebook cells\n",
       "var notebookContainer = gd.closest('#notebook-container');\n",
       "if (notebookContainer) {{\n",
       "    x.observe(notebookContainer, {childList: true});\n",
       "}}\n",
       "\n",
       "// Listen for the clearing of the current output cell\n",
       "var outputEl = gd.closest('.output');\n",
       "if (outputEl) {{\n",
       "    x.observe(outputEl, {childList: true});\n",
       "}}\n",
       "\n",
       "                        })                };                });            </script>        </div>"
      ]
     },
     "metadata": {},
     "output_type": "display_data"
    }
   ],
   "source": [
    "fig = px.histogram(df,x = 'energy',\n",
    "                   title = 'Energy distribution across top hits from 2000-2019',)\n",
    "fig.add_vline(x=np.mean(df.energy),line_width = 2, line_dash = 'dash', \n",
    "              line_color = 'firebrick')\n",
    "fig.update_layout(margin=dict(t=150))\n",
    "fig.add_annotation(dict(font=dict(color=\"firebrick\",size=12),\n",
    "                            x=0.75,\n",
    "                            y=1.07,\n",
    "                            showarrow=False,\n",
    "                            text='<b>0.72 average</b>',\n",
    "                            textangle=0,\n",
    "                            xref=\"x\",\n",
    "                            yref=\"paper\"\n",
    "                           ))\n",
    "fig.show()"
   ]
  },
  {
   "cell_type": "markdown",
   "id": "a1084ec9",
   "metadata": {
    "_cell_guid": "a8c1680d-bd31-46e2-be91-531734a2618a",
    "_uuid": "4ec1d8af-c21b-4eb3-b9d3-3188b4e74d17",
    "papermill": {
     "duration": 0.024678,
     "end_time": "2022-06-10T19:28:24.500309",
     "exception": false,
     "start_time": "2022-06-10T19:28:24.475631",
     "status": "completed"
    },
    "tags": []
   },
   "source": [
    "### Speechiness distribution"
   ]
  },
  {
   "cell_type": "code",
   "execution_count": 23,
   "id": "f2e213e1",
   "metadata": {
    "_cell_guid": "cbfa52b2-0c0e-4db5-959e-8acbd0250049",
    "_uuid": "a183ebf8-48a5-457d-ae20-76287659f2aa",
    "collapsed": false,
    "execution": {
     "iopub.execute_input": "2022-06-10T19:28:24.552927Z",
     "iopub.status.busy": "2022-06-10T19:28:24.552213Z",
     "iopub.status.idle": "2022-06-10T19:28:24.627966Z",
     "shell.execute_reply": "2022-06-10T19:28:24.627088Z"
    },
    "jupyter": {
     "outputs_hidden": false
    },
    "papermill": {
     "duration": 0.105005,
     "end_time": "2022-06-10T19:28:24.630177",
     "exception": false,
     "start_time": "2022-06-10T19:28:24.525172",
     "status": "completed"
    },
    "tags": []
   },
   "outputs": [
    {
     "data": {
      "text/html": [
       "<div>                            <div id=\"f4869f07-992e-4fb2-a9b6-069f4eaa9923\" class=\"plotly-graph-div\" style=\"height:525px; width:100%;\"></div>            <script type=\"text/javascript\">                require([\"plotly\"], function(Plotly) {                    window.PLOTLYENV=window.PLOTLYENV || {};                                    if (document.getElementById(\"f4869f07-992e-4fb2-a9b6-069f4eaa9923\")) {                    Plotly.newPlot(                        \"f4869f07-992e-4fb2-a9b6-069f4eaa9923\",                        [{\"alignmentgroup\":\"True\",\"bingroup\":\"x\",\"hovertemplate\":\"speechiness=%{x}<br>count=%{y}<extra></extra>\",\"legendgroup\":\"\",\"marker\":{\"color\":\"#636efa\",\"pattern\":{\"shape\":\"\"}},\"name\":\"\",\"offsetgroup\":\"\",\"orientation\":\"v\",\"showlegend\":false,\"x\":[0.0437,0.0466,0.0516,0.0572,0.0322,0.0379,0.0292,0.0989,0.29,0.0552,0.0584,0.0304,0.143,0.046,0.0465,0.24,0.165,0.0419,0.0373,0.0663,0.0858,0.0548,0.0367,0.0276,0.0411,0.168,0.0279,0.0405,0.162,0.108,0.076,0.0806,0.206,0.24,0.0993,0.0497,0.0333,0.046,0.0311,0.0315,0.0365,0.036,0.0617,0.0487,0.0445,0.0917,0.0328,0.0302,0.0286,0.0337,0.32,0.0404,0.0255,0.0242,0.206,0.0801,0.0841,0.0386,0.026,0.0296,0.0597,0.0368,0.0317,0.108,0.0713,0.41,0.238,0.0339,0.0534,0.036,0.0407,0.0526,0.0276,0.0447,0.0586,0.106,0.0672,0.329,0.0449,0.0441,0.171,0.0439,0.0377,0.0307,0.0409,0.0324,0.0556,0.185,0.107,0.0481,0.0327,0.033,0.133,0.269,0.0318,0.124,0.117,0.0621,0.162,0.247,0.0612,0.12,0.0312,0.171,0.203,0.0297,0.124,0.0707,0.129,0.0553,0.334,0.0867,0.0638,0.0582,0.203,0.16,0.0946,0.0594,0.0319,0.0318,0.226,0.488,0.0329,0.0365,0.0927,0.0373,0.0835,0.0872,0.0325,0.0301,0.0306,0.0633,0.275,0.0239,0.216,0.0271,0.0598,0.0287,0.0736,0.0413,0.311,0.206,0.0493,0.151,0.0499,0.241,0.0265,0.0491,0.247,0.026,0.0478,0.122,0.0497,0.342,0.0452,0.0349,0.0258,0.0338,0.0631,0.0558,0.0614,0.0349,0.14,0.0738,0.0459,0.0379,0.0267,0.0415,0.0684,0.147,0.306,0.186,0.483,0.127,0.0901,0.265,0.355,0.0584,0.0948,0.0336,0.125,0.0338,0.0728,0.223,0.0364,0.0727,0.0382,0.156,0.0787,0.139,0.0358,0.323,0.035,0.0364,0.0608,0.133,0.13,0.29,0.0548,0.12,0.0261,0.322,0.0688,0.0925,0.0688,0.0598,0.0574,0.035,0.239,0.0456,0.18,0.0525,0.0926,0.32,0.0428,0.151,0.0277,0.208,0.106,0.125,0.223,0.0309,0.0646,0.229,0.034,0.174,0.0289,0.0284,0.046,0.158,0.0586,0.0279,0.283,0.028,0.162,0.0504,0.199,0.0532,0.0482,0.0548,0.0245,0.145,0.107,0.0502,0.0322,0.0884,0.0261,0.0299,0.0459,0.0365,0.0322,0.0323,0.235,0.042,0.0312,0.0286,0.0292,0.0297,0.0562,0.0278,0.401,0.0756,0.366,0.036,0.264,0.226,0.0494,0.184,0.188,0.243,0.104,0.306,0.0371,0.0349,0.314,0.346,0.0356,0.131,0.183,0.0698,0.0309,0.0586,0.0421,0.0396,0.21,0.268,0.0375,0.089,0.0305,0.0283,0.141,0.0805,0.307,0.22,0.272,0.192,0.0391,0.0329,0.0337,0.117,0.029,0.362,0.0365,0.295,0.116,0.295,0.0271,0.0287,0.2,0.13,0.253,0.137,0.339,0.109,0.299,0.317,0.505,0.0346,0.043,0.201,0.0348,0.132,0.0743,0.0776,0.0302,0.138,0.349,0.182,0.0284,0.0457,0.183,0.0278,0.0282,0.0473,0.286,0.0279,0.0594,0.283,0.0582,0.0803,0.0276,0.319,0.132,0.107,0.0981,0.0401,0.0357,0.181,0.458,0.137,0.199,0.0403,0.0464,0.0523,0.0457,0.0292,0.0374,0.0444,0.0336,0.0291,0.0368,0.112,0.0378,0.114,0.0664,0.029,0.0321,0.0618,0.126,0.0427,0.415,0.0628,0.0434,0.0275,0.0968,0.0857,0.0381,0.22,0.101,0.0828,0.0847,0.0462,0.0637,0.375,0.0491,0.149,0.0284,0.0922,0.0394,0.118,0.0432,0.268,0.254,0.318,0.0308,0.0497,0.0349,0.232,0.128,0.0395,0.0439,0.0303,0.253,0.104,0.0711,0.0467,0.0287,0.216,0.172,0.0536,0.237,0.162,0.0361,0.183,0.257,0.125,0.0704,0.179,0.0786,0.0337,0.0613,0.0377,0.315,0.132,0.0946,0.323,0.0356,0.0423,0.0453,0.0282,0.0386,0.171,0.0639,0.108,0.0391,0.0317,0.247,0.0803,0.409,0.0758,0.0401,0.0653,0.0803,0.0252,0.484,0.294,0.0312,0.118,0.0818,0.038,0.299,0.325,0.0464,0.0621,0.108,0.359,0.0374,0.0773,0.0368,0.187,0.0629,0.0922,0.348,0.159,0.466,0.0278,0.0309,0.099,0.0309,0.132,0.0452,0.41,0.0407,0.366,0.151,0.0416,0.0751,0.0911,0.231,0.251,0.129,0.0514,0.222,0.0506,0.246,0.105,0.12,0.166,0.207,0.177,0.061,0.0352,0.0431,0.061,0.0459,0.266,0.0427,0.0372,0.127,0.0429,0.126,0.372,0.428,0.121,0.109,0.0336,0.103,0.0331,0.045,0.27,0.216,0.372,0.361,0.161,0.332,0.263,0.0448,0.0316,0.0929,0.113,0.0791,0.0615,0.0467,0.0245,0.0322,0.22,0.0395,0.347,0.0876,0.0407,0.0382,0.186,0.0314,0.28,0.0494,0.0356,0.0336,0.199,0.0766,0.0623,0.0313,0.0387,0.0292,0.108,0.197,0.0587,0.0241,0.0675,0.359,0.0803,0.0577,0.0449,0.105,0.0322,0.0247,0.0432,0.0393,0.0281,0.0696,0.0707,0.0685,0.0789,0.382,0.0552,0.0361,0.0336,0.37,0.0397,0.122,0.0756,0.046,0.0993,0.181,0.0506,0.229,0.225,0.27,0.109,0.117,0.169,0.0439,0.0466,0.0816,0.0294,0.277,0.0434,0.23,0.137,0.141,0.0612,0.026,0.224,0.0276,0.241,0.0405,0.357,0.0555,0.428,0.211,0.341,0.071,0.352,0.19,0.062,0.0294,0.0998,0.0473,0.0334,0.342,0.307,0.0524,0.286,0.0309,0.154,0.0301,0.0344,0.27,0.0375,0.262,0.199,0.0613,0.218,0.0283,0.0259,0.0413,0.0431,0.0777,0.416,0.0309,0.0277,0.0437,0.0276,0.31,0.0341,0.12,0.144,0.238,0.0587,0.14,0.0512,0.222,0.0294,0.0363,0.0691,0.0688,0.0641,0.0399,0.0305,0.114,0.045,0.0379,0.358,0.0752,0.042,0.0432,0.029,0.272,0.0274,0.0892,0.0357,0.134,0.0334,0.0335,0.0544,0.0293,0.0709,0.0343,0.1,0.139,0.046,0.0425,0.0301,0.0475,0.0632,0.132,0.0523,0.202,0.145,0.153,0.0703,0.0781,0.0417,0.0786,0.197,0.0528,0.0349,0.241,0.039,0.0603,0.0324,0.0623,0.225,0.0395,0.0456,0.087,0.576,0.0995,0.0518,0.0405,0.191,0.224,0.23,0.0508,0.0632,0.0511,0.0378,0.102,0.0356,0.0538,0.0813,0.47,0.0381,0.133,0.248,0.316,0.134,0.183,0.0386,0.0623,0.0549,0.0805,0.0373,0.213,0.0425,0.0487,0.0329,0.0395,0.0357,0.0636,0.0735,0.029,0.222,0.0431,0.126,0.0512,0.0403,0.183,0.298,0.0399,0.0454,0.23,0.0687,0.0371,0.0269,0.0405,0.0652,0.262,0.0742,0.0323,0.43,0.0664,0.0459,0.0281,0.0553,0.0635,0.034,0.0504,0.0499,0.283,0.0791,0.0677,0.0715,0.0285,0.0278,0.145,0.0698,0.0313,0.0756,0.057,0.0301,0.0571,0.0576,0.0445,0.0831,0.354,0.0399,0.0652,0.0418,0.0643,0.0682,0.152,0.0622,0.0295,0.0538,0.0353,0.0414,0.05,0.0732,0.0786,0.216,0.255,0.0738,0.278,0.038,0.177,0.0508,0.225,0.0456,0.121,0.0451,0.0288,0.128,0.0797,0.0317,0.0696,0.0391,0.0638,0.189,0.326,0.0338,0.0825,0.349,0.05,0.0425,0.0323,0.0282,0.222,0.0602,0.202,0.0502,0.0719,0.0581,0.118,0.0331,0.0341,0.135,0.0732,0.0763,0.0341,0.0893,0.167,0.029,0.0291,0.0798,0.0709,0.0737,0.0332,0.0291,0.117,0.0289,0.0287,0.054,0.346,0.0332,0.0322,0.361,0.0438,0.0399,0.0374,0.325,0.051,0.119,0.0817,0.361,0.0459,0.0255,0.0506,0.131,0.049,0.0265,0.0787,0.0628,0.0486,0.0551,0.0311,0.227,0.052,0.0523,0.0741,0.0441,0.0735,0.136,0.0653,0.0311,0.0339,0.149,0.0625,0.111,0.0321,0.0663,0.0443,0.0438,0.392,0.0474,0.0439,0.0432,0.0362,0.0397,0.29,0.0363,0.255,0.0792,0.22,0.138,0.0447,0.0269,0.027,0.0321,0.061,0.0253,0.0912,0.112,0.186,0.0299,0.0377,0.19,0.0712,0.254,0.061,0.0317,0.0889,0.0538,0.363,0.342,0.0511,0.0323,0.234,0.0473,0.0779,0.0402,0.259,0.0329,0.0458,0.0815,0.0355,0.0477,0.0311,0.0321,0.0372,0.103,0.0455,0.0775,0.0601,0.029,0.0709,0.0448,0.296,0.141,0.0422,0.0366,0.0327,0.0289,0.0317,0.0404,0.054,0.33,0.0757,0.042,0.0339,0.0343,0.0355,0.16,0.0384,0.0333,0.243,0.0346,0.0509,0.0272,0.0413,0.0422,0.227,0.0363,0.0793,0.142,0.255,0.0859,0.0432,0.0569,0.0286,0.28,0.449,0.0816,0.108,0.112,0.0818,0.113,0.147,0.0322,0.0314,0.365,0.0445,0.264,0.0462,0.127,0.131,0.0712,0.0664,0.138,0.0333,0.11,0.109,0.0708,0.0327,0.0322,0.0391,0.0981,0.032,0.144,0.0474,0.0404,0.0464,0.111,0.296,0.0429,0.161,0.0393,0.0878,0.0401,0.0332,0.0424,0.0321,0.177,0.0804,0.137,0.141,0.0674,0.0729,0.0533,0.115,0.189,0.033,0.0333,0.116,0.378,0.0305,0.069,0.0343,0.044,0.113,0.0779,0.279,0.0573,0.141,0.0341,0.0644,0.0286,0.356,0.0563,0.0982,0.0389,0.173,0.146,0.0407,0.0693,0.295,0.0493,0.0361,0.0451,0.258,0.0439,0.0341,0.0318,0.0303,0.0437,0.0397,0.0343,0.0349,0.0277,0.343,0.0298,0.0475,0.156,0.049,0.0542,0.0884,0.0468,0.116,0.0496,0.042,0.0392,0.03,0.0721,0.0543,0.041,0.179,0.0414,0.0395,0.161,0.0469,0.0675,0.175,0.0414,0.0976,0.0322,0.0523,0.114,0.0599,0.0581,0.316,0.0535,0.049,0.0464,0.0391,0.0489,0.0393,0.0665,0.1,0.0652,0.0268,0.0415,0.0249,0.452,0.304,0.318,0.184,0.0461,0.0639,0.0407,0.0418,0.0383,0.0262,0.146,0.0445,0.0474,0.0717,0.1,0.193,0.069,0.161,0.0548,0.0434,0.0472,0.24,0.0479,0.0806,0.161,0.209,0.118,0.0399,0.0285,0.0292,0.106,0.182,0.0352,0.192,0.052,0.245,0.0699,0.115,0.0304,0.0605,0.028,0.029,0.246,0.0373,0.0385,0.041,0.0307,0.119,0.0439,0.0396,0.0324,0.0838,0.0316,0.0367,0.0277,0.0418,0.0334,0.0267,0.0383,0.0408,0.075,0.0693,0.0499,0.0672,0.0282,0.0591,0.0916,0.311,0.0314,0.196,0.0965,0.0453,0.0445,0.0655,0.0609,0.404,0.0337,0.406,0.0431,0.316,0.286,0.046,0.0973,0.0565,0.0534,0.0431,0.0343,0.0688,0.0461,0.0485,0.0355,0.075,0.271,0.0547,0.0482,0.258,0.0414,0.0933,0.0692,0.041,0.0296,0.371,0.031,0.0696,0.0338,0.0445,0.0268,0.102,0.226,0.0595,0.0564,0.0509,0.0506,0.0519,0.103,0.034,0.0363,0.108,0.03,0.0414,0.137,0.1,0.0479,0.0387,0.188,0.0805,0.206,0.0353,0.0545,0.0358,0.0554,0.0737,0.0439,0.0963,0.14,0.0873,0.0249,0.0367,0.032,0.167,0.0347,0.0543,0.0513,0.0429,0.0344,0.051,0.0475,0.356,0.0367,0.0833,0.0593,0.034,0.0393,0.0487,0.265,0.127,0.0486,0.076,0.122,0.0489,0.0627,0.0523,0.0431,0.293,0.038,0.0696,0.0859,0.0645,0.0316,0.04,0.402,0.0533,0.158,0.0584,0.0327,0.0786,0.0363,0.232,0.0441,0.15,0.0336,0.0521,0.0309,0.104,0.0368,0.0593,0.0715,0.0912,0.0517,0.311,0.0501,0.0439,0.322,0.0558,0.333,0.0284,0.064,0.0939,0.0374,0.0321,0.071,0.0363,0.0323,0.05,0.0909,0.0514,0.275,0.03,0.0453,0.0432,0.0483,0.0483,0.0457,0.0568,0.049,0.1,0.081,0.109,0.0387,0.0748,0.0563,0.161,0.0253,0.0427,0.0454,0.0418,0.035,0.0396,0.0831,0.0509,0.0581,0.0407,0.0465,0.029,0.0753,0.0342,0.056,0.057,0.03,0.0503,0.0431,0.032,0.0334,0.217,0.044,0.0368,0.0961,0.0527,0.0269,0.289,0.101,0.0376,0.0572,0.113,0.0283,0.219,0.0434,0.0354,0.183,0.0512,0.064,0.0697,0.0898,0.0414,0.0381,0.0499,0.0322,0.0487,0.0503,0.0387,0.124,0.0315,0.0642,0.188,0.232,0.0295,0.088,0.107,0.0492,0.19,0.0406,0.0841,0.131,0.25,0.0258,0.0997,0.179,0.0808,0.156,0.0981,0.0385,0.42,0.0325,0.0428,0.0312,0.0487,0.0436,0.248,0.0929,0.0345,0.0343,0.0369,0.0818,0.0483,0.0432,0.0455,0.0502,0.0338,0.049,0.0589,0.0339,0.0492,0.0378,0.0659,0.0334,0.105,0.0436,0.091,0.035,0.154,0.0402,0.124,0.167,0.153,0.0786,0.0347,0.0377,0.0377,0.0296,0.132,0.0396,0.165,0.0353,0.0472,0.0634,0.0294,0.0463,0.0279,0.0377,0.0411,0.0496,0.0477,0.0323,0.0432,0.0336,0.0376,0.0379,0.0468,0.0337,0.0414,0.0397,0.041,0.0783,0.0549,0.179,0.236,0.194,0.0748,0.0824,0.0295,0.0815,0.0956,0.0625,0.0304,0.0484,0.0394,0.151,0.0386,0.054,0.0515,0.0329,0.219,0.0433,0.188,0.046,0.159,0.106,0.0734,0.0581,0.0731,0.0293,0.0406,0.0729,0.145,0.0317,0.141,0.0882,0.0528,0.0379,0.0666,0.0393,0.0527,0.0311,0.0741,0.13,0.0583,0.0469,0.0621,0.0536,0.0369,0.032,0.0388,0.0677,0.0337,0.0304,0.047,0.0499,0.134,0.0443,0.0265,0.128,0.0338,0.126,0.0346,0.0457,0.0964,0.0551,0.0404,0.0302,0.318,0.0334,0.0425,0.102,0.0905,0.0678,0.226,0.0284,0.0652,0.0531,0.0464,0.0402,0.163,0.0339,0.0789,0.203,0.0613,0.0428,0.202,0.0503,0.0676,0.141,0.0377,0.0567,0.0522,0.195,0.0496,0.0587,0.0659,0.052,0.0889,0.0631,0.045,0.0323,0.0619,0.0762,0.0349,0.0464,0.0357,0.282,0.0536,0.438,0.0338,0.0342,0.449,0.0688,0.215,0.0425,0.0946,0.0377,0.045,0.0751,0.0278,0.0393,0.0959,0.0488,0.049,0.317,0.0286,0.0726,0.0397,0.172,0.049,0.0419,0.0828,0.171,0.213,0.0908,0.0409,0.0476,0.111,0.0349,0.0332,0.111,0.358,0.244,0.247,0.0343,0.0876,0.0304,0.0426,0.0427,0.0393,0.0499,0.0385,0.232,0.134,0.0346,0.103,0.0457,0.029,0.0587,0.107,0.341,0.0583,0.036,0.0383,0.0898,0.0905,0.0517,0.0397,0.249,0.344,0.171,0.0432,0.123,0.0496,0.104,0.0436,0.0515,0.187,0.0366,0.082,0.0487,0.0432,0.0561,0.114,0.148,0.195,0.0824,0.0446,0.0785,0.0624,0.0653,0.266,0.0804,0.3,0.0695,0.053,0.274,0.336,0.0322,0.185,0.0345,0.0535,0.0889,0.0286,0.0991,0.104,0.0802,0.117,0.17,0.0432,0.0523,0.0312,0.0479,0.0696,0.0317,0.0232,0.0385,0.0484,0.0478,0.431,0.0868,0.113,0.0581,0.0288,0.275,0.123,0.35,0.0339,0.0386,0.0914,0.138,0.0649,0.0296,0.0539,0.04,0.231,0.0311,0.145,0.109,0.244,0.286,0.0526,0.0363,0.108,0.0561,0.0903,0.0592,0.0432,0.236,0.0863,0.302,0.0526,0.0597,0.123,0.0537,0.294,0.36,0.0568,0.242,0.244,0.344,0.0576,0.0418,0.0507,0.136,0.0591,0.263,0.0583,0.233,0.0358,0.0691,0.109,0.31,0.0524,0.0688,0.0363,0.0428,0.043,0.112,0.275,0.0571,0.217,0.314,0.0291,0.0522,0.0431,0.0545,0.0396,0.0387,0.0585,0.272,0.148,0.0362,0.0429,0.0582,0.0758,0.058,0.118,0.0304,0.139,0.0818,0.0612,0.134,0.0797,0.0764,0.0706,0.109,0.0712,0.206,0.0868,0.149,0.2,0.0449,0.0504,0.129,0.0804,0.0594,0.0315,0.11,0.12,0.222,0.0409,0.228,0.151,0.093,0.0333,0.184,0.0437,0.123,0.412,0.0356,0.214,0.183,0.056,0.145,0.0464,0.213,0.172,0.0363,0.0531,0.299,0.143,0.0597,0.0378,0.0714,0.0558,0.15,0.0654,0.201,0.028,0.0448,0.045,0.113,0.0589,0.0853,0.463,0.038,0.0331,0.121,0.029,0.247,0.103,0.53,0.0333,0.0385,0.0752,0.0778,0.04,0.27,0.516,0.0452,0.0362,0.074,0.269,0.331,0.125,0.25,0.186,0.0972,0.321,0.0417,0.0689,0.0596,0.0885,0.144,0.051,0.342,0.117,0.0996,0.104,0.105,0.0296,0.343,0.0747,0.0449,0.0943,0.0925,0.0722,0.224,0.253,0.0439,0.0505,0.0449,0.0707,0.0924,0.105,0.102,0.375,0.029,0.334,0.0575,0.0363,0.0705,0.0874,0.0308,0.0671,0.0319,0.0897,0.127,0.42,0.176,0.0593,0.0318,0.237,0.0997,0.0295,0.0495,0.222,0.155,0.0355,0.228,0.0413,0.258,0.287,0.478,0.0333,0.147,0.127,0.0905,0.208,0.0661,0.303,0.0395,0.336,0.046,0.0752,0.0621,0.467,0.0457,0.086,0.147,0.0882,0.0456,0.0851,0.29,0.0917,0.297,0.0476,0.0842,0.101,0.0361,0.216,0.081,0.339,0.0924,0.461,0.309,0.0435,0.0524,0.276,0.0432,0.0964,0.269,0.426,0.208,0.332,0.0965,0.0669,0.0722,0.221,0.0715,0.0685,0.0906,0.0897,0.0575,0.155,0.126,0.122,0.15,0.341,0.04,0.12,0.203,0.0287,0.0618,0.045,0.0925,0.0984,0.0562,0.0745,0.0588,0.157,0.109,0.0656,0.0395],\"xaxis\":\"x\",\"yaxis\":\"y\",\"type\":\"histogram\"}],                        {\"template\":{\"data\":{\"histogram2dcontour\":[{\"type\":\"histogram2dcontour\",\"colorbar\":{\"outlinewidth\":0,\"ticks\":\"\"},\"colorscale\":[[0.0,\"#0d0887\"],[0.1111111111111111,\"#46039f\"],[0.2222222222222222,\"#7201a8\"],[0.3333333333333333,\"#9c179e\"],[0.4444444444444444,\"#bd3786\"],[0.5555555555555556,\"#d8576b\"],[0.6666666666666666,\"#ed7953\"],[0.7777777777777778,\"#fb9f3a\"],[0.8888888888888888,\"#fdca26\"],[1.0,\"#f0f921\"]]}],\"choropleth\":[{\"type\":\"choropleth\",\"colorbar\":{\"outlinewidth\":0,\"ticks\":\"\"}}],\"histogram2d\":[{\"type\":\"histogram2d\",\"colorbar\":{\"outlinewidth\":0,\"ticks\":\"\"},\"colorscale\":[[0.0,\"#0d0887\"],[0.1111111111111111,\"#46039f\"],[0.2222222222222222,\"#7201a8\"],[0.3333333333333333,\"#9c179e\"],[0.4444444444444444,\"#bd3786\"],[0.5555555555555556,\"#d8576b\"],[0.6666666666666666,\"#ed7953\"],[0.7777777777777778,\"#fb9f3a\"],[0.8888888888888888,\"#fdca26\"],[1.0,\"#f0f921\"]]}],\"heatmap\":[{\"type\":\"heatmap\",\"colorbar\":{\"outlinewidth\":0,\"ticks\":\"\"},\"colorscale\":[[0.0,\"#0d0887\"],[0.1111111111111111,\"#46039f\"],[0.2222222222222222,\"#7201a8\"],[0.3333333333333333,\"#9c179e\"],[0.4444444444444444,\"#bd3786\"],[0.5555555555555556,\"#d8576b\"],[0.6666666666666666,\"#ed7953\"],[0.7777777777777778,\"#fb9f3a\"],[0.8888888888888888,\"#fdca26\"],[1.0,\"#f0f921\"]]}],\"heatmapgl\":[{\"type\":\"heatmapgl\",\"colorbar\":{\"outlinewidth\":0,\"ticks\":\"\"},\"colorscale\":[[0.0,\"#0d0887\"],[0.1111111111111111,\"#46039f\"],[0.2222222222222222,\"#7201a8\"],[0.3333333333333333,\"#9c179e\"],[0.4444444444444444,\"#bd3786\"],[0.5555555555555556,\"#d8576b\"],[0.6666666666666666,\"#ed7953\"],[0.7777777777777778,\"#fb9f3a\"],[0.8888888888888888,\"#fdca26\"],[1.0,\"#f0f921\"]]}],\"contourcarpet\":[{\"type\":\"contourcarpet\",\"colorbar\":{\"outlinewidth\":0,\"ticks\":\"\"}}],\"contour\":[{\"type\":\"contour\",\"colorbar\":{\"outlinewidth\":0,\"ticks\":\"\"},\"colorscale\":[[0.0,\"#0d0887\"],[0.1111111111111111,\"#46039f\"],[0.2222222222222222,\"#7201a8\"],[0.3333333333333333,\"#9c179e\"],[0.4444444444444444,\"#bd3786\"],[0.5555555555555556,\"#d8576b\"],[0.6666666666666666,\"#ed7953\"],[0.7777777777777778,\"#fb9f3a\"],[0.8888888888888888,\"#fdca26\"],[1.0,\"#f0f921\"]]}],\"surface\":[{\"type\":\"surface\",\"colorbar\":{\"outlinewidth\":0,\"ticks\":\"\"},\"colorscale\":[[0.0,\"#0d0887\"],[0.1111111111111111,\"#46039f\"],[0.2222222222222222,\"#7201a8\"],[0.3333333333333333,\"#9c179e\"],[0.4444444444444444,\"#bd3786\"],[0.5555555555555556,\"#d8576b\"],[0.6666666666666666,\"#ed7953\"],[0.7777777777777778,\"#fb9f3a\"],[0.8888888888888888,\"#fdca26\"],[1.0,\"#f0f921\"]]}],\"mesh3d\":[{\"type\":\"mesh3d\",\"colorbar\":{\"outlinewidth\":0,\"ticks\":\"\"}}],\"scatter\":[{\"fillpattern\":{\"fillmode\":\"overlay\",\"size\":10,\"solidity\":0.2},\"type\":\"scatter\"}],\"parcoords\":[{\"type\":\"parcoords\",\"line\":{\"colorbar\":{\"outlinewidth\":0,\"ticks\":\"\"}}}],\"scatterpolargl\":[{\"type\":\"scatterpolargl\",\"marker\":{\"colorbar\":{\"outlinewidth\":0,\"ticks\":\"\"}}}],\"bar\":[{\"error_x\":{\"color\":\"#2a3f5f\"},\"error_y\":{\"color\":\"#2a3f5f\"},\"marker\":{\"line\":{\"color\":\"#E5ECF6\",\"width\":0.5},\"pattern\":{\"fillmode\":\"overlay\",\"size\":10,\"solidity\":0.2}},\"type\":\"bar\"}],\"scattergeo\":[{\"type\":\"scattergeo\",\"marker\":{\"colorbar\":{\"outlinewidth\":0,\"ticks\":\"\"}}}],\"scatterpolar\":[{\"type\":\"scatterpolar\",\"marker\":{\"colorbar\":{\"outlinewidth\":0,\"ticks\":\"\"}}}],\"histogram\":[{\"marker\":{\"pattern\":{\"fillmode\":\"overlay\",\"size\":10,\"solidity\":0.2}},\"type\":\"histogram\"}],\"scattergl\":[{\"type\":\"scattergl\",\"marker\":{\"colorbar\":{\"outlinewidth\":0,\"ticks\":\"\"}}}],\"scatter3d\":[{\"type\":\"scatter3d\",\"line\":{\"colorbar\":{\"outlinewidth\":0,\"ticks\":\"\"}},\"marker\":{\"colorbar\":{\"outlinewidth\":0,\"ticks\":\"\"}}}],\"scattermapbox\":[{\"type\":\"scattermapbox\",\"marker\":{\"colorbar\":{\"outlinewidth\":0,\"ticks\":\"\"}}}],\"scatterternary\":[{\"type\":\"scatterternary\",\"marker\":{\"colorbar\":{\"outlinewidth\":0,\"ticks\":\"\"}}}],\"scattercarpet\":[{\"type\":\"scattercarpet\",\"marker\":{\"colorbar\":{\"outlinewidth\":0,\"ticks\":\"\"}}}],\"carpet\":[{\"aaxis\":{\"endlinecolor\":\"#2a3f5f\",\"gridcolor\":\"white\",\"linecolor\":\"white\",\"minorgridcolor\":\"white\",\"startlinecolor\":\"#2a3f5f\"},\"baxis\":{\"endlinecolor\":\"#2a3f5f\",\"gridcolor\":\"white\",\"linecolor\":\"white\",\"minorgridcolor\":\"white\",\"startlinecolor\":\"#2a3f5f\"},\"type\":\"carpet\"}],\"table\":[{\"cells\":{\"fill\":{\"color\":\"#EBF0F8\"},\"line\":{\"color\":\"white\"}},\"header\":{\"fill\":{\"color\":\"#C8D4E3\"},\"line\":{\"color\":\"white\"}},\"type\":\"table\"}],\"barpolar\":[{\"marker\":{\"line\":{\"color\":\"#E5ECF6\",\"width\":0.5},\"pattern\":{\"fillmode\":\"overlay\",\"size\":10,\"solidity\":0.2}},\"type\":\"barpolar\"}],\"pie\":[{\"automargin\":true,\"type\":\"pie\"}]},\"layout\":{\"autotypenumbers\":\"strict\",\"colorway\":[\"#636efa\",\"#EF553B\",\"#00cc96\",\"#ab63fa\",\"#FFA15A\",\"#19d3f3\",\"#FF6692\",\"#B6E880\",\"#FF97FF\",\"#FECB52\"],\"font\":{\"color\":\"#2a3f5f\"},\"hovermode\":\"closest\",\"hoverlabel\":{\"align\":\"left\"},\"paper_bgcolor\":\"white\",\"plot_bgcolor\":\"#E5ECF6\",\"polar\":{\"bgcolor\":\"#E5ECF6\",\"angularaxis\":{\"gridcolor\":\"white\",\"linecolor\":\"white\",\"ticks\":\"\"},\"radialaxis\":{\"gridcolor\":\"white\",\"linecolor\":\"white\",\"ticks\":\"\"}},\"ternary\":{\"bgcolor\":\"#E5ECF6\",\"aaxis\":{\"gridcolor\":\"white\",\"linecolor\":\"white\",\"ticks\":\"\"},\"baxis\":{\"gridcolor\":\"white\",\"linecolor\":\"white\",\"ticks\":\"\"},\"caxis\":{\"gridcolor\":\"white\",\"linecolor\":\"white\",\"ticks\":\"\"}},\"coloraxis\":{\"colorbar\":{\"outlinewidth\":0,\"ticks\":\"\"}},\"colorscale\":{\"sequential\":[[0.0,\"#0d0887\"],[0.1111111111111111,\"#46039f\"],[0.2222222222222222,\"#7201a8\"],[0.3333333333333333,\"#9c179e\"],[0.4444444444444444,\"#bd3786\"],[0.5555555555555556,\"#d8576b\"],[0.6666666666666666,\"#ed7953\"],[0.7777777777777778,\"#fb9f3a\"],[0.8888888888888888,\"#fdca26\"],[1.0,\"#f0f921\"]],\"sequentialminus\":[[0.0,\"#0d0887\"],[0.1111111111111111,\"#46039f\"],[0.2222222222222222,\"#7201a8\"],[0.3333333333333333,\"#9c179e\"],[0.4444444444444444,\"#bd3786\"],[0.5555555555555556,\"#d8576b\"],[0.6666666666666666,\"#ed7953\"],[0.7777777777777778,\"#fb9f3a\"],[0.8888888888888888,\"#fdca26\"],[1.0,\"#f0f921\"]],\"diverging\":[[0,\"#8e0152\"],[0.1,\"#c51b7d\"],[0.2,\"#de77ae\"],[0.3,\"#f1b6da\"],[0.4,\"#fde0ef\"],[0.5,\"#f7f7f7\"],[0.6,\"#e6f5d0\"],[0.7,\"#b8e186\"],[0.8,\"#7fbc41\"],[0.9,\"#4d9221\"],[1,\"#276419\"]]},\"xaxis\":{\"gridcolor\":\"white\",\"linecolor\":\"white\",\"ticks\":\"\",\"title\":{\"standoff\":15},\"zerolinecolor\":\"white\",\"automargin\":true,\"zerolinewidth\":2},\"yaxis\":{\"gridcolor\":\"white\",\"linecolor\":\"white\",\"ticks\":\"\",\"title\":{\"standoff\":15},\"zerolinecolor\":\"white\",\"automargin\":true,\"zerolinewidth\":2},\"scene\":{\"xaxis\":{\"backgroundcolor\":\"#E5ECF6\",\"gridcolor\":\"white\",\"linecolor\":\"white\",\"showbackground\":true,\"ticks\":\"\",\"zerolinecolor\":\"white\",\"gridwidth\":2},\"yaxis\":{\"backgroundcolor\":\"#E5ECF6\",\"gridcolor\":\"white\",\"linecolor\":\"white\",\"showbackground\":true,\"ticks\":\"\",\"zerolinecolor\":\"white\",\"gridwidth\":2},\"zaxis\":{\"backgroundcolor\":\"#E5ECF6\",\"gridcolor\":\"white\",\"linecolor\":\"white\",\"showbackground\":true,\"ticks\":\"\",\"zerolinecolor\":\"white\",\"gridwidth\":2}},\"shapedefaults\":{\"line\":{\"color\":\"#2a3f5f\"}},\"annotationdefaults\":{\"arrowcolor\":\"#2a3f5f\",\"arrowhead\":0,\"arrowwidth\":1},\"geo\":{\"bgcolor\":\"white\",\"landcolor\":\"#E5ECF6\",\"subunitcolor\":\"white\",\"showland\":true,\"showlakes\":true,\"lakecolor\":\"white\"},\"title\":{\"x\":0.05},\"mapbox\":{\"style\":\"light\"}}},\"xaxis\":{\"anchor\":\"y\",\"domain\":[0.0,1.0],\"title\":{\"text\":\"speechiness\"}},\"yaxis\":{\"anchor\":\"x\",\"domain\":[0.0,1.0],\"title\":{\"text\":\"count\"}},\"legend\":{\"tracegroupgap\":0},\"title\":{\"text\":\"Speechiness distribution across top hits from 2000-2019\"},\"barmode\":\"relative\",\"shapes\":[{\"line\":{\"color\":\"firebrick\",\"dash\":\"dash\",\"width\":2},\"type\":\"line\",\"x0\":0.10417420837589376,\"x1\":0.10417420837589376,\"xref\":\"x\",\"y0\":0,\"y1\":1,\"yref\":\"y domain\"}],\"margin\":{\"t\":150},\"annotations\":[{\"font\":{\"color\":\"firebrick\",\"size\":12},\"showarrow\":false,\"text\":\"<b>0.1 average</b>\",\"textangle\":0,\"x\":0.12,\"xref\":\"x\",\"y\":1.07,\"yref\":\"paper\"}]},                        {\"responsive\": true}                    ).then(function(){\n",
       "                            \n",
       "var gd = document.getElementById('f4869f07-992e-4fb2-a9b6-069f4eaa9923');\n",
       "var x = new MutationObserver(function (mutations, observer) {{\n",
       "        var display = window.getComputedStyle(gd).display;\n",
       "        if (!display || display === 'none') {{\n",
       "            console.log([gd, 'removed!']);\n",
       "            Plotly.purge(gd);\n",
       "            observer.disconnect();\n",
       "        }}\n",
       "}});\n",
       "\n",
       "// Listen for the removal of the full notebook cells\n",
       "var notebookContainer = gd.closest('#notebook-container');\n",
       "if (notebookContainer) {{\n",
       "    x.observe(notebookContainer, {childList: true});\n",
       "}}\n",
       "\n",
       "// Listen for the clearing of the current output cell\n",
       "var outputEl = gd.closest('.output');\n",
       "if (outputEl) {{\n",
       "    x.observe(outputEl, {childList: true});\n",
       "}}\n",
       "\n",
       "                        })                };                });            </script>        </div>"
      ]
     },
     "metadata": {},
     "output_type": "display_data"
    }
   ],
   "source": [
    "fig = px.histogram(df,x = 'speechiness',\n",
    "                   title = 'Speechiness distribution across top hits from 2000-2019',)\n",
    "fig.add_vline(x=np.mean(df.speechiness),line_width = 2, line_dash = 'dash', \n",
    "              line_color = 'firebrick')\n",
    "fig.update_layout(margin=dict(t=150))\n",
    "fig.add_annotation(dict(font=dict(color=\"firebrick\",size=12),\n",
    "                            x=0.12,\n",
    "                            y=1.07,\n",
    "                            showarrow=False,\n",
    "                            text='<b>0.1 average</b>',\n",
    "                            textangle=0,\n",
    "                            xref=\"x\",\n",
    "                            yref=\"paper\"\n",
    "                           ))\n",
    "fig.show()"
   ]
  },
  {
   "cell_type": "markdown",
   "id": "a3c539fb",
   "metadata": {
    "_cell_guid": "04b17bab-9a62-4ac1-9670-3278bb20452e",
    "_uuid": "bf1284dc-4013-4077-8a51-f76de14ad596",
    "papermill": {
     "duration": 0.025831,
     "end_time": "2022-06-10T19:28:24.681915",
     "exception": false,
     "start_time": "2022-06-10T19:28:24.656084",
     "status": "completed"
    },
    "tags": []
   },
   "source": [
    "### Acousticness distribution"
   ]
  },
  {
   "cell_type": "code",
   "execution_count": 24,
   "id": "b7f5d62c",
   "metadata": {
    "_cell_guid": "e643c0e3-e45b-4788-b56c-155094e1cb96",
    "_uuid": "5932712a-bd74-4afc-ae57-e91767ee7440",
    "collapsed": false,
    "execution": {
     "iopub.execute_input": "2022-06-10T19:28:24.737537Z",
     "iopub.status.busy": "2022-06-10T19:28:24.736934Z",
     "iopub.status.idle": "2022-06-10T19:28:24.817790Z",
     "shell.execute_reply": "2022-06-10T19:28:24.816737Z"
    },
    "jupyter": {
     "outputs_hidden": false
    },
    "papermill": {
     "duration": 0.112216,
     "end_time": "2022-06-10T19:28:24.821263",
     "exception": false,
     "start_time": "2022-06-10T19:28:24.709047",
     "status": "completed"
    },
    "tags": []
   },
   "outputs": [
    {
     "data": {
      "text/html": [
       "<div>                            <div id=\"e1c984dc-4037-47a4-8e3c-ebf7d2f9385d\" class=\"plotly-graph-div\" style=\"height:525px; width:100%;\"></div>            <script type=\"text/javascript\">                require([\"plotly\"], function(Plotly) {                    window.PLOTLYENV=window.PLOTLYENV || {};                                    if (document.getElementById(\"e1c984dc-4037-47a4-8e3c-ebf7d2f9385d\")) {                    Plotly.newPlot(                        \"e1c984dc-4037-47a4-8e3c-ebf7d2f9385d\",                        [{\"alignmentgroup\":\"True\",\"bingroup\":\"x\",\"hovertemplate\":\"acousticness=%{x}<br>count=%{y}<extra></extra>\",\"legendgroup\":\"\",\"marker\":{\"color\":\"#636efa\",\"pattern\":{\"shape\":\"\"}},\"name\":\"\",\"offsetgroup\":\"\",\"orientation\":\"v\",\"showlegend\":false,\"x\":[0.3,0.0263,0.0408,0.0302,0.0267,0.00793,0.0328,0.0291,0.0807,0.00181,0.00958,0.0117,0.0421,0.0175,0.141,0.017,0.35,0.00145,0.309,0.00149,0.0324,0.292,0.02,0.247,0.00916,0.434,0.191,0.0548,0.0343,0.067,0.0993,0.000915,0.112,0.301,0.0605,0.403,0.0136,0.123,0.0424,0.584,0.376,0.348,0.0101,0.23,0.0661,0.0854,0.0504,0.1,0.00664,0.0593,0.0626,0.000127,0.098,0.0498,0.362,0.0459,0.365,0.0404,0.315,0.252,0.0541,0.26,0.262,0.00689,0.0561,0.0559,0.0371,0.0263,0.0144,0.138,0.237,0.0371,0.153,0.063,0.201,0.415,0.133,0.0266,0.132,0.00188,0.00591,0.0271,0.0722,0.123,0.0106,0.121,0.0285,0.038,0.242,0.104,0.00666,0.00135,0.0194,0.143,0.15,0.183,0.0513,0.00834,0.0303,0.533,0.00579,0.153,0.000211,0.0253,0.0267,0.103,0.534,0.00305,0.168,0.285,0.00277,0.00876,0.124,0.00316,0.187,0.0199,0.0901,0.0502,0.0822,0.0658,0.31,0.169,0.0285,0.376,0.0839,0.000424,0.37,0.136,0.538,0.841,0.513,0.0178,0.00281,0.108,0.0614,0.0148,0.0826,0.00284,0.0174,0.0844,0.0554,0.362,0.124,0.273,0.342,0.0191,0.504,0.00769,0.035,0.315,0.0616,0.0275,0.000233,0.0178,0.503,0.0755,0.084,0.00189,0.102,0.318,0.421,0.000966,0.227,0.00286,0.0572,0.323,0.0367,0.691,0.232,0.0737,0.0142,0.0622,0.421,0.0934,0.062,0.106,0.171,0.00958,0.0193,0.0688,0.00369,0.00287,0.00107,0.263,0.00216,0.0381,0.00112,0.14,0.0556,0.372,0.0243,0.0844,0.0826,0.000748,0.0619,0.245,0.0296,0.233,0.292,0.206,0.285,0.107,0.0881,0.0996,0.0499,0.0219,0.00616,0.0135,0.232,0.0179,0.462,0.141,0.00981,0.252,0.0288,0.317,0.255,0.397,0.0903,0.0602,0.0084,0.00312,0.0439,0.195,0.0524,0.0687,0.241,0.246,0.0011,0.333,0.0862,0.599,0.0778,0.333,0.0302,0.000101,0.208,0.347,0.0000679,0.0011,0.579,0.0216,0.0264,0.000385,0.0209,0.0887,0.429,0.00192,0.0478,0.00571,0.00052,0.00935,0.0949,0.109,0.00138,0.00466,0.504,0.0277,0.00691,0.0553,0.0958,0.00234,0.255,0.615,0.00921,0.00249,0.00204,0.101,0.00733,0.0637,0.163,0.0142,0.399,0.0526,0.23,0.0521,0.0457,0.111,0.0135,0.00721,0.0303,0.252,0.00461,0.022,0.1,0.688,0.618,0.32,0.183,0.0365,0.201,0.00601,0.0149,0.0825,0.116,0.0326,0.000616,0.325,0.343,0.000172,0.00189,0.0391,0.00344,0.176,0.0111,0.000787,0.497,0.0485,0.0199,0.453,0.15,0.0017,0.178,0.194,0.349,0.0847,0.362,0.00189,0.212,0.235,0.444,0.299,0.211,0.508,0.0000192,0.0733,0.367,0.103,0.00385,0.107,0.577,0.254,0.00202,0.506,0.0305,0.599,0.00676,0.0778,0.408,0.046,0.00797,0.0811,0.492,0.271,0.176,0.327,0.039,0.0893,0.231,0.0769,0.0566,0.0298,0.126,0.233,0.00575,0.504,0.00043,0.0479,0.000603,0.08,0.145,0.0183,0.0525,0.0249,0.103,0.0129,0.0697,0.332,0.117,0.177,0.11,0.0509,0.0374,0.000109,0.0154,0.239,0.0046,0.0923,0.023,0.497,0.0775,0.347,0.00727,0.00427,0.0277,0.0369,0.0114,0.0000206,0.0884,0.0127,0.0202,0.688,0.0756,0.0319,0.0838,0.000516,0.00331,0.104,0.0509,0.0371,0.00986,0.108,0.156,0.0108,0.291,0.0581,0.0485,0.169,0.102,0.00083,0.28,0.0649,0.0405,0.0918,0.0298,0.0436,0.00277,0.182,0.00402,0.966,0.000138,0.000409,0.0653,0.106,0.0248,0.614,0.863,0.0498,0.0128,0.00202,0.00462,0.314,0.0000264,0.0217,0.237,0.555,0.00865,0.13,0.101,0.00136,0.327,0.214,0.226,0.0492,0.149,0.261,0.856,0.257,0.377,0.00232,0.23,0.548,0.126,0.00127,0.0923,0.0193,0.976,0.0572,0.145,0.59,0.0264,0.235,0.0195,0.000155,0.0253,0.633,0.00394,0.00542,0.448,0.0345,0.0039,0.0322,0.279,0.409,0.145,0.0294,0.0141,0.0583,0.206,0.0455,0.0246,0.0901,0.111,0.000298,0.0277,0.0508,0.0218,0.0603,0.14,0.00836,0.00937,0.331,0.0248,0.0485,0.000839,0.209,0.0297,0.0229,0.0319,0.0381,0.000213,0.00341,0.0351,0.0311,0.033,0.409,0.179,0.231,0.000204,0.258,0.169,0.0628,0.0444,0.0444,0.115,0.0594,0.0724,0.00115,0.35,0.176,0.0014,0.0743,0.0964,0.462,0.516,0.0541,0.0422,0.00112,0.0465,0.00466,0.00165,0.16,0.631,0.278,0.0875,0.00225,0.372,0.0915,0.0243,0.027,0.248,0.0181,0.000932,0.088,0.286,0.283,0.459,0.129,0.0193,0.0065,0.00488,0.225,0.31,0.00206,0.00275,0.000343,0.266,0.0322,0.000769,0.284,0.106,0.0584,0.0293,0.0541,0.004,0.0505,0.0043,0.0261,0.0714,0.0176,0.00121,0.189,0.00937,0.0569,0.0154,0.067,0.152,0.0248,0.0507,0.00798,0.0492,0.00374,0.096,0.352,0.0241,0.00952,0.00647,0.0195,0.0949,0.0986,0.527,0.277,0.000731,0.0358,0.142,0.216,0.00461,0.0351,0.00928,0.0071,0.000738,0.0553,0.000182,0.175,0.000241,0.0717,0.0232,0.839,0.0114,0.082,0.00193,0.0825,0.000681,0.00523,0.423,0.0155,0.15,0.142,0.0259,0.0341,0.00185,0.0805,0.064,0.00143,0.297,0.0113,0.0841,0.016,0.0132,0.0088,0.0193,0.0195,0.246,0.0208,0.0132,0.0491,0.262,0.283,0.0737,0.953,0.00376,0.784,0.0000382,0.0065,0.00544,0.328,0.00584,0.295,0.216,0.0000548,0.269,0.544,0.000289,0.00379,0.000343,0.0548,0.119,0.00462,0.0759,0.188,0.00864,0.25,0.205,0.00253,0.872,0.122,0.191,0.181,0.0476,0.00022,0.0015,0.00133,0.317,0.168,0.0828,0.00102,0.0153,0.267,0.00564,0.00554,0.495,0.0359,0.515,0.0106,0.00144,0.00101,0.123,0.0122,0.278,0.0141,0.166,0.0506,0.00541,0.157,0.0756,0.277,0.33,0.00141,0.142,0.0000815,0.277,0.298,0.114,0.0506,0.0143,0.0000652,0.000722,0.528,0.0467,0.0982,0.102,0.000418,0.0611,0.0147,0.0576,0.189,0.0185,0.0459,0.00511,0.34,0.00725,0.134,0.197,0.409,0.0523,0.0258,0.00877,0.00485,0.000747,0.00272,0.205,0.00308,0.000917,0.0419,0.00673,0.00128,0.0917,0.0847,0.000665,0.0242,0.0125,0.15,0.225,0.0652,0.271,0.00184,0.0108,0.0104,0.191,0.0368,0.0304,0.00143,0.25,0.0772,0.00166,0.0376,0.17,0.116,0.329,0.0928,0.00223,0.248,0.0209,0.0292,0.48,0.134,0.107,0.00437,0.0271,0.00133,0.0863,0.000337,0.689,0.056,0.0213,0.0381,0.00994,0.0000795,0.0336,0.003,0.262,0.073,0.000563,0.00499,0.00342,0.0933,0.00165,0.0352,0.515,0.0902,0.071,0.0225,0.0387,0.0327,0.0149,0.164,0.0506,0.157,0.121,0.0476,0.0607,0.0239,0.16,0.0659,0.0182,0.203,0.00428,0.337,0.171,0.000821,0.000262,0.0724,0.0912,0.000334,0.0542,0.0253,0.033,0.00153,0.151,0.0996,0.00076,0.0109,0.00188,0.0137,0.014,0.0468,0.0572,0.00116,0.0085,0.0451,0.154,0.00967,0.428,0.00221,0.0161,0.358,0.0659,0.654,0.0394,0.0825,0.0954,0.00172,0.00305,0.266,0.00836,0.64,0.0191,0.431,0.0614,0.299,0.0448,0.0912,0.0296,0.207,0.0368,0.291,0.512,0.191,0.00179,0.0873,0.118,0.272,0.0771,0.009,0.131,0.00301,0.147,0.00569,0.0431,0.000941,0.00474,0.0515,0.462,0.0264,0.0192,0.0142,0.0465,0.0895,0.00645,0.13,0.285,0.113,0.0295,0.258,0.295,0.0167,0.000235,0.000683,0.281,0.00314,0.071,0.107,0.00615,0.0206,0.046,0.000969,0.459,0.0108,0.00293,0.0165,0.013,0.0185,0.0864,0.0653,0.0105,0.171,0.0355,0.0163,0.0476,0.0659,0.123,0.0115,0.428,0.249,0.0185,0.0542,0.0171,0.174,0.0444,0.0447,0.0402,0.0192,0.257,0.0116,0.0000867,0.000441,0.0874,0.00481,0.0631,0.0782,0.00184,0.000202,0.000354,0.00967,0.0161,0.0571,0.0383,0.00177,0.123,0.0717,0.0703,0.654,0.568,0.419,0.00172,0.0951,0.217,0.00112,0.0178,0.665,0.0518,0.00952,0.164,0.00107,0.0897,0.0012,0.0014,0.0275,0.0187,0.0134,0.241,0.00314,0.0994,0.0991,0.00144,0.00379,0.129,0.00446,0.0000414,0.0798,0.00676,0.178,0.000939,0.00713,0.541,0.114,0.255,0.0346,0.0327,0.179,0.00023,0.529,0.000397,0.113,0.209,0.00153,0.0662,0.0173,0.0132,0.0324,0.0338,0.173,0.0283,0.0543,0.00544,0.0613,0.511,0.0287,0.179,0.00521,0.0712,0.0121,0.0281,0.0055,0.0205,0.00481,0.021,0.0868,0.198,0.000315,0.0108,0.0436,0.00564,0.0401,0.2,0.00237,0.13,0.00248,0.0843,0.014,0.0266,0.202,0.11,0.172,0.0421,0.23,0.385,0.0378,0.00453,0.0444,0.0109,0.00374,0.301,0.049,0.0242,0.000176,0.0435,0.352,0.00681,0.135,0.0209,0.128,0.000665,0.417,0.102,0.386,0.0162,0.000431,0.297,0.0275,0.74,0.0298,0.117,0.00034,0.0273,0.0198,0.0743,0.348,0.0127,0.138,0.0117,0.0206,0.141,0.148,0.0434,0.0218,0.00377,0.105,0.0113,0.00334,0.0597,0.0048,0.00166,0.00548,0.186,0.055,0.0192,0.191,0.0761,0.0646,0.0181,0.00379,0.0319,0.0346,0.0294,0.0369,0.000915,0.14,0.1,0.0191,0.0491,0.0184,0.00544,0.000102,0.0182,0.0228,0.109,0.02,0.0509,0.00125,0.00408,0.0869,0.0007,0.0536,0.0339,0.181,0.0319,0.00987,0.187,0.025,0.00646,0.0887,0.000369,0.0144,0.0796,0.0267,0.158,0.23,0.0658,0.00472,0.336,0.00523,0.078,0.0843,0.087,0.00327,0.269,0.119,0.0334,0.227,0.145,0.365,0.0294,0.32,0.0524,0.0771,0.352,0.3,0.0189,0.229,0.0165,0.893,0.00112,0.203,0.0422,0.00167,0.000323,0.446,0.0764,0.00847,0.00194,0.143,0.0048,0.726,0.332,0.348,0.000177,0.82,0.309,0.025,0.0114,0.02,0.000624,0.0124,0.00358,0.417,0.0488,0.00201,0.127,0.0558,0.0145,0.244,0.0208,0.00473,0.0841,0.0403,0.123,0.0884,0.0685,0.00656,0.1,0.00417,0.00498,0.00117,0.015,0.0143,0.049,0.0462,0.0588,0.00125,0.0409,0.000417,0.135,0.0538,0.187,0.00225,0.0145,0.0188,0.135,0.357,0.0022,0.00828,0.0373,0.000972,0.0158,0.115,0.617,0.0509,0.000238,0.0272,0.00777,0.0654,0.112,0.0142,0.0358,0.0679,0.0117,0.00454,0.0166,0.00144,0.0368,0.0525,0.0811,0.027,0.00948,0.0103,0.00234,0.186,0.000802,0.155,0.607,0.0991,0.009,0.209,0.00657,0.0239,0.00131,0.822,0.0297,0.00107,0.0159,0.00385,0.0629,0.134,0.0909,0.096,0.0548,0.046,0.000107,0.0749,0.0034,0.0026,0.128,0.248,0.23,0.0267,0.000673,0.337,0.0662,0.121,0.00412,0.106,0.0038,0.049,0.0619,0.0426,0.019,0.0241,0.0205,0.112,0.695,0.0545,0.173,0.039,0.00112,0.0125,0.0291,0.00137,0.0348,0.00453,0.124,0.0495,0.0736,0.000189,0.0738,0.0483,0.000688,0.0525,0.00726,0.0101,0.00144,0.00963,0.00616,0.000986,0.0157,0.0217,0.00952,0.0271,0.162,0.332,0.19,0.025,0.00454,0.186,0.00264,0.104,0.0469,0.0239,0.00144,0.107,0.31,0.0111,0.41,0.0203,0.452,0.00176,0.0525,0.00304,0.197,0.00357,0.307,0.0143,0.0331,0.0831,0.0192,0.00627,0.00487,0.255,0.00262,0.0594,0.00351,0.0059,0.0755,0.0227,0.136,0.0366,0.407,0.0466,0.0839,0.0391,0.234,0.0412,0.0206,0.00882,0.322,0.0098,0.132,0.00411,0.181,0.00242,0.128,0.015,0.00215,0.385,0.294,0.945,0.103,0.932,0.0191,0.219,0.00314,0.0239,0.0904,0.000185,0.588,0.0422,0.0197,0.922,0.00865,0.0573,0.0932,0.192,0.0703,0.00521,0.0141,0.0348,0.0179,0.00125,0.15,0.000132,0.0885,0.328,0.129,0.00215,0.0802,0.0219,0.392,0.0668,0.0287,0.00107,0.0295,0.0654,0.0505,0.0215,0.00518,0.175,0.0317,0.000526,0.0135,0.167,0.00489,0.649,0.00821,0.0958,0.0862,0.31,0.0064,0.0355,0.0966,0.0168,0.167,0.0193,0.00129,0.427,0.0113,0.00937,0.0467,0.0309,0.26,0.00377,0.0531,0.00245,0.0384,0.0159,0.0192,0.154,0.00433,0.000739,0.053,0.403,0.000569,0.00218,0.0647,0.859,0.304,0.0373,0.00106,0.019,0.00617,0.162,0.109,0.0117,0.225,0.746,0.0697,0.0372,0.000792,0.431,0.00969,0.0553,0.0457,0.559,0.0506,0.434,0.0915,0.204,0.563,0.251,0.0132,0.00801,0.474,0.369,0.59,0.00346,0.385,0.247,0.213,0.24,0.00441,0.103,0.0671,0.0678,0.0288,0.0166,0.0141,0.186,0.0158,0.0294,0.000704,0.0185,0.0392,0.0126,0.328,0.00359,0.0312,0.466,0.0462,0.063,0.612,0.343,0.0375,0.00563,0.31,0.672,0.0709,0.0696,0.0921,0.00711,0.0509,0.141,0.109,0.00767,0.0665,0.00188,0.0012,0.0223,0.0266,0.0215,0.234,0.0399,0.164,0.0244,0.0966,0.0128,0.244,0.00312,0.213,0.00258,0.00795,0.817,0.00256,0.00937,0.113,0.166,0.0144,0.304,0.271,0.0115,0.154,0.00419,0.634,0.00245,0.0804,0.769,0.0525,0.0242,0.0362,0.393,0.0462,0.729,0.0152,0.0242,0.053,0.041,0.264,0.223,0.0384,0.0118,0.00621,0.484,0.00407,0.175,0.0797,0.093,0.0352,0.0598,0.189,0.0506,0.256,0.165,0.00776,0.835,0.414,0.329,0.028,0.0156,0.0561,0.0915,0.0752,0.211,0.0797,0.0123,0.0371,0.174,0.0184,0.0022,0.082,0.255,0.0841,0.337,0.0282,0.157,0.37,0.537,0.0584,0.00451,0.0124,0.011,0.109,0.0281,0.343,0.0863,0.199,0.0353,0.157,0.11,0.0408,0.0241,0.102,0.0223,0.093,0.00609,0.00835,0.0215,0.0612,0.0812,0.621,0.355,0.0858,0.00312,0.0225,0.00347,0.0162,0.106,0.0862,0.00205,0.0807,0.159,0.0144,0.152,0.00423,0.161,0.615,0.151,0.103,0.192,0.104,0.0783,0.0199,0.0553,0.0559,0.364,0.253,0.372,0.0736,0.0435,0.0118,0.0114,0.223,0.00383,0.0431,0.453,0.441,0.147,0.0102,0.0253,0.687,0.719,0.023,0.141,0.0235,0.0731,0.107,0.014,0.00175,0.0239,0.63,0.67,0.0489,0.581,0.0466,0.209,0.64,0.406,0.186,0.00683,0.343,0.0498,0.163,0.0102,0.0847,0.896,0.0102,0.0534,0.118,0.2,0.0262,0.0651,0.0293,0.015,0.0323,0.102,0.0178,0.163,0.142,0.00778,0.0714,0.0837,0.00264,0.0362,0.0312,0.075,0.0117,0.0114,0.469,0.0234,0.0524,0.03,0.000243,0.0204,0.0969,0.111,0.127,0.393,0.00522,0.239,0.204,0.0642,0.0576,0.00402,0.501,0.469,0.0611,0.022,0.0895,0.091,0.0435,0.0527,0.219,0.307,0.381,0.00638,0.0041,0.00261,0.0672,0.265,0.0853,0.0329,0.215,0.00163,0.281,0.0814,0.00381,0.0642,0.242,0.167,0.15,0.0323,0.184,0.246,0.256,0.00459,0.0631,0.0285,0.0312,0.0605,0.137,0.588,0.158,0.0037,0.428,0.0215,0.106,0.118,0.134,0.0575,0.034,0.229,0.119,0.0332,0.124,0.149,0.0534,0.176,0.349,0.171,0.205,0.099,0.556,0.04,0.194,0.037,0.0236,0.00513,0.217,0.157,0.0145,0.0762,0.934,0.0876,0.0441,0.0165,0.088,0.17,0.542,0.0305,0.0338,0.258,0.354,0.00413,0.0553,0.0234,0.109,0.000813,0.202,0.0605,0.0425,0.0233,0.0233,0.0168,0.811,0.159,0.113,0.124,0.374,0.0153,0.165,0.256,0.0169,0.0476,0.0167,0.312,0.883,0.328,0.0659,0.0355,0.327,0.0817,0.315,0.211,0.331,0.00104,0.142,0.191,0.697,0.193,0.00263,0.00552,0.0589,0.279,0.314,0.0543,0.555,0.0376,0.00149,0.0364,0.0387,0.225,0.174,0.0733,0.0372,0.0185,0.802,0.000239,0.0604,0.279,0.181,0.178,0.0403,0.25,0.0161,0.147,0.535,0.0558,0.568,0.0956,0.0891,0.264,0.546,0.0533,0.328,0.0392,0.592,0.533,0.0933,0.297,0.177,0.371,0.00987,0.751,0.269,0.174,0.0251,0.0521,0.11,0.74,0.318,0.228,0.0404,0.132,0.00513,0.675,0.404,0.157,0.407,0.000677,0.0204,0.251,0.934,0.296,0.0578,0.259,0.136,0.0856,0.0153,0.0131,0.323,0.101,0.342,0.0141,0.15,0.328,0.0395,0.0247,0.0846,0.0169,0.107,0.00534,0.0421,0.271,0.0691,0.0125,0.0107,0.016,0.219,0.0642,0.13,0.692,0.119,0.6,0.0737,0.323,0.149,0.361,0.0984,0.18,0.0608,0.0939,0.74,0.0923,0.00915,0.108,0.489,0.272,0.23,0.077,0.223,0.128,0.00485,0.602,0.0771,0.367,0.136,0.331,0.214,0.176,0.162,0.193,0.0644,0.153,0.0192,0.0547,0.447,0.0427,0.117,0.0669,0.45,0.192],\"xaxis\":\"x\",\"yaxis\":\"y\",\"type\":\"histogram\"}],                        {\"template\":{\"data\":{\"histogram2dcontour\":[{\"type\":\"histogram2dcontour\",\"colorbar\":{\"outlinewidth\":0,\"ticks\":\"\"},\"colorscale\":[[0.0,\"#0d0887\"],[0.1111111111111111,\"#46039f\"],[0.2222222222222222,\"#7201a8\"],[0.3333333333333333,\"#9c179e\"],[0.4444444444444444,\"#bd3786\"],[0.5555555555555556,\"#d8576b\"],[0.6666666666666666,\"#ed7953\"],[0.7777777777777778,\"#fb9f3a\"],[0.8888888888888888,\"#fdca26\"],[1.0,\"#f0f921\"]]}],\"choropleth\":[{\"type\":\"choropleth\",\"colorbar\":{\"outlinewidth\":0,\"ticks\":\"\"}}],\"histogram2d\":[{\"type\":\"histogram2d\",\"colorbar\":{\"outlinewidth\":0,\"ticks\":\"\"},\"colorscale\":[[0.0,\"#0d0887\"],[0.1111111111111111,\"#46039f\"],[0.2222222222222222,\"#7201a8\"],[0.3333333333333333,\"#9c179e\"],[0.4444444444444444,\"#bd3786\"],[0.5555555555555556,\"#d8576b\"],[0.6666666666666666,\"#ed7953\"],[0.7777777777777778,\"#fb9f3a\"],[0.8888888888888888,\"#fdca26\"],[1.0,\"#f0f921\"]]}],\"heatmap\":[{\"type\":\"heatmap\",\"colorbar\":{\"outlinewidth\":0,\"ticks\":\"\"},\"colorscale\":[[0.0,\"#0d0887\"],[0.1111111111111111,\"#46039f\"],[0.2222222222222222,\"#7201a8\"],[0.3333333333333333,\"#9c179e\"],[0.4444444444444444,\"#bd3786\"],[0.5555555555555556,\"#d8576b\"],[0.6666666666666666,\"#ed7953\"],[0.7777777777777778,\"#fb9f3a\"],[0.8888888888888888,\"#fdca26\"],[1.0,\"#f0f921\"]]}],\"heatmapgl\":[{\"type\":\"heatmapgl\",\"colorbar\":{\"outlinewidth\":0,\"ticks\":\"\"},\"colorscale\":[[0.0,\"#0d0887\"],[0.1111111111111111,\"#46039f\"],[0.2222222222222222,\"#7201a8\"],[0.3333333333333333,\"#9c179e\"],[0.4444444444444444,\"#bd3786\"],[0.5555555555555556,\"#d8576b\"],[0.6666666666666666,\"#ed7953\"],[0.7777777777777778,\"#fb9f3a\"],[0.8888888888888888,\"#fdca26\"],[1.0,\"#f0f921\"]]}],\"contourcarpet\":[{\"type\":\"contourcarpet\",\"colorbar\":{\"outlinewidth\":0,\"ticks\":\"\"}}],\"contour\":[{\"type\":\"contour\",\"colorbar\":{\"outlinewidth\":0,\"ticks\":\"\"},\"colorscale\":[[0.0,\"#0d0887\"],[0.1111111111111111,\"#46039f\"],[0.2222222222222222,\"#7201a8\"],[0.3333333333333333,\"#9c179e\"],[0.4444444444444444,\"#bd3786\"],[0.5555555555555556,\"#d8576b\"],[0.6666666666666666,\"#ed7953\"],[0.7777777777777778,\"#fb9f3a\"],[0.8888888888888888,\"#fdca26\"],[1.0,\"#f0f921\"]]}],\"surface\":[{\"type\":\"surface\",\"colorbar\":{\"outlinewidth\":0,\"ticks\":\"\"},\"colorscale\":[[0.0,\"#0d0887\"],[0.1111111111111111,\"#46039f\"],[0.2222222222222222,\"#7201a8\"],[0.3333333333333333,\"#9c179e\"],[0.4444444444444444,\"#bd3786\"],[0.5555555555555556,\"#d8576b\"],[0.6666666666666666,\"#ed7953\"],[0.7777777777777778,\"#fb9f3a\"],[0.8888888888888888,\"#fdca26\"],[1.0,\"#f0f921\"]]}],\"mesh3d\":[{\"type\":\"mesh3d\",\"colorbar\":{\"outlinewidth\":0,\"ticks\":\"\"}}],\"scatter\":[{\"fillpattern\":{\"fillmode\":\"overlay\",\"size\":10,\"solidity\":0.2},\"type\":\"scatter\"}],\"parcoords\":[{\"type\":\"parcoords\",\"line\":{\"colorbar\":{\"outlinewidth\":0,\"ticks\":\"\"}}}],\"scatterpolargl\":[{\"type\":\"scatterpolargl\",\"marker\":{\"colorbar\":{\"outlinewidth\":0,\"ticks\":\"\"}}}],\"bar\":[{\"error_x\":{\"color\":\"#2a3f5f\"},\"error_y\":{\"color\":\"#2a3f5f\"},\"marker\":{\"line\":{\"color\":\"#E5ECF6\",\"width\":0.5},\"pattern\":{\"fillmode\":\"overlay\",\"size\":10,\"solidity\":0.2}},\"type\":\"bar\"}],\"scattergeo\":[{\"type\":\"scattergeo\",\"marker\":{\"colorbar\":{\"outlinewidth\":0,\"ticks\":\"\"}}}],\"scatterpolar\":[{\"type\":\"scatterpolar\",\"marker\":{\"colorbar\":{\"outlinewidth\":0,\"ticks\":\"\"}}}],\"histogram\":[{\"marker\":{\"pattern\":{\"fillmode\":\"overlay\",\"size\":10,\"solidity\":0.2}},\"type\":\"histogram\"}],\"scattergl\":[{\"type\":\"scattergl\",\"marker\":{\"colorbar\":{\"outlinewidth\":0,\"ticks\":\"\"}}}],\"scatter3d\":[{\"type\":\"scatter3d\",\"line\":{\"colorbar\":{\"outlinewidth\":0,\"ticks\":\"\"}},\"marker\":{\"colorbar\":{\"outlinewidth\":0,\"ticks\":\"\"}}}],\"scattermapbox\":[{\"type\":\"scattermapbox\",\"marker\":{\"colorbar\":{\"outlinewidth\":0,\"ticks\":\"\"}}}],\"scatterternary\":[{\"type\":\"scatterternary\",\"marker\":{\"colorbar\":{\"outlinewidth\":0,\"ticks\":\"\"}}}],\"scattercarpet\":[{\"type\":\"scattercarpet\",\"marker\":{\"colorbar\":{\"outlinewidth\":0,\"ticks\":\"\"}}}],\"carpet\":[{\"aaxis\":{\"endlinecolor\":\"#2a3f5f\",\"gridcolor\":\"white\",\"linecolor\":\"white\",\"minorgridcolor\":\"white\",\"startlinecolor\":\"#2a3f5f\"},\"baxis\":{\"endlinecolor\":\"#2a3f5f\",\"gridcolor\":\"white\",\"linecolor\":\"white\",\"minorgridcolor\":\"white\",\"startlinecolor\":\"#2a3f5f\"},\"type\":\"carpet\"}],\"table\":[{\"cells\":{\"fill\":{\"color\":\"#EBF0F8\"},\"line\":{\"color\":\"white\"}},\"header\":{\"fill\":{\"color\":\"#C8D4E3\"},\"line\":{\"color\":\"white\"}},\"type\":\"table\"}],\"barpolar\":[{\"marker\":{\"line\":{\"color\":\"#E5ECF6\",\"width\":0.5},\"pattern\":{\"fillmode\":\"overlay\",\"size\":10,\"solidity\":0.2}},\"type\":\"barpolar\"}],\"pie\":[{\"automargin\":true,\"type\":\"pie\"}]},\"layout\":{\"autotypenumbers\":\"strict\",\"colorway\":[\"#636efa\",\"#EF553B\",\"#00cc96\",\"#ab63fa\",\"#FFA15A\",\"#19d3f3\",\"#FF6692\",\"#B6E880\",\"#FF97FF\",\"#FECB52\"],\"font\":{\"color\":\"#2a3f5f\"},\"hovermode\":\"closest\",\"hoverlabel\":{\"align\":\"left\"},\"paper_bgcolor\":\"white\",\"plot_bgcolor\":\"#E5ECF6\",\"polar\":{\"bgcolor\":\"#E5ECF6\",\"angularaxis\":{\"gridcolor\":\"white\",\"linecolor\":\"white\",\"ticks\":\"\"},\"radialaxis\":{\"gridcolor\":\"white\",\"linecolor\":\"white\",\"ticks\":\"\"}},\"ternary\":{\"bgcolor\":\"#E5ECF6\",\"aaxis\":{\"gridcolor\":\"white\",\"linecolor\":\"white\",\"ticks\":\"\"},\"baxis\":{\"gridcolor\":\"white\",\"linecolor\":\"white\",\"ticks\":\"\"},\"caxis\":{\"gridcolor\":\"white\",\"linecolor\":\"white\",\"ticks\":\"\"}},\"coloraxis\":{\"colorbar\":{\"outlinewidth\":0,\"ticks\":\"\"}},\"colorscale\":{\"sequential\":[[0.0,\"#0d0887\"],[0.1111111111111111,\"#46039f\"],[0.2222222222222222,\"#7201a8\"],[0.3333333333333333,\"#9c179e\"],[0.4444444444444444,\"#bd3786\"],[0.5555555555555556,\"#d8576b\"],[0.6666666666666666,\"#ed7953\"],[0.7777777777777778,\"#fb9f3a\"],[0.8888888888888888,\"#fdca26\"],[1.0,\"#f0f921\"]],\"sequentialminus\":[[0.0,\"#0d0887\"],[0.1111111111111111,\"#46039f\"],[0.2222222222222222,\"#7201a8\"],[0.3333333333333333,\"#9c179e\"],[0.4444444444444444,\"#bd3786\"],[0.5555555555555556,\"#d8576b\"],[0.6666666666666666,\"#ed7953\"],[0.7777777777777778,\"#fb9f3a\"],[0.8888888888888888,\"#fdca26\"],[1.0,\"#f0f921\"]],\"diverging\":[[0,\"#8e0152\"],[0.1,\"#c51b7d\"],[0.2,\"#de77ae\"],[0.3,\"#f1b6da\"],[0.4,\"#fde0ef\"],[0.5,\"#f7f7f7\"],[0.6,\"#e6f5d0\"],[0.7,\"#b8e186\"],[0.8,\"#7fbc41\"],[0.9,\"#4d9221\"],[1,\"#276419\"]]},\"xaxis\":{\"gridcolor\":\"white\",\"linecolor\":\"white\",\"ticks\":\"\",\"title\":{\"standoff\":15},\"zerolinecolor\":\"white\",\"automargin\":true,\"zerolinewidth\":2},\"yaxis\":{\"gridcolor\":\"white\",\"linecolor\":\"white\",\"ticks\":\"\",\"title\":{\"standoff\":15},\"zerolinecolor\":\"white\",\"automargin\":true,\"zerolinewidth\":2},\"scene\":{\"xaxis\":{\"backgroundcolor\":\"#E5ECF6\",\"gridcolor\":\"white\",\"linecolor\":\"white\",\"showbackground\":true,\"ticks\":\"\",\"zerolinecolor\":\"white\",\"gridwidth\":2},\"yaxis\":{\"backgroundcolor\":\"#E5ECF6\",\"gridcolor\":\"white\",\"linecolor\":\"white\",\"showbackground\":true,\"ticks\":\"\",\"zerolinecolor\":\"white\",\"gridwidth\":2},\"zaxis\":{\"backgroundcolor\":\"#E5ECF6\",\"gridcolor\":\"white\",\"linecolor\":\"white\",\"showbackground\":true,\"ticks\":\"\",\"zerolinecolor\":\"white\",\"gridwidth\":2}},\"shapedefaults\":{\"line\":{\"color\":\"#2a3f5f\"}},\"annotationdefaults\":{\"arrowcolor\":\"#2a3f5f\",\"arrowhead\":0,\"arrowwidth\":1},\"geo\":{\"bgcolor\":\"white\",\"landcolor\":\"#E5ECF6\",\"subunitcolor\":\"white\",\"showland\":true,\"showlakes\":true,\"lakecolor\":\"white\"},\"title\":{\"x\":0.05},\"mapbox\":{\"style\":\"light\"}}},\"xaxis\":{\"anchor\":\"y\",\"domain\":[0.0,1.0],\"title\":{\"text\":\"acousticness\"}},\"yaxis\":{\"anchor\":\"x\",\"domain\":[0.0,1.0],\"title\":{\"text\":\"count\"}},\"legend\":{\"tracegroupgap\":0},\"title\":{\"text\":\"Acousticness distribution across top hits from 2000-2019\"},\"barmode\":\"relative\",\"shapes\":[{\"line\":{\"color\":\"firebrick\",\"dash\":\"dash\",\"width\":2},\"type\":\"line\",\"x0\":0.1285341646578141,\"x1\":0.1285341646578141,\"xref\":\"x\",\"y0\":0,\"y1\":1,\"yref\":\"y domain\"}],\"margin\":{\"t\":150},\"annotations\":[{\"font\":{\"color\":\"firebrick\",\"size\":12},\"showarrow\":false,\"text\":\"<b>0.13 average</b>\",\"textangle\":0,\"x\":0.15,\"xref\":\"x\",\"y\":1.07,\"yref\":\"paper\"}]},                        {\"responsive\": true}                    ).then(function(){\n",
       "                            \n",
       "var gd = document.getElementById('e1c984dc-4037-47a4-8e3c-ebf7d2f9385d');\n",
       "var x = new MutationObserver(function (mutations, observer) {{\n",
       "        var display = window.getComputedStyle(gd).display;\n",
       "        if (!display || display === 'none') {{\n",
       "            console.log([gd, 'removed!']);\n",
       "            Plotly.purge(gd);\n",
       "            observer.disconnect();\n",
       "        }}\n",
       "}});\n",
       "\n",
       "// Listen for the removal of the full notebook cells\n",
       "var notebookContainer = gd.closest('#notebook-container');\n",
       "if (notebookContainer) {{\n",
       "    x.observe(notebookContainer, {childList: true});\n",
       "}}\n",
       "\n",
       "// Listen for the clearing of the current output cell\n",
       "var outputEl = gd.closest('.output');\n",
       "if (outputEl) {{\n",
       "    x.observe(outputEl, {childList: true});\n",
       "}}\n",
       "\n",
       "                        })                };                });            </script>        </div>"
      ]
     },
     "metadata": {},
     "output_type": "display_data"
    }
   ],
   "source": [
    "fig = px.histogram(df,x = 'acousticness',\n",
    "                   title = 'Acousticness distribution across top hits from 2000-2019',)\n",
    "fig.add_vline(x=np.mean(df.acousticness),line_width = 2, line_dash = 'dash', \n",
    "              line_color = 'firebrick')\n",
    "fig.update_layout(margin=dict(t=150))\n",
    "fig.add_annotation(dict(font=dict(color=\"firebrick\",size=12),\n",
    "                            x=0.15,\n",
    "                            y=1.07,\n",
    "                            showarrow=False,\n",
    "                            text='<b>0.13 average</b>',\n",
    "                            textangle=0,\n",
    "                            xref=\"x\",\n",
    "                            yref=\"paper\"\n",
    "                           ))\n",
    "fig.show()"
   ]
  },
  {
   "cell_type": "markdown",
   "id": "23f017d3",
   "metadata": {
    "_cell_guid": "5416c40a-c075-4acf-9ba3-e8dc426a8477",
    "_uuid": "53093603-830d-4e33-b664-b19af0d7862e",
    "papermill": {
     "duration": 0.032556,
     "end_time": "2022-06-10T19:28:24.892389",
     "exception": false,
     "start_time": "2022-06-10T19:28:24.859833",
     "status": "completed"
    },
    "tags": []
   },
   "source": [
    "### Instrumentalness distribution"
   ]
  },
  {
   "cell_type": "code",
   "execution_count": 25,
   "id": "6c2e11a8",
   "metadata": {
    "_cell_guid": "fb3e208d-8d11-4106-b37b-9ee6c86ad94e",
    "_uuid": "e537274d-d6dc-49ac-aa2d-1c5f83733110",
    "collapsed": false,
    "execution": {
     "iopub.execute_input": "2022-06-10T19:28:24.947571Z",
     "iopub.status.busy": "2022-06-10T19:28:24.947027Z",
     "iopub.status.idle": "2022-06-10T19:28:25.037956Z",
     "shell.execute_reply": "2022-06-10T19:28:25.037131Z"
    },
    "jupyter": {
     "outputs_hidden": false
    },
    "papermill": {
     "duration": 0.121025,
     "end_time": "2022-06-10T19:28:25.039922",
     "exception": false,
     "start_time": "2022-06-10T19:28:24.918897",
     "status": "completed"
    },
    "tags": []
   },
   "outputs": [
    {
     "data": {
      "text/html": [
       "<div>                            <div id=\"95be425e-ee67-45a2-a927-e1386ed6a0e2\" class=\"plotly-graph-div\" style=\"height:525px; width:100%;\"></div>            <script type=\"text/javascript\">                require([\"plotly\"], function(Plotly) {                    window.PLOTLYENV=window.PLOTLYENV || {};                                    if (document.getElementById(\"95be425e-ee67-45a2-a927-e1386ed6a0e2\")) {                    Plotly.newPlot(                        \"95be425e-ee67-45a2-a927-e1386ed6a0e2\",                        [{\"alignmentgroup\":\"True\",\"bingroup\":\"x\",\"hovertemplate\":\"instrumentalness=%{x}<br>count=%{y}<extra></extra>\",\"legendgroup\":\"\",\"marker\":{\"color\":\"#636efa\",\"pattern\":{\"shape\":\"\"}},\"name\":\"\",\"offsetgroup\":\"\",\"orientation\":\"v\",\"showlegend\":false,\"x\":[0.0000177,0.0000135,0.00104,0.0,0.0,0.0293,0.0482,0.325,0.0,0.691,0.0,0.00103,0.0,0.306,0.985,0.0,0.000129,0.504,0.000645,0.0876,4.56e-6,0.0000619,0.0000958,0.0,0.0000314,0.0,0.0,0.0000979,0.0,0.0,0.00278,6.51e-6,0.0,9.31e-6,0.0,0.0,0.0000251,0.0,0.00446,0.0,0.00951,0.0,0.000113,0.0,0.0,0.0,0.00308,0.000124,0.000011,0.0000382,0.0,0.000341,0.0,0.00042,3.69e-6,2.24e-6,0.0,3.85e-6,8.83e-6,0.0,0.000068,0.0000109,0.000154,0.0,0.0,0.0,2.34e-6,0.683,0.0000149,5.38e-6,0.0000114,0.0,0.0,0.00796,0.0,0.000134,0.0000472,2.97e-6,0.0000412,0.799,0.0,0.0000893,0.0185,0.0,7.01e-6,0.0,0.0000884,0.000227,0.0,0.000121,0.0000368,0.0,0.0,0.0,0.0676,0.0,0.0,0.0106,0.00247,0.108,0.0083,0.0000226,0.146,0.0,0.0,0.0,0.0000712,3.54e-6,0.0116,0.0,0.0,0.000247,0.227,0.00512,1.35e-6,0.0000298,0.0000212,0.000925,0.0,0.0042,0.0,0.0,0.0,0.00951,0.000316,0.0187,0.00863,0.0,0.0,0.661,0.0,2.95e-6,1.11e-6,2.09e-6,0.0,0.0000433,0.0000548,0.0746,0.065,0.00355,0.0,3.69e-6,0.0,0.0,0.0,0.0,6.04e-6,0.00203,0.0,8.83e-6,1.8e-6,0.0,8.14e-6,0.000126,0.0,0.00283,0.0,0.000549,4.4e-6,0.0,0.0,0.0,0.000164,0.0,7.74e-6,0.0,0.0,0.0,1.57e-6,0.000162,0.0,0.0,0.0,0.000175,0.00325,0.0,0.0,0.0,1.1e-6,0.00286,0.461,6.23e-6,1.83e-6,0.0,0.0,0.0,0.0362,0.00161,0.0014,0.00432,0.000042,0.0,0.0000165,0.0984,0.0,0.0,0.0,0.00669,0.0000619,0.0,0.0,0.0,3.7e-6,1.81e-6,0.0872,0.0000219,0.0,0.0123,0.0,0.0,1.5e-6,0.0000461,0.0,0.0,0.051,1.13e-6,5.39e-6,0.0,2.53e-6,0.0,5.37e-6,0.0000116,0.000307,0.0,0.0,0.0,3.74e-6,0.0,0.0,0.0,0.000122,0.0115,0.0,0.0,8.97e-6,4.31e-6,0.0,0.0,0.0,0.000606,0.0,0.0,0.00355,0.205,0.00482,0.0000149,5.62e-6,2.83e-6,0.0000357,0.00015,0.000512,0.0,0.0,0.0,0.0,0.00303,0.0,0.000244,0.0,4.95e-6,1.32e-6,0.0,0.0,0.0,0.00066,0.0,0.0,0.0,5.04e-6,0.0,0.145,0.0,0.792,0.0,0.0,4.35e-6,0.0,0.0,0.0,2.06e-6,0.0,0.0,0.0,0.0,0.0,8.43e-6,0.0,0.0,2.19e-6,1.69e-6,0.000234,0.447,0.0,1.16e-6,0.0000449,0.00181,0.000247,0.0,1.89e-6,2.78e-6,0.201,0.712,0.0000467,0.0,0.63,0.0,0.0,0.0,0.0,1.57e-6,0.0,3.05e-6,4.65e-6,0.0000124,0.0000937,0.0,0.0,0.00275,0.0,0.000353,0.0,0.0,1.42e-6,0.0,0.166,0.00144,0.0,0.0,0.0,0.0,0.0,0.0000925,0.00118,0.0,0.0,0.0115,4.26e-6,0.0,0.0,0.106,0.0,0.0,0.0,0.0,0.0,3.3e-6,0.0,0.0,0.0,0.000415,0.0,0.0,0.000113,0.0,1.6e-6,0.0,0.0,0.000215,0.713,0.0,0.0,0.0,0.0,0.025,0.000532,0.0,0.0,1.2e-6,0.0,0.0,0.0,8.19e-6,1.75e-6,0.000052,0.0,6.24e-6,0.0,0.00057,0.0,2.05e-6,0.0,0.00156,0.219,0.00115,1.52e-6,0.000389,0.000025,0.591,1.77e-6,1.96e-6,0.000331,8.43e-6,0.0,2.63e-6,0.0,0.0,0.0494,1.42e-6,0.0,0.0,0.0346,0.0,0.0000645,0.000536,5.13e-6,0.0000404,0.0,0.0,0.0,0.000225,0.0,3.07e-6,0.0,0.0,0.0,0.00571,0.048,0.0,0.000744,0.0000857,0.00108,0.00051,0.0,0.0,0.0,0.0,0.0,1.49e-6,0.0,0.00118,0.0,0.0,0.0000786,0.0,0.0167,0.00183,5.21e-6,0.00224,0.0,0.0,3.3e-6,3.25e-6,0.0000325,0.0,0.0,0.0,0.000296,0.0,0.0,0.0331,0.0,0.0,0.000113,0.00492,0.0,0.00034,0.000366,0.0,0.0,0.00443,0.0,0.0,0.0,0.00077,0.000032,0.0000176,0.0000154,2.54e-6,0.00336,3.37e-6,0.161,0.00608,0.693,0.0,0.0,0.0000149,0.0222,2.87e-6,0.0000788,0.0,0.0,0.0,0.0000139,0.0,0.0,0.0,0.0,0.0,0.0,0.00233,0.0,0.0,0.0146,0.0,0.0,0.0,0.000308,0.0869,0.00076,0.000191,0.122,0.0,0.0,0.00697,0.0,0.0,4.92e-6,0.0,0.0,0.0,0.0,0.0,0.0,0.00128,0.0000375,0.0,0.000493,2.81e-6,6.17e-6,0.0,0.000294,0.00311,0.0,0.0,0.00859,0.0,0.0,0.00248,0.0,6.15e-6,0.00109,0.0,0.0,0.0,0.0,0.0,0.0,0.000409,0.0,9e-6,0.0,0.0,0.000166,0.0,0.0,0.0,0.0,0.00682,0.00034,1.37e-6,0.0345,0.0,0.0,0.0603,0.473,1.35e-6,0.0,0.000309,0.0000942,0.0,0.0,0.0,5.46e-6,1.51e-6,0.0000507,0.00714,0.000108,0.000358,0.0,0.0,0.013,0.0,0.0,0.0000613,0.154,0.0,0.0,5.14e-6,0.0000494,0.0,0.00517,0.0000659,0.0,0.0,1.8e-6,0.0,0.0,0.00866,1.6e-6,0.0,0.0,0.0000118,0.0,0.0,1.11e-6,0.0,0.0000168,0.0,0.000012,0.0000122,0.00188,0.0,8.34e-6,0.000134,0.69,0.0,0.0,0.0,0.0,0.0,0.0,0.0,0.0,0.0,7.54e-6,0.0,0.0,0.0,0.000128,0.0,0.0,0.0,0.0,0.0,0.000127,3.88e-6,0.0,0.0,0.00428,0.0,8.59e-6,0.0,0.0,1.22e-6,0.00916,0.0,0.00197,0.0,0.0,0.00342,0.00855,0.0,0.000178,0.0,0.0,0.0,0.0,3.26e-6,0.0,0.0566,0.0,0.0,0.00011,0.000863,1.35e-6,0.0,0.0,0.0,0.0,0.0,0.0,0.000678,0.0,0.000426,0.0,0.00102,0.0,0.751,0.00112,0.0665,0.000814,0.000139,0.0,0.000552,0.0,0.035,0.21,0.0,0.0,0.000237,0.0,1.28e-6,0.0,0.0,0.0,0.129,0.0,0.0,0.029,1.64e-6,0.0003,0.0,0.0,0.0,0.0,0.0,0.0,1.59e-6,1.11e-6,0.00155,0.0000118,0.0,0.0,0.0,0.257,0.0000605,0.000221,0.0,0.0,0.0,0.0,7.38e-6,0.0,0.0,0.0,0.0,0.0,0.0,0.0,0.000161,0.0,0.0000205,0.0,3.8e-6,0.0,0.00392,0.0000452,0.000358,0.0,9.26e-6,0.0,0.0,0.0,0.0,4.85e-6,8.52e-6,0.0,0.0,0.0,0.0102,0.0147,0.0,0.0,0.00664,0.0,0.000356,0.0,0.0,0.0,0.0,0.00298,0.0000113,0.0,0.0,0.0,0.0,0.0,0.0000175,0.0,0.0,0.0,0.0,8.85e-6,0.0,0.0,0.0,0.0,0.0,0.0,0.000139,0.0,0.00672,8.02e-6,0.00413,0.0,0.0,0.00696,0.0,0.0000692,0.0000346,0.0,0.0,0.812,0.0,0.0,0.000405,0.0,0.127,0.0,0.0,0.0,0.000052,0.00202,0.0,0.0000734,0.00701,0.0,0.0,0.0000774,0.0,2.7e-6,0.0000302,0.0,0.0,0.0,0.0,0.0,0.0,0.0,0.0,0.148,0.0,0.0,0.0,0.5,0.0,0.0000745,5.16e-6,0.000268,0.0,0.0049,0.00268,0.0,0.0,0.0,0.000482,0.0,0.0000239,0.0218,0.0373,0.0,0.0,5.61e-6,3.09e-6,0.0,0.0,0.0,0.0,0.000565,0.0,3.23e-6,0.0104,0.0,0.000356,0.000012,0.0,0.0,0.0,0.00129,0.0,0.0,0.0,0.0,0.0,0.000188,0.0,0.0000243,0.00042,0.0,0.0,1.64e-6,0.0,0.000616,0.0,0.0,0.000249,0.000381,2.43e-6,0.0,0.117,0.0000217,0.0,7.13e-6,0.0000426,0.0,0.0000212,0.0,0.0000186,0.0000728,0.00171,0.0162,0.0,0.0,9.35e-6,0.0,0.0,0.0,0.0,0.0,0.0000524,0.0,1.45e-6,0.0,0.0,0.0,0.0,0.925,0.0,4.82e-6,0.000427,0.0,0.0,0.0,0.0,0.0,0.0,0.0,0.0,0.0,0.0,0.0,0.0,0.0,0.0,1.01e-6,0.5,0.0172,0.0,0.0,0.00989,0.0,0.0,7.52e-6,0.0,0.0,0.0000647,0.149,0.105,0.0000713,0.0,0.0,0.064,0.00165,0.0,0.0,0.0,0.0,3.39e-6,0.0,0.0,0.0,0.0,8.18e-6,0.0000882,0.0104,0.0,0.0,0.000115,0.0,0.0,0.0,0.0,0.0000246,0.0,0.0,0.0,0.0,0.0000319,0.0,0.0,0.0,0.0000524,0.00203,0.0,4.34e-6,0.0,0.0000107,0.0,0.00126,0.441,0.0,0.0,0.197,0.0,0.000176,0.0308,0.0,0.0186,0.0,0.0,0.894,0.0,0.0015,0.0,5.32e-6,0.0,2.77e-6,8.46e-6,0.0049,0.0,0.0,0.0,0.0,0.0,0.0,0.0,0.0,0.0,0.0,0.000817,0.0812,0.0,0.0,0.0,0.0,0.0,0.0,0.0,0.0000114,0.0,0.0,0.0,0.0,0.0,0.0000943,0.0000111,0.0,1.23e-6,0.000425,0.0,0.0,0.0,0.0,0.0,0.0,0.0,0.0,1.43e-6,0.0,0.0,0.0,0.0,3.03e-6,6.81e-6,0.0,0.0,0.0,0.0,0.0,0.0000142,0.0,0.0,7.74e-6,0.0,0.0,0.0,2.34e-6,0.0,0.0,0.0,0.0000382,0.000186,0.0,0.0,0.0,5.26e-6,0.225,0.0,0.0,0.0,0.0,0.0,0.0,0.0,0.0,0.000283,0.0,0.000478,0.00016,0.0000566,0.00137,0.000034,0.0,0.00162,0.0,0.0,0.00118,0.0,0.0,0.0,0.0,3.8e-6,0.0,0.0186,3.58e-6,0.0,0.00327,0.0,0.0,6.71e-6,0.0,0.00792,0.0,0.0000189,1.4e-6,0.0,0.0,0.0,0.0000875,0.0000431,1.66e-6,0.0,0.0,0.0,5.51e-6,0.0,0.0,0.00167,0.000123,0.00138,0.000108,0.0,1.16e-6,0.0,0.0000171,0.000307,0.0,0.0,0.00431,0.0127,0.0,0.0,0.0,0.0,0.0,0.0,5.11e-6,0.0,0.493,4.06e-6,0.115,0.000353,3.85e-6,2.36e-6,0.0,0.0,0.0,0.0,0.0,0.0,0.0,0.0,0.0139,0.0,0.0,1.49e-6,0.0162,0.0,0.0,0.0,0.0103,0.0000157,0.0,0.0,0.0,0.0,5.23e-6,0.000215,0.000961,0.00138,2.28e-6,0.0000766,5.3e-6,0.0,0.000921,0.0,0.0,0.0204,0.0,0.0,0.0000322,0.0,0.0,0.0,7.82e-6,4.09e-6,0.0000269,0.0,0.000058,0.00058,0.0,0.0,0.000125,0.0,0.0,0.0,0.0,0.828,0.00286,0.0,0.0000191,0.0,0.0,4.07e-6,0.0001,0.00412,0.00012,0.0,0.0,0.0,0.0223,0.0000134,0.0000196,0.00703,2.79e-6,0.901,0.0,0.0000875,2.22e-6,0.000503,0.00771,0.0,0.0,0.0,0.00198,0.15,0.0,2.25e-6,0.0,0.0,0.0,0.0,0.0,0.0,0.0,0.0,1.91e-6,0.0,0.0,0.0562,0.000168,0.0,0.0,0.000133,0.00144,6.98e-6,0.0,3.87e-6,0.0391,0.0000106,0.0000945,0.015,0.0,0.0,0.0,0.000879,0.0,0.0,0.0000612,2.64e-6,0.0,0.000182,1.96e-6,0.0,0.0,0.0000122,0.000556,0.0,0.0,0.0,0.0000178,0.000108,0.0012,0.0,0.0,1.07e-6,0.0000896,0.0,6.86e-6,0.0,0.0000165,0.0,0.0,0.0,0.0000766,0.0,0.0,0.445,0.0,0.000596,0.00111,0.0177,0.0,0.0173,0.0,0.0000113,0.0000527,0.0,0.0,0.00021,0.0,0.000215,1.79e-6,0.0,6.53e-6,0.0,0.0000164,3.32e-6,0.0,0.0000667,0.00025,0.0,2.25e-6,0.000263,0.00959,0.0202,0.0000624,0.0,0.0,0.0,0.0,0.00182,0.0,0.0,0.609,0.00183,0.0,0.00553,0.000112,0.0,0.0,0.0,0.0,0.0,0.000225,8.73e-6,6.6e-6,0.0,0.000412,8.59e-6,0.0000384,0.0,0.0,0.0,0.0,0.0,0.0,0.0,0.00114,2.77e-6,0.0,0.0000724,0.0,0.0,0.000203,0.0,0.000643,0.000034,0.0,0.0,0.0,0.0,0.0013,0.0,0.0,0.0000612,0.0,0.0,0.0,0.0,0.0,7.38e-6,0.0,0.0,0.0000639,0.0,0.0000607,0.0,0.119,2.87e-6,3.88e-6,0.000386,0.0000659,0.0000115,2.46e-6,0.0,0.0,0.0186,0.0,0.72,6.16e-6,0.0,0.000914,0.0000115,0.0,7.43e-6,0.0,7.78e-6,0.00574,0.128,0.0,0.0,1.81e-6,0.043,0.0,1.58e-6,0.0000359,6.34e-6,8.77e-6,0.0,0.0,0.0569,0.0014,0.0000997,0.00696,0.0,0.0000435,0.0,0.0,1.37e-6,0.0,0.0,0.000868,0.000204,0.0,0.0,3.65e-6,0.0000464,0.0,0.00784,0.0128,0.00258,0.0,0.0000945,8.83e-6,0.000304,0.0,1.5e-6,0.0,0.0,0.0,0.0,0.0,0.0,1.22e-6,0.0,0.00264,0.0,0.00197,2.03e-6,0.0,0.0000148,0.0,0.0,0.0,8.21e-6,0.0000125,0.0,0.00104,0.0,8.66e-6,0.0,0.0,0.0013,0.0,0.000295,0.0,0.0,0.0,0.0000815,0.0,1.03e-6,0.00142,0.00123,0.0,0.0,0.0,0.0,0.000183,0.0,0.0,0.149,0.0,0.0,2.46e-6,0.0000192,3.78e-6,0.0,0.00534,0.0,0.00169,0.0901,0.0,0.0,0.00099,0.0000783,0.0000229,7.04e-6,0.000162,0.0000217,0.000833,0.00409,0.0,0.000197,0.0056,0.0,0.0,0.00193,1.94e-6,0.0,0.0,0.000148,0.0,0.000139,0.0127,0.0,0.0,0.0,0.0,0.0,0.0,0.0,0.0,0.0,0.00788,9.86e-6,0.0,0.00019,0.0000587,1.04e-6,0.0,0.0,0.0,1.31e-6,0.0597,0.0,0.0,0.00678,0.0,0.0,0.0,0.00258,0.0,2.57e-6,0.00719,0.0,0.0,0.0000317,0.0,0.809,0.0,0.0,0.0,4.21e-6,4.11e-6,0.0,0.0,0.0000194,8.11e-6,0.0,0.0016,0.0013,0.0,1.65e-6,0.0,0.0,0.0,1.03e-6,0.0,3.49e-6,0.0018,0.0,0.0,0.0,1.68e-6,0.0654,2.01e-6,0.0,0.0,6.92e-6,0.0,0.0,0.0000194,0.0,0.0,0.0000581,0.0,0.0,0.0000358,0.282,0.00762,0.00508,0.0000118,0.00261,0.0,0.0,1.61e-6,0.0,0.0,7.97e-6,6.71e-6,0.0000263,0.119,8.42e-6,0.0,0.0,0.0,0.0155,0.0,0.0,0.0000369,0.000157,0.0,0.0,0.0,0.0,0.0,0.000144,0.0,9.86e-6,1.81e-6,0.000119,1.75e-6,0.0,6.5e-6,0.000175,0.0000481,2.79e-6,0.0597,0.0,0.0972,0.0,0.0025,0.0,3.94e-6,2.16e-6,0.0,0.0,0.0,4.78e-6,0.0,0.0,0.0,0.0,0.0,0.00377,0.0,0.0,0.0,1.5e-6,0.0,0.0,0.0,0.0,0.000479,0.00132,0.0,5.91e-6,0.0,0.0,0.0,3.27e-6,0.0,0.0000795,4.44e-6,8.23e-6,0.000198,0.0000457,0.0000488,0.0,0.0,0.0,0.0,0.0,0.000038,0.21,0.0,0.0000144,0.0,0.000855,0.0,0.00239,0.0219,0.0,0.0,9.82e-6,0.0,0.0,0.0101,7e-6,0.0,1.32e-6,0.0000134,0.0,0.0,0.0,0.0,0.0,0.0,0.0,0.00099,0.0,0.0,0.0,0.0,0.000157,0.0,0.0000933,0.0000323,6.81e-6,0.0000312,0.0000831,0.0,0.0,5.25e-6,0.0,0.0000141,0.0,0.0000991,0.0,0.0,4.13e-6,0.0,0.0,0.0,0.0,0.0,0.0,0.0,0.0,0.0,0.0,0.0,0.0000111,0.0,0.0,0.0,0.0,0.0,0.0,0.0000329,0.0,0.0,0.0,0.0,0.0,0.132,0.0000259,1.03e-6,0.0,0.085,0.0,0.000013,0.0,0.000887,0.000611,0.0,0.00484,0.0,0.0,0.0,1.66e-6,0.0,0.0,0.0000212,0.0,0.0,0.0,0.0,0.0000829,0.0000701,0.0000505,0.0,0.000011,0.0,0.0,0.0,0.0,0.00404,3.11e-6,0.00986,0.0000219,0.0,0.0,0.0,4.82e-6,0.0,0.0000217,0.0,2.6e-6,0.0000666,0.0126,0.0,0.0,0.0000128,0.0,0.00106,0.00372,0.0000293,0.0,0.0,0.000157,0.0,0.0,0.0,0.000194,0.0,0.0,0.00006,0.0,0.0000186,0.0000129,0.181,0.0,0.0,1.78e-6,0.0,4.96e-6,0.0,0.0000944,0.0,0.0,0.0,0.0000147,0.0,0.0,0.0,3.8e-6,0.0,3.49e-6,0.0,0.0000586,0.0,0.0,0.0,0.0,0.0,0.0,0.00006,0.0,2.38e-6,0.0,0.0,0.0,0.127,0.0,0.0,0.0,0.0,0.0,0.0,0.0,0.0,0.0545,0.0,0.0,0.000637,0.0,0.0,0.00107,2.77e-6,0.0,2.55e-6,0.0,0.0,0.0,0.000097,0.0,0.0,0.0,0.13,0.0,0.0,0.0,0.000927,9.11e-6,0.0000643,0.0,1.36e-6,0.0,0.0,0.0,0.0,0.0,1.94e-6,0.0,0.00182,4.24e-6,0.00016,0.0,0.0,0.0,0.00402,4.82e-6,0.0,0.0,0.0,0.0,0.0,3.01e-6,2.23e-6,0.0,1.78e-6,0.0,0.0,0.0,0.0,0.0,0.0,0.000496,0.0,0.0,0.00125,0.0,0.000289,0.00282,0.0,0.0,0.0,0.0,0.0,0.0,0.0000162,0.000503,0.0,0.0,0.00116,0.000104,0.0,2.12e-6,0.0,0.0,0.0,0.0,0.391,0.0,0.0,0.0,0.162,0.0,0.000872,0.0,0.0,0.0,5.98e-6,0.0,0.0,0.0,1.96e-6,0.00853,0.0,0.0,0.000159,0.0,0.0,0.0,0.0,0.0,0.0,0.0,1.21e-6,0.000802,0.0,0.0,0.0000206,0.0,1.97e-6,0.00244],\"xaxis\":\"x\",\"yaxis\":\"y\",\"type\":\"histogram\"}],                        {\"template\":{\"data\":{\"histogram2dcontour\":[{\"type\":\"histogram2dcontour\",\"colorbar\":{\"outlinewidth\":0,\"ticks\":\"\"},\"colorscale\":[[0.0,\"#0d0887\"],[0.1111111111111111,\"#46039f\"],[0.2222222222222222,\"#7201a8\"],[0.3333333333333333,\"#9c179e\"],[0.4444444444444444,\"#bd3786\"],[0.5555555555555556,\"#d8576b\"],[0.6666666666666666,\"#ed7953\"],[0.7777777777777778,\"#fb9f3a\"],[0.8888888888888888,\"#fdca26\"],[1.0,\"#f0f921\"]]}],\"choropleth\":[{\"type\":\"choropleth\",\"colorbar\":{\"outlinewidth\":0,\"ticks\":\"\"}}],\"histogram2d\":[{\"type\":\"histogram2d\",\"colorbar\":{\"outlinewidth\":0,\"ticks\":\"\"},\"colorscale\":[[0.0,\"#0d0887\"],[0.1111111111111111,\"#46039f\"],[0.2222222222222222,\"#7201a8\"],[0.3333333333333333,\"#9c179e\"],[0.4444444444444444,\"#bd3786\"],[0.5555555555555556,\"#d8576b\"],[0.6666666666666666,\"#ed7953\"],[0.7777777777777778,\"#fb9f3a\"],[0.8888888888888888,\"#fdca26\"],[1.0,\"#f0f921\"]]}],\"heatmap\":[{\"type\":\"heatmap\",\"colorbar\":{\"outlinewidth\":0,\"ticks\":\"\"},\"colorscale\":[[0.0,\"#0d0887\"],[0.1111111111111111,\"#46039f\"],[0.2222222222222222,\"#7201a8\"],[0.3333333333333333,\"#9c179e\"],[0.4444444444444444,\"#bd3786\"],[0.5555555555555556,\"#d8576b\"],[0.6666666666666666,\"#ed7953\"],[0.7777777777777778,\"#fb9f3a\"],[0.8888888888888888,\"#fdca26\"],[1.0,\"#f0f921\"]]}],\"heatmapgl\":[{\"type\":\"heatmapgl\",\"colorbar\":{\"outlinewidth\":0,\"ticks\":\"\"},\"colorscale\":[[0.0,\"#0d0887\"],[0.1111111111111111,\"#46039f\"],[0.2222222222222222,\"#7201a8\"],[0.3333333333333333,\"#9c179e\"],[0.4444444444444444,\"#bd3786\"],[0.5555555555555556,\"#d8576b\"],[0.6666666666666666,\"#ed7953\"],[0.7777777777777778,\"#fb9f3a\"],[0.8888888888888888,\"#fdca26\"],[1.0,\"#f0f921\"]]}],\"contourcarpet\":[{\"type\":\"contourcarpet\",\"colorbar\":{\"outlinewidth\":0,\"ticks\":\"\"}}],\"contour\":[{\"type\":\"contour\",\"colorbar\":{\"outlinewidth\":0,\"ticks\":\"\"},\"colorscale\":[[0.0,\"#0d0887\"],[0.1111111111111111,\"#46039f\"],[0.2222222222222222,\"#7201a8\"],[0.3333333333333333,\"#9c179e\"],[0.4444444444444444,\"#bd3786\"],[0.5555555555555556,\"#d8576b\"],[0.6666666666666666,\"#ed7953\"],[0.7777777777777778,\"#fb9f3a\"],[0.8888888888888888,\"#fdca26\"],[1.0,\"#f0f921\"]]}],\"surface\":[{\"type\":\"surface\",\"colorbar\":{\"outlinewidth\":0,\"ticks\":\"\"},\"colorscale\":[[0.0,\"#0d0887\"],[0.1111111111111111,\"#46039f\"],[0.2222222222222222,\"#7201a8\"],[0.3333333333333333,\"#9c179e\"],[0.4444444444444444,\"#bd3786\"],[0.5555555555555556,\"#d8576b\"],[0.6666666666666666,\"#ed7953\"],[0.7777777777777778,\"#fb9f3a\"],[0.8888888888888888,\"#fdca26\"],[1.0,\"#f0f921\"]]}],\"mesh3d\":[{\"type\":\"mesh3d\",\"colorbar\":{\"outlinewidth\":0,\"ticks\":\"\"}}],\"scatter\":[{\"fillpattern\":{\"fillmode\":\"overlay\",\"size\":10,\"solidity\":0.2},\"type\":\"scatter\"}],\"parcoords\":[{\"type\":\"parcoords\",\"line\":{\"colorbar\":{\"outlinewidth\":0,\"ticks\":\"\"}}}],\"scatterpolargl\":[{\"type\":\"scatterpolargl\",\"marker\":{\"colorbar\":{\"outlinewidth\":0,\"ticks\":\"\"}}}],\"bar\":[{\"error_x\":{\"color\":\"#2a3f5f\"},\"error_y\":{\"color\":\"#2a3f5f\"},\"marker\":{\"line\":{\"color\":\"#E5ECF6\",\"width\":0.5},\"pattern\":{\"fillmode\":\"overlay\",\"size\":10,\"solidity\":0.2}},\"type\":\"bar\"}],\"scattergeo\":[{\"type\":\"scattergeo\",\"marker\":{\"colorbar\":{\"outlinewidth\":0,\"ticks\":\"\"}}}],\"scatterpolar\":[{\"type\":\"scatterpolar\",\"marker\":{\"colorbar\":{\"outlinewidth\":0,\"ticks\":\"\"}}}],\"histogram\":[{\"marker\":{\"pattern\":{\"fillmode\":\"overlay\",\"size\":10,\"solidity\":0.2}},\"type\":\"histogram\"}],\"scattergl\":[{\"type\":\"scattergl\",\"marker\":{\"colorbar\":{\"outlinewidth\":0,\"ticks\":\"\"}}}],\"scatter3d\":[{\"type\":\"scatter3d\",\"line\":{\"colorbar\":{\"outlinewidth\":0,\"ticks\":\"\"}},\"marker\":{\"colorbar\":{\"outlinewidth\":0,\"ticks\":\"\"}}}],\"scattermapbox\":[{\"type\":\"scattermapbox\",\"marker\":{\"colorbar\":{\"outlinewidth\":0,\"ticks\":\"\"}}}],\"scatterternary\":[{\"type\":\"scatterternary\",\"marker\":{\"colorbar\":{\"outlinewidth\":0,\"ticks\":\"\"}}}],\"scattercarpet\":[{\"type\":\"scattercarpet\",\"marker\":{\"colorbar\":{\"outlinewidth\":0,\"ticks\":\"\"}}}],\"carpet\":[{\"aaxis\":{\"endlinecolor\":\"#2a3f5f\",\"gridcolor\":\"white\",\"linecolor\":\"white\",\"minorgridcolor\":\"white\",\"startlinecolor\":\"#2a3f5f\"},\"baxis\":{\"endlinecolor\":\"#2a3f5f\",\"gridcolor\":\"white\",\"linecolor\":\"white\",\"minorgridcolor\":\"white\",\"startlinecolor\":\"#2a3f5f\"},\"type\":\"carpet\"}],\"table\":[{\"cells\":{\"fill\":{\"color\":\"#EBF0F8\"},\"line\":{\"color\":\"white\"}},\"header\":{\"fill\":{\"color\":\"#C8D4E3\"},\"line\":{\"color\":\"white\"}},\"type\":\"table\"}],\"barpolar\":[{\"marker\":{\"line\":{\"color\":\"#E5ECF6\",\"width\":0.5},\"pattern\":{\"fillmode\":\"overlay\",\"size\":10,\"solidity\":0.2}},\"type\":\"barpolar\"}],\"pie\":[{\"automargin\":true,\"type\":\"pie\"}]},\"layout\":{\"autotypenumbers\":\"strict\",\"colorway\":[\"#636efa\",\"#EF553B\",\"#00cc96\",\"#ab63fa\",\"#FFA15A\",\"#19d3f3\",\"#FF6692\",\"#B6E880\",\"#FF97FF\",\"#FECB52\"],\"font\":{\"color\":\"#2a3f5f\"},\"hovermode\":\"closest\",\"hoverlabel\":{\"align\":\"left\"},\"paper_bgcolor\":\"white\",\"plot_bgcolor\":\"#E5ECF6\",\"polar\":{\"bgcolor\":\"#E5ECF6\",\"angularaxis\":{\"gridcolor\":\"white\",\"linecolor\":\"white\",\"ticks\":\"\"},\"radialaxis\":{\"gridcolor\":\"white\",\"linecolor\":\"white\",\"ticks\":\"\"}},\"ternary\":{\"bgcolor\":\"#E5ECF6\",\"aaxis\":{\"gridcolor\":\"white\",\"linecolor\":\"white\",\"ticks\":\"\"},\"baxis\":{\"gridcolor\":\"white\",\"linecolor\":\"white\",\"ticks\":\"\"},\"caxis\":{\"gridcolor\":\"white\",\"linecolor\":\"white\",\"ticks\":\"\"}},\"coloraxis\":{\"colorbar\":{\"outlinewidth\":0,\"ticks\":\"\"}},\"colorscale\":{\"sequential\":[[0.0,\"#0d0887\"],[0.1111111111111111,\"#46039f\"],[0.2222222222222222,\"#7201a8\"],[0.3333333333333333,\"#9c179e\"],[0.4444444444444444,\"#bd3786\"],[0.5555555555555556,\"#d8576b\"],[0.6666666666666666,\"#ed7953\"],[0.7777777777777778,\"#fb9f3a\"],[0.8888888888888888,\"#fdca26\"],[1.0,\"#f0f921\"]],\"sequentialminus\":[[0.0,\"#0d0887\"],[0.1111111111111111,\"#46039f\"],[0.2222222222222222,\"#7201a8\"],[0.3333333333333333,\"#9c179e\"],[0.4444444444444444,\"#bd3786\"],[0.5555555555555556,\"#d8576b\"],[0.6666666666666666,\"#ed7953\"],[0.7777777777777778,\"#fb9f3a\"],[0.8888888888888888,\"#fdca26\"],[1.0,\"#f0f921\"]],\"diverging\":[[0,\"#8e0152\"],[0.1,\"#c51b7d\"],[0.2,\"#de77ae\"],[0.3,\"#f1b6da\"],[0.4,\"#fde0ef\"],[0.5,\"#f7f7f7\"],[0.6,\"#e6f5d0\"],[0.7,\"#b8e186\"],[0.8,\"#7fbc41\"],[0.9,\"#4d9221\"],[1,\"#276419\"]]},\"xaxis\":{\"gridcolor\":\"white\",\"linecolor\":\"white\",\"ticks\":\"\",\"title\":{\"standoff\":15},\"zerolinecolor\":\"white\",\"automargin\":true,\"zerolinewidth\":2},\"yaxis\":{\"gridcolor\":\"white\",\"linecolor\":\"white\",\"ticks\":\"\",\"title\":{\"standoff\":15},\"zerolinecolor\":\"white\",\"automargin\":true,\"zerolinewidth\":2},\"scene\":{\"xaxis\":{\"backgroundcolor\":\"#E5ECF6\",\"gridcolor\":\"white\",\"linecolor\":\"white\",\"showbackground\":true,\"ticks\":\"\",\"zerolinecolor\":\"white\",\"gridwidth\":2},\"yaxis\":{\"backgroundcolor\":\"#E5ECF6\",\"gridcolor\":\"white\",\"linecolor\":\"white\",\"showbackground\":true,\"ticks\":\"\",\"zerolinecolor\":\"white\",\"gridwidth\":2},\"zaxis\":{\"backgroundcolor\":\"#E5ECF6\",\"gridcolor\":\"white\",\"linecolor\":\"white\",\"showbackground\":true,\"ticks\":\"\",\"zerolinecolor\":\"white\",\"gridwidth\":2}},\"shapedefaults\":{\"line\":{\"color\":\"#2a3f5f\"}},\"annotationdefaults\":{\"arrowcolor\":\"#2a3f5f\",\"arrowhead\":0,\"arrowwidth\":1},\"geo\":{\"bgcolor\":\"white\",\"landcolor\":\"#E5ECF6\",\"subunitcolor\":\"white\",\"showland\":true,\"showlakes\":true,\"lakecolor\":\"white\"},\"title\":{\"x\":0.05},\"mapbox\":{\"style\":\"light\"}}},\"xaxis\":{\"anchor\":\"y\",\"domain\":[0.0,1.0],\"title\":{\"text\":\"instrumentalness\"}},\"yaxis\":{\"anchor\":\"x\",\"domain\":[0.0,1.0],\"title\":{\"text\":\"count\"}},\"legend\":{\"tracegroupgap\":0},\"title\":{\"text\":\"Instrumentalness distribution across top hits from 2000-2019\"},\"barmode\":\"relative\",\"shapes\":[{\"line\":{\"color\":\"firebrick\",\"dash\":\"dash\",\"width\":2},\"type\":\"line\",\"x0\":0.0153712294433095,\"x1\":0.0153712294433095,\"xref\":\"x\",\"y0\":0,\"y1\":1,\"yref\":\"y domain\"}],\"margin\":{\"t\":150},\"annotations\":[{\"font\":{\"color\":\"firebrick\",\"size\":12},\"showarrow\":false,\"text\":\"<b>0.02 average</b>\",\"textangle\":0,\"x\":0.05,\"xref\":\"x\",\"y\":1.07,\"yref\":\"paper\"}]},                        {\"responsive\": true}                    ).then(function(){\n",
       "                            \n",
       "var gd = document.getElementById('95be425e-ee67-45a2-a927-e1386ed6a0e2');\n",
       "var x = new MutationObserver(function (mutations, observer) {{\n",
       "        var display = window.getComputedStyle(gd).display;\n",
       "        if (!display || display === 'none') {{\n",
       "            console.log([gd, 'removed!']);\n",
       "            Plotly.purge(gd);\n",
       "            observer.disconnect();\n",
       "        }}\n",
       "}});\n",
       "\n",
       "// Listen for the removal of the full notebook cells\n",
       "var notebookContainer = gd.closest('#notebook-container');\n",
       "if (notebookContainer) {{\n",
       "    x.observe(notebookContainer, {childList: true});\n",
       "}}\n",
       "\n",
       "// Listen for the clearing of the current output cell\n",
       "var outputEl = gd.closest('.output');\n",
       "if (outputEl) {{\n",
       "    x.observe(outputEl, {childList: true});\n",
       "}}\n",
       "\n",
       "                        })                };                });            </script>        </div>"
      ]
     },
     "metadata": {},
     "output_type": "display_data"
    }
   ],
   "source": [
    "fig = px.histogram(df,x = 'instrumentalness',\n",
    "                   title = 'Instrumentalness distribution across top hits from 2000-2019',)\n",
    "fig.add_vline(x=np.mean(df.instrumentalness),line_width = 2, line_dash = 'dash', \n",
    "              line_color = 'firebrick')\n",
    "fig.update_layout(margin=dict(t=150))\n",
    "fig.add_annotation(dict(font=dict(color=\"firebrick\",size=12),\n",
    "                            x=0.05,\n",
    "                            y=1.07,\n",
    "                            showarrow=False,\n",
    "                            text='<b>0.02 average</b>',\n",
    "                            textangle=0,\n",
    "                            xref=\"x\",\n",
    "                            yref=\"paper\"\n",
    "                           ))\n",
    "fig.show()"
   ]
  },
  {
   "cell_type": "markdown",
   "id": "9ed6bce6",
   "metadata": {
    "_cell_guid": "bac14c3e-de4f-4b30-b825-52b680189df4",
    "_uuid": "75dac1a4-e56c-48cd-9011-cb7184554d14",
    "papermill": {
     "duration": 0.026788,
     "end_time": "2022-06-10T19:28:25.094077",
     "exception": false,
     "start_time": "2022-06-10T19:28:25.067289",
     "status": "completed"
    },
    "tags": []
   },
   "source": [
    "### Liveness distribution"
   ]
  },
  {
   "cell_type": "code",
   "execution_count": 26,
   "id": "c1b3b41d",
   "metadata": {
    "_cell_guid": "54c411c0-d1cc-4fcd-8ba6-3c19b95aa22e",
    "_uuid": "5229c76c-f1c1-47ee-9ed5-139441623c38",
    "collapsed": false,
    "execution": {
     "iopub.execute_input": "2022-06-10T19:28:25.157574Z",
     "iopub.status.busy": "2022-06-10T19:28:25.156579Z",
     "iopub.status.idle": "2022-06-10T19:28:25.239597Z",
     "shell.execute_reply": "2022-06-10T19:28:25.238691Z"
    },
    "jupyter": {
     "outputs_hidden": false
    },
    "papermill": {
     "duration": 0.116437,
     "end_time": "2022-06-10T19:28:25.242214",
     "exception": false,
     "start_time": "2022-06-10T19:28:25.125777",
     "status": "completed"
    },
    "tags": []
   },
   "outputs": [
    {
     "data": {
      "text/html": [
       "<div>                            <div id=\"2da371d2-7b9e-450f-89a3-bd88228d8809\" class=\"plotly-graph-div\" style=\"height:525px; width:100%;\"></div>            <script type=\"text/javascript\">                require([\"plotly\"], function(Plotly) {                    window.PLOTLYENV=window.PLOTLYENV || {};                                    if (document.getElementById(\"2da371d2-7b9e-450f-89a3-bd88228d8809\")) {                    Plotly.newPlot(                        \"2da371d2-7b9e-450f-89a3-bd88228d8809\",                        [{\"alignmentgroup\":\"True\",\"bingroup\":\"x\",\"hovertemplate\":\"liveness=%{x}<br>count=%{y}<extra></extra>\",\"legendgroup\":\"\",\"marker\":{\"color\":\"#636efa\",\"pattern\":{\"shape\":\"\"}},\"name\":\"\",\"offsetgroup\":\"\",\"orientation\":\"v\",\"showlegend\":false,\"x\":[0.355,0.347,0.0845,0.0454,0.467,0.0634,0.36,0.252,0.0841,0.285,0.209,0.126,0.294,0.0935,0.0797,0.0669,0.277,0.0839,0.0356,0.14,0.0602,0.0956,0.118,0.237,0.326,0.265,0.166,0.0725,0.0886,0.0812,0.0981,0.373,0.235,0.0352,0.148,0.051,0.56,0.347,0.101,0.103,0.06,0.135,0.0272,0.0951,0.0394,0.0452,0.0395,0.334,0.168,0.107,0.0515,0.24,0.257,0.0696,0.169,0.0584,0.0969,0.375,0.09,0.159,0.269,0.431,0.0669,0.142,0.313,0.775,0.518,0.115,0.665,0.273,0.203,0.058,0.154,0.318,0.404,0.107,0.0681,0.152,0.0863,0.147,0.206,0.11,0.199,0.341,0.0736,0.165,0.0552,0.255,0.0709,0.0813,0.0724,0.099,0.332,0.0771,0.34,0.1,0.31,0.39,0.0361,0.095,0.0623,0.843,0.138,0.0698,0.197,0.147,0.0784,0.473,0.133,0.0556,0.0532,0.293,0.0546,0.144,0.0757,0.29,0.229,0.0914,0.0467,0.0674,0.0847,0.0783,0.213,0.06,0.413,0.389,0.189,0.0288,0.216,0.112,0.127,0.286,0.152,0.095,0.095,0.105,0.102,0.0685,0.128,0.174,0.041,0.169,0.148,0.0718,0.0876,0.124,0.0919,0.139,0.0941,0.09,0.244,0.102,0.0712,0.0634,0.106,0.367,0.549,0.143,0.0651,0.311,0.126,0.0812,0.198,0.237,0.3,0.161,0.115,0.104,0.391,0.187,0.648,0.0816,0.0308,0.099,0.0896,0.271,0.0395,0.209,0.0924,0.193,0.0701,0.115,0.292,0.39,0.179,0.416,0.425,0.201,0.182,0.0926,0.35,0.0619,0.149,0.187,0.0945,0.1,0.0537,0.111,0.0956,0.0615,0.0845,0.339,0.0592,0.557,0.35,0.108,0.049,0.0903,0.18,0.167,0.0485,0.0441,0.234,0.665,0.0533,0.27,0.108,0.211,0.363,0.228,0.0342,0.313,0.0703,0.305,0.243,0.0783,0.124,0.188,0.173,0.064,0.0906,0.183,0.0732,0.0956,0.339,0.076,0.242,0.106,0.358,0.226,0.112,0.172,0.102,0.133,0.067,0.0283,0.174,0.504,0.0304,0.3,0.109,0.753,0.592,0.325,0.0677,0.122,0.111,0.135,0.14,0.298,0.0288,0.0621,0.0708,0.158,0.342,0.0715,0.137,0.132,0.0575,0.237,0.0745,0.648,0.15,0.0925,0.15,0.0368,0.0357,0.0731,0.0719,0.242,0.137,0.661,0.139,0.194,0.049,0.0841,0.234,0.213,0.38,0.193,0.0521,0.306,0.355,0.221,0.268,0.0651,0.226,0.137,0.0757,0.189,0.0859,0.0798,0.328,0.169,0.0367,0.318,0.119,0.15,0.141,0.0801,0.0614,0.0426,0.0553,0.309,0.0427,0.079,0.317,0.0492,0.0728,0.552,0.221,0.0881,0.113,0.0753,0.0517,0.0936,0.0916,0.0666,0.103,0.0692,0.104,0.11,0.328,0.157,0.0884,0.183,0.174,0.0732,0.16,0.203,0.0997,0.113,0.184,0.158,0.252,0.081,0.133,0.0838,0.0794,0.0706,0.406,0.707,0.0638,0.118,0.362,0.111,0.0686,0.177,0.101,0.117,0.108,0.0388,0.093,0.242,0.174,0.159,0.0929,0.0789,0.292,0.0577,0.0746,0.384,0.188,0.484,0.1,0.102,0.639,0.24,0.107,0.116,0.136,0.116,0.0979,0.839,0.298,0.326,0.0745,0.219,0.117,0.103,0.0576,0.0841,0.359,0.339,0.0556,0.161,0.26,0.584,0.094,0.0519,0.206,0.0909,0.0763,0.0753,0.0974,0.281,0.15,0.102,0.116,0.068,0.188,0.592,0.0351,0.217,0.141,0.287,0.329,0.281,0.256,0.116,0.147,0.136,0.044,0.0675,0.131,0.317,0.134,0.0982,0.338,0.328,0.358,0.284,0.368,0.0374,0.104,0.125,0.158,0.28,0.233,0.369,0.081,0.0404,0.137,0.205,0.139,0.348,0.0979,0.0465,0.0813,0.141,0.0305,0.0687,0.0638,0.0753,0.215,0.104,0.103,0.11,0.108,0.342,0.0865,0.118,0.0554,0.101,0.38,0.088,0.0383,0.127,0.151,0.755,0.0686,0.315,0.0648,0.107,0.0748,0.206,0.363,0.0795,0.279,0.0332,0.393,0.0315,0.109,0.0697,0.0839,0.097,0.628,0.582,0.123,0.613,0.547,0.238,0.084,0.076,0.157,0.156,0.123,0.298,0.325,0.0633,0.243,0.111,0.0932,0.0471,0.0899,0.106,0.401,0.0768,0.105,0.164,0.102,0.0644,0.0833,0.0475,0.0416,0.118,0.801,0.149,0.0234,0.0867,0.582,0.0348,0.0788,0.062,0.122,0.429,0.101,0.107,0.0646,0.242,0.197,0.0784,0.0886,0.339,0.226,0.376,0.27,0.0898,0.12,0.119,0.124,0.111,0.136,0.081,0.235,0.0708,0.151,0.0931,0.104,0.158,0.0746,0.112,0.04,0.113,0.105,0.548,0.109,0.355,0.188,0.405,0.0712,0.0519,0.167,0.34,0.413,0.105,0.197,0.121,0.0509,0.658,0.169,0.3,0.752,0.154,0.0862,0.041,0.247,0.0405,0.157,0.495,0.0877,0.118,0.0396,0.0655,0.123,0.0998,0.29,0.0322,0.282,0.131,0.123,0.682,0.414,0.307,0.118,0.166,0.371,0.0932,0.205,0.0743,0.0524,0.273,0.058,0.044,0.0697,0.262,0.355,0.227,0.309,0.1,0.293,0.12,0.107,0.0854,0.131,0.169,0.299,0.145,0.114,0.117,0.102,0.376,0.1,0.221,0.0604,0.146,0.129,0.0831,0.0701,0.265,0.346,0.342,0.189,0.209,0.108,0.0826,0.113,0.0708,0.12,0.0903,0.103,0.0805,0.334,0.278,0.193,0.34,0.0822,0.355,0.0855,0.176,0.101,0.606,0.222,0.318,0.548,0.0974,0.209,0.0756,0.149,0.146,0.0426,0.0723,0.0945,0.124,0.114,0.573,0.178,0.319,0.0543,0.146,0.292,0.0551,0.0909,0.0799,0.034,0.0917,0.0992,0.0867,0.408,0.164,0.289,0.308,0.0468,0.0842,0.034,0.197,0.0496,0.82,0.0626,0.138,0.0855,0.0693,0.507,0.233,0.328,0.495,0.199,0.0543,0.118,0.0871,0.682,0.103,0.61,0.184,0.0466,0.486,0.209,0.0951,0.311,0.202,0.297,0.25,0.214,0.0907,0.128,0.129,0.148,0.343,0.106,0.213,0.206,0.0861,0.205,0.0819,0.0263,0.16,0.271,0.0577,0.0327,0.113,0.175,0.352,0.028,0.0775,0.0774,0.137,0.101,0.092,0.127,0.364,0.142,0.256,0.226,0.0789,0.119,0.466,0.0737,0.107,0.228,0.0721,0.113,0.38,0.184,0.341,0.178,0.348,0.058,0.119,0.252,0.139,0.132,0.0941,0.134,0.097,0.194,0.145,0.354,0.0816,0.0648,0.0551,0.168,0.355,0.107,0.137,0.0856,0.386,0.234,0.0688,0.0535,0.0578,0.413,0.0889,0.112,0.291,0.0887,0.143,0.398,0.147,0.0468,0.0857,0.211,0.154,0.194,0.18,0.112,0.164,0.0693,0.233,0.0317,0.154,0.163,0.11,0.406,0.274,0.256,0.108,0.197,0.115,0.07,0.0982,0.192,0.0563,0.151,0.241,0.112,0.744,0.65,0.118,0.379,0.224,0.361,0.054,0.676,0.234,0.119,0.0667,0.167,0.112,0.151,0.363,0.339,0.0833,0.122,0.486,0.261,0.0912,0.0756,0.195,0.101,0.0384,0.109,0.136,0.439,0.133,0.0719,0.118,0.373,0.101,0.115,0.614,0.072,0.216,0.331,0.359,0.184,0.111,0.13,0.296,0.0772,0.509,0.121,0.0563,0.131,0.232,0.0772,0.0763,0.0713,0.317,0.0789,0.281,0.324,0.248,0.122,0.181,0.0523,0.237,0.826,0.0618,0.108,0.13,0.225,0.094,0.46,0.283,0.15,0.314,0.0983,0.0678,0.263,0.0842,0.211,0.129,0.253,0.342,0.107,0.406,0.128,0.0822,0.134,0.169,0.0679,0.0677,0.173,0.195,0.483,0.327,0.0759,0.189,0.0797,0.274,0.112,0.358,0.173,0.182,0.0534,0.112,0.151,0.0614,0.145,0.219,0.601,0.331,0.0589,0.549,0.092,0.068,0.117,0.317,0.082,0.139,0.122,0.117,0.133,0.0833,0.261,0.0415,0.188,0.16,0.362,0.115,0.36,0.218,0.176,0.107,0.136,0.188,0.0768,0.0886,0.0639,0.11,0.626,0.171,0.112,0.106,0.421,0.098,0.144,0.0873,0.136,0.0622,0.52,0.0842,0.065,0.289,0.251,0.036,0.069,0.163,0.0867,0.431,0.117,0.0773,0.233,0.0715,0.1,0.256,0.392,0.0757,0.0909,0.307,0.125,0.205,0.375,0.0788,0.277,0.207,0.602,0.362,0.16,0.0787,0.082,0.168,0.064,0.113,0.241,0.219,0.107,0.196,0.689,0.112,0.0923,0.649,0.143,0.0583,0.385,0.0605,0.0594,0.0403,0.36,0.216,0.0822,0.0491,0.36,0.111,0.0939,0.402,0.238,0.224,0.424,0.161,0.348,0.0873,0.0368,0.483,0.12,0.0797,0.125,0.122,0.833,0.145,0.124,0.358,0.144,0.264,0.102,0.107,0.578,0.0789,0.0889,0.324,0.0286,0.129,0.0921,0.211,0.191,0.0862,0.134,0.378,0.206,0.118,0.118,0.243,0.334,0.378,0.343,0.313,0.0966,0.275,0.347,0.0473,0.315,0.265,0.113,0.107,0.259,0.143,0.0458,0.0691,0.104,0.073,0.0826,0.156,0.348,0.0948,0.105,0.259,0.0845,0.298,0.0741,0.271,0.369,0.332,0.267,0.0757,0.116,0.111,0.0515,0.0765,0.191,0.0385,0.364,0.483,0.241,0.0404,0.0658,0.202,0.276,0.134,0.0833,0.671,0.112,0.306,0.318,0.631,0.144,0.267,0.108,0.117,0.105,0.108,0.187,0.283,0.0934,0.0759,0.176,0.191,0.3,0.0797,0.0843,0.14,0.223,0.228,0.145,0.149,0.24,0.331,0.601,0.391,0.664,0.157,0.0956,0.0917,0.272,0.116,0.0914,0.132,0.119,0.0955,0.155,0.146,0.104,0.0996,0.258,0.0851,0.36,0.121,0.109,0.0998,0.163,0.161,0.171,0.0894,0.029,0.12,0.104,0.275,0.108,0.111,0.11,0.108,0.108,0.0849,0.207,0.335,0.329,0.114,0.575,0.223,0.349,0.0844,0.317,0.498,0.29,0.145,0.344,0.0241,0.604,0.0922,0.173,0.224,0.191,0.091,0.215,0.179,0.125,0.0707,0.309,0.309,0.306,0.109,0.296,0.0744,0.251,0.44,0.0927,0.0966,0.0767,0.287,0.11,0.853,0.0664,0.172,0.187,0.204,0.0868,0.0895,0.167,0.0833,0.156,0.167,0.294,0.123,0.116,0.108,0.126,0.127,0.0418,0.0335,0.0721,0.0944,0.0694,0.115,0.361,0.652,0.113,0.35,0.174,0.097,0.2,0.121,0.107,0.262,0.0596,0.217,0.102,0.371,0.598,0.0926,0.131,0.0801,0.0895,0.287,0.0969,0.148,0.0283,0.205,0.144,0.112,0.111,0.392,0.0986,0.686,0.383,0.368,0.144,0.0888,0.285,0.082,0.473,0.132,0.0783,0.668,0.161,0.309,0.0457,0.101,0.131,0.0636,0.296,0.111,0.0944,0.0524,0.331,0.341,0.0748,0.0946,0.0862,0.0714,0.307,0.103,0.0616,0.101,0.0631,0.0889,0.239,0.104,0.0682,0.12,0.375,0.0809,0.108,0.311,0.315,0.176,0.13,0.26,0.153,0.537,0.247,0.316,0.269,0.586,0.0335,0.217,0.427,0.0964,0.0525,0.11,0.0944,0.119,0.105,0.416,0.237,0.147,0.0953,0.354,0.136,0.263,0.0567,0.209,0.111,0.602,0.156,0.162,0.089,0.119,0.354,0.108,0.0958,0.256,0.107,0.213,0.271,0.0789,0.698,0.0751,0.107,0.111,0.0753,0.0632,0.0946,0.324,0.146,0.37,0.426,0.0561,0.114,0.0733,0.124,0.255,0.0769,0.415,0.0477,0.104,0.076,0.117,0.164,0.088,0.0536,0.0908,0.165,0.207,0.0491,0.593,0.11,0.305,0.0685,0.132,0.122,0.124,0.379,0.109,0.0829,0.336,0.306,0.307,0.0675,0.328,0.111,0.0658,0.201,0.104,0.115,0.31,0.162,0.623,0.11,0.214,0.343,0.057,0.139,0.117,0.0562,0.1,0.181,0.55,0.285,0.177,0.0818,0.305,0.132,0.14,0.0829,0.334,0.0772,0.105,0.204,0.141,0.0823,0.188,0.0973,0.101,0.29,0.0759,0.635,0.0764,0.0399,0.0828,0.38,0.0851,0.333,0.118,0.157,0.0895,0.159,0.191,0.114,0.225,0.142,0.128,0.327,0.0741,0.334,0.115,0.0601,0.239,0.199,0.323,0.209,0.193,0.0947,0.146,0.119,0.188,0.208,0.12,0.0656,0.151,0.181,0.086,0.143,0.0718,0.0963,0.115,0.15,0.229,0.0962,0.109,0.452,0.0344,0.184,0.0649,0.0811,0.565,0.0972,0.125,0.322,0.325,0.0853,0.0913,0.135,0.123,0.817,0.249,0.306,0.174,0.0925,0.139,0.065,0.163,0.388,0.102,0.104,0.102,0.0906,0.131,0.0602,0.118,0.0837,0.124,0.233,0.0838,0.198,0.0698,0.106,0.0463,0.694,0.0856,0.257,0.189,0.0657,0.124,0.382,0.0869,0.124,0.214,0.0874,0.128,0.334,0.0851,0.113,0.354,0.0823,0.126,0.12,0.269,0.112,0.0504,0.0973,0.0869,0.625,0.0764,0.105,0.0575,0.229,0.0452,0.319,0.167,0.0741,0.147,0.116,0.118,0.0793,0.0863,0.103,0.118,0.325,0.0952,0.341,0.109,0.0486,0.0793,0.142,0.0789,0.0863,0.0963,0.341,0.294,0.28,0.299,0.256,0.117,0.299,0.096,0.317,0.119,0.104,0.111,0.0909,0.134,0.329,0.28,0.111,0.0854,0.366,0.0545,0.0775,0.27,0.0919,0.325,0.299,0.191,0.0943,0.0786,0.158,0.0905,0.0962,0.65,0.105,0.146,0.24,0.136,0.0812,0.0936,0.0933,0.138,0.737,0.0584,0.454,0.11,0.129,0.135,0.148,0.0843,0.189,0.0825,0.292,0.108,0.147,0.214,0.161,0.0828,0.113,0.128,0.353,0.176,0.179,0.154,0.135,0.269,0.104,0.0504,0.145,0.107,0.124,0.149,0.251,0.0599,0.229,0.0371,0.0356,0.257,0.134,0.147,0.0644,0.105,0.089,0.0841,0.0549,0.336,0.332,0.197,0.144,0.277,0.156,0.309,0.123,0.108,0.0963,0.0574,0.159,0.307,0.163,0.311,0.0561,0.12,0.101,0.304,0.0526,0.178,0.063,0.0616,0.135,0.0756,0.253,0.11,0.0902,0.415,0.1,0.0931,0.206,0.112,0.169,0.18,0.104,0.155,0.0983,0.164,0.106,0.1,0.149,0.0795,0.165,0.308,0.0424,0.1,0.421,0.087,0.104,0.0871,0.29,0.106,0.134,0.185,0.128,0.285,0.112,0.266,0.109,0.117,0.0906,0.187,0.0853,0.35,0.0829,0.143,0.14,0.255,0.0975,0.062,0.0848,0.107,0.15,0.165,0.123,0.117,0.126,0.241,0.122,0.0874,0.117,0.297,0.123,0.137,0.261,0.0516,0.194,0.197,0.225,0.104,0.0913,0.0563,0.33,0.114,0.346,0.147,0.0839,0.118,0.253,0.0456,0.234,0.199,0.391,0.0943,0.158,0.362,0.104,0.112,0.0911,0.0765,0.109,0.306,0.325,0.111,0.114,0.159,0.184,0.358,0.0972,0.0813,0.0679,0.0939,0.129,0.111,0.0683,0.106,0.153,0.127,0.0864,0.552,0.131,0.114,0.308,0.118,0.34,0.112,0.128,0.372,0.102,0.294,0.248,0.0814,0.101,0.124,0.0812,0.0642,0.742,0.111,0.095,0.106,0.35,0.104,0.136,0.307,0.0595,0.325,0.3,0.123,0.104,0.0537,0.129,0.143,0.12,0.128,0.108,0.0926,0.0761,0.094,0.237,0.118,0.191,0.409,0.155,0.204,0.0586,0.133,0.0501,0.17,0.124,0.0543,0.157,0.179,0.0984,0.198,0.231,0.108,0.203,0.0934,0.203,0.0383,0.135,0.105,0.0713,0.167,0.0813,0.0688,0.159,0.0881,0.396,0.0959,0.0628,0.636,0.116,0.137,0.0696,0.104,0.454,0.107,0.412,0.0865,0.137,0.0215,0.171,0.0725,0.0893,0.0836,0.137,0.0962,0.0824,0.106,0.451,0.109,0.104,0.0912,0.13,0.134,0.119,0.153,0.111,0.113,0.1,0.0828,0.0881,0.0685,0.115,0.0936,0.106,0.231,0.388,0.105,0.156,0.344,0.14,0.0924,0.0574,0.124,0.325,0.122,0.074,0.361,0.124,0.11,0.0937,0.0642,0.148,0.0672,0.0658,0.121,0.095,0.0793,0.101,0.252,0.103,0.0689,0.111,0.142,0.0745,0.122,0.123,0.099,0.0698,0.153,0.342,0.132,0.0822,0.319,0.183,0.11,0.106,0.0955,0.166,0.0952,0.101,0.0811,0.162,0.0832,0.129,0.149,0.159,0.243,0.353,0.143,0.271,0.437,0.14,0.113,0.127,0.102,0.106,0.192,0.0907,0.0645,0.0977,0.119,0.795,0.0523,0.104,0.297,0.214,0.136,0.105,0.154,0.11,0.135,0.0669,0.242,0.0717,0.064,0.582,0.0763,0.3,0.32,0.111,0.106,0.105,0.274,0.222,0.0863],\"xaxis\":\"x\",\"yaxis\":\"y\",\"type\":\"histogram\"}],                        {\"template\":{\"data\":{\"histogram2dcontour\":[{\"type\":\"histogram2dcontour\",\"colorbar\":{\"outlinewidth\":0,\"ticks\":\"\"},\"colorscale\":[[0.0,\"#0d0887\"],[0.1111111111111111,\"#46039f\"],[0.2222222222222222,\"#7201a8\"],[0.3333333333333333,\"#9c179e\"],[0.4444444444444444,\"#bd3786\"],[0.5555555555555556,\"#d8576b\"],[0.6666666666666666,\"#ed7953\"],[0.7777777777777778,\"#fb9f3a\"],[0.8888888888888888,\"#fdca26\"],[1.0,\"#f0f921\"]]}],\"choropleth\":[{\"type\":\"choropleth\",\"colorbar\":{\"outlinewidth\":0,\"ticks\":\"\"}}],\"histogram2d\":[{\"type\":\"histogram2d\",\"colorbar\":{\"outlinewidth\":0,\"ticks\":\"\"},\"colorscale\":[[0.0,\"#0d0887\"],[0.1111111111111111,\"#46039f\"],[0.2222222222222222,\"#7201a8\"],[0.3333333333333333,\"#9c179e\"],[0.4444444444444444,\"#bd3786\"],[0.5555555555555556,\"#d8576b\"],[0.6666666666666666,\"#ed7953\"],[0.7777777777777778,\"#fb9f3a\"],[0.8888888888888888,\"#fdca26\"],[1.0,\"#f0f921\"]]}],\"heatmap\":[{\"type\":\"heatmap\",\"colorbar\":{\"outlinewidth\":0,\"ticks\":\"\"},\"colorscale\":[[0.0,\"#0d0887\"],[0.1111111111111111,\"#46039f\"],[0.2222222222222222,\"#7201a8\"],[0.3333333333333333,\"#9c179e\"],[0.4444444444444444,\"#bd3786\"],[0.5555555555555556,\"#d8576b\"],[0.6666666666666666,\"#ed7953\"],[0.7777777777777778,\"#fb9f3a\"],[0.8888888888888888,\"#fdca26\"],[1.0,\"#f0f921\"]]}],\"heatmapgl\":[{\"type\":\"heatmapgl\",\"colorbar\":{\"outlinewidth\":0,\"ticks\":\"\"},\"colorscale\":[[0.0,\"#0d0887\"],[0.1111111111111111,\"#46039f\"],[0.2222222222222222,\"#7201a8\"],[0.3333333333333333,\"#9c179e\"],[0.4444444444444444,\"#bd3786\"],[0.5555555555555556,\"#d8576b\"],[0.6666666666666666,\"#ed7953\"],[0.7777777777777778,\"#fb9f3a\"],[0.8888888888888888,\"#fdca26\"],[1.0,\"#f0f921\"]]}],\"contourcarpet\":[{\"type\":\"contourcarpet\",\"colorbar\":{\"outlinewidth\":0,\"ticks\":\"\"}}],\"contour\":[{\"type\":\"contour\",\"colorbar\":{\"outlinewidth\":0,\"ticks\":\"\"},\"colorscale\":[[0.0,\"#0d0887\"],[0.1111111111111111,\"#46039f\"],[0.2222222222222222,\"#7201a8\"],[0.3333333333333333,\"#9c179e\"],[0.4444444444444444,\"#bd3786\"],[0.5555555555555556,\"#d8576b\"],[0.6666666666666666,\"#ed7953\"],[0.7777777777777778,\"#fb9f3a\"],[0.8888888888888888,\"#fdca26\"],[1.0,\"#f0f921\"]]}],\"surface\":[{\"type\":\"surface\",\"colorbar\":{\"outlinewidth\":0,\"ticks\":\"\"},\"colorscale\":[[0.0,\"#0d0887\"],[0.1111111111111111,\"#46039f\"],[0.2222222222222222,\"#7201a8\"],[0.3333333333333333,\"#9c179e\"],[0.4444444444444444,\"#bd3786\"],[0.5555555555555556,\"#d8576b\"],[0.6666666666666666,\"#ed7953\"],[0.7777777777777778,\"#fb9f3a\"],[0.8888888888888888,\"#fdca26\"],[1.0,\"#f0f921\"]]}],\"mesh3d\":[{\"type\":\"mesh3d\",\"colorbar\":{\"outlinewidth\":0,\"ticks\":\"\"}}],\"scatter\":[{\"fillpattern\":{\"fillmode\":\"overlay\",\"size\":10,\"solidity\":0.2},\"type\":\"scatter\"}],\"parcoords\":[{\"type\":\"parcoords\",\"line\":{\"colorbar\":{\"outlinewidth\":0,\"ticks\":\"\"}}}],\"scatterpolargl\":[{\"type\":\"scatterpolargl\",\"marker\":{\"colorbar\":{\"outlinewidth\":0,\"ticks\":\"\"}}}],\"bar\":[{\"error_x\":{\"color\":\"#2a3f5f\"},\"error_y\":{\"color\":\"#2a3f5f\"},\"marker\":{\"line\":{\"color\":\"#E5ECF6\",\"width\":0.5},\"pattern\":{\"fillmode\":\"overlay\",\"size\":10,\"solidity\":0.2}},\"type\":\"bar\"}],\"scattergeo\":[{\"type\":\"scattergeo\",\"marker\":{\"colorbar\":{\"outlinewidth\":0,\"ticks\":\"\"}}}],\"scatterpolar\":[{\"type\":\"scatterpolar\",\"marker\":{\"colorbar\":{\"outlinewidth\":0,\"ticks\":\"\"}}}],\"histogram\":[{\"marker\":{\"pattern\":{\"fillmode\":\"overlay\",\"size\":10,\"solidity\":0.2}},\"type\":\"histogram\"}],\"scattergl\":[{\"type\":\"scattergl\",\"marker\":{\"colorbar\":{\"outlinewidth\":0,\"ticks\":\"\"}}}],\"scatter3d\":[{\"type\":\"scatter3d\",\"line\":{\"colorbar\":{\"outlinewidth\":0,\"ticks\":\"\"}},\"marker\":{\"colorbar\":{\"outlinewidth\":0,\"ticks\":\"\"}}}],\"scattermapbox\":[{\"type\":\"scattermapbox\",\"marker\":{\"colorbar\":{\"outlinewidth\":0,\"ticks\":\"\"}}}],\"scatterternary\":[{\"type\":\"scatterternary\",\"marker\":{\"colorbar\":{\"outlinewidth\":0,\"ticks\":\"\"}}}],\"scattercarpet\":[{\"type\":\"scattercarpet\",\"marker\":{\"colorbar\":{\"outlinewidth\":0,\"ticks\":\"\"}}}],\"carpet\":[{\"aaxis\":{\"endlinecolor\":\"#2a3f5f\",\"gridcolor\":\"white\",\"linecolor\":\"white\",\"minorgridcolor\":\"white\",\"startlinecolor\":\"#2a3f5f\"},\"baxis\":{\"endlinecolor\":\"#2a3f5f\",\"gridcolor\":\"white\",\"linecolor\":\"white\",\"minorgridcolor\":\"white\",\"startlinecolor\":\"#2a3f5f\"},\"type\":\"carpet\"}],\"table\":[{\"cells\":{\"fill\":{\"color\":\"#EBF0F8\"},\"line\":{\"color\":\"white\"}},\"header\":{\"fill\":{\"color\":\"#C8D4E3\"},\"line\":{\"color\":\"white\"}},\"type\":\"table\"}],\"barpolar\":[{\"marker\":{\"line\":{\"color\":\"#E5ECF6\",\"width\":0.5},\"pattern\":{\"fillmode\":\"overlay\",\"size\":10,\"solidity\":0.2}},\"type\":\"barpolar\"}],\"pie\":[{\"automargin\":true,\"type\":\"pie\"}]},\"layout\":{\"autotypenumbers\":\"strict\",\"colorway\":[\"#636efa\",\"#EF553B\",\"#00cc96\",\"#ab63fa\",\"#FFA15A\",\"#19d3f3\",\"#FF6692\",\"#B6E880\",\"#FF97FF\",\"#FECB52\"],\"font\":{\"color\":\"#2a3f5f\"},\"hovermode\":\"closest\",\"hoverlabel\":{\"align\":\"left\"},\"paper_bgcolor\":\"white\",\"plot_bgcolor\":\"#E5ECF6\",\"polar\":{\"bgcolor\":\"#E5ECF6\",\"angularaxis\":{\"gridcolor\":\"white\",\"linecolor\":\"white\",\"ticks\":\"\"},\"radialaxis\":{\"gridcolor\":\"white\",\"linecolor\":\"white\",\"ticks\":\"\"}},\"ternary\":{\"bgcolor\":\"#E5ECF6\",\"aaxis\":{\"gridcolor\":\"white\",\"linecolor\":\"white\",\"ticks\":\"\"},\"baxis\":{\"gridcolor\":\"white\",\"linecolor\":\"white\",\"ticks\":\"\"},\"caxis\":{\"gridcolor\":\"white\",\"linecolor\":\"white\",\"ticks\":\"\"}},\"coloraxis\":{\"colorbar\":{\"outlinewidth\":0,\"ticks\":\"\"}},\"colorscale\":{\"sequential\":[[0.0,\"#0d0887\"],[0.1111111111111111,\"#46039f\"],[0.2222222222222222,\"#7201a8\"],[0.3333333333333333,\"#9c179e\"],[0.4444444444444444,\"#bd3786\"],[0.5555555555555556,\"#d8576b\"],[0.6666666666666666,\"#ed7953\"],[0.7777777777777778,\"#fb9f3a\"],[0.8888888888888888,\"#fdca26\"],[1.0,\"#f0f921\"]],\"sequentialminus\":[[0.0,\"#0d0887\"],[0.1111111111111111,\"#46039f\"],[0.2222222222222222,\"#7201a8\"],[0.3333333333333333,\"#9c179e\"],[0.4444444444444444,\"#bd3786\"],[0.5555555555555556,\"#d8576b\"],[0.6666666666666666,\"#ed7953\"],[0.7777777777777778,\"#fb9f3a\"],[0.8888888888888888,\"#fdca26\"],[1.0,\"#f0f921\"]],\"diverging\":[[0,\"#8e0152\"],[0.1,\"#c51b7d\"],[0.2,\"#de77ae\"],[0.3,\"#f1b6da\"],[0.4,\"#fde0ef\"],[0.5,\"#f7f7f7\"],[0.6,\"#e6f5d0\"],[0.7,\"#b8e186\"],[0.8,\"#7fbc41\"],[0.9,\"#4d9221\"],[1,\"#276419\"]]},\"xaxis\":{\"gridcolor\":\"white\",\"linecolor\":\"white\",\"ticks\":\"\",\"title\":{\"standoff\":15},\"zerolinecolor\":\"white\",\"automargin\":true,\"zerolinewidth\":2},\"yaxis\":{\"gridcolor\":\"white\",\"linecolor\":\"white\",\"ticks\":\"\",\"title\":{\"standoff\":15},\"zerolinecolor\":\"white\",\"automargin\":true,\"zerolinewidth\":2},\"scene\":{\"xaxis\":{\"backgroundcolor\":\"#E5ECF6\",\"gridcolor\":\"white\",\"linecolor\":\"white\",\"showbackground\":true,\"ticks\":\"\",\"zerolinecolor\":\"white\",\"gridwidth\":2},\"yaxis\":{\"backgroundcolor\":\"#E5ECF6\",\"gridcolor\":\"white\",\"linecolor\":\"white\",\"showbackground\":true,\"ticks\":\"\",\"zerolinecolor\":\"white\",\"gridwidth\":2},\"zaxis\":{\"backgroundcolor\":\"#E5ECF6\",\"gridcolor\":\"white\",\"linecolor\":\"white\",\"showbackground\":true,\"ticks\":\"\",\"zerolinecolor\":\"white\",\"gridwidth\":2}},\"shapedefaults\":{\"line\":{\"color\":\"#2a3f5f\"}},\"annotationdefaults\":{\"arrowcolor\":\"#2a3f5f\",\"arrowhead\":0,\"arrowwidth\":1},\"geo\":{\"bgcolor\":\"white\",\"landcolor\":\"#E5ECF6\",\"subunitcolor\":\"white\",\"showland\":true,\"showlakes\":true,\"lakecolor\":\"white\"},\"title\":{\"x\":0.05},\"mapbox\":{\"style\":\"light\"}}},\"xaxis\":{\"anchor\":\"y\",\"domain\":[0.0,1.0],\"title\":{\"text\":\"liveness\"}},\"yaxis\":{\"anchor\":\"x\",\"domain\":[0.0,1.0],\"title\":{\"text\":\"count\"}},\"legend\":{\"tracegroupgap\":0},\"title\":{\"text\":\"Liveness distribution across top hits from 2000-2019\"},\"barmode\":\"relative\",\"shapes\":[{\"line\":{\"color\":\"firebrick\",\"dash\":\"dash\",\"width\":2},\"type\":\"line\",\"x0\":0.1814064351378958,\"x1\":0.1814064351378958,\"xref\":\"x\",\"y0\":0,\"y1\":1,\"yref\":\"y domain\"}],\"margin\":{\"t\":150},\"annotations\":[{\"font\":{\"color\":\"firebrick\",\"size\":12},\"showarrow\":false,\"text\":\"<b>0.18 average</b>\",\"textangle\":0,\"x\":0.2,\"xref\":\"x\",\"y\":1.07,\"yref\":\"paper\"}]},                        {\"responsive\": true}                    ).then(function(){\n",
       "                            \n",
       "var gd = document.getElementById('2da371d2-7b9e-450f-89a3-bd88228d8809');\n",
       "var x = new MutationObserver(function (mutations, observer) {{\n",
       "        var display = window.getComputedStyle(gd).display;\n",
       "        if (!display || display === 'none') {{\n",
       "            console.log([gd, 'removed!']);\n",
       "            Plotly.purge(gd);\n",
       "            observer.disconnect();\n",
       "        }}\n",
       "}});\n",
       "\n",
       "// Listen for the removal of the full notebook cells\n",
       "var notebookContainer = gd.closest('#notebook-container');\n",
       "if (notebookContainer) {{\n",
       "    x.observe(notebookContainer, {childList: true});\n",
       "}}\n",
       "\n",
       "// Listen for the clearing of the current output cell\n",
       "var outputEl = gd.closest('.output');\n",
       "if (outputEl) {{\n",
       "    x.observe(outputEl, {childList: true});\n",
       "}}\n",
       "\n",
       "                        })                };                });            </script>        </div>"
      ]
     },
     "metadata": {},
     "output_type": "display_data"
    }
   ],
   "source": [
    "fig = px.histogram(df,x = 'liveness',\n",
    "                   title = 'Liveness distribution across top hits from 2000-2019',)\n",
    "fig.add_vline(x=np.mean(df.liveness),line_width = 2, line_dash = 'dash', \n",
    "              line_color = 'firebrick')\n",
    "fig.update_layout(margin=dict(t=150))\n",
    "fig.add_annotation(dict(font=dict(color=\"firebrick\",size=12),\n",
    "                            x=0.20,\n",
    "                            y=1.07,\n",
    "                            showarrow=False,\n",
    "                            text='<b>0.18 average</b>',\n",
    "                            textangle=0,\n",
    "                            xref=\"x\",\n",
    "                            yref=\"paper\"\n",
    "                           ))\n",
    "fig.show()"
   ]
  },
  {
   "cell_type": "markdown",
   "id": "9c0d568f",
   "metadata": {
    "_cell_guid": "9ff76a5a-ceb6-4552-b169-f0583e87fb92",
    "_uuid": "ac6844d3-b1f8-4132-8fca-bbda609a751e",
    "papermill": {
     "duration": 0.026948,
     "end_time": "2022-06-10T19:28:25.296592",
     "exception": false,
     "start_time": "2022-06-10T19:28:25.269644",
     "status": "completed"
    },
    "tags": []
   },
   "source": [
    "### Valence distribution"
   ]
  },
  {
   "cell_type": "code",
   "execution_count": 27,
   "id": "c8ac27a1",
   "metadata": {
    "_cell_guid": "8398773e-6b47-43ed-b710-94ffd55a8412",
    "_uuid": "bf30475f-0ae1-4d35-9fc9-d8b5f91ceceb",
    "collapsed": false,
    "execution": {
     "iopub.execute_input": "2022-06-10T19:28:25.353244Z",
     "iopub.status.busy": "2022-06-10T19:28:25.352568Z",
     "iopub.status.idle": "2022-06-10T19:28:25.427418Z",
     "shell.execute_reply": "2022-06-10T19:28:25.426521Z"
    },
    "jupyter": {
     "outputs_hidden": false
    },
    "papermill": {
     "duration": 0.105661,
     "end_time": "2022-06-10T19:28:25.429466",
     "exception": false,
     "start_time": "2022-06-10T19:28:25.323805",
     "status": "completed"
    },
    "tags": []
   },
   "outputs": [
    {
     "data": {
      "text/html": [
       "<div>                            <div id=\"9e880ff7-ed2d-471d-85fd-36c6e1f5ed08\" class=\"plotly-graph-div\" style=\"height:525px; width:100%;\"></div>            <script type=\"text/javascript\">                require([\"plotly\"], function(Plotly) {                    window.PLOTLYENV=window.PLOTLYENV || {};                                    if (document.getElementById(\"9e880ff7-ed2d-471d-85fd-36c6e1f5ed08\")) {                    Plotly.newPlot(                        \"9e880ff7-ed2d-471d-85fd-36c6e1f5ed08\",                        [{\"alignmentgroup\":\"True\",\"bingroup\":\"x\",\"hovertemplate\":\"valence=%{x}<br>count=%{y}<extra></extra>\",\"legendgroup\":\"\",\"marker\":{\"color\":\"#636efa\",\"pattern\":{\"shape\":\"\"}},\"name\":\"\",\"offsetgroup\":\"\",\"orientation\":\"v\",\"showlegend\":false,\"x\":[0.894,0.544,0.879,0.76,0.861,0.869,0.808,0.568,0.731,0.782,0.4,0.558,0.758,0.512,0.587,0.817,0.546,0.53,0.74,0.871,0.927,0.631,0.564,0.643,0.766,0.934,0.774,0.348,0.8,0.726,0.801,0.858,0.508,0.801,0.784,0.626,0.628,0.834,0.694,0.373,0.827,0.591,0.852,0.888,0.433,0.668,0.973,0.862,0.543,0.224,0.666,0.332,0.328,0.407,0.927,0.882,0.578,0.527,0.631,0.518,0.768,0.599,0.966,0.565,0.654,0.619,0.507,0.964,0.653,0.607,0.871,0.903,0.497,0.604,0.667,0.963,0.709,0.57,0.969,0.61,0.709,0.38,0.601,0.911,0.233,0.931,0.669,0.955,0.897,0.621,0.556,0.543,0.476,0.613,0.79,0.821,0.677,0.517,0.895,0.74,0.59,0.822,0.45,0.525,0.375,0.206,0.64,0.685,0.904,0.716,0.768,0.547,0.695,0.87,0.884,0.754,0.866,0.679,0.701,0.408,0.86,0.849,0.91,0.827,0.65,0.786,0.96,0.646,0.51,0.213,0.17,0.829,0.637,0.347,0.678,0.789,0.941,0.275,0.73,0.567,0.636,0.927,0.764,0.554,0.339,0.818,0.199,0.844,0.613,0.631,0.722,0.586,0.259,0.697,0.496,0.77,0.484,0.0824,0.761,0.423,0.5,0.502,0.607,0.662,0.427,0.268,0.371,0.362,0.839,0.367,0.518,0.1,0.779,0.825,0.491,0.774,0.7,0.4,0.868,0.418,0.554,0.749,0.537,0.748,0.304,0.845,0.493,0.905,0.74,0.609,0.854,0.56,0.195,0.118,0.827,0.191,0.71,0.775,0.631,0.912,0.654,0.436,0.908,0.387,0.309,0.919,0.742,0.844,0.721,0.875,0.418,0.923,0.567,0.519,0.48,0.742,0.208,0.761,0.784,0.746,0.46,0.863,0.9,0.533,0.572,0.87,0.695,0.336,0.96,0.495,0.924,0.255,0.584,0.27,0.56,0.257,0.839,0.707,0.484,0.601,0.418,0.828,0.198,0.717,0.665,0.858,0.677,0.52,0.806,0.202,0.221,0.584,0.892,0.502,0.17,0.652,0.27,0.868,0.499,0.193,0.717,0.615,0.777,0.726,0.0596,0.681,0.827,0.828,0.96,0.561,0.339,0.518,0.942,0.651,0.327,0.848,0.824,0.594,0.673,0.296,0.962,0.808,0.453,0.12,0.889,0.535,0.511,0.85,0.442,0.514,0.817,0.313,0.518,0.791,0.502,0.538,0.597,0.848,0.509,0.534,0.917,0.777,0.88,0.907,0.648,0.629,0.0902,0.459,0.873,0.759,0.891,0.185,0.935,0.722,0.895,0.618,0.439,0.795,0.51,0.45,0.199,0.963,0.428,0.319,0.511,0.908,0.801,0.694,0.374,0.525,0.564,0.376,0.783,0.352,0.887,0.255,0.477,0.584,0.849,0.846,0.516,0.59,0.513,0.446,0.586,0.294,0.966,0.948,0.811,0.592,0.433,0.429,0.635,0.58,0.556,0.27,0.609,0.317,0.77,0.208,0.383,0.583,0.809,0.924,0.965,0.0681,0.325,0.753,0.797,0.672,0.695,0.731,0.278,0.75,0.385,0.643,0.243,0.429,0.354,0.844,0.619,0.4,0.545,0.447,0.872,0.962,0.465,0.35,0.88,0.619,0.877,0.535,0.662,0.645,0.973,0.177,0.846,0.933,0.322,0.886,0.759,0.581,0.464,0.612,0.695,0.962,0.459,0.676,0.756,0.659,0.547,0.313,0.875,0.962,0.587,0.802,0.418,0.777,0.8,0.114,0.632,0.527,0.654,0.889,0.792,0.715,0.101,0.642,0.639,0.783,0.484,0.611,0.769,0.75,0.788,0.279,0.66,0.501,0.702,0.74,0.294,0.575,0.536,0.233,0.434,0.819,0.106,0.676,0.448,0.667,0.895,0.89,0.635,0.697,0.605,0.398,0.304,0.772,0.383,0.249,0.767,0.556,0.623,0.498,0.755,0.454,0.506,0.549,0.52,0.666,0.405,0.527,0.786,0.676,0.86,0.722,0.365,0.88,0.71,0.637,0.212,0.836,0.586,0.357,0.557,0.749,0.362,0.751,0.435,0.772,0.604,0.619,0.777,0.814,0.08,0.254,0.812,0.966,0.666,0.828,0.586,0.659,0.622,0.81,0.858,0.316,0.626,0.165,0.189,0.379,0.676,0.52,0.904,0.801,0.891,0.184,0.79,0.309,0.904,0.507,0.289,0.687,0.663,0.572,0.344,0.532,0.386,0.595,0.504,0.577,0.425,0.604,0.172,0.602,0.484,0.778,0.14,0.611,0.41,0.805,0.15,0.491,0.385,0.166,0.464,0.382,0.369,0.305,0.398,0.464,0.353,0.664,0.556,0.382,0.346,0.462,0.646,0.801,0.369,0.758,0.822,0.964,0.509,0.777,0.527,0.64,0.442,0.787,0.902,0.386,0.443,0.835,0.744,0.868,0.518,0.718,0.477,0.629,0.534,0.794,0.782,0.444,0.839,0.739,0.329,0.55,0.626,0.758,0.645,0.609,0.182,0.808,0.522,0.84,0.372,0.633,0.493,0.622,0.48,0.355,0.566,0.75,0.779,0.554,0.806,0.673,0.879,0.349,0.554,0.6,0.328,0.587,0.293,0.449,0.167,0.332,0.612,0.294,0.778,0.407,0.594,0.883,0.318,0.733,0.494,0.685,0.269,0.609,0.734,0.33,0.73,0.845,0.58,0.238,0.537,0.586,0.25,0.382,0.672,0.273,0.511,0.172,0.816,0.735,0.512,0.917,0.629,0.149,0.578,0.501,0.361,0.719,0.236,0.686,0.462,0.591,0.57,0.46,0.737,0.225,0.575,0.382,0.253,0.896,0.298,0.432,0.73,0.765,0.809,0.715,0.312,0.961,0.932,0.815,0.418,0.324,0.491,0.425,0.49,0.418,0.821,0.352,0.803,0.767,0.886,0.74,0.674,0.102,0.724,0.287,0.972,0.551,0.68,0.861,0.477,0.485,0.562,0.607,0.372,0.463,0.808,0.565,0.596,0.856,0.942,0.585,0.669,0.828,0.413,0.706,0.703,0.713,0.405,0.714,0.831,0.821,0.688,0.693,0.588,0.852,0.572,0.378,0.773,0.439,0.706,0.877,0.413,0.881,0.408,0.731,0.254,0.645,0.365,0.26,0.448,0.346,0.743,0.483,0.464,0.669,0.72,0.769,0.34,0.768,0.29,0.656,0.594,0.378,0.168,0.433,0.587,0.396,0.352,0.529,0.505,0.348,0.723,0.599,0.815,0.304,0.696,0.572,0.167,0.101,0.727,0.655,0.427,0.807,0.445,0.961,0.722,0.483,0.85,0.45,0.354,0.43,0.767,0.861,0.542,0.504,0.607,0.235,0.836,0.623,0.272,0.972,0.368,0.449,0.803,0.782,0.478,0.576,0.773,0.305,0.801,0.553,0.551,0.861,0.845,0.792,0.585,0.386,0.617,0.452,0.634,0.682,0.601,0.918,0.512,0.527,0.215,0.382,0.818,0.462,0.112,0.418,0.485,0.282,0.851,0.84,0.172,0.887,0.702,0.603,0.0406,0.755,0.346,0.42,0.937,0.959,0.807,0.321,0.0923,0.79,0.467,0.611,0.251,0.0942,0.588,0.691,0.417,0.374,0.487,0.964,0.487,0.447,0.684,0.547,0.11,0.926,0.659,0.762,0.807,0.472,0.438,0.329,0.549,0.452,0.0756,0.61,0.787,0.472,0.801,0.705,0.306,0.761,0.761,0.844,0.692,0.558,0.4,0.654,0.803,0.745,0.544,0.8,0.369,0.788,0.716,0.402,0.867,0.397,0.811,0.65,0.446,0.898,0.38,0.434,0.441,0.714,0.478,0.67,0.74,0.874,0.265,0.489,0.152,0.683,0.0949,0.498,0.727,0.795,0.391,0.407,0.747,0.589,0.968,0.514,0.879,0.452,0.629,0.636,0.475,0.54,0.875,0.112,0.442,0.696,0.711,0.948,0.47,0.888,0.716,0.628,0.568,0.682,0.179,0.435,0.762,0.362,0.905,0.411,0.205,0.321,0.467,0.855,0.272,0.412,0.627,0.376,0.656,0.58,0.262,0.522,0.374,0.605,0.294,0.47,0.37,0.691,0.416,0.645,0.445,0.182,0.664,0.59,0.424,0.455,0.4,0.424,0.641,0.714,0.714,0.714,0.375,0.816,0.611,0.425,0.74,0.599,0.778,0.45,0.506,0.773,0.751,0.272,0.295,0.586,0.568,0.412,0.237,0.668,0.36,0.812,0.494,0.263,0.436,0.567,0.636,0.217,0.654,0.195,0.473,0.828,0.361,0.534,0.0784,0.743,0.625,0.716,0.737,0.163,0.532,0.457,0.329,0.394,0.73,0.52,0.326,0.726,0.683,0.557,0.827,0.535,0.512,0.658,0.717,0.418,0.519,0.277,0.851,0.957,0.377,0.757,0.103,0.583,0.539,0.138,0.81,0.711,0.433,0.657,0.815,0.596,0.803,0.352,0.463,0.783,0.756,0.596,0.738,0.578,0.841,0.103,0.557,0.743,0.591,0.553,0.659,0.472,0.142,0.316,0.286,0.739,0.94,0.447,0.261,0.362,0.787,0.507,0.624,0.352,0.648,0.245,0.762,0.797,0.933,0.575,0.833,0.812,0.731,0.746,0.794,0.188,0.262,0.552,0.285,0.53,0.922,0.538,0.76,0.787,0.796,0.586,0.321,0.594,0.701,0.876,0.795,0.748,0.375,0.493,0.361,0.88,0.272,0.45,0.258,0.637,0.212,0.765,0.445,0.397,0.606,0.438,0.538,0.357,0.452,0.653,0.266,0.6,0.674,0.539,0.7,0.4,0.221,0.498,0.232,0.583,0.536,0.877,0.445,0.402,0.52,0.744,0.794,0.494,0.669,0.836,0.759,0.402,0.965,0.425,0.668,0.658,0.602,0.645,0.144,0.955,0.65,0.161,0.345,0.288,0.576,0.9,0.45,0.723,0.357,0.332,0.814,0.371,0.333,0.297,0.624,0.0886,0.452,0.362,0.272,0.128,0.161,0.6,0.66,0.735,0.622,0.648,0.443,0.0789,0.412,0.444,0.775,0.618,0.576,0.68,0.739,0.282,0.393,0.591,0.26,0.427,0.426,0.476,0.795,0.749,0.801,0.569,0.965,0.585,0.867,0.464,0.684,0.393,0.485,0.769,0.751,0.217,0.559,0.588,0.626,0.545,0.302,0.85,0.0694,0.86,0.273,0.919,0.716,0.486,0.574,0.212,0.643,0.497,0.875,0.629,0.438,0.849,0.331,0.301,0.781,0.679,0.179,0.552,0.879,0.531,0.613,0.358,0.271,0.339,0.323,0.508,0.864,0.836,0.674,0.437,0.888,0.39,0.286,0.682,0.571,0.343,0.78,0.721,0.521,0.237,0.936,0.646,0.392,0.286,0.206,0.684,0.39,0.575,0.689,0.238,0.189,0.248,0.569,0.299,0.538,0.476,0.573,0.337,0.881,0.236,0.643,0.867,0.662,0.862,0.501,0.253,0.722,0.254,0.131,0.559,0.8,0.542,0.402,0.496,0.847,0.0381,0.759,0.213,0.85,0.398,0.433,0.836,0.502,0.8,0.526,0.624,0.952,0.573,0.578,0.902,0.763,0.283,0.11,0.684,0.824,0.567,0.427,0.638,0.428,0.409,0.679,0.405,0.281,0.155,0.53,0.662,0.552,0.546,0.329,0.282,0.58,0.8,0.243,0.469,0.517,0.519,0.582,0.369,0.447,0.12,0.56,0.224,0.349,0.34,0.455,0.582,0.748,0.156,0.748,0.689,0.571,0.486,0.952,0.193,0.349,0.609,0.674,0.145,0.512,0.937,0.417,0.484,0.465,0.765,0.253,0.289,0.449,0.369,0.661,0.716,0.668,0.244,0.862,0.125,0.357,0.387,0.878,0.962,0.353,0.666,0.377,0.328,0.184,0.925,0.572,0.331,0.599,0.961,0.568,0.519,0.348,0.76,0.247,0.759,0.893,0.411,0.431,0.726,0.287,0.235,0.51,0.178,0.721,0.78,0.386,0.646,0.348,0.0815,0.788,0.477,0.18,0.72,0.391,0.779,0.121,0.182,0.66,0.416,0.551,0.0951,0.45,0.304,0.203,0.329,0.284,0.663,0.114,0.616,0.738,0.638,0.383,0.728,0.849,0.24,0.96,0.458,0.751,0.463,0.471,0.487,0.756,0.521,0.625,0.576,0.545,0.545,0.621,0.794,0.441,0.64,0.942,0.37,0.939,0.352,0.375,0.446,0.162,0.549,0.461,0.499,0.286,0.37,0.701,0.786,0.735,0.51,0.401,0.885,0.468,0.234,0.446,0.437,0.947,0.743,0.64,0.124,0.504,0.928,0.591,0.283,0.793,0.274,0.426,0.275,0.418,0.525,0.319,0.57,0.137,0.337,0.499,0.654,0.247,0.274,0.239,0.221,0.69,0.636,0.336,0.407,0.235,0.56,0.23,0.412,0.648,0.594,0.264,0.481,0.751,0.547,0.613,0.479,0.467,0.506,0.724,0.383,0.395,0.789,0.595,0.131,0.466,0.344,0.355,0.438,0.411,0.74,0.964,0.682,0.787,0.817,0.114,0.56,0.0968,0.276,0.604,0.552,0.398,0.174,0.603,0.24,0.583,0.294,0.528,0.55,0.475,0.785,0.217,0.537,0.437,0.487,0.359,0.0883,0.593,0.251,0.395,0.411,0.654,0.236,0.746,0.784,0.621,0.197,0.742,0.189,0.883,0.235,0.375,0.527,0.605,0.647,0.41,0.104,0.843,0.396,0.493,0.95,0.656,0.535,0.37,0.515,0.661,0.289,0.236,0.675,0.728,0.349,0.558,0.412,0.41,0.702,0.672,0.304,0.389,0.365,0.379,0.739,0.548,0.102,0.803,0.422,0.538,0.461,0.505,0.209,0.657,0.529,0.168,0.159,0.234,0.163,0.465,0.71,0.554,0.296,0.603,0.422,0.743,0.438,0.536,0.715,0.566,0.74,0.297,0.811,0.352,0.673,0.869,0.276,0.188,0.539,0.37,0.747,0.247,0.53,0.501,0.261,0.528,0.896,0.706,0.467,0.408,0.478,0.593,0.0594,0.429,0.327,0.213,0.674,0.656,0.23,0.401,0.709,0.501,0.343,0.247,0.523,0.189,0.374,0.298,0.581,0.248,0.877,0.729,0.725,0.18,0.71,0.755,0.543,0.69,0.273,0.276,0.245,0.356,0.8,0.621,0.554,0.397,0.931,0.463,0.846,0.476,0.742,0.418,0.298,0.418,0.446,0.168,0.62,0.43,0.112,0.281,0.191,0.506,0.166,0.145,0.52,0.733,0.376,0.534,0.0951,0.309,0.682,0.355,0.355,0.182,0.789,0.401,0.556,0.23,0.782,0.405,0.443,0.167,0.686,0.708,0.839,0.423,0.265,0.777,0.588,0.445,0.554,0.17,0.699,0.506,0.66,0.231,0.394,0.814,0.437,0.168,0.53,0.195,0.547,0.36,0.417,0.557,0.749,0.966,0.54,0.507,0.592,0.458,0.351,0.297,0.632,0.492,0.295,0.497,0.471,0.78,0.872,0.486,0.472,0.733,0.356,0.4,0.527,0.364,0.649,0.0862,0.449,0.525,0.716,0.678,0.295,0.651,0.397,0.585,0.219,0.273,0.383,0.272,0.595,0.632,0.175,0.515,0.357,0.129,0.333,0.191,0.163,0.218,0.437,0.534,0.65,0.711,0.354,0.261,0.592,0.342,0.446,0.22,0.617,0.615,0.188,0.12,0.395,0.565,0.423,0.376,0.175,0.442,0.188,0.694,0.473,0.82,0.216,0.635,0.686,0.454,0.376,0.158,0.552,0.422,0.62,0.268,0.584,0.852,0.0793,0.237,0.306,0.687,0.267,0.794,0.286,0.152,0.582,0.2,0.464,0.52,0.748,0.485,0.562,0.655,0.421,0.555,0.811,0.341,0.595,0.659,0.671,0.443,0.697,0.508,0.112,0.35,0.603,0.642,0.768,0.319,0.675,0.667,0.321,0.454,0.358,0.839,0.639,0.603,0.926,0.374,0.4,0.612,0.492,0.243,0.758,0.51,0.453,0.717,0.755,0.419,0.449,0.448,0.338,0.758,0.779,0.459,0.639,0.562,0.749,0.327,0.925,0.166,0.533,0.884,0.323,0.244,0.446,0.521,0.137,0.568,0.504,0.656,0.483,0.58,0.424,0.631,0.91,0.446,0.62,0.523,0.617,0.536,0.587,0.226,0.644,0.12,0.234,0.507,0.544,0.388,0.458,0.434,0.163,0.72,0.101,0.475,0.158,0.261,0.578,0.274,0.179,0.609,0.652,0.742,0.219,0.335,0.55,0.628,0.677,0.591,0.606,0.605,0.65,0.428,0.513,0.702,0.244,0.607,0.761,0.463,0.799,0.116,0.391,0.844,0.727,0.196,0.798,0.456,0.874,0.618,0.376,0.413,0.387,0.877,0.576,0.57,0.706,0.651,0.291,0.619,0.341,0.607,0.534,0.355,0.681,0.442,0.345,0.881,0.847,0.175,0.952,0.564,0.811,0.347,0.553],\"xaxis\":\"x\",\"yaxis\":\"y\",\"type\":\"histogram\"}],                        {\"template\":{\"data\":{\"histogram2dcontour\":[{\"type\":\"histogram2dcontour\",\"colorbar\":{\"outlinewidth\":0,\"ticks\":\"\"},\"colorscale\":[[0.0,\"#0d0887\"],[0.1111111111111111,\"#46039f\"],[0.2222222222222222,\"#7201a8\"],[0.3333333333333333,\"#9c179e\"],[0.4444444444444444,\"#bd3786\"],[0.5555555555555556,\"#d8576b\"],[0.6666666666666666,\"#ed7953\"],[0.7777777777777778,\"#fb9f3a\"],[0.8888888888888888,\"#fdca26\"],[1.0,\"#f0f921\"]]}],\"choropleth\":[{\"type\":\"choropleth\",\"colorbar\":{\"outlinewidth\":0,\"ticks\":\"\"}}],\"histogram2d\":[{\"type\":\"histogram2d\",\"colorbar\":{\"outlinewidth\":0,\"ticks\":\"\"},\"colorscale\":[[0.0,\"#0d0887\"],[0.1111111111111111,\"#46039f\"],[0.2222222222222222,\"#7201a8\"],[0.3333333333333333,\"#9c179e\"],[0.4444444444444444,\"#bd3786\"],[0.5555555555555556,\"#d8576b\"],[0.6666666666666666,\"#ed7953\"],[0.7777777777777778,\"#fb9f3a\"],[0.8888888888888888,\"#fdca26\"],[1.0,\"#f0f921\"]]}],\"heatmap\":[{\"type\":\"heatmap\",\"colorbar\":{\"outlinewidth\":0,\"ticks\":\"\"},\"colorscale\":[[0.0,\"#0d0887\"],[0.1111111111111111,\"#46039f\"],[0.2222222222222222,\"#7201a8\"],[0.3333333333333333,\"#9c179e\"],[0.4444444444444444,\"#bd3786\"],[0.5555555555555556,\"#d8576b\"],[0.6666666666666666,\"#ed7953\"],[0.7777777777777778,\"#fb9f3a\"],[0.8888888888888888,\"#fdca26\"],[1.0,\"#f0f921\"]]}],\"heatmapgl\":[{\"type\":\"heatmapgl\",\"colorbar\":{\"outlinewidth\":0,\"ticks\":\"\"},\"colorscale\":[[0.0,\"#0d0887\"],[0.1111111111111111,\"#46039f\"],[0.2222222222222222,\"#7201a8\"],[0.3333333333333333,\"#9c179e\"],[0.4444444444444444,\"#bd3786\"],[0.5555555555555556,\"#d8576b\"],[0.6666666666666666,\"#ed7953\"],[0.7777777777777778,\"#fb9f3a\"],[0.8888888888888888,\"#fdca26\"],[1.0,\"#f0f921\"]]}],\"contourcarpet\":[{\"type\":\"contourcarpet\",\"colorbar\":{\"outlinewidth\":0,\"ticks\":\"\"}}],\"contour\":[{\"type\":\"contour\",\"colorbar\":{\"outlinewidth\":0,\"ticks\":\"\"},\"colorscale\":[[0.0,\"#0d0887\"],[0.1111111111111111,\"#46039f\"],[0.2222222222222222,\"#7201a8\"],[0.3333333333333333,\"#9c179e\"],[0.4444444444444444,\"#bd3786\"],[0.5555555555555556,\"#d8576b\"],[0.6666666666666666,\"#ed7953\"],[0.7777777777777778,\"#fb9f3a\"],[0.8888888888888888,\"#fdca26\"],[1.0,\"#f0f921\"]]}],\"surface\":[{\"type\":\"surface\",\"colorbar\":{\"outlinewidth\":0,\"ticks\":\"\"},\"colorscale\":[[0.0,\"#0d0887\"],[0.1111111111111111,\"#46039f\"],[0.2222222222222222,\"#7201a8\"],[0.3333333333333333,\"#9c179e\"],[0.4444444444444444,\"#bd3786\"],[0.5555555555555556,\"#d8576b\"],[0.6666666666666666,\"#ed7953\"],[0.7777777777777778,\"#fb9f3a\"],[0.8888888888888888,\"#fdca26\"],[1.0,\"#f0f921\"]]}],\"mesh3d\":[{\"type\":\"mesh3d\",\"colorbar\":{\"outlinewidth\":0,\"ticks\":\"\"}}],\"scatter\":[{\"fillpattern\":{\"fillmode\":\"overlay\",\"size\":10,\"solidity\":0.2},\"type\":\"scatter\"}],\"parcoords\":[{\"type\":\"parcoords\",\"line\":{\"colorbar\":{\"outlinewidth\":0,\"ticks\":\"\"}}}],\"scatterpolargl\":[{\"type\":\"scatterpolargl\",\"marker\":{\"colorbar\":{\"outlinewidth\":0,\"ticks\":\"\"}}}],\"bar\":[{\"error_x\":{\"color\":\"#2a3f5f\"},\"error_y\":{\"color\":\"#2a3f5f\"},\"marker\":{\"line\":{\"color\":\"#E5ECF6\",\"width\":0.5},\"pattern\":{\"fillmode\":\"overlay\",\"size\":10,\"solidity\":0.2}},\"type\":\"bar\"}],\"scattergeo\":[{\"type\":\"scattergeo\",\"marker\":{\"colorbar\":{\"outlinewidth\":0,\"ticks\":\"\"}}}],\"scatterpolar\":[{\"type\":\"scatterpolar\",\"marker\":{\"colorbar\":{\"outlinewidth\":0,\"ticks\":\"\"}}}],\"histogram\":[{\"marker\":{\"pattern\":{\"fillmode\":\"overlay\",\"size\":10,\"solidity\":0.2}},\"type\":\"histogram\"}],\"scattergl\":[{\"type\":\"scattergl\",\"marker\":{\"colorbar\":{\"outlinewidth\":0,\"ticks\":\"\"}}}],\"scatter3d\":[{\"type\":\"scatter3d\",\"line\":{\"colorbar\":{\"outlinewidth\":0,\"ticks\":\"\"}},\"marker\":{\"colorbar\":{\"outlinewidth\":0,\"ticks\":\"\"}}}],\"scattermapbox\":[{\"type\":\"scattermapbox\",\"marker\":{\"colorbar\":{\"outlinewidth\":0,\"ticks\":\"\"}}}],\"scatterternary\":[{\"type\":\"scatterternary\",\"marker\":{\"colorbar\":{\"outlinewidth\":0,\"ticks\":\"\"}}}],\"scattercarpet\":[{\"type\":\"scattercarpet\",\"marker\":{\"colorbar\":{\"outlinewidth\":0,\"ticks\":\"\"}}}],\"carpet\":[{\"aaxis\":{\"endlinecolor\":\"#2a3f5f\",\"gridcolor\":\"white\",\"linecolor\":\"white\",\"minorgridcolor\":\"white\",\"startlinecolor\":\"#2a3f5f\"},\"baxis\":{\"endlinecolor\":\"#2a3f5f\",\"gridcolor\":\"white\",\"linecolor\":\"white\",\"minorgridcolor\":\"white\",\"startlinecolor\":\"#2a3f5f\"},\"type\":\"carpet\"}],\"table\":[{\"cells\":{\"fill\":{\"color\":\"#EBF0F8\"},\"line\":{\"color\":\"white\"}},\"header\":{\"fill\":{\"color\":\"#C8D4E3\"},\"line\":{\"color\":\"white\"}},\"type\":\"table\"}],\"barpolar\":[{\"marker\":{\"line\":{\"color\":\"#E5ECF6\",\"width\":0.5},\"pattern\":{\"fillmode\":\"overlay\",\"size\":10,\"solidity\":0.2}},\"type\":\"barpolar\"}],\"pie\":[{\"automargin\":true,\"type\":\"pie\"}]},\"layout\":{\"autotypenumbers\":\"strict\",\"colorway\":[\"#636efa\",\"#EF553B\",\"#00cc96\",\"#ab63fa\",\"#FFA15A\",\"#19d3f3\",\"#FF6692\",\"#B6E880\",\"#FF97FF\",\"#FECB52\"],\"font\":{\"color\":\"#2a3f5f\"},\"hovermode\":\"closest\",\"hoverlabel\":{\"align\":\"left\"},\"paper_bgcolor\":\"white\",\"plot_bgcolor\":\"#E5ECF6\",\"polar\":{\"bgcolor\":\"#E5ECF6\",\"angularaxis\":{\"gridcolor\":\"white\",\"linecolor\":\"white\",\"ticks\":\"\"},\"radialaxis\":{\"gridcolor\":\"white\",\"linecolor\":\"white\",\"ticks\":\"\"}},\"ternary\":{\"bgcolor\":\"#E5ECF6\",\"aaxis\":{\"gridcolor\":\"white\",\"linecolor\":\"white\",\"ticks\":\"\"},\"baxis\":{\"gridcolor\":\"white\",\"linecolor\":\"white\",\"ticks\":\"\"},\"caxis\":{\"gridcolor\":\"white\",\"linecolor\":\"white\",\"ticks\":\"\"}},\"coloraxis\":{\"colorbar\":{\"outlinewidth\":0,\"ticks\":\"\"}},\"colorscale\":{\"sequential\":[[0.0,\"#0d0887\"],[0.1111111111111111,\"#46039f\"],[0.2222222222222222,\"#7201a8\"],[0.3333333333333333,\"#9c179e\"],[0.4444444444444444,\"#bd3786\"],[0.5555555555555556,\"#d8576b\"],[0.6666666666666666,\"#ed7953\"],[0.7777777777777778,\"#fb9f3a\"],[0.8888888888888888,\"#fdca26\"],[1.0,\"#f0f921\"]],\"sequentialminus\":[[0.0,\"#0d0887\"],[0.1111111111111111,\"#46039f\"],[0.2222222222222222,\"#7201a8\"],[0.3333333333333333,\"#9c179e\"],[0.4444444444444444,\"#bd3786\"],[0.5555555555555556,\"#d8576b\"],[0.6666666666666666,\"#ed7953\"],[0.7777777777777778,\"#fb9f3a\"],[0.8888888888888888,\"#fdca26\"],[1.0,\"#f0f921\"]],\"diverging\":[[0,\"#8e0152\"],[0.1,\"#c51b7d\"],[0.2,\"#de77ae\"],[0.3,\"#f1b6da\"],[0.4,\"#fde0ef\"],[0.5,\"#f7f7f7\"],[0.6,\"#e6f5d0\"],[0.7,\"#b8e186\"],[0.8,\"#7fbc41\"],[0.9,\"#4d9221\"],[1,\"#276419\"]]},\"xaxis\":{\"gridcolor\":\"white\",\"linecolor\":\"white\",\"ticks\":\"\",\"title\":{\"standoff\":15},\"zerolinecolor\":\"white\",\"automargin\":true,\"zerolinewidth\":2},\"yaxis\":{\"gridcolor\":\"white\",\"linecolor\":\"white\",\"ticks\":\"\",\"title\":{\"standoff\":15},\"zerolinecolor\":\"white\",\"automargin\":true,\"zerolinewidth\":2},\"scene\":{\"xaxis\":{\"backgroundcolor\":\"#E5ECF6\",\"gridcolor\":\"white\",\"linecolor\":\"white\",\"showbackground\":true,\"ticks\":\"\",\"zerolinecolor\":\"white\",\"gridwidth\":2},\"yaxis\":{\"backgroundcolor\":\"#E5ECF6\",\"gridcolor\":\"white\",\"linecolor\":\"white\",\"showbackground\":true,\"ticks\":\"\",\"zerolinecolor\":\"white\",\"gridwidth\":2},\"zaxis\":{\"backgroundcolor\":\"#E5ECF6\",\"gridcolor\":\"white\",\"linecolor\":\"white\",\"showbackground\":true,\"ticks\":\"\",\"zerolinecolor\":\"white\",\"gridwidth\":2}},\"shapedefaults\":{\"line\":{\"color\":\"#2a3f5f\"}},\"annotationdefaults\":{\"arrowcolor\":\"#2a3f5f\",\"arrowhead\":0,\"arrowwidth\":1},\"geo\":{\"bgcolor\":\"white\",\"landcolor\":\"#E5ECF6\",\"subunitcolor\":\"white\",\"showland\":true,\"showlakes\":true,\"lakecolor\":\"white\"},\"title\":{\"x\":0.05},\"mapbox\":{\"style\":\"light\"}}},\"xaxis\":{\"anchor\":\"y\",\"domain\":[0.0,1.0],\"title\":{\"text\":\"valence\"}},\"yaxis\":{\"anchor\":\"x\",\"domain\":[0.0,1.0],\"title\":{\"text\":\"count\"}},\"legend\":{\"tracegroupgap\":0},\"title\":{\"text\":\"Valence distribution across top hits from 2000-2019\"},\"barmode\":\"relative\",\"shapes\":[{\"line\":{\"color\":\"firebrick\",\"dash\":\"dash\",\"width\":2},\"type\":\"line\",\"x0\":0.5512865168539325,\"x1\":0.5512865168539325,\"xref\":\"x\",\"y0\":0,\"y1\":1,\"yref\":\"y domain\"}],\"margin\":{\"t\":150},\"annotations\":[{\"font\":{\"color\":\"firebrick\",\"size\":12},\"showarrow\":false,\"text\":\"<b>0.55 average</b>\",\"textangle\":0,\"x\":0.57,\"xref\":\"x\",\"y\":1.07,\"yref\":\"paper\"}]},                        {\"responsive\": true}                    ).then(function(){\n",
       "                            \n",
       "var gd = document.getElementById('9e880ff7-ed2d-471d-85fd-36c6e1f5ed08');\n",
       "var x = new MutationObserver(function (mutations, observer) {{\n",
       "        var display = window.getComputedStyle(gd).display;\n",
       "        if (!display || display === 'none') {{\n",
       "            console.log([gd, 'removed!']);\n",
       "            Plotly.purge(gd);\n",
       "            observer.disconnect();\n",
       "        }}\n",
       "}});\n",
       "\n",
       "// Listen for the removal of the full notebook cells\n",
       "var notebookContainer = gd.closest('#notebook-container');\n",
       "if (notebookContainer) {{\n",
       "    x.observe(notebookContainer, {childList: true});\n",
       "}}\n",
       "\n",
       "// Listen for the clearing of the current output cell\n",
       "var outputEl = gd.closest('.output');\n",
       "if (outputEl) {{\n",
       "    x.observe(outputEl, {childList: true});\n",
       "}}\n",
       "\n",
       "                        })                };                });            </script>        </div>"
      ]
     },
     "metadata": {},
     "output_type": "display_data"
    }
   ],
   "source": [
    "fig = px.histogram(df,x = 'valence',\n",
    "                   title = 'Valence distribution across top hits from 2000-2019',)\n",
    "fig.add_vline(x=np.mean(df.valence),line_width = 2, line_dash = 'dash', \n",
    "              line_color = 'firebrick')\n",
    "fig.update_layout(margin=dict(t=150))\n",
    "fig.add_annotation(dict(font=dict(color=\"firebrick\",size=12),\n",
    "                            x=0.57,\n",
    "                            y=1.07,\n",
    "                            showarrow=False,\n",
    "                            text='<b>0.55 average</b>',\n",
    "                            textangle=0,\n",
    "                            xref=\"x\",\n",
    "                            yref=\"paper\"\n",
    "                           ))\n",
    "fig.show()"
   ]
  },
  {
   "cell_type": "markdown",
   "id": "4e2b4e8f",
   "metadata": {
    "_cell_guid": "139b3730-b46d-41c4-8218-ac6b4782becf",
    "_uuid": "45f11363-873c-40f2-a0fd-23f86eb897bb",
    "papermill": {
     "duration": 0.027467,
     "end_time": "2022-06-10T19:28:25.484672",
     "exception": false,
     "start_time": "2022-06-10T19:28:25.457205",
     "status": "completed"
    },
    "tags": []
   },
   "source": [
    "### Tempo distribution"
   ]
  },
  {
   "cell_type": "code",
   "execution_count": 28,
   "id": "dc10c6b1",
   "metadata": {
    "_cell_guid": "e4497662-ab12-4311-a20b-e75afe1ccef4",
    "_uuid": "e9036975-12a9-4c04-bc89-61d07cf0c928",
    "collapsed": false,
    "execution": {
     "iopub.execute_input": "2022-06-10T19:28:25.542740Z",
     "iopub.status.busy": "2022-06-10T19:28:25.542087Z",
     "iopub.status.idle": "2022-06-10T19:28:25.619417Z",
     "shell.execute_reply": "2022-06-10T19:28:25.618535Z"
    },
    "jupyter": {
     "outputs_hidden": false
    },
    "papermill": {
     "duration": 0.108911,
     "end_time": "2022-06-10T19:28:25.621441",
     "exception": false,
     "start_time": "2022-06-10T19:28:25.512530",
     "status": "completed"
    },
    "tags": []
   },
   "outputs": [
    {
     "data": {
      "text/html": [
       "<div>                            <div id=\"f7bba23e-a451-4afc-b78d-00614c1680fc\" class=\"plotly-graph-div\" style=\"height:525px; width:100%;\"></div>            <script type=\"text/javascript\">                require([\"plotly\"], function(Plotly) {                    window.PLOTLYENV=window.PLOTLYENV || {};                                    if (document.getElementById(\"f7bba23e-a451-4afc-b78d-00614c1680fc\")) {                    Plotly.newPlot(                        \"f7bba23e-a451-4afc-b78d-00614c1680fc\",                        [{\"alignmentgroup\":\"True\",\"bingroup\":\"x\",\"hovertemplate\":\"tempo (in BPM)=%{x}<br>count=%{y}<extra></extra>\",\"legendgroup\":\"\",\"marker\":{\"color\":\"#636efa\",\"pattern\":{\"shape\":\"\"}},\"name\":\"\",\"offsetgroup\":\"\",\"orientation\":\"v\",\"showlegend\":false,\"x\":[95.053,119.992,172.656,104.504,103.035,126.041,139.066,163.826,93.02,136.953,105.143,135.012,85.565,101.968,136.065,99.974,127.962,132.017,115.005,119.854,97.004,120.043,144.705,108.241,88.009,72.016,109.981,98.0,100.46,99.581,99.316,143.866,126.279,98.631,129.221,97.865,84.192,135.099,97.922,117.338,132.493,124.036,129.963,83.014,134.007,107.908,124.017,118.981,99.009,89.824,98.054,152.034,144.142,100.618,97.954,165.09,151.181,95.468,144.673,96.102,126.988,136.086,95.026,162.831,94.759,161.109,80.063,126.007,109.919,89.661,107.657,162.152,79.064,136.482,89.976,110.027,123.971,93.839,92.887,135.977,96.306,140.01,123.943,118.011,97.988,97.996,93.013,95.0,90.032,99.825,102.043,172.094,122.746,94.948,137.029,103.141,89.989,97.867,104.719,177.87,100.851,105.005,127.993,167.953,96.976,119.94,97.914,97.577,121.906,86.31,203.862,118.007,129.078,126.928,100.01,125.25,106.957,99.965,78.375,83.293,129.491,166.01,117.033,132.493,180.184,127.487,134.079,128.002,139.909,82.803,128.98,106.676,103.376,105.006,96.951,79.166,133.592,129.006,113.525,94.019,106.095,97.954,131.044,83.46,99.738,137.03,77.967,126.853,95.158,144.673,101.875,139.976,163.142,84.411,182.862,95.9,116.097,116.529,88.933,62.876,113.922,124.599,168.189,112.238,77.987,94.931,112.027,165.508,138.202,99.271,85.996,171.447,199.764,108.955,123.993,93.401,195.685,105.143,184.819,92.988,97.036,126.607,142.017,93.118,147.387,95.992,144.043,121.392,86.994,105.922,95.012,89.767,91.969,143.048,94.332,177.894,102.072,159.963,120.043,107.075,106.986,99.931,99.699,91.868,126.99,93.955,103.887,115.142,95.022,91.455,101.955,107.288,168.004,83.133,124.994,97.035,106.52,89.279,148.062,93.63,157.596,117.31,114.964,68.942,96.072,148.015,89.488,133.838,128.93,75.09,133.592,130.97,101.868,79.01,177.928,146.349,96.673,90.119,149.937,137.965,78.996,83.014,122.444,114.999,103.997,93.967,106.191,99.952,100.005,130.581,102.192,109.781,131.059,144.188,147.973,96.103,119.998,125.972,157.469,144.636,184.682,98.525,90.051,100.202,171.355,99.165,88.029,94.059,100.0,112.968,130.017,85.996,98.077,99.971,89.64,84.722,110.01,135.095,95.027,94.612,125.011,83.373,89.342,101.043,95.508,82.331,109.598,120.046,78.955,146.301,100.972,123.904,84.038,91.025,92.98,98.989,163.118,158.108,83.701,184.981,105.987,199.958,163.944,87.025,124.814,101.129,120.315,98.014,81.008,102.009,92.074,163.961,104.946,132.817,92.729,164.062,121.732,134.465,139.993,188.899,130.127,101.025,117.901,127.683,123.005,130.036,99.057,95.313,148.095,112.913,73.898,105.678,126.326,143.772,92.849,130.97,79.993,101.868,94.998,118.877,107.849,97.917,78.935,83.066,81.975,169.951,111.121,153.067,192.082,175.943,90.079,80.718,125.999,182.12,151.551,119.998,106.22,100.215,158.009,151.95,81.931,105.018,95.051,143.04,79.526,82.952,102.847,96.009,104.923,130.103,95.321,136.027,94.547,105.991,106.997,99.973,110.018,94.857,89.987,120.014,96.525,97.007,119.011,126.342,102.017,107.17,99.916,124.047,128.429,111.014,121.057,82.331,104.917,163.971,97.007,185.406,130.015,100.15,101.965,117.021,112.968,100.021,86.891,169.131,73.108,121.003,98.014,92.063,87.002,123.925,89.983,154.07,106.279,162.519,98.579,131.012,120.939,134.199,115.012,109.599,140.083,104.561,93.04,76.91,93.961,87.312,79.012,163.153,89.993,126.326,144.106,145.115,186.113,176.051,116.972,127.932,83.089,139.982,145.894,170.229,169.951,68.507,83.61,143.994,91.03,98.523,127.831,86.412,75.007,128.658,172.302,172.872,125.999,116.02,94.487,79.178,174.117,174.001,81.931,167.078,139.987,94.514,93.034,99.019,125.173,81.998,167.046,120.003,140.046,104.838,125.02,96.946,138.045,83.093,117.0,98.018,104.003,84.858,97.018,98.012,100.969,95.953,123.95,128.29,92.029,100.01,97.084,107.045,99.998,138.559,130.889,90.098,127.988,126.016,84.03,84.039,100.011,120.264,112.955,118.014,95.027,84.995,77.499,125.461,171.79,77.984,186.048,133.631,136.518,97.043,92.063,100.813,77.49,113.053,125.085,171.609,123.091,94.163,110.007,90.038,182.99,85.098,80.569,100.113,82.168,139.861,143.555,102.017,82.017,160.028,90.048,89.885,75.048,127.673,89.782,103.183,68.637,151.518,158.842,110.086,139.92,92.004,145.916,99.991,125.802,79.918,96.938,146.994,79.178,169.799,123.067,100.38,89.036,130.999,96.0,143.853,119.075,112.019,130.198,100.024,125.04,117.0,175.868,71.815,137.046,111.97,138.335,132.722,128.009,96.998,132.971,143.052,153.649,114.328,127.919,95.824,210.851,128.593,107.005,74.007,120.0,87.165,126.069,99.99,99.992,103.7,82.038,127.51,106.328,84.003,79.798,119.952,164.007,82.996,175.788,90.951,142.019,77.499,120.066,105.253,100.04,75.272,84.021,128.04,129.016,146.559,131.925,144.069,98.56,76.035,93.41,80.0,132.918,114.452,70.543,73.464,78.756,149.965,157.147,169.152,103.055,166.104,116.714,95.506,94.02,83.001,185.888,129.37,103.383,136.002,96.184,108.023,92.791,129.005,123.696,154.514,179.999,79.918,169.961,89.567,127.91,109.581,129.352,124.082,145.171,104.833,100.011,90.933,79.753,132.013,122.035,108.102,96.95,124.191,143.853,78.969,86.768,140.004,100.304,104.036,174.028,113.324,113.082,105.828,103.971,76.0,119.961,114.759,116.948,129.026,128.016,130.018,118.988,110.621,140.144,124.938,127.995,132.035,103.992,91.977,79.702,99.989,140.141,149.28,141.04,132.964,128.014,80.029,127.894,120.119,121.006,140.043,144.972,106.031,95.802,80.021,86.491,132.078,175.788,165.182,119.952,130.993,140.127,111.647,127.99,82.499,163.983,109.97,145.959,160.022,130.159,141.955,104.987,90.02,129.055,131.105,92.988,144.072,154.837,121.243,181.04,122.728,94.955,123.279,114.999,139.986,120.872,113.996,199.935,172.977,139.913,144.09,172.984,105.412,93.416,118.035,83.998,120.226,92.956,122.229,172.976,130.009,125.139,123.007,147.905,123.802,80.001,81.995,142.034,160.895,124.484,126.766,116.027,92.515,149.934,164.054,127.901,104.655,92.854,128.008,129.996,82.082,90.04,118.016,171.812,86.009,90.007,117.002,129.023,130.018,124.921,127.999,117.533,148.075,147.99,90.482,113.029,132.032,122.668,120.163,137.982,139.0,125.99,102.757,137.616,127.019,118.449,120.051,140.141,115.007,159.841,126.027,151.486,119.974,138.975,144.954,140.043,106.031,87.0,111.996,131.977,141.933,116.59,111.572,115.033,110.019,126.115,86.917,117.932,138.018,173.992,148.113,120.01,126.019,119.603,113.053,172.247,127.962,124.072,78.502,122.961,107.993,82.48,127.981,90.063,131.942,140.012,135.968,139.61,145.042,78.946,111.91,142.365,150.034,150.053,94.977,92.474,182.571,123.021,102.028,138.015,153.398,82.962,129.911,162.084,82.82,161.905,168.005,76.093,172.155,108.984,77.506,114.03,94.812,120.005,80.045,163.953,184.009,89.828,127.96,118.999,79.983,130.011,124.986,118.984,126.003,114.98,105.024,134.992,140.002,130.0,87.999,138.018,118.992,129.954,127.045,86.443,121.949,127.973,130.048,121.983,114.906,173.585,146.024,60.019,127.029,117.971,113.172,86.844,119.001,159.841,114.003,126.127,107.011,80.051,150.154,100.363,65.997,159.873,129.967,122.988,149.998,169.561,91.066,114.912,119.918,120.02,130.012,136.202,111.572,130.015,140.029,73.881,104.02,132.612,119.603,177.008,172.049,144.036,121.491,135.021,122.973,126.975,119.964,89.956,123.016,117.029,130.99,145.999,176.052,150.01,128.019,115.998,111.91,150.053,117.985,193.437,150.005,78.005,148.021,140.022,137.077,160.139,134.002,153.398,162.161,78.139,96.021,144.953,129.94,159.779,155.165,129.964,100.011,86.444,130.989,144.982,138.585,151.994,109.021,86.989,119.001,119.951,120.028,129.983,119.975,125.906,125.014,125.036,128.0,124.913,129.944,127.965,130.003,171.917,115.68,176.985,127.041,122.01,92.035,125.997,114.635,98.998,173.906,128.013,139.896,127.979,124.638,125.061,73.987,119.963,91.031,127.966,121.223,131.497,91.881,145.867,116.98,129.965,122.014,124.996,182.032,91.1,185.934,74.008,126.091,129.007,126.026,129.998,102.978,65.997,155.788,138.021,65.043,85.013,125.03,75.974,143.96,120.003,150.1,110.009,95.498,93.033,84.789,89.917,100.025,90.034,100.631,93.01,144.036,100.093,126.056,147.007,117.011,125.846,95.975,76.052,134.036,120.057,149.967,96.033,89.338,139.048,140.329,148.005,103.993,120.011,176.667,86.776,180.114,92.923,107.884,141.893,147.99,92.011,81.986,117.015,130.739,82.439,104.948,128.044,130.014,124.071,110.444,128.024,126.976,127.938,130.0,127.975,120.013,130.02,128.027,125.083,126.979,94.05,129.884,122.019,129.024,117.009,164.02,151.684,130.002,89.99,127.041,125.953,160.041,127.998,110.621,130.021,131.959,140.036,139.85,131.497,187.961,105.013,131.951,153.071,121.956,139.631,126.03,107.995,155.826,79.119,149.33,146.155,96.005,126.885,119.95,140.889,127.985,110.955,104.029,130.0,126.879,142.113,81.001,168.001,100.025,127.898,149.976,100.963,140.042,190.151,101.019,115.057,123.907,126.991,162.994,127.941,127.884,127.975,151.894,175.015,127.037,125.358,94.988,90.268,174.915,143.067,105.955,91.993,135.047,106.254,160.014,91.964,205.57,127.952,142.881,99.978,112.96,117.98,99.099,122.019,74.541,144.905,130.739,153.992,111.202,139.028,127.985,120.021,184.086,120.015,120.05,124.954,75.881,127.96,127.963,140.022,92.997,110.026,128.108,103.976,128.954,129.973,125.055,74.132,127.98,139.993,175.017,130.021,132.067,128.001,127.992,106.008,110.006,143.994,126.04,128.011,91.972,140.008,130.028,125.008,91.048,119.012,126.092,126.017,110.015,169.533,96.055,125.946,125.953,98.986,127.937,127.974,155.974,120.052,139.631,129.925,123.061,128.016,84.786,129.042,140.05,96.979,126.062,126.986,77.019,127.839,103.998,116.043,95.078,139.691,72.022,126.027,95.073,128.008,83.993,133.962,128.074,129.054,127.075,124.99,75.223,126.025,126.05,127.945,98.082,120.008,122.028,121.985,85.014,126.015,130.034,136.991,150.071,127.967,116.044,201.8,159.814,116.024,179.911,93.763,124.91,123.008,121.845,114.962,150.017,97.954,84.878,120.0,136.245,124.08,143.994,94.992,116.047,130.033,116.019,127.99,124.988,122.769,171.999,130.072,135.956,127.999,124.906,146.078,128.015,100.315,126.03,128.012,124.053,128.045,117.952,173.968,92.004,128.003,110.049,127.008,79.979,192.205,119.978,126.035,130.089,126.052,95.084,125.916,151.99,100.05,127.946,89.938,162.131,77.019,85.03,174.983,119.74,128.062,95.967,103.998,128.008,87.016,137.825,124.989,96.0,119.038,124.047,127.923,119.995,127.934,129.003,114.038,133.973,86.307,83.235,125.01,124.021,179.984,136.802,127.985,145.082,93.043,123.973,127.435,118.491,115.995,128.006,119.964,104.038,100.163,129.885,76.899,116.017,102.961,80.003,99.991,136.01,143.808,99.993,118.021,120.001,82.92,164.986,103.987,75.089,82.324,111.893,101.985,72.795,148.0,160.019,131.934,153.972,94.981,189.868,84.094,144.033,117.089,119.93,124.96,134.052,124.915,163.99,110.003,124.959,196.093,100.315,120.003,127.966,101.013,119.976,170.216,96.975,126.094,119.906,81.946,123.002,98.052,129.994,128.024,100.014,129.992,122.014,167.879,127.962,111.959,119.968,119.987,175.001,127.955,99.961,174.084,124.938,119.993,90.99,122.993,87.016,129.956,98.098,119.999,99.059,120.022,114.948,100.094,114.016,95.049,98.992,90.949,125.014,150.028,120.837,121.939,94.933,102.071,121.985,103.008,91.999,77.217,124.989,83.066,128.011,160.025,166.996,160.078,120.001,119.988,125.876,112.028,124.96,124.97,120.97,127.961,130.075,121.07,145.879,97.448,130.027,104.99,101.654,140.03,120.042,104.975,152.037,141.967,142.016,121.989,133.912,81.897,86.01,93.047,114.988,78.998,80.025,125.02,98.007,119.844,189.857,128.035,85.979,114.101,95.997,113.003,85.012,127.961,125.983,196.093,119.955,125.01,170.16,145.889,123.063,122.003,123.002,96.975,176.042,108.034,121.03,169.977,99.987,81.663,99.933,107.985,125.004,127.999,117.971,140.06,167.939,124.022,126.008,102.99,98.024,138.113,131.05,119.977,130.064,91.977,98.02,95.95,94.006,139.982,98.031,80.529,148.075,119.999,136.024,131.988,145.992,78.521,134.966,120.012,107.005,190.05,98.992,107.949,186.394,90.052,118.413,100.034,116.879,88.928,128.077,128.945,94.933,120.892,81.418,108.061,77.521,97.972,113.927,142.079,90.838,149.882,118.004,83.066,139.432,154.943,96.991,163.993,84.264,130.003,113.945,120.063,123.976,99.945,125.026,111.987,99.933,108.002,139.091,90.013,186.054,103.967,100.418,95.01,157.98,144.833,99.002,89.972,99.961,91.974,90.027,99.945,113.03,101.003,122.803,111.995,110.169,120.036,169.021,90.024,143.961,126.01,159.803,120.028,121.996,90.246,102.42,92.134,110.127,133.99,179.642,101.983,99.988,123.962,101.969,121.918,110.898,159.145,141.99,113.939,98.02,119.986,139.956,74.989,94.006,134.052,146.928,100.017,104.013,91.03,145.992,90.037,134.96,107.853,82.695,107.331,111.995,121.969,186.249,90.052,119.002,118.991,191.863,113.049,99.886,105.017,133.053,124.909,120.493,104.981,124.977,142.079,112.291,123.996,117.986,92.943,100.001,95.109,162.958,96.991,114.991,130.037,113.901,116.838,120.041,191.944,128.06,92.6,84.044,95.04,181.994,158.777,75.255,160.108,104.988,129.988,126.014,76.026,159.738,117.996,95.977,102.04,177.833,91.873,101.965,104.992,167.88,100.047,103.019,95.05,97.512,130.049,119.959,150.062,87.908,99.905,139.992,105.997,170.142,97.985,75.016,123.07,180.042,104.237,124.007,145.926,141.153,140.987,144.946,155.096,134.945,108.034,98.064,175.957,162.991,119.949,125.985,124.982,79.997,150.018,123.013,100.041,135.048,106.083,75.087,111.002,119.889,128.07,91.011,171.853,139.928,129.014,134.021,127.079,149.953,137.972,104.016,114.965,160.015,144.937,141.967,121.996,168.073,144.992,116.01,125.022,170.661,121.028,97.979,123.146,133.993,122.95,95.029,160.517,101.018,139.023,104.592,121.03,139.994,147.932,106.028,111.98,104.99,117.973,194.169,73.003,105.0,123.98,99.979,93.984,130.093,92.987,99.99,81.502,148.127,102.977,112.956,106.97,106.996,99.968,77.169,159.801,100.007,87.908,125.905,83.903,107.01,95.079,136.048,128.009,121.993,146.034,123.994,97.994,155.008,100.0,95.881,150.06,100.584,115.284,145.914,105.005,154.983,125.978,134.17,96.507,137.996,179.968,75.023,94.014,82.034,157.036,125.985,89.996,137.133,94.981,96.924,149.908,98.062,145.031,173.948,103.019,99.977,129.959,124.987,128.005,68.976,94.968,141.971,120.274,121.958,113.0,147.997,64.934,198.075,125.022,119.957,106.046,93.95,93.982,109.974,145.038,140.022,90.09,100.015,126.684,112.009,181.982,203.911,91.03,95.948,114.966,94.023,89.391,95.989,122.029,106.93,113.021,79.882,95.001,135.702,96.133,105.115,127.921,157.92,118.384,150.002,129.923,110.009,97.028,100.028,142.929,133.123,91.97,105.049,124.959,143.955,93.372,126.058,140.06,136.041,135.128,116.967,140.048,89.96,100.966,136.041,117.948,95.799,114.066,109.891,121.908,202.015,120.08,98.043,93.989,150.073,131.98,140.022,124.08,151.957,155.008,198.065,144.982,95.881,96.057,105.038,179.974,140.969,115.284,98.994,135.998,86.003,99.96,170.037,93.023,80.512,171.993,100.541,153.848,97.062,168.112,159.966,145.972,97.981,105.027,98.016,150.024,130.003,169.999,109.979,133.002,123.941,137.776,122.015,138.058,133.992,188.115,98.027,190.097,176.169,130.089,126.899,123.984,92.01,97.565,104.025,75.445,133.986,120.046,119.991,102.958,94.01,175.813,100.001,79.635,125.011,151.891,124.975,98.985,91.987,107.356,146.163,176.044,145.038,95.005,102.211,94.956,82.014,88.042,110.567,170.918,125.002,150.231,137.958,169.994,97.984,102.998,120.042],\"xaxis\":\"x\",\"yaxis\":\"y\",\"type\":\"histogram\"}],                        {\"template\":{\"data\":{\"histogram2dcontour\":[{\"type\":\"histogram2dcontour\",\"colorbar\":{\"outlinewidth\":0,\"ticks\":\"\"},\"colorscale\":[[0.0,\"#0d0887\"],[0.1111111111111111,\"#46039f\"],[0.2222222222222222,\"#7201a8\"],[0.3333333333333333,\"#9c179e\"],[0.4444444444444444,\"#bd3786\"],[0.5555555555555556,\"#d8576b\"],[0.6666666666666666,\"#ed7953\"],[0.7777777777777778,\"#fb9f3a\"],[0.8888888888888888,\"#fdca26\"],[1.0,\"#f0f921\"]]}],\"choropleth\":[{\"type\":\"choropleth\",\"colorbar\":{\"outlinewidth\":0,\"ticks\":\"\"}}],\"histogram2d\":[{\"type\":\"histogram2d\",\"colorbar\":{\"outlinewidth\":0,\"ticks\":\"\"},\"colorscale\":[[0.0,\"#0d0887\"],[0.1111111111111111,\"#46039f\"],[0.2222222222222222,\"#7201a8\"],[0.3333333333333333,\"#9c179e\"],[0.4444444444444444,\"#bd3786\"],[0.5555555555555556,\"#d8576b\"],[0.6666666666666666,\"#ed7953\"],[0.7777777777777778,\"#fb9f3a\"],[0.8888888888888888,\"#fdca26\"],[1.0,\"#f0f921\"]]}],\"heatmap\":[{\"type\":\"heatmap\",\"colorbar\":{\"outlinewidth\":0,\"ticks\":\"\"},\"colorscale\":[[0.0,\"#0d0887\"],[0.1111111111111111,\"#46039f\"],[0.2222222222222222,\"#7201a8\"],[0.3333333333333333,\"#9c179e\"],[0.4444444444444444,\"#bd3786\"],[0.5555555555555556,\"#d8576b\"],[0.6666666666666666,\"#ed7953\"],[0.7777777777777778,\"#fb9f3a\"],[0.8888888888888888,\"#fdca26\"],[1.0,\"#f0f921\"]]}],\"heatmapgl\":[{\"type\":\"heatmapgl\",\"colorbar\":{\"outlinewidth\":0,\"ticks\":\"\"},\"colorscale\":[[0.0,\"#0d0887\"],[0.1111111111111111,\"#46039f\"],[0.2222222222222222,\"#7201a8\"],[0.3333333333333333,\"#9c179e\"],[0.4444444444444444,\"#bd3786\"],[0.5555555555555556,\"#d8576b\"],[0.6666666666666666,\"#ed7953\"],[0.7777777777777778,\"#fb9f3a\"],[0.8888888888888888,\"#fdca26\"],[1.0,\"#f0f921\"]]}],\"contourcarpet\":[{\"type\":\"contourcarpet\",\"colorbar\":{\"outlinewidth\":0,\"ticks\":\"\"}}],\"contour\":[{\"type\":\"contour\",\"colorbar\":{\"outlinewidth\":0,\"ticks\":\"\"},\"colorscale\":[[0.0,\"#0d0887\"],[0.1111111111111111,\"#46039f\"],[0.2222222222222222,\"#7201a8\"],[0.3333333333333333,\"#9c179e\"],[0.4444444444444444,\"#bd3786\"],[0.5555555555555556,\"#d8576b\"],[0.6666666666666666,\"#ed7953\"],[0.7777777777777778,\"#fb9f3a\"],[0.8888888888888888,\"#fdca26\"],[1.0,\"#f0f921\"]]}],\"surface\":[{\"type\":\"surface\",\"colorbar\":{\"outlinewidth\":0,\"ticks\":\"\"},\"colorscale\":[[0.0,\"#0d0887\"],[0.1111111111111111,\"#46039f\"],[0.2222222222222222,\"#7201a8\"],[0.3333333333333333,\"#9c179e\"],[0.4444444444444444,\"#bd3786\"],[0.5555555555555556,\"#d8576b\"],[0.6666666666666666,\"#ed7953\"],[0.7777777777777778,\"#fb9f3a\"],[0.8888888888888888,\"#fdca26\"],[1.0,\"#f0f921\"]]}],\"mesh3d\":[{\"type\":\"mesh3d\",\"colorbar\":{\"outlinewidth\":0,\"ticks\":\"\"}}],\"scatter\":[{\"fillpattern\":{\"fillmode\":\"overlay\",\"size\":10,\"solidity\":0.2},\"type\":\"scatter\"}],\"parcoords\":[{\"type\":\"parcoords\",\"line\":{\"colorbar\":{\"outlinewidth\":0,\"ticks\":\"\"}}}],\"scatterpolargl\":[{\"type\":\"scatterpolargl\",\"marker\":{\"colorbar\":{\"outlinewidth\":0,\"ticks\":\"\"}}}],\"bar\":[{\"error_x\":{\"color\":\"#2a3f5f\"},\"error_y\":{\"color\":\"#2a3f5f\"},\"marker\":{\"line\":{\"color\":\"#E5ECF6\",\"width\":0.5},\"pattern\":{\"fillmode\":\"overlay\",\"size\":10,\"solidity\":0.2}},\"type\":\"bar\"}],\"scattergeo\":[{\"type\":\"scattergeo\",\"marker\":{\"colorbar\":{\"outlinewidth\":0,\"ticks\":\"\"}}}],\"scatterpolar\":[{\"type\":\"scatterpolar\",\"marker\":{\"colorbar\":{\"outlinewidth\":0,\"ticks\":\"\"}}}],\"histogram\":[{\"marker\":{\"pattern\":{\"fillmode\":\"overlay\",\"size\":10,\"solidity\":0.2}},\"type\":\"histogram\"}],\"scattergl\":[{\"type\":\"scattergl\",\"marker\":{\"colorbar\":{\"outlinewidth\":0,\"ticks\":\"\"}}}],\"scatter3d\":[{\"type\":\"scatter3d\",\"line\":{\"colorbar\":{\"outlinewidth\":0,\"ticks\":\"\"}},\"marker\":{\"colorbar\":{\"outlinewidth\":0,\"ticks\":\"\"}}}],\"scattermapbox\":[{\"type\":\"scattermapbox\",\"marker\":{\"colorbar\":{\"outlinewidth\":0,\"ticks\":\"\"}}}],\"scatterternary\":[{\"type\":\"scatterternary\",\"marker\":{\"colorbar\":{\"outlinewidth\":0,\"ticks\":\"\"}}}],\"scattercarpet\":[{\"type\":\"scattercarpet\",\"marker\":{\"colorbar\":{\"outlinewidth\":0,\"ticks\":\"\"}}}],\"carpet\":[{\"aaxis\":{\"endlinecolor\":\"#2a3f5f\",\"gridcolor\":\"white\",\"linecolor\":\"white\",\"minorgridcolor\":\"white\",\"startlinecolor\":\"#2a3f5f\"},\"baxis\":{\"endlinecolor\":\"#2a3f5f\",\"gridcolor\":\"white\",\"linecolor\":\"white\",\"minorgridcolor\":\"white\",\"startlinecolor\":\"#2a3f5f\"},\"type\":\"carpet\"}],\"table\":[{\"cells\":{\"fill\":{\"color\":\"#EBF0F8\"},\"line\":{\"color\":\"white\"}},\"header\":{\"fill\":{\"color\":\"#C8D4E3\"},\"line\":{\"color\":\"white\"}},\"type\":\"table\"}],\"barpolar\":[{\"marker\":{\"line\":{\"color\":\"#E5ECF6\",\"width\":0.5},\"pattern\":{\"fillmode\":\"overlay\",\"size\":10,\"solidity\":0.2}},\"type\":\"barpolar\"}],\"pie\":[{\"automargin\":true,\"type\":\"pie\"}]},\"layout\":{\"autotypenumbers\":\"strict\",\"colorway\":[\"#636efa\",\"#EF553B\",\"#00cc96\",\"#ab63fa\",\"#FFA15A\",\"#19d3f3\",\"#FF6692\",\"#B6E880\",\"#FF97FF\",\"#FECB52\"],\"font\":{\"color\":\"#2a3f5f\"},\"hovermode\":\"closest\",\"hoverlabel\":{\"align\":\"left\"},\"paper_bgcolor\":\"white\",\"plot_bgcolor\":\"#E5ECF6\",\"polar\":{\"bgcolor\":\"#E5ECF6\",\"angularaxis\":{\"gridcolor\":\"white\",\"linecolor\":\"white\",\"ticks\":\"\"},\"radialaxis\":{\"gridcolor\":\"white\",\"linecolor\":\"white\",\"ticks\":\"\"}},\"ternary\":{\"bgcolor\":\"#E5ECF6\",\"aaxis\":{\"gridcolor\":\"white\",\"linecolor\":\"white\",\"ticks\":\"\"},\"baxis\":{\"gridcolor\":\"white\",\"linecolor\":\"white\",\"ticks\":\"\"},\"caxis\":{\"gridcolor\":\"white\",\"linecolor\":\"white\",\"ticks\":\"\"}},\"coloraxis\":{\"colorbar\":{\"outlinewidth\":0,\"ticks\":\"\"}},\"colorscale\":{\"sequential\":[[0.0,\"#0d0887\"],[0.1111111111111111,\"#46039f\"],[0.2222222222222222,\"#7201a8\"],[0.3333333333333333,\"#9c179e\"],[0.4444444444444444,\"#bd3786\"],[0.5555555555555556,\"#d8576b\"],[0.6666666666666666,\"#ed7953\"],[0.7777777777777778,\"#fb9f3a\"],[0.8888888888888888,\"#fdca26\"],[1.0,\"#f0f921\"]],\"sequentialminus\":[[0.0,\"#0d0887\"],[0.1111111111111111,\"#46039f\"],[0.2222222222222222,\"#7201a8\"],[0.3333333333333333,\"#9c179e\"],[0.4444444444444444,\"#bd3786\"],[0.5555555555555556,\"#d8576b\"],[0.6666666666666666,\"#ed7953\"],[0.7777777777777778,\"#fb9f3a\"],[0.8888888888888888,\"#fdca26\"],[1.0,\"#f0f921\"]],\"diverging\":[[0,\"#8e0152\"],[0.1,\"#c51b7d\"],[0.2,\"#de77ae\"],[0.3,\"#f1b6da\"],[0.4,\"#fde0ef\"],[0.5,\"#f7f7f7\"],[0.6,\"#e6f5d0\"],[0.7,\"#b8e186\"],[0.8,\"#7fbc41\"],[0.9,\"#4d9221\"],[1,\"#276419\"]]},\"xaxis\":{\"gridcolor\":\"white\",\"linecolor\":\"white\",\"ticks\":\"\",\"title\":{\"standoff\":15},\"zerolinecolor\":\"white\",\"automargin\":true,\"zerolinewidth\":2},\"yaxis\":{\"gridcolor\":\"white\",\"linecolor\":\"white\",\"ticks\":\"\",\"title\":{\"standoff\":15},\"zerolinecolor\":\"white\",\"automargin\":true,\"zerolinewidth\":2},\"scene\":{\"xaxis\":{\"backgroundcolor\":\"#E5ECF6\",\"gridcolor\":\"white\",\"linecolor\":\"white\",\"showbackground\":true,\"ticks\":\"\",\"zerolinecolor\":\"white\",\"gridwidth\":2},\"yaxis\":{\"backgroundcolor\":\"#E5ECF6\",\"gridcolor\":\"white\",\"linecolor\":\"white\",\"showbackground\":true,\"ticks\":\"\",\"zerolinecolor\":\"white\",\"gridwidth\":2},\"zaxis\":{\"backgroundcolor\":\"#E5ECF6\",\"gridcolor\":\"white\",\"linecolor\":\"white\",\"showbackground\":true,\"ticks\":\"\",\"zerolinecolor\":\"white\",\"gridwidth\":2}},\"shapedefaults\":{\"line\":{\"color\":\"#2a3f5f\"}},\"annotationdefaults\":{\"arrowcolor\":\"#2a3f5f\",\"arrowhead\":0,\"arrowwidth\":1},\"geo\":{\"bgcolor\":\"white\",\"landcolor\":\"#E5ECF6\",\"subunitcolor\":\"white\",\"showland\":true,\"showlakes\":true,\"lakecolor\":\"white\"},\"title\":{\"x\":0.05},\"mapbox\":{\"style\":\"light\"}}},\"xaxis\":{\"anchor\":\"y\",\"domain\":[0.0,1.0],\"title\":{\"text\":\"tempo (in BPM)\"}},\"yaxis\":{\"anchor\":\"x\",\"domain\":[0.0,1.0],\"title\":{\"text\":\"count\"}},\"legend\":{\"tracegroupgap\":0},\"title\":{\"text\":\"Tempo distribution across top hits from 2000-2019\"},\"barmode\":\"relative\",\"shapes\":[{\"line\":{\"color\":\"firebrick\",\"dash\":\"dash\",\"width\":2},\"type\":\"line\",\"x0\":120.08006690500511,\"x1\":120.08006690500511,\"xref\":\"x\",\"y0\":0,\"y1\":1,\"yref\":\"y domain\"}],\"margin\":{\"autoexpand\":true},\"annotations\":[{\"font\":{\"color\":\"firebrick\",\"size\":12},\"showarrow\":false,\"text\":\"<b>120.08 bpm average</b>\",\"textangle\":0,\"x\":0.4,\"xref\":\"paper\",\"y\":1.07,\"yref\":\"paper\"}]},                        {\"responsive\": true}                    ).then(function(){\n",
       "                            \n",
       "var gd = document.getElementById('f7bba23e-a451-4afc-b78d-00614c1680fc');\n",
       "var x = new MutationObserver(function (mutations, observer) {{\n",
       "        var display = window.getComputedStyle(gd).display;\n",
       "        if (!display || display === 'none') {{\n",
       "            console.log([gd, 'removed!']);\n",
       "            Plotly.purge(gd);\n",
       "            observer.disconnect();\n",
       "        }}\n",
       "}});\n",
       "\n",
       "// Listen for the removal of the full notebook cells\n",
       "var notebookContainer = gd.closest('#notebook-container');\n",
       "if (notebookContainer) {{\n",
       "    x.observe(notebookContainer, {childList: true});\n",
       "}}\n",
       "\n",
       "// Listen for the clearing of the current output cell\n",
       "var outputEl = gd.closest('.output');\n",
       "if (outputEl) {{\n",
       "    x.observe(outputEl, {childList: true});\n",
       "}}\n",
       "\n",
       "                        })                };                });            </script>        </div>"
      ]
     },
     "metadata": {},
     "output_type": "display_data"
    }
   ],
   "source": [
    "fig = px.histogram(df,x = 'tempo',\n",
    "                   title = 'Tempo distribution across top hits from 2000-2019',\n",
    "                  labels = {'tempo' : 'tempo (in BPM)'})\n",
    "fig.add_vline(x=np.mean(df.tempo),line_width = 2, line_dash = 'dash', \n",
    "              line_color = 'firebrick')\n",
    "fig.update_layout(margin_autoexpand=True)\n",
    "fig.add_annotation(dict(font=dict(color=\"firebrick\",size=12),\n",
    "                            x=0.40,\n",
    "                            y=1.07,\n",
    "                            showarrow=False,\n",
    "                            text='<b>120.08 bpm average</b>',\n",
    "                            textangle=0,\n",
    "                            xref= 'paper',\n",
    "                            yref=\"paper\"\n",
    "                           ))\n",
    "fig.show()"
   ]
  },
  {
   "cell_type": "markdown",
   "id": "27749f2b",
   "metadata": {
    "_cell_guid": "a2257a6e-ca91-4c4f-b3a6-eafb07fe2080",
    "_uuid": "1a21cc10-b371-4384-874b-25f08499c25a",
    "papermill": {
     "duration": 0.028937,
     "end_time": "2022-06-10T19:28:25.678391",
     "exception": false,
     "start_time": "2022-06-10T19:28:25.649454",
     "status": "completed"
    },
    "tags": []
   },
   "source": [
    "### Loudness distribution"
   ]
  },
  {
   "cell_type": "code",
   "execution_count": 29,
   "id": "a4ad313e",
   "metadata": {
    "_cell_guid": "7924ccea-4f25-4162-9347-0d798967bf42",
    "_uuid": "fd7c3321-e32a-4204-b40d-d78c59988621",
    "collapsed": false,
    "execution": {
     "iopub.execute_input": "2022-06-10T19:28:25.736729Z",
     "iopub.status.busy": "2022-06-10T19:28:25.735405Z",
     "iopub.status.idle": "2022-06-10T19:28:25.809987Z",
     "shell.execute_reply": "2022-06-10T19:28:25.809089Z"
    },
    "jupyter": {
     "outputs_hidden": false
    },
    "papermill": {
     "duration": 0.1059,
     "end_time": "2022-06-10T19:28:25.812022",
     "exception": false,
     "start_time": "2022-06-10T19:28:25.706122",
     "status": "completed"
    },
    "tags": []
   },
   "outputs": [
    {
     "data": {
      "text/html": [
       "<div>                            <div id=\"c43a188b-51a6-482c-8519-40b7a3e1dbee\" class=\"plotly-graph-div\" style=\"height:525px; width:100%;\"></div>            <script type=\"text/javascript\">                require([\"plotly\"], function(Plotly) {                    window.PLOTLYENV=window.PLOTLYENV || {};                                    if (document.getElementById(\"c43a188b-51a6-482c-8519-40b7a3e1dbee\")) {                    Plotly.newPlot(                        \"c43a188b-51a6-482c-8519-40b7a3e1dbee\",                        [{\"alignmentgroup\":\"True\",\"bingroup\":\"x\",\"hovertemplate\":\"loudness=%{x}<br>count=%{y}<extra></extra>\",\"legendgroup\":\"\",\"marker\":{\"color\":\"#636efa\",\"pattern\":{\"shape\":\"\"}},\"name\":\"\",\"offsetgroup\":\"\",\"orientation\":\"v\",\"showlegend\":false,\"x\":[-5.444,-4.063,-4.806,-4.244,-4.264,-5.627,-7.932,-5.798,-5.642,-6.149,-5.87,-7.278,-5.425,-5.607,-7.984,-8.951,-10.644,-9.635,-7.981,-8.527,-5.669,-7.645,-7.124,-5.564,-1.916,-5.153,-8.75,-4.715,-2.773,-8.693,-3.081,-4.012,-3.972,-5.125,-4.505,-6.341,-5.631,-3.196,-6.046,-5.599,-6.981,-7.48,-8.529,-7.499,-8.196,-6.729,-5.802,-8.923,-5.708,-4.929,-5.658,-3.894,-5.975,-9.197,-3.782,-4.666,-8.964,-6.814,-9.487,-4.353,-7.754,-5.959,-5.707,-6.822,-4.596,-2.027,-4.325,-7.516,-3.769,-5.085,-4.862,-5.428,-5.862,-6.03,-4.983,-3.579,-6.342,-8.419,-3.75,-10.587,-3.358,-6.644,-8.403,-5.4,-4.541,-2.734,-2.771,-3.132,-4.243,-4.525,-5.176,-5.042,-8.618,-5.946,-5.459,-4.125,-6.516,-7.533,-4.229,-9.369,-5.02,-3.036,-10.029,-8.627,-6.665,-4.905,-6.818,-5.115,-5.373,-6.417,-6.255,-7.853,-8.399,-4.261,-9.053,-5.941,-3.944,-7.338,-4.487,-6.867,-6.239,-8.56,-6.133,-6.981,-6.26,-5.079,-3.07,-5.431,-5.734,-13.744,-7.77,-6.261,-4.386,-5.081,-4.209,-5.218,-5.044,-6.854,-3.011,-4.653,-4.086,-3.782,-5.424,-7.93,-9.919,-11.072,-8.106,-4.171,-4.719,-9.487,-6.49,-5.961,-5.047,-4.051,-6.567,-6.886,-4.507,-4.054,-7.08,-4.578,-8.564,-4.903,-8.074,-2.827,-5.898,-3.862,-5.113,-5.328,-4.822,-6.591,-4.315,-3.237,-7.392,-3.399,-5.166,-4.382,-7.486,-5.87,-6.777,-5.209,-4.944,-3.802,-7.779,-2.942,-4.54,-1.73,-6.277,-7.503,-5.803,-4.823,-4.039,-4.699,-5.103,-6.642,-3.523,-5.692,-4.234,-8.786,-7.645,-4.753,-6.061,-3.073,-4.955,-3.451,-8.274,-5.074,-6.554,-3.954,-3.9,-3.442,-6.057,-5.529,-4.062,-7.442,-6.066,-6.118,-8.049,-5.758,-8.718,-3.557,-5.757,-5.285,-4.927,-6.997,-5.122,-4.753,-6.553,-6.813,-3.267,-8.323,-5.076,-7.215,-5.603,-6.136,-3.538,-6.035,-6.104,-5.763,-4.417,-5.601,-6.857,-5.586,-4.938,-5.972,-4.127,-5.191,-12.185,-5.428,-4.958,-6.094,-5.178,-5.433,-8.73,-5.153,-5.529,-9.101,-7.608,-5.305,-4.537,-5.455,-6.176,-4.754,-2.752,-4.143,-4.616,-6.596,-4.315,-3.18,-5.448,-3.966,-3.626,-4.315,-4.951,-3.935,-5.148,-3.024,-6.93,-3.554,-3.09,-3.188,-4.629,-7.51,-5.157,-8.019,-6.02,-3.041,-9.867,-6.635,-6.814,-6.682,-6.055,-7.627,-5.799,-9.17,-7.872,-4.481,-5.659,-6.228,-3.103,-5.819,-5.123,-6.197,-5.861,-4.749,-4.92,-6.488,-6.66,-4.904,-3.552,-5.913,-3.977,-4.164,-8.831,-6.491,-3.846,-9.74,-5.264,-6.031,-10.284,-1.357,-7.577,-4.936,-12.932,-5.873,-4.722,-3.587,-4.855,-3.914,-5.611,-3.657,-6.582,-5.08,-5.074,-6.849,-5.531,-7.215,-4.984,-5.603,-3.006,-2.623,-5.477,-5.038,-8.804,-5.265,-6.863,-6.823,-2.281,-5.909,-6.569,-6.359,-6.653,-5.263,-4.932,-7.886,-4.577,-7.608,-3.685,-5.656,-5.11,-7.462,-8.674,-4.699,-4.612,-3.914,-2.261,-4.649,-3.567,-6.499,-2.208,-3.947,-3.344,-2.557,-5.576,-4.481,-3.925,-8.65,-4.153,-4.289,-4.475,-3.383,-4.971,-5.0,-5.958,-6.518,-6.306,-3.347,-5.76,-6.476,-6.825,-4.423,-6.313,-3.041,-3.716,-7.147,-4.419,-3.66,-5.409,-6.345,-6.022,-5.096,-6.068,-5.218,-8.691,-4.207,-6.696,-3.56,-4.904,-3.832,-5.384,-4.612,-2.221,-3.092,-6.879,-5.926,-2.983,-6.722,-5.087,-5.435,-4.831,-12.852,-3.974,-8.821,-5.827,-3.651,-9.867,-4.686,-9.206,-4.237,-5.348,-5.074,-2.92,-5.659,-2.042,-6.636,-6.466,-9.711,-6.11,-5.077,-6.102,-2.407,-6.823,-6.245,-9.092,-6.817,-4.832,-5.337,-13.2,-8.238,-9.481,-5.395,-1.729,-4.894,-4.932,-4.21,-4.583,-3.489,-17.217,-4.286,-8.674,-8.264,-7.918,-8.97,-5.572,-8.415,-7.961,-9.87,-3.68,-3.475,-4.013,-5.897,-7.695,-6.672,-3.321,-6.152,-4.195,-2.728,-3.681,-4.162,-4.763,-7.401,-6.721,-4.875,-5.924,-7.135,-5.996,-5.461,-5.096,-4.254,-4.781,-6.679,-2.76,-7.88,-3.638,-5.096,-7.728,-3.798,-5.367,-5.852,-5.308,-4.458,-8.013,-6.626,-7.994,-7.105,-3.152,-7.324,-4.896,-4.834,-5.952,-3.768,-3.832,-7.558,-6.799,-10.94,-4.683,-5.16,-2.896,-4.49,-2.221,-5.695,-3.881,-6.203,-5.352,-7.076,-15.636,-6.183,-6.816,-13.203,-8.365,-4.556,-4.682,-5.299,-6.596,-7.042,-3.295,-4.19,-5.966,-8.244,-3.241,-4.606,-5.284,-4.914,-3.756,-11.617,-7.043,-6.408,-10.054,-3.499,-3.489,-10.02,-6.765,-5.713,-6.019,-5.354,-5.652,-4.253,-4.461,-3.52,-5.119,-5.892,-4.675,-5.562,-4.637,-13.609,-4.905,-4.589,-6.62,-4.81,-3.708,-6.45,-6.229,-4.68,-3.15,-6.098,-4.525,-3.04,-4.338,-6.887,-5.785,-5.559,-3.727,-7.033,-6.534,-4.802,-7.448,-6.382,-5.029,-8.502,-7.041,-7.702,-6.087,-5.881,-4.088,-7.737,-4.154,-5.894,-5.369,-7.994,-6.556,-4.941,-5.045,-5.476,-5.316,-5.758,-4.67,-5.881,-3.918,-8.607,-4.912,-5.854,-4.094,-6.66,-5.153,-3.198,-3.667,-4.365,-6.79,-5.665,-6.869,-4.758,-5.409,-3.887,-4.285,-5.938,-6.446,-5.338,-3.161,-5.931,-3.607,-5.134,-2.36,-3.409,-8.336,-5.386,-4.563,-3.14,-3.309,-6.408,-4.481,-12.591,-4.722,-9.706,-2.771,-4.623,-10.38,-7.788,-6.333,-4.975,-6.496,-4.554,-4.08,-6.815,-4.103,-3.495,-4.253,-4.606,-5.847,-4.569,-6.209,-5.886,-4.603,-3.131,-4.296,-4.789,-10.572,-4.751,-3.502,-6.492,-6.328,-3.425,-4.804,-3.988,-5.166,-3.904,-5.44,-4.543,-4.474,-5.751,-7.858,-3.74,-5.084,-9.387,-2.18,-5.063,-3.688,-4.902,-4.032,-6.133,-6.632,-5.285,-5.032,-3.386,-4.633,-3.486,-7.228,-6.349,-6.886,-3.509,-4.154,-4.706,-5.881,-6.447,-3.647,-3.063,-5.454,-6.065,-2.433,-5.784,-3.476,-3.696,-6.008,-2.776,-8.539,-7.562,-7.72,-5.446,-5.477,-3.004,-5.057,-6.247,-3.126,-13.964,-5.165,-5.757,-4.829,-5.438,-4.462,-2.429,-4.07,-3.677,-5.295,-6.863,-4.04,-5.926,-2.82,-4.334,-6.957,-6.564,-2.189,-5.799,-4.713,-6.075,-6.035,-7.928,-3.318,-6.731,-8.137,-6.142,-3.921,-5.181,-4.981,-3.049,-6.734,-3.51,-4.012,-4.226,-7.268,-3.674,-6.97,-5.64,-3.173,-7.536,-5.415,-6.017,-5.714,-4.298,-6.126,-5.957,-5.144,-3.988,-4.515,-6.139,-3.866,-9.469,-5.503,-7.578,-4.922,-3.956,-5.582,-3.973,-4.194,-5.226,-4.949,-6.351,-6.091,-3.512,-5.762,-8.793,-2.18,-5.054,-3.363,-6.437,-8.636,-6.718,-5.098,-7.051,-3.386,-3.486,-2.423,-4.281,-5.035,-4.23,-7.421,-4.371,-4.321,-3.892,-3.159,-7.059,-2.99,-4.146,-4.13,-5.018,-5.158,-3.078,-7.67,-4.061,-6.175,-4.808,-5.466,-7.736,-3.871,-4.497,-4.847,-4.678,-9.702,-6.884,-5.976,-5.65,-4.758,-3.152,-7.24,-4.914,-6.166,-3.836,-6.162,-5.564,-4.274,-6.211,-3.61,-4.672,-7.115,-5.653,-6.881,-3.774,-4.718,-8.391,-4.8,-5.036,-7.875,-6.007,-3.887,-5.59,-3.462,-6.015,-4.456,-6.09,-4.251,-4.046,-8.869,-6.375,-4.62,-5.908,-5.018,-6.852,-3.97,-8.164,-5.215,-5.611,-2.336,-5.172,-6.857,-5.983,-6.359,-4.541,-7.296,-5.995,-5.557,-5.986,-3.124,-5.892,-7.448,-3.973,-1.538,-3.527,-5.603,-5.87,-3.365,-4.41,-1.802,-3.755,-3.363,-1.203,-3.34,-5.089,-5.754,-3.104,-8.871,-4.493,-5.09,-4.614,-5.873,-3.781,-2.571,-4.907,-3.912,-4.711,-4.577,-3.742,-3.919,-4.371,-4.442,-3.684,-7.355,-2.278,-5.406,-7.67,-4.893,-7.423,-5.507,-6.982,-4.99,-2.513,-5.594,-3.716,-5.749,-2.771,-5.643,-6.614,-2.528,-5.426,-0.276,-4.046,-5.222,-4.914,-6.162,-1.925,-5.293,-3.17,-4.865,-6.223,-5.971,-5.035,-5.767,-6.948,-5.653,-2.673,-2.996,-4.667,-3.472,-5.348,-4.939,-4.78,-4.424,-4.501,-4.075,-3.108,-4.006,-8.05,-5.412,-5.379,-5.034,-3.755,-9.206,-2.718,-3.932,-3.724,-4.241,-3.729,-5.292,-6.079,-8.126,-5.077,-1.966,-6.365,-5.455,-6.693,-0.74,-3.896,-4.217,-6.963,-2.458,-1.19,-6.63,-4.496,-6.99,-6.086,-7.798,-3.859,-6.572,-5.109,-3.398,-6.323,-3.911,-4.168,-6.366,-4.188,-4.721,-2.919,-4.63,-5.903,-5.005,-3.599,-3.261,-4.706,-5.283,-7.371,-2.881,-2.552,-5.81,-4.874,-4.493,-4.024,-4.166,-5.237,-4.981,-5.89,-6.416,-6.977,-3.173,-3.616,-4.15,-7.116,-4.285,-6.782,-6.161,-2.959,-3.631,-6.077,-3.614,-5.507,-5.611,-4.455,-5.85,-3.292,-4.892,-4.262,-4.348,-5.022,-3.891,-5.346,-6.005,-4.02,-4.003,-3.214,-6.163,-5.814,-4.582,-4.157,-6.403,-6.797,-7.784,-4.433,-4.663,-5.576,-2.948,-5.521,-4.663,-6.611,-4.11,-5.114,-4.459,-4.168,-5.039,-7.273,-3.428,-4.152,-4.733,-5.194,-5.02,-3.862,-5.636,-5.069,-2.628,-3.78,-8.685,-3.078,-5.737,-3.206,-3.87,-4.524,-5.252,-6.55,-3.293,-3.896,-3.982,-7.783,-3.148,-3.951,-4.225,-2.944,-3.672,-1.131,-6.366,-3.541,-5.399,-5.747,-3.966,-4.861,-6.761,-3.796,-3.882,-4.521,-5.429,-3.499,-6.128,-6.115,-3.873,-4.9,-5.589,-4.485,-6.096,-4.372,-3.201,-7.598,-3.284,-8.127,-1.921,-2.959,-6.366,-3.689,-5.522,-4.712,-2.914,-2.915,-4.689,-5.108,-4.339,-7.094,-2.125,-3.727,-5.849,-7.16,-3.945,-5.068,-5.473,-7.804,-8.327,-5.124,-3.839,-6.427,-4.736,-8.251,-4.523,-5.004,-4.788,-5.131,-6.477,-5.826,-4.977,-5.835,-6.883,-4.062,-5.006,-6.142,-4.865,-6.611,-6.093,-9.217,-7.445,-4.485,-6.548,-5.576,-5.208,-3.035,-4.231,-6.864,-2.266,-6.34,-5.542,-3.435,-2.302,-6.209,-5.746,-3.446,-2.634,-3.686,-7.745,-2.671,-9.381,-1.569,-4.225,-2.871,-4.805,-5.18,-3.689,-4.45,-4.165,-5.941,-4.444,-4.92,-4.475,-4.63,-2.457,-6.815,-6.366,-3.85,-5.761,-4.813,-4.782,-4.55,-6.298,-2.686,-10.881,-2.842,-5.242,-8.838,-5.014,-6.761,-5.792,-4.892,-2.932,-4.343,-3.145,-4.696,-6.019,-3.674,-4.568,-6.798,-7.471,-7.079,-6.63,-6.425,-3.382,-3.443,-4.278,-8.438,-6.245,-2.632,-4.023,-6.235,-6.896,-5.324,-2.494,-6.591,-5.448,-4.269,-4.364,-7.186,-6.17,-3.113,-5.456,-6.221,-2.063,-4.289,-2.569,-7.298,-5.197,-4.282,-8.558,-5.099,-3.94,-6.849,-5.52,-6.628,-3.218,-10.358,-3.141,-6.826,-2.963,-9.504,-7.707,-3.686,-5.697,-4.165,-6.985,-8.966,-6.849,-7.222,-2.69,-4.399,-8.532,-4.586,-1.702,-3.632,-6.096,-6.476,-4.457,-5.351,-7.321,-4.814,-6.535,-2.81,-4.633,-4.829,-4.802,-6.478,-4.831,-3.68,-3.617,-4.1,-4.76,-6.164,-5.441,-6.107,-5.791,-4.059,-2.671,-4.341,-7.444,-3.782,-3.015,-3.121,-6.798,-7.596,-5.358,-8.262,-4.175,-6.87,-7.079,-4.292,-5.031,-5.151,-5.066,-6.028,-9.582,-5.705,-3.939,-8.035,-3.942,-4.813,-6.594,-6.299,-7.829,-4.534,-7.2,-4.672,-4.821,-4.625,-3.715,-6.901,-3.835,-4.751,-6.383,-2.986,-4.653,-3.464,-6.262,-4.758,-7.828,-5.217,-6.664,-5.28,-5.177,-5.794,-7.054,-3.763,-6.286,-7.436,-5.7,-5.473,-6.542,-3.084,-6.561,-7.335,-3.208,-10.164,-3.799,-8.648,-3.364,-4.662,-6.123,-4.871,-4.141,-6.46,-6.444,-4.993,-2.88,-7.064,-7.195,-3.726,-2.505,-3.753,-3.539,-5.469,-5.346,-7.321,-5.51,-3.927,-7.51,-7.573,-6.104,-6.253,-3.405,-5.949,-6.886,-5.356,-5.225,-6.223,-4.078,-4.1,-4.087,-4.972,-7.314,-3.565,-5.234,-6.003,-7.548,-3.32,-3.263,-7.436,-4.261,-7.251,-9.334,-4.528,-4.135,-5.031,-5.324,-7.299,-5.449,-5.963,-3.752,-4.676,-4.052,-8.813,-7.008,-4.389,-3.519,-4.867,-3.417,-7.752,-7.038,-5.595,-4.689,-5.456,-5.352,-2.28,-5.948,-4.783,-4.874,-3.215,-4.237,-4.121,-5.384,-7.747,-4.451,-4.144,-5.595,-5.488,-6.474,-6.735,-3.109,-4.998,-5.802,-8.554,-5.655,-6.279,-8.714,-6.694,-6.902,-7.077,-3.823,-20.514,-4.292,-6.275,-4.696,-5.217,-4.884,-5.779,-3.578,-7.223,-6.061,-7.503,-8.118,-3.081,-5.922,-6.646,-4.123,-4.091,-5.593,-5.412,-7.063,-9.461,-3.226,-5.298,-5.346,-5.709,-7.803,-7.388,-4.036,-5.098,-4.373,-4.164,-6.253,-2.868,-10.028,-9.882,-5.677,-3.865,-5.798,-6.627,-3.782,-4.023,-3.863,-6.959,-7.417,-4.94,-5.797,-4.119,-4.981,-2.86,-5.672,-5.046,-4.125,-6.251,-3.991,-4.01,-6.527,-4.792,-8.522,-5.095,-6.075,-3.803,-5.449,-5.137,-11.067,-5.728,-3.724,-7.863,-5.488,-8.644,-5.738,-4.389,-5.526,-5.68,-6.003,-5.709,-7.565,-4.083,-6.447,-3.103,-5.303,-5.595,-4.031,-8.19,-3.697,-5.288,-5.474,-7.374,-7.448,-9.474,-6.684,-4.697,-4.874,-4.038,-6.607,-5.556,-7.534,-4.868,-2.215,-6.994,-6.536,-4.208,-3.669,-5.036,-4.467,-5.231,-5.21,-5.402,-3.839,-7.028,-5.609,-9.828,-5.599,-6.129,-4.943,-6.052,-4.931,-6.444,-6.238,-6.487,-3.669,-5.715,-5.279,-3.054,-6.518,-3.456,-5.008,-4.378,-9.348,-7.789,-4.014,-5.094,-3.406,-7.757,-4.188,-5.825,-3.599,-4.23,-5.88,-5.085,-7.042,-5.371,-2.787,-6.645,-5.267,-8.091,-5.883,-3.739,-4.582,-4.01,-3.06,-3.004,-5.355,-4.792,-5.32,-5.093,-8.053,-3.713,-3.254,-5.728,-6.478,-8.094,-5.948,-4.078,-10.511,-3.887,-4.684,-5.653,-6.003,-5.446,-3.6,-6.304,-9.343,-6.443,-5.861,-10.027,-4.271,-3.974,-5.331,-1.231,-7.286,-8.379,-5.273,-5.307,-5.092,-7.055,-8.128,-5.92,-5.556,-3.515,-3.645,-6.983,-5.436,-4.888,-6.127,-9.309,-13.4,-7.558,-5.194,-4.081,-4.503,-6.829,-10.598,-6.109,-7.274,-4.061,-6.429,-7.45,-7.839,-3.183,-2.862,-4.757,-8.237,-4.068,-4.323,-4.749,-6.124,-6.769,-6.312,-6.156,-3.37,-12.695,-8.795,-6.343,-6.288,-9.319,-8.672,-5.482,-5.043,-8.227,-4.989,-6.589,-4.862,-6.054,-6.163,-4.825,-6.865,-2.512,-6.366,-5.021,-10.028,-3.862,-3.791,-7.323,-9.681,-5.52,-4.305,-3.023,-6.779,-4.424,-4.432,-4.076,-3.078,-4.097,-6.35,-6.71,-6.471,-3.304,-7.724,-6.759,-5.274,-9.144,-5.314,-8.126,-7.786,-4.256,-2.396,-6.509,-5.827,-5.661,-4.035,-5.208,-5.194,-5.181,-5.792,-7.733,-3.949,-3.094,-4.183,-4.844,-4.699,-5.404,-3.892,-3.105,-3.744,-3.641,-4.661,-5.126,-7.046,-5.595,-11.377,-5.35,-8.374,-5.74,-7.38,-4.031,-4.518,-8.618,-3.079,-4.323,-5.946,-6.428,-5.628,-4.882,-5.309,-5.445,-4.282,-4.997,-6.596,-9.211,-6.136,-8.28,-6.343,-5.335,-7.23,-3.061,-2.384,-3.998,-5.723,-5.507,-5.266,-3.24,-7.442,-3.714,-6.112,-4.167,-4.483,-4.979,-10.109,-5.145,-4.546,-8.074,-9.127,-4.954,-3.445,-5.32,-5.298,-4.88,-3.695,-5.232,-4.926,-5.52,-7.518,-5.008,-6.531,-4.946,-4.099,-4.547,-5.934,-4.75,-6.26,-8.339,-12.808,-4.614,-2.867,-5.946,-3.112,-3.093,-5.114,-4.399,-4.618,-5.68,-10.068,-6.073,-6.337,-9.309,-4.65,-5.892,-4.249,-5.253,-5.804,-7.495,-5.916,-2.749,-6.319,-3.692,-5.402,-7.709,-5.833,-9.86,-5.658,-4.449,-7.648,-3.641,-7.202,-3.953,-3.928,-5.628,-3.416,-4.706,-2.881,-4.877,-7.941,-7.36,-3.539,-7.866,-4.333,-4.428,-5.975,-4.502,-3.874,-5.042,-7.621,-7.906,-6.825,-5.626,-6.474,-7.343,-8.094,-5.56,-10.965,-6.049,-10.732,-4.368,-12.21,-7.05,-4.258,-6.362,-5.844,-5.679,-4.101,-5.545,-4.768,-5.788,-2.652,-5.714,-4.141,-7.384,-6.806,-5.313,-3.714,-2.974,-11.132,-4.167,-5.075,-6.294,-6.257,-9.545,-10.109,-2.853,-6.112,-6.365,-7.359,-2.61,-5.239,-6.211,-4.47,-4.045,-6.146,-6.349,-7.119,-5.122,-7.643,-6.946,-3.702,-6.684,-2.806,-6.508,-5.29,-5.969,-4.724,-4.521,-5.801,-4.311,-5.513,-6.711,-6.062,-6.4,-3.731,-4.773,-4.67,-4.218,-11.713,-4.271,-10.332,-12.89,-6.482,-9.447,-14.505,-4.757,-5.207,-5.883,-5.604,-6.181,-8.866,-6.354,-6.594,-3.787,-4.568,-4.156,-3.87,-5.131,-4.669,-5.804,-6.373,-7.058,-5.637,-2.729,-2.253,-4.931,-3.967,-4.617,-3.818,-5.065,-5.707,-8.635,-7.513,-3.497],\"xaxis\":\"x\",\"yaxis\":\"y\",\"type\":\"histogram\"}],                        {\"template\":{\"data\":{\"histogram2dcontour\":[{\"type\":\"histogram2dcontour\",\"colorbar\":{\"outlinewidth\":0,\"ticks\":\"\"},\"colorscale\":[[0.0,\"#0d0887\"],[0.1111111111111111,\"#46039f\"],[0.2222222222222222,\"#7201a8\"],[0.3333333333333333,\"#9c179e\"],[0.4444444444444444,\"#bd3786\"],[0.5555555555555556,\"#d8576b\"],[0.6666666666666666,\"#ed7953\"],[0.7777777777777778,\"#fb9f3a\"],[0.8888888888888888,\"#fdca26\"],[1.0,\"#f0f921\"]]}],\"choropleth\":[{\"type\":\"choropleth\",\"colorbar\":{\"outlinewidth\":0,\"ticks\":\"\"}}],\"histogram2d\":[{\"type\":\"histogram2d\",\"colorbar\":{\"outlinewidth\":0,\"ticks\":\"\"},\"colorscale\":[[0.0,\"#0d0887\"],[0.1111111111111111,\"#46039f\"],[0.2222222222222222,\"#7201a8\"],[0.3333333333333333,\"#9c179e\"],[0.4444444444444444,\"#bd3786\"],[0.5555555555555556,\"#d8576b\"],[0.6666666666666666,\"#ed7953\"],[0.7777777777777778,\"#fb9f3a\"],[0.8888888888888888,\"#fdca26\"],[1.0,\"#f0f921\"]]}],\"heatmap\":[{\"type\":\"heatmap\",\"colorbar\":{\"outlinewidth\":0,\"ticks\":\"\"},\"colorscale\":[[0.0,\"#0d0887\"],[0.1111111111111111,\"#46039f\"],[0.2222222222222222,\"#7201a8\"],[0.3333333333333333,\"#9c179e\"],[0.4444444444444444,\"#bd3786\"],[0.5555555555555556,\"#d8576b\"],[0.6666666666666666,\"#ed7953\"],[0.7777777777777778,\"#fb9f3a\"],[0.8888888888888888,\"#fdca26\"],[1.0,\"#f0f921\"]]}],\"heatmapgl\":[{\"type\":\"heatmapgl\",\"colorbar\":{\"outlinewidth\":0,\"ticks\":\"\"},\"colorscale\":[[0.0,\"#0d0887\"],[0.1111111111111111,\"#46039f\"],[0.2222222222222222,\"#7201a8\"],[0.3333333333333333,\"#9c179e\"],[0.4444444444444444,\"#bd3786\"],[0.5555555555555556,\"#d8576b\"],[0.6666666666666666,\"#ed7953\"],[0.7777777777777778,\"#fb9f3a\"],[0.8888888888888888,\"#fdca26\"],[1.0,\"#f0f921\"]]}],\"contourcarpet\":[{\"type\":\"contourcarpet\",\"colorbar\":{\"outlinewidth\":0,\"ticks\":\"\"}}],\"contour\":[{\"type\":\"contour\",\"colorbar\":{\"outlinewidth\":0,\"ticks\":\"\"},\"colorscale\":[[0.0,\"#0d0887\"],[0.1111111111111111,\"#46039f\"],[0.2222222222222222,\"#7201a8\"],[0.3333333333333333,\"#9c179e\"],[0.4444444444444444,\"#bd3786\"],[0.5555555555555556,\"#d8576b\"],[0.6666666666666666,\"#ed7953\"],[0.7777777777777778,\"#fb9f3a\"],[0.8888888888888888,\"#fdca26\"],[1.0,\"#f0f921\"]]}],\"surface\":[{\"type\":\"surface\",\"colorbar\":{\"outlinewidth\":0,\"ticks\":\"\"},\"colorscale\":[[0.0,\"#0d0887\"],[0.1111111111111111,\"#46039f\"],[0.2222222222222222,\"#7201a8\"],[0.3333333333333333,\"#9c179e\"],[0.4444444444444444,\"#bd3786\"],[0.5555555555555556,\"#d8576b\"],[0.6666666666666666,\"#ed7953\"],[0.7777777777777778,\"#fb9f3a\"],[0.8888888888888888,\"#fdca26\"],[1.0,\"#f0f921\"]]}],\"mesh3d\":[{\"type\":\"mesh3d\",\"colorbar\":{\"outlinewidth\":0,\"ticks\":\"\"}}],\"scatter\":[{\"fillpattern\":{\"fillmode\":\"overlay\",\"size\":10,\"solidity\":0.2},\"type\":\"scatter\"}],\"parcoords\":[{\"type\":\"parcoords\",\"line\":{\"colorbar\":{\"outlinewidth\":0,\"ticks\":\"\"}}}],\"scatterpolargl\":[{\"type\":\"scatterpolargl\",\"marker\":{\"colorbar\":{\"outlinewidth\":0,\"ticks\":\"\"}}}],\"bar\":[{\"error_x\":{\"color\":\"#2a3f5f\"},\"error_y\":{\"color\":\"#2a3f5f\"},\"marker\":{\"line\":{\"color\":\"#E5ECF6\",\"width\":0.5},\"pattern\":{\"fillmode\":\"overlay\",\"size\":10,\"solidity\":0.2}},\"type\":\"bar\"}],\"scattergeo\":[{\"type\":\"scattergeo\",\"marker\":{\"colorbar\":{\"outlinewidth\":0,\"ticks\":\"\"}}}],\"scatterpolar\":[{\"type\":\"scatterpolar\",\"marker\":{\"colorbar\":{\"outlinewidth\":0,\"ticks\":\"\"}}}],\"histogram\":[{\"marker\":{\"pattern\":{\"fillmode\":\"overlay\",\"size\":10,\"solidity\":0.2}},\"type\":\"histogram\"}],\"scattergl\":[{\"type\":\"scattergl\",\"marker\":{\"colorbar\":{\"outlinewidth\":0,\"ticks\":\"\"}}}],\"scatter3d\":[{\"type\":\"scatter3d\",\"line\":{\"colorbar\":{\"outlinewidth\":0,\"ticks\":\"\"}},\"marker\":{\"colorbar\":{\"outlinewidth\":0,\"ticks\":\"\"}}}],\"scattermapbox\":[{\"type\":\"scattermapbox\",\"marker\":{\"colorbar\":{\"outlinewidth\":0,\"ticks\":\"\"}}}],\"scatterternary\":[{\"type\":\"scatterternary\",\"marker\":{\"colorbar\":{\"outlinewidth\":0,\"ticks\":\"\"}}}],\"scattercarpet\":[{\"type\":\"scattercarpet\",\"marker\":{\"colorbar\":{\"outlinewidth\":0,\"ticks\":\"\"}}}],\"carpet\":[{\"aaxis\":{\"endlinecolor\":\"#2a3f5f\",\"gridcolor\":\"white\",\"linecolor\":\"white\",\"minorgridcolor\":\"white\",\"startlinecolor\":\"#2a3f5f\"},\"baxis\":{\"endlinecolor\":\"#2a3f5f\",\"gridcolor\":\"white\",\"linecolor\":\"white\",\"minorgridcolor\":\"white\",\"startlinecolor\":\"#2a3f5f\"},\"type\":\"carpet\"}],\"table\":[{\"cells\":{\"fill\":{\"color\":\"#EBF0F8\"},\"line\":{\"color\":\"white\"}},\"header\":{\"fill\":{\"color\":\"#C8D4E3\"},\"line\":{\"color\":\"white\"}},\"type\":\"table\"}],\"barpolar\":[{\"marker\":{\"line\":{\"color\":\"#E5ECF6\",\"width\":0.5},\"pattern\":{\"fillmode\":\"overlay\",\"size\":10,\"solidity\":0.2}},\"type\":\"barpolar\"}],\"pie\":[{\"automargin\":true,\"type\":\"pie\"}]},\"layout\":{\"autotypenumbers\":\"strict\",\"colorway\":[\"#636efa\",\"#EF553B\",\"#00cc96\",\"#ab63fa\",\"#FFA15A\",\"#19d3f3\",\"#FF6692\",\"#B6E880\",\"#FF97FF\",\"#FECB52\"],\"font\":{\"color\":\"#2a3f5f\"},\"hovermode\":\"closest\",\"hoverlabel\":{\"align\":\"left\"},\"paper_bgcolor\":\"white\",\"plot_bgcolor\":\"#E5ECF6\",\"polar\":{\"bgcolor\":\"#E5ECF6\",\"angularaxis\":{\"gridcolor\":\"white\",\"linecolor\":\"white\",\"ticks\":\"\"},\"radialaxis\":{\"gridcolor\":\"white\",\"linecolor\":\"white\",\"ticks\":\"\"}},\"ternary\":{\"bgcolor\":\"#E5ECF6\",\"aaxis\":{\"gridcolor\":\"white\",\"linecolor\":\"white\",\"ticks\":\"\"},\"baxis\":{\"gridcolor\":\"white\",\"linecolor\":\"white\",\"ticks\":\"\"},\"caxis\":{\"gridcolor\":\"white\",\"linecolor\":\"white\",\"ticks\":\"\"}},\"coloraxis\":{\"colorbar\":{\"outlinewidth\":0,\"ticks\":\"\"}},\"colorscale\":{\"sequential\":[[0.0,\"#0d0887\"],[0.1111111111111111,\"#46039f\"],[0.2222222222222222,\"#7201a8\"],[0.3333333333333333,\"#9c179e\"],[0.4444444444444444,\"#bd3786\"],[0.5555555555555556,\"#d8576b\"],[0.6666666666666666,\"#ed7953\"],[0.7777777777777778,\"#fb9f3a\"],[0.8888888888888888,\"#fdca26\"],[1.0,\"#f0f921\"]],\"sequentialminus\":[[0.0,\"#0d0887\"],[0.1111111111111111,\"#46039f\"],[0.2222222222222222,\"#7201a8\"],[0.3333333333333333,\"#9c179e\"],[0.4444444444444444,\"#bd3786\"],[0.5555555555555556,\"#d8576b\"],[0.6666666666666666,\"#ed7953\"],[0.7777777777777778,\"#fb9f3a\"],[0.8888888888888888,\"#fdca26\"],[1.0,\"#f0f921\"]],\"diverging\":[[0,\"#8e0152\"],[0.1,\"#c51b7d\"],[0.2,\"#de77ae\"],[0.3,\"#f1b6da\"],[0.4,\"#fde0ef\"],[0.5,\"#f7f7f7\"],[0.6,\"#e6f5d0\"],[0.7,\"#b8e186\"],[0.8,\"#7fbc41\"],[0.9,\"#4d9221\"],[1,\"#276419\"]]},\"xaxis\":{\"gridcolor\":\"white\",\"linecolor\":\"white\",\"ticks\":\"\",\"title\":{\"standoff\":15},\"zerolinecolor\":\"white\",\"automargin\":true,\"zerolinewidth\":2},\"yaxis\":{\"gridcolor\":\"white\",\"linecolor\":\"white\",\"ticks\":\"\",\"title\":{\"standoff\":15},\"zerolinecolor\":\"white\",\"automargin\":true,\"zerolinewidth\":2},\"scene\":{\"xaxis\":{\"backgroundcolor\":\"#E5ECF6\",\"gridcolor\":\"white\",\"linecolor\":\"white\",\"showbackground\":true,\"ticks\":\"\",\"zerolinecolor\":\"white\",\"gridwidth\":2},\"yaxis\":{\"backgroundcolor\":\"#E5ECF6\",\"gridcolor\":\"white\",\"linecolor\":\"white\",\"showbackground\":true,\"ticks\":\"\",\"zerolinecolor\":\"white\",\"gridwidth\":2},\"zaxis\":{\"backgroundcolor\":\"#E5ECF6\",\"gridcolor\":\"white\",\"linecolor\":\"white\",\"showbackground\":true,\"ticks\":\"\",\"zerolinecolor\":\"white\",\"gridwidth\":2}},\"shapedefaults\":{\"line\":{\"color\":\"#2a3f5f\"}},\"annotationdefaults\":{\"arrowcolor\":\"#2a3f5f\",\"arrowhead\":0,\"arrowwidth\":1},\"geo\":{\"bgcolor\":\"white\",\"landcolor\":\"#E5ECF6\",\"subunitcolor\":\"white\",\"showland\":true,\"showlakes\":true,\"lakecolor\":\"white\"},\"title\":{\"x\":0.05},\"mapbox\":{\"style\":\"light\"}}},\"xaxis\":{\"anchor\":\"y\",\"domain\":[0.0,1.0],\"title\":{\"text\":\"loudness\"}},\"yaxis\":{\"anchor\":\"x\",\"domain\":[0.0,1.0],\"title\":{\"text\":\"count\"}},\"legend\":{\"tracegroupgap\":0},\"title\":{\"text\":\"Loudness distribution across top hits from 2000-2019\"},\"barmode\":\"relative\",\"shapes\":[{\"line\":{\"color\":\"firebrick\",\"dash\":\"dash\",\"width\":2},\"type\":\"line\",\"x0\":-5.502172114402452,\"x1\":-5.502172114402452,\"xref\":\"x\",\"y0\":0,\"y1\":1,\"yref\":\"y domain\"}],\"margin\":{\"autoexpand\":true},\"annotations\":[{\"font\":{\"color\":\"firebrick\",\"size\":12},\"showarrow\":false,\"text\":\"<b>-5.5 dB average</b>\",\"textangle\":0,\"x\":0.85,\"xref\":\"paper\",\"y\":1.07,\"yref\":\"paper\"}]},                        {\"responsive\": true}                    ).then(function(){\n",
       "                            \n",
       "var gd = document.getElementById('c43a188b-51a6-482c-8519-40b7a3e1dbee');\n",
       "var x = new MutationObserver(function (mutations, observer) {{\n",
       "        var display = window.getComputedStyle(gd).display;\n",
       "        if (!display || display === 'none') {{\n",
       "            console.log([gd, 'removed!']);\n",
       "            Plotly.purge(gd);\n",
       "            observer.disconnect();\n",
       "        }}\n",
       "}});\n",
       "\n",
       "// Listen for the removal of the full notebook cells\n",
       "var notebookContainer = gd.closest('#notebook-container');\n",
       "if (notebookContainer) {{\n",
       "    x.observe(notebookContainer, {childList: true});\n",
       "}}\n",
       "\n",
       "// Listen for the clearing of the current output cell\n",
       "var outputEl = gd.closest('.output');\n",
       "if (outputEl) {{\n",
       "    x.observe(outputEl, {childList: true});\n",
       "}}\n",
       "\n",
       "                        })                };                });            </script>        </div>"
      ]
     },
     "metadata": {},
     "output_type": "display_data"
    }
   ],
   "source": [
    "fig = px.histogram(df,x = 'loudness',\n",
    "                   title = 'Loudness distribution across top hits from 2000-2019')\n",
    "fig.add_vline(x=np.mean(df.loudness),line_width = 2, line_dash = 'dash', \n",
    "              line_color = 'firebrick')\n",
    "fig.update_layout(margin_autoexpand=True)\n",
    "fig.add_annotation(dict(font=dict(color=\"firebrick\",size=12),\n",
    "                            x=0.85,\n",
    "                            y=1.07,\n",
    "                            showarrow=False,\n",
    "                            text='<b>-5.5 dB average</b>',\n",
    "                            textangle=0,\n",
    "                            xref=\"paper\",\n",
    "                            yref=\"paper\"\n",
    "                           ))\n",
    "fig.show()"
   ]
  },
  {
   "cell_type": "markdown",
   "id": "9399abd4",
   "metadata": {
    "_cell_guid": "0815fb5e-2093-4dc7-9bd4-3aa1f9a88d52",
    "_uuid": "02763b1f-bb48-4044-a038-fc5a8a0a63eb",
    "papermill": {
     "duration": 0.028323,
     "end_time": "2022-06-10T19:28:25.870139",
     "exception": false,
     "start_time": "2022-06-10T19:28:25.841816",
     "status": "completed"
    },
    "tags": []
   },
   "source": [
    "When we analyze the distribution of different characteristics of the top hits from 2000-2019, it is possible to notice that they have a lot in common.<br>\n",
    "On average, they tend to score high on **danceability** and **energy**, which means that most of these songs show a lot of intensity and a high suitability for dancing, probably good songs for clubs and parties.<br>\n",
    "The average tempo is 120.08 BPM, which according to this <a href =\"https://blog.storyblocks.com/tutorials/what-are-beats-per-minute-bpm/#:~:text=Moderato%20(moderate)%20is%20108%E2%80%93,faster%20is%20200%2B%20BPM\">article</a>   falls between a moderate to a fast paced rythm.<br>\n",
    "The average of valence is 0.55, considering that valence is a measure from 0.0 to 1.0, where the closer to 1.0 the more positive are the feelings conveyed by the track, it's possible to see that there's a good balance between \"positive sounding\" music and \"negative sounding\" music between the top hits from that period.<br>\n",
    "Most top hits score low on **speechiness**,**liveness**, **acousticness** and **instrumentalness**, which means that most of these tracks contain vocals, although they are not mostly speech-like, they are also recorded in a studio, they are not acoustic songs and are not instrumental songs."
   ]
  },
  {
   "cell_type": "markdown",
   "id": "78a72f7a",
   "metadata": {
    "_cell_guid": "701433fa-ac43-458e-9adc-37c4d3da9036",
    "_uuid": "d6c5b61e-483c-4d50-89ee-2f757c998af9",
    "papermill": {
     "duration": 0.027983,
     "end_time": "2022-06-10T19:28:25.927181",
     "exception": false,
     "start_time": "2022-06-10T19:28:25.899198",
     "status": "completed"
    },
    "tags": []
   },
   "source": [
    "# Correlation between measures"
   ]
  },
  {
   "cell_type": "code",
   "execution_count": 30,
   "id": "8c10457b",
   "metadata": {
    "_cell_guid": "1cbf54f6-7573-42d7-8424-f3e461a0dd4f",
    "_uuid": "9f4d209b-d4be-433a-9de5-75888d7dd195",
    "collapsed": false,
    "execution": {
     "iopub.execute_input": "2022-06-10T19:28:25.986300Z",
     "iopub.status.busy": "2022-06-10T19:28:25.985570Z",
     "iopub.status.idle": "2022-06-10T19:28:27.222265Z",
     "shell.execute_reply": "2022-06-10T19:28:27.221340Z"
    },
    "jupyter": {
     "outputs_hidden": false
    },
    "papermill": {
     "duration": 1.269803,
     "end_time": "2022-06-10T19:28:27.225972",
     "exception": false,
     "start_time": "2022-06-10T19:28:25.956169",
     "status": "completed"
    },
    "tags": []
   },
   "outputs": [
    {
     "data": {
      "image/png": "[encoded data removed]",
      "text/plain": [
       "<Figure size 1080x576 with 2 Axes>"
      ]
     },
     "metadata": {},
     "output_type": "display_data"
    }
   ],
   "source": [
    "# Plotting a correlation heatmap\n",
    "plt.figure(figsize=(15,8))\n",
    "sns.heatmap(df.corr(), annot = True, linewidths = .5, fmt = '.2f')\n",
    "plt.title('Correlation between measures', size = 20)\n",
    "plt.yticks(fontsize=15)\n",
    "plt.xticks(fontsize=15, rotation = 50)\n",
    "plt.show()"
   ]
  },
  {
   "cell_type": "markdown",
   "id": "a67048b9",
   "metadata": {
    "_cell_guid": "81678c9e-905f-40aa-8e6d-0bf8b4809c99",
    "_uuid": "12a9f3d5-38ba-49ad-b5ac-cf6bbbe001ec",
    "papermill": {
     "duration": 0.084971,
     "end_time": "2022-06-10T19:28:27.344278",
     "exception": false,
     "start_time": "2022-06-10T19:28:27.259307",
     "status": "completed"
    },
    "tags": []
   },
   "source": [
    "Looking at the heatmap, it's possible to realize a bunch of **positive** and **negative** correlation between different measures.<br>\n",
    "For instance, it's possible to see that loudness and energy have a significant positive correlation, meaning that, the louder the song, the more energy it conveys.<br>\n",
    "Speechiness and explicit also have a positive correlation, which means that the more words a song has, the more likely it is to contain words that may be offensive or inappropriate for children.<br>\n",
    "Energy and acousticness, on the other hand, have a very negative correlation, meaning that most acoustic songs don't convey a lot of intensity and activity to the listener."
   ]
  },
  {
   "cell_type": "markdown",
   "id": "1cb7dd42",
   "metadata": {
    "_cell_guid": "aa1b0bd2-608d-4648-8cb4-556cae56c6c0",
    "_uuid": "c5d523eb-f28b-4223-8f9f-6d91d03ef05e",
    "papermill": {
     "duration": 0.031298,
     "end_time": "2022-06-10T19:28:27.408324",
     "exception": false,
     "start_time": "2022-06-10T19:28:27.377026",
     "status": "completed"
    },
    "tags": []
   },
   "source": [
    "# Genres distribution in the Top Hits from 2000-2019"
   ]
  },
  {
   "cell_type": "code",
   "execution_count": 31,
   "id": "7911f5e8",
   "metadata": {
    "_cell_guid": "d848dd23-59d4-4774-ba11-711b9fab2e81",
    "_uuid": "985697fa-e063-41e1-9da5-d72e87160f79",
    "collapsed": false,
    "execution": {
     "iopub.execute_input": "2022-06-10T19:28:27.473875Z",
     "iopub.status.busy": "2022-06-10T19:28:27.473022Z",
     "iopub.status.idle": "2022-06-10T19:28:27.485514Z",
     "shell.execute_reply": "2022-06-10T19:28:27.484593Z"
    },
    "jupyter": {
     "outputs_hidden": false
    },
    "papermill": {
     "duration": 0.047337,
     "end_time": "2022-06-10T19:28:27.487404",
     "exception": false,
     "start_time": "2022-06-10T19:28:27.440067",
     "status": "completed"
    },
    "tags": []
   },
   "outputs": [
    {
     "data": {
      "text/html": [
       "<div>\n",
       "<style scoped>\n",
       "    .dataframe tbody tr th:only-of-type {\n",
       "        vertical-align: middle;\n",
       "    }\n",
       "\n",
       "    .dataframe tbody tr th {\n",
       "        vertical-align: top;\n",
       "    }\n",
       "\n",
       "    .dataframe thead th {\n",
       "        text-align: right;\n",
       "    }\n",
       "</style>\n",
       "<table border=\"1\" class=\"dataframe\">\n",
       "  <thead>\n",
       "    <tr style=\"text-align: right;\">\n",
       "      <th></th>\n",
       "      <th>Genre</th>\n",
       "      <th>total</th>\n",
       "    </tr>\n",
       "  </thead>\n",
       "  <tbody>\n",
       "    <tr>\n",
       "      <th>0</th>\n",
       "      <td>pop</td>\n",
       "      <td>416</td>\n",
       "    </tr>\n",
       "    <tr>\n",
       "      <th>1</th>\n",
       "      <td>hip hop, pop</td>\n",
       "      <td>275</td>\n",
       "    </tr>\n",
       "    <tr>\n",
       "      <th>2</th>\n",
       "      <td>hip hop, pop, R&amp;B</td>\n",
       "      <td>240</td>\n",
       "    </tr>\n",
       "    <tr>\n",
       "      <th>3</th>\n",
       "      <td>pop, Dance/Electronic</td>\n",
       "      <td>219</td>\n",
       "    </tr>\n",
       "    <tr>\n",
       "      <th>4</th>\n",
       "      <td>pop, R&amp;B</td>\n",
       "      <td>173</td>\n",
       "    </tr>\n",
       "    <tr>\n",
       "      <th>5</th>\n",
       "      <td>hip hop</td>\n",
       "      <td>121</td>\n",
       "    </tr>\n",
       "    <tr>\n",
       "      <th>6</th>\n",
       "      <td>hip hop, pop, Dance/Electronic</td>\n",
       "      <td>78</td>\n",
       "    </tr>\n",
       "    <tr>\n",
       "      <th>7</th>\n",
       "      <td>rock</td>\n",
       "      <td>57</td>\n",
       "    </tr>\n",
       "    <tr>\n",
       "      <th>8</th>\n",
       "      <td>rock, pop</td>\n",
       "      <td>41</td>\n",
       "    </tr>\n",
       "    <tr>\n",
       "      <th>9</th>\n",
       "      <td>Dance/Electronic</td>\n",
       "      <td>40</td>\n",
       "    </tr>\n",
       "  </tbody>\n",
       "</table>\n",
       "</div>"
      ],
      "text/plain": [
       "                            Genre  total\n",
       "0                             pop    416\n",
       "1                    hip hop, pop    275\n",
       "2               hip hop, pop, R&B    240\n",
       "3           pop, Dance/Electronic    219\n",
       "4                        pop, R&B    173\n",
       "5                         hip hop    121\n",
       "6  hip hop, pop, Dance/Electronic     78\n",
       "7                            rock     57\n",
       "8                       rock, pop     41\n",
       "9                Dance/Electronic     40"
      ]
     },
     "execution_count": 31,
     "metadata": {},
     "output_type": "execute_result"
    }
   ],
   "source": [
    "genre_distribution = pd.DataFrame(df.genre.value_counts().rename_axis('Genre').reset_index(\n",
    "    name='total'))\n",
    "genre_distribution.head(10)"
   ]
  },
  {
   "cell_type": "code",
   "execution_count": 32,
   "id": "a13fc388",
   "metadata": {
    "_cell_guid": "16a55e77-27fe-4845-864d-2c1f270dc998",
    "_uuid": "07c5a11e-9c1e-42f0-9c35-b285a17e819f",
    "collapsed": false,
    "execution": {
     "iopub.execute_input": "2022-06-10T19:28:27.553176Z",
     "iopub.status.busy": "2022-06-10T19:28:27.552526Z",
     "iopub.status.idle": "2022-06-10T19:28:27.616165Z",
     "shell.execute_reply": "2022-06-10T19:28:27.615518Z"
    },
    "jupyter": {
     "outputs_hidden": false
    },
    "papermill": {
     "duration": 0.099195,
     "end_time": "2022-06-10T19:28:27.618019",
     "exception": false,
     "start_time": "2022-06-10T19:28:27.518824",
     "status": "completed"
    },
    "tags": []
   },
   "outputs": [
    {
     "data": {
      "text/html": [
       "<div>                            <div id=\"538e37ee-dfea-469a-a667-1510ce7d5c9b\" class=\"plotly-graph-div\" style=\"height:525px; width:100%;\"></div>            <script type=\"text/javascript\">                require([\"plotly\"], function(Plotly) {                    window.PLOTLYENV=window.PLOTLYENV || {};                                    if (document.getElementById(\"538e37ee-dfea-469a-a667-1510ce7d5c9b\")) {                    Plotly.newPlot(                        \"538e37ee-dfea-469a-a667-1510ce7d5c9b\",                        [{\"domain\":{\"x\":[0.0,1.0],\"y\":[0.0,1.0]},\"hovertemplate\":\"Genre=%{label}<br>total=%{value}<extra></extra>\",\"labels\":[\"pop\",\"hip hop, pop\",\"hip hop, pop, R&B\",\"pop, Dance/Electronic\",\"pop, R&B\",\"hip hop\",\"hip hop, pop, Dance/Electronic\",\"rock\",\"rock, pop\",\"Dance/Electronic\"],\"legendgroup\":\"\",\"name\":\"\",\"showlegend\":true,\"values\":[416,275,240,219,173,121,78,57,41,40],\"type\":\"pie\",\"pull\":[0.2,0.06,0.06,0.06,0.06],\"rotation\":90,\"textinfo\":\"percent+label\"}],                        {\"template\":{\"data\":{\"barpolar\":[{\"marker\":{\"line\":{\"color\":\"rgb(234,234,242)\",\"width\":0.5},\"pattern\":{\"fillmode\":\"overlay\",\"size\":10,\"solidity\":0.2}},\"type\":\"barpolar\"}],\"bar\":[{\"error_x\":{\"color\":\"rgb(36,36,36)\"},\"error_y\":{\"color\":\"rgb(36,36,36)\"},\"marker\":{\"line\":{\"color\":\"rgb(234,234,242)\",\"width\":0.5},\"pattern\":{\"fillmode\":\"overlay\",\"size\":10,\"solidity\":0.2}},\"type\":\"bar\"}],\"carpet\":[{\"aaxis\":{\"endlinecolor\":\"rgb(36,36,36)\",\"gridcolor\":\"white\",\"linecolor\":\"white\",\"minorgridcolor\":\"white\",\"startlinecolor\":\"rgb(36,36,36)\"},\"baxis\":{\"endlinecolor\":\"rgb(36,36,36)\",\"gridcolor\":\"white\",\"linecolor\":\"white\",\"minorgridcolor\":\"white\",\"startlinecolor\":\"rgb(36,36,36)\"},\"type\":\"carpet\"}],\"choropleth\":[{\"colorbar\":{\"outlinewidth\":0,\"tickcolor\":\"rgb(36,36,36)\",\"ticklen\":8,\"ticks\":\"outside\",\"tickwidth\":2},\"type\":\"choropleth\"}],\"contourcarpet\":[{\"colorbar\":{\"outlinewidth\":0,\"tickcolor\":\"rgb(36,36,36)\",\"ticklen\":8,\"ticks\":\"outside\",\"tickwidth\":2},\"type\":\"contourcarpet\"}],\"contour\":[{\"colorbar\":{\"outlinewidth\":0,\"tickcolor\":\"rgb(36,36,36)\",\"ticklen\":8,\"ticks\":\"outside\",\"tickwidth\":2},\"colorscale\":[[0.0,\"rgb(2,4,25)\"],[0.06274509803921569,\"rgb(24,15,41)\"],[0.12549019607843137,\"rgb(47,23,57)\"],[0.18823529411764706,\"rgb(71,28,72)\"],[0.25098039215686274,\"rgb(97,30,82)\"],[0.3137254901960784,\"rgb(123,30,89)\"],[0.3764705882352941,\"rgb(150,27,91)\"],[0.4392156862745098,\"rgb(177,22,88)\"],[0.5019607843137255,\"rgb(203,26,79)\"],[0.5647058823529412,\"rgb(223,47,67)\"],[0.6274509803921569,\"rgb(236,76,61)\"],[0.6901960784313725,\"rgb(242,107,73)\"],[0.7529411764705882,\"rgb(244,135,95)\"],[0.8156862745098039,\"rgb(245,162,122)\"],[0.8784313725490196,\"rgb(246,188,153)\"],[0.9411764705882353,\"rgb(247,212,187)\"],[1.0,\"rgb(250,234,220)\"]],\"type\":\"contour\"}],\"heatmapgl\":[{\"colorbar\":{\"outlinewidth\":0,\"tickcolor\":\"rgb(36,36,36)\",\"ticklen\":8,\"ticks\":\"outside\",\"tickwidth\":2},\"colorscale\":[[0.0,\"rgb(2,4,25)\"],[0.06274509803921569,\"rgb(24,15,41)\"],[0.12549019607843137,\"rgb(47,23,57)\"],[0.18823529411764706,\"rgb(71,28,72)\"],[0.25098039215686274,\"rgb(97,30,82)\"],[0.3137254901960784,\"rgb(123,30,89)\"],[0.3764705882352941,\"rgb(150,27,91)\"],[0.4392156862745098,\"rgb(177,22,88)\"],[0.5019607843137255,\"rgb(203,26,79)\"],[0.5647058823529412,\"rgb(223,47,67)\"],[0.6274509803921569,\"rgb(236,76,61)\"],[0.6901960784313725,\"rgb(242,107,73)\"],[0.7529411764705882,\"rgb(244,135,95)\"],[0.8156862745098039,\"rgb(245,162,122)\"],[0.8784313725490196,\"rgb(246,188,153)\"],[0.9411764705882353,\"rgb(247,212,187)\"],[1.0,\"rgb(250,234,220)\"]],\"type\":\"heatmapgl\"}],\"heatmap\":[{\"colorbar\":{\"outlinewidth\":0,\"tickcolor\":\"rgb(36,36,36)\",\"ticklen\":8,\"ticks\":\"outside\",\"tickwidth\":2},\"colorscale\":[[0.0,\"rgb(2,4,25)\"],[0.06274509803921569,\"rgb(24,15,41)\"],[0.12549019607843137,\"rgb(47,23,57)\"],[0.18823529411764706,\"rgb(71,28,72)\"],[0.25098039215686274,\"rgb(97,30,82)\"],[0.3137254901960784,\"rgb(123,30,89)\"],[0.3764705882352941,\"rgb(150,27,91)\"],[0.4392156862745098,\"rgb(177,22,88)\"],[0.5019607843137255,\"rgb(203,26,79)\"],[0.5647058823529412,\"rgb(223,47,67)\"],[0.6274509803921569,\"rgb(236,76,61)\"],[0.6901960784313725,\"rgb(242,107,73)\"],[0.7529411764705882,\"rgb(244,135,95)\"],[0.8156862745098039,\"rgb(245,162,122)\"],[0.8784313725490196,\"rgb(246,188,153)\"],[0.9411764705882353,\"rgb(247,212,187)\"],[1.0,\"rgb(250,234,220)\"]],\"type\":\"heatmap\"}],\"histogram2dcontour\":[{\"colorbar\":{\"outlinewidth\":0,\"tickcolor\":\"rgb(36,36,36)\",\"ticklen\":8,\"ticks\":\"outside\",\"tickwidth\":2},\"colorscale\":[[0.0,\"rgb(2,4,25)\"],[0.06274509803921569,\"rgb(24,15,41)\"],[0.12549019607843137,\"rgb(47,23,57)\"],[0.18823529411764706,\"rgb(71,28,72)\"],[0.25098039215686274,\"rgb(97,30,82)\"],[0.3137254901960784,\"rgb(123,30,89)\"],[0.3764705882352941,\"rgb(150,27,91)\"],[0.4392156862745098,\"rgb(177,22,88)\"],[0.5019607843137255,\"rgb(203,26,79)\"],[0.5647058823529412,\"rgb(223,47,67)\"],[0.6274509803921569,\"rgb(236,76,61)\"],[0.6901960784313725,\"rgb(242,107,73)\"],[0.7529411764705882,\"rgb(244,135,95)\"],[0.8156862745098039,\"rgb(245,162,122)\"],[0.8784313725490196,\"rgb(246,188,153)\"],[0.9411764705882353,\"rgb(247,212,187)\"],[1.0,\"rgb(250,234,220)\"]],\"type\":\"histogram2dcontour\"}],\"histogram2d\":[{\"colorbar\":{\"outlinewidth\":0,\"tickcolor\":\"rgb(36,36,36)\",\"ticklen\":8,\"ticks\":\"outside\",\"tickwidth\":2},\"colorscale\":[[0.0,\"rgb(2,4,25)\"],[0.06274509803921569,\"rgb(24,15,41)\"],[0.12549019607843137,\"rgb(47,23,57)\"],[0.18823529411764706,\"rgb(71,28,72)\"],[0.25098039215686274,\"rgb(97,30,82)\"],[0.3137254901960784,\"rgb(123,30,89)\"],[0.3764705882352941,\"rgb(150,27,91)\"],[0.4392156862745098,\"rgb(177,22,88)\"],[0.5019607843137255,\"rgb(203,26,79)\"],[0.5647058823529412,\"rgb(223,47,67)\"],[0.6274509803921569,\"rgb(236,76,61)\"],[0.6901960784313725,\"rgb(242,107,73)\"],[0.7529411764705882,\"rgb(244,135,95)\"],[0.8156862745098039,\"rgb(245,162,122)\"],[0.8784313725490196,\"rgb(246,188,153)\"],[0.9411764705882353,\"rgb(247,212,187)\"],[1.0,\"rgb(250,234,220)\"]],\"type\":\"histogram2d\"}],\"histogram\":[{\"marker\":{\"pattern\":{\"fillmode\":\"overlay\",\"size\":10,\"solidity\":0.2}},\"type\":\"histogram\"}],\"mesh3d\":[{\"colorbar\":{\"outlinewidth\":0,\"tickcolor\":\"rgb(36,36,36)\",\"ticklen\":8,\"ticks\":\"outside\",\"tickwidth\":2},\"type\":\"mesh3d\"}],\"parcoords\":[{\"line\":{\"colorbar\":{\"outlinewidth\":0,\"tickcolor\":\"rgb(36,36,36)\",\"ticklen\":8,\"ticks\":\"outside\",\"tickwidth\":2}},\"type\":\"parcoords\"}],\"pie\":[{\"automargin\":true,\"type\":\"pie\"}],\"scatter3d\":[{\"line\":{\"colorbar\":{\"outlinewidth\":0,\"tickcolor\":\"rgb(36,36,36)\",\"ticklen\":8,\"ticks\":\"outside\",\"tickwidth\":2}},\"marker\":{\"colorbar\":{\"outlinewidth\":0,\"tickcolor\":\"rgb(36,36,36)\",\"ticklen\":8,\"ticks\":\"outside\",\"tickwidth\":2}},\"type\":\"scatter3d\"}],\"scattercarpet\":[{\"marker\":{\"colorbar\":{\"outlinewidth\":0,\"tickcolor\":\"rgb(36,36,36)\",\"ticklen\":8,\"ticks\":\"outside\",\"tickwidth\":2}},\"type\":\"scattercarpet\"}],\"scattergeo\":[{\"marker\":{\"colorbar\":{\"outlinewidth\":0,\"tickcolor\":\"rgb(36,36,36)\",\"ticklen\":8,\"ticks\":\"outside\",\"tickwidth\":2}},\"type\":\"scattergeo\"}],\"scattergl\":[{\"marker\":{\"colorbar\":{\"outlinewidth\":0,\"tickcolor\":\"rgb(36,36,36)\",\"ticklen\":8,\"ticks\":\"outside\",\"tickwidth\":2}},\"type\":\"scattergl\"}],\"scattermapbox\":[{\"marker\":{\"colorbar\":{\"outlinewidth\":0,\"tickcolor\":\"rgb(36,36,36)\",\"ticklen\":8,\"ticks\":\"outside\",\"tickwidth\":2}},\"type\":\"scattermapbox\"}],\"scatterpolargl\":[{\"marker\":{\"colorbar\":{\"outlinewidth\":0,\"tickcolor\":\"rgb(36,36,36)\",\"ticklen\":8,\"ticks\":\"outside\",\"tickwidth\":2}},\"type\":\"scatterpolargl\"}],\"scatterpolar\":[{\"marker\":{\"colorbar\":{\"outlinewidth\":0,\"tickcolor\":\"rgb(36,36,36)\",\"ticklen\":8,\"ticks\":\"outside\",\"tickwidth\":2}},\"type\":\"scatterpolar\"}],\"scatter\":[{\"fillpattern\":{\"fillmode\":\"overlay\",\"size\":10,\"solidity\":0.2},\"type\":\"scatter\"}],\"scatterternary\":[{\"marker\":{\"colorbar\":{\"outlinewidth\":0,\"tickcolor\":\"rgb(36,36,36)\",\"ticklen\":8,\"ticks\":\"outside\",\"tickwidth\":2}},\"type\":\"scatterternary\"}],\"surface\":[{\"colorbar\":{\"outlinewidth\":0,\"tickcolor\":\"rgb(36,36,36)\",\"ticklen\":8,\"ticks\":\"outside\",\"tickwidth\":2},\"colorscale\":[[0.0,\"rgb(2,4,25)\"],[0.06274509803921569,\"rgb(24,15,41)\"],[0.12549019607843137,\"rgb(47,23,57)\"],[0.18823529411764706,\"rgb(71,28,72)\"],[0.25098039215686274,\"rgb(97,30,82)\"],[0.3137254901960784,\"rgb(123,30,89)\"],[0.3764705882352941,\"rgb(150,27,91)\"],[0.4392156862745098,\"rgb(177,22,88)\"],[0.5019607843137255,\"rgb(203,26,79)\"],[0.5647058823529412,\"rgb(223,47,67)\"],[0.6274509803921569,\"rgb(236,76,61)\"],[0.6901960784313725,\"rgb(242,107,73)\"],[0.7529411764705882,\"rgb(244,135,95)\"],[0.8156862745098039,\"rgb(245,162,122)\"],[0.8784313725490196,\"rgb(246,188,153)\"],[0.9411764705882353,\"rgb(247,212,187)\"],[1.0,\"rgb(250,234,220)\"]],\"type\":\"surface\"}],\"table\":[{\"cells\":{\"fill\":{\"color\":\"rgb(231,231,240)\"},\"line\":{\"color\":\"white\"}},\"header\":{\"fill\":{\"color\":\"rgb(183,183,191)\"},\"line\":{\"color\":\"white\"}},\"type\":\"table\"}]},\"layout\":{\"annotationdefaults\":{\"arrowcolor\":\"rgb(67,103,167)\"},\"autotypenumbers\":\"strict\",\"coloraxis\":{\"colorbar\":{\"outlinewidth\":0,\"tickcolor\":\"rgb(36,36,36)\",\"ticklen\":8,\"ticks\":\"outside\",\"tickwidth\":2}},\"colorscale\":{\"sequential\":[[0.0,\"rgb(2,4,25)\"],[0.06274509803921569,\"rgb(24,15,41)\"],[0.12549019607843137,\"rgb(47,23,57)\"],[0.18823529411764706,\"rgb(71,28,72)\"],[0.25098039215686274,\"rgb(97,30,82)\"],[0.3137254901960784,\"rgb(123,30,89)\"],[0.3764705882352941,\"rgb(150,27,91)\"],[0.4392156862745098,\"rgb(177,22,88)\"],[0.5019607843137255,\"rgb(203,26,79)\"],[0.5647058823529412,\"rgb(223,47,67)\"],[0.6274509803921569,\"rgb(236,76,61)\"],[0.6901960784313725,\"rgb(242,107,73)\"],[0.7529411764705882,\"rgb(244,135,95)\"],[0.8156862745098039,\"rgb(245,162,122)\"],[0.8784313725490196,\"rgb(246,188,153)\"],[0.9411764705882353,\"rgb(247,212,187)\"],[1.0,\"rgb(250,234,220)\"]],\"sequentialminus\":[[0.0,\"rgb(2,4,25)\"],[0.06274509803921569,\"rgb(24,15,41)\"],[0.12549019607843137,\"rgb(47,23,57)\"],[0.18823529411764706,\"rgb(71,28,72)\"],[0.25098039215686274,\"rgb(97,30,82)\"],[0.3137254901960784,\"rgb(123,30,89)\"],[0.3764705882352941,\"rgb(150,27,91)\"],[0.4392156862745098,\"rgb(177,22,88)\"],[0.5019607843137255,\"rgb(203,26,79)\"],[0.5647058823529412,\"rgb(223,47,67)\"],[0.6274509803921569,\"rgb(236,76,61)\"],[0.6901960784313725,\"rgb(242,107,73)\"],[0.7529411764705882,\"rgb(244,135,95)\"],[0.8156862745098039,\"rgb(245,162,122)\"],[0.8784313725490196,\"rgb(246,188,153)\"],[0.9411764705882353,\"rgb(247,212,187)\"],[1.0,\"rgb(250,234,220)\"]]},\"colorway\":[\"rgb(76,114,176)\",\"rgb(221,132,82)\",\"rgb(85,168,104)\",\"rgb(196,78,82)\",\"rgb(129,114,179)\",\"rgb(147,120,96)\",\"rgb(218,139,195)\",\"rgb(140,140,140)\",\"rgb(204,185,116)\",\"rgb(100,181,205)\"],\"font\":{\"color\":\"rgb(36,36,36)\"},\"geo\":{\"bgcolor\":\"white\",\"lakecolor\":\"white\",\"landcolor\":\"rgb(234,234,242)\",\"showlakes\":true,\"showland\":true,\"subunitcolor\":\"white\"},\"hoverlabel\":{\"align\":\"left\"},\"hovermode\":\"closest\",\"paper_bgcolor\":\"white\",\"plot_bgcolor\":\"rgb(234,234,242)\",\"polar\":{\"angularaxis\":{\"gridcolor\":\"white\",\"linecolor\":\"white\",\"showgrid\":true,\"ticks\":\"\"},\"bgcolor\":\"rgb(234,234,242)\",\"radialaxis\":{\"gridcolor\":\"white\",\"linecolor\":\"white\",\"showgrid\":true,\"ticks\":\"\"}},\"scene\":{\"xaxis\":{\"backgroundcolor\":\"rgb(234,234,242)\",\"gridcolor\":\"white\",\"gridwidth\":2,\"linecolor\":\"white\",\"showbackground\":true,\"showgrid\":true,\"ticks\":\"\",\"zerolinecolor\":\"white\"},\"yaxis\":{\"backgroundcolor\":\"rgb(234,234,242)\",\"gridcolor\":\"white\",\"gridwidth\":2,\"linecolor\":\"white\",\"showbackground\":true,\"showgrid\":true,\"ticks\":\"\",\"zerolinecolor\":\"white\"},\"zaxis\":{\"backgroundcolor\":\"rgb(234,234,242)\",\"gridcolor\":\"white\",\"gridwidth\":2,\"linecolor\":\"white\",\"showbackground\":true,\"showgrid\":true,\"ticks\":\"\",\"zerolinecolor\":\"white\"}},\"shapedefaults\":{\"fillcolor\":\"rgb(67,103,167)\",\"line\":{\"width\":0},\"opacity\":0.5},\"ternary\":{\"aaxis\":{\"gridcolor\":\"white\",\"linecolor\":\"white\",\"showgrid\":true,\"ticks\":\"\"},\"baxis\":{\"gridcolor\":\"white\",\"linecolor\":\"white\",\"showgrid\":true,\"ticks\":\"\"},\"bgcolor\":\"rgb(234,234,242)\",\"caxis\":{\"gridcolor\":\"white\",\"linecolor\":\"white\",\"showgrid\":true,\"ticks\":\"\"}},\"xaxis\":{\"automargin\":true,\"gridcolor\":\"white\",\"linecolor\":\"white\",\"showgrid\":true,\"ticks\":\"\",\"title\":{\"standoff\":15},\"zerolinecolor\":\"white\"},\"yaxis\":{\"automargin\":true,\"gridcolor\":\"white\",\"linecolor\":\"white\",\"showgrid\":true,\"ticks\":\"\",\"title\":{\"standoff\":15},\"zerolinecolor\":\"white\"}}},\"legend\":{\"tracegroupgap\":0},\"title\":{\"text\":\"Top 10 genres distribution\"}},                        {\"responsive\": true}                    ).then(function(){\n",
       "                            \n",
       "var gd = document.getElementById('538e37ee-dfea-469a-a667-1510ce7d5c9b');\n",
       "var x = new MutationObserver(function (mutations, observer) {{\n",
       "        var display = window.getComputedStyle(gd).display;\n",
       "        if (!display || display === 'none') {{\n",
       "            console.log([gd, 'removed!']);\n",
       "            Plotly.purge(gd);\n",
       "            observer.disconnect();\n",
       "        }}\n",
       "}});\n",
       "\n",
       "// Listen for the removal of the full notebook cells\n",
       "var notebookContainer = gd.closest('#notebook-container');\n",
       "if (notebookContainer) {{\n",
       "    x.observe(notebookContainer, {childList: true});\n",
       "}}\n",
       "\n",
       "// Listen for the clearing of the current output cell\n",
       "var outputEl = gd.closest('.output');\n",
       "if (outputEl) {{\n",
       "    x.observe(outputEl, {childList: true});\n",
       "}}\n",
       "\n",
       "                        })                };                });            </script>        </div>"
      ]
     },
     "metadata": {},
     "output_type": "display_data"
    },
    {
     "data": {
      "text/plain": [
       "<Figure size 576x144 with 0 Axes>"
      ]
     },
     "metadata": {},
     "output_type": "display_data"
    }
   ],
   "source": [
    "plt.figure(figsize=(8,2))\n",
    "fig = px.pie(genre_distribution.head(10), names = 'Genre',\n",
    "      values = 'total', template = 'seaborn', title = 'Top 10 genres distribution')\n",
    "fig.update_traces(rotation=90, pull = [0.2,0.06,0.06,0.06,0.06], textinfo = \"percent+label\")\n",
    "fig.show()"
   ]
  },
  {
   "cell_type": "markdown",
   "id": "a7df194c",
   "metadata": {
    "_cell_guid": "f38825db-c3f9-4aea-97b8-ff9d836bc1fb",
    "_uuid": "492d0ef6-2416-4b24-91c4-04badfe6acc0",
    "papermill": {
     "duration": 0.031784,
     "end_time": "2022-06-10T19:28:27.682154",
     "exception": false,
     "start_time": "2022-06-10T19:28:27.650370",
     "status": "completed"
    },
    "tags": []
   },
   "source": [
    "Most top hits from 2000-2019 can be categorized as *pop*, *hip hop*, *R&B*, *Dance/Electronic* and *rock*. Among these categories, *pop* seems to be the most frequent of them, specially considering that most songs are categorized as *hip hop and pop*,*rock and pop* and *Dance/Electronic and pop*, for example."
   ]
  },
  {
   "cell_type": "markdown",
   "id": "c3382596",
   "metadata": {
    "_cell_guid": "7973ada0-4329-4510-b899-d23ab240d964",
    "_uuid": "bed5d448-9977-488f-8f6a-62f13054de73",
    "papermill": {
     "duration": 0.03184,
     "end_time": "2022-06-10T19:28:27.746368",
     "exception": false,
     "start_time": "2022-06-10T19:28:27.714528",
     "status": "completed"
    },
    "tags": []
   },
   "source": [
    "# Conclusions<br>\n",
    "- Most songs that made it to the top hits from 2000-2019 were classified as **pop**, **hip hop**, **dance/electronic** and **rock**.<br><br>\n",
    "- Most songs were composed in a **major mode**, which tends to be associated with positive and cheerful emotions.<br><br>\n",
    "- Most top hits didn't have lyrics whose content was perceived as explicit.<br><br>\n",
    "- C♯/D♭ was the most popular key among the top hits.<br><br>\n",
    "- Rihanna, Eminem and Drake were the three artists with the highest popularity score.<br><br>\n",
    "- On average, the top hits had high levels of danceability and energy, a moderate to a fast paced tempo, were recorded in a studio, had vocals, were not acoustic and were not instrumental music.<br><br>\n",
    "- The average duration of top hits have been **decreasing** during the last couple of decades, falling from an average of around 4 minutes in the *early 2000s* to an average of 3 minutes and 16 seconds in 2019."
   ]
  }
 ],
 "metadata": {
  "kernelspec": {
   "display_name": "Python 3",
   "language": "python",
   "name": "python3"
  },
  "language_info": {
   "codemirror_mode": {
    "name": "ipython",
    "version": 3
   },
   "file_extension": ".py",
   "mimetype": "text/x-python",
   "name": "python",
   "nbconvert_exporter": "python",
   "pygments_lexer": "ipython3",
   "version": "3.7.12"
  },
  "papermill": {
   "default_parameters": {},
   "duration": 21.015284,
   "end_time": "2022-06-10T19:28:28.699059",
   "environment_variables": {},
   "exception": null,
   "input_path": "__notebook__.ipynb",
   "output_path": "__notebook__.ipynb",
   "parameters": {},
   "start_time": "2022-06-10T19:28:07.683775",
   "version": "2.3.4"
  }
 },
 "nbformat": 4,
 "nbformat_minor": 5
}
